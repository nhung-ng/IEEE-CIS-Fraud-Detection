{
  "nbformat": 4,
  "nbformat_minor": 0,
  "metadata": {
    "colab": {
      "name": "EDA for Columns V and ID.ipynb",
      "private_outputs": true,
      "provenance": [],
      "collapsed_sections": [],
      "toc_visible": true
    },
    "kernelspec": {
      "name": "python3",
      "display_name": "Python 3"
    },
    "language_info": {
      "name": "python"
    },
    "accelerator": "GPU"
  },
  "cells": [
    {
      "cell_type": "markdown",
      "metadata": {
        "id": "wh4cm2sVK4Zv"
      },
      "source": [
        "# Prepare Data\n"
      ]
    },
    {
      "cell_type": "code",
      "metadata": {
        "id": "tfpuPb-HLA-U"
      },
      "source": [
        "!gdown https://drive.google.com/uc?id=1x6xmQifUHQWZi7nDJs53do1G4q5aEnWI&export=download"
      ],
      "execution_count": null,
      "outputs": []
    },
    {
      "cell_type": "code",
      "metadata": {
        "id": "8UAgBmnjL_eo"
      },
      "source": [
        "!unzip ieee-fraud-detection.zip"
      ],
      "execution_count": null,
      "outputs": []
    },
    {
      "cell_type": "markdown",
      "metadata": {
        "id": "fuzpMcfOMgUU"
      },
      "source": [
        "# Import"
      ]
    },
    {
      "cell_type": "code",
      "metadata": {
        "id": "vzZwX9HGMnJL"
      },
      "source": [
        "# This Python 3 environment comes with many helpful analytics libraries installed\n",
        "# It is defined by the kaggle/python docker image: https://github.com/kaggle/docker-python\n",
        "# For example, here's several helpful packages to load in \n",
        "\n",
        "import seaborn as sns\n",
        "import matplotlib.pyplot as plt\n",
        "import numpy as np,gc # linear algebra\n",
        "import pandas as pd # data processing, CSV file I/O (e.g. pd.read_csv)\n",
        "pd.set_option('display.max_columns', 500)\n",
        "\n"
      ],
      "execution_count": null,
      "outputs": []
    },
    {
      "cell_type": "code",
      "metadata": {
        "id": "k7wnx3ggaRHO"
      },
      "source": [
        "cols_t = ['TransactionID', 'TransactionDT', 'TransactionAmt',\n",
        "       'ProductCD', 'card1', 'card2', 'card3', 'card4', 'card5', 'card6',\n",
        "       'addr1', 'addr2', 'dist1', 'dist2', 'P_emaildomain', 'R_emaildomain',\n",
        "       'C1', 'C2', 'C3', 'C4', 'C5', 'C6', 'C7', 'C8', 'C9', 'C10', 'C11',\n",
        "       'C12', 'C13', 'C14', 'D1', 'D2', 'D3', 'D4', 'D5', 'D6', 'D7', 'D8',\n",
        "       'D9', 'D10', 'D11', 'D12', 'D13', 'D14', 'D15', 'M1', 'M2', 'M3', 'M4',\n",
        "       'M5', 'M6', 'M7', 'M8', 'M9']\n",
        "cols_v = ['V'+str(x) for x in range(1,340)]; types_v = {}\n",
        "for c in cols_v: types_v[c] = 'float32'\n",
        "train = pd.read_csv('train_transaction.csv',usecols=cols_t+['isFraud']+cols_v,dtype=types_v)"
      ],
      "execution_count": null,
      "outputs": []
    },
    {
      "cell_type": "markdown",
      "metadata": {
        "id": "WMliN0FYbBpC"
      },
      "source": [
        "#NAN search\n",
        "We will search all the columns of train_transaction.csv to determine which columns are related by the number of NANs present. We see that D1 relates to a subset of V281 thru V315, and D11 relates to V1 thru V11. Also we find groups of Vs with similar NAN structure. And we see that M1, M2, M3 related and M8, M9 related."
      ]
    },
    {
      "cell_type": "code",
      "metadata": {
        "id": "nJmwQyRWa2Du"
      },
      "source": [
        "nans_df = train.isna()\n",
        "nans_groups={}\n",
        "i_cols = ['V'+str(i) for i in range(1,340)]\n",
        "for col in train.columns:\n",
        "    cur_group = nans_df[col].sum()\n",
        "    try:\n",
        "        nans_groups[cur_group].append(col)\n",
        "    except:\n",
        "        nans_groups[cur_group]=[col]\n",
        "del nans_df; x=gc.collect()\n",
        "\n",
        "for k,v in nans_groups.items():\n",
        "    print('####### NAN count =',k)\n",
        "    print(v)"
      ],
      "execution_count": null,
      "outputs": []
    },
    {
      "cell_type": "markdown",
      "metadata": {
        "id": "Tq1B92L9bMx_"
      },
      "source": [
        "#V1-V11,D11"
      ]
    },
    {
      "cell_type": "code",
      "metadata": {
        "id": "Y1X-5JPcbWuY"
      },
      "source": [
        "Vc = ['dayr','isFraud','TransactionAmt','card1','addr1','D1n','D11n']\n",
        "Vs = nans_groups[279287]\n",
        "Vtitle = 'V1 - V11, D11'"
      ],
      "execution_count": null,
      "outputs": []
    },
    {
      "cell_type": "code",
      "metadata": {
        "id": "HNi3S1K-baUk"
      },
      "source": [
        "def make_plots(Vs):\n",
        "    col = 4\n",
        "    row = len(Vs)//4+1\n",
        "    plt.figure(figsize=(20,row*5))\n",
        "    idx = train[~train[Vs[0]].isna()].index\n",
        "    for i,v in enumerate(Vs):\n",
        "        plt.subplot(row,col,i+1)\n",
        "        n = train[v].nunique()\n",
        "        x = np.sum(train.loc[idx,v]!=train.loc[idx,v].astype(int))\n",
        "        y = np.round(100*np.sum(train[v].isna())/len(train),2)\n",
        "        t = 'int'\n",
        "        if x!=0: t = 'float'\n",
        "        plt.title(v+' has '+str(n)+' '+t+' and '+str(y)+'% nan')\n",
        "        plt.yticks([])\n",
        "        h = plt.hist(train.loc[idx,v],bins=100)\n",
        "        if len(h[0])>1: plt.ylim((0,np.sort(h[0])[-2]))\n",
        "    plt.show()\n",
        "make_plots(Vs)"
      ],
      "execution_count": null,
      "outputs": []
    },
    {
      "cell_type": "code",
      "metadata": {
        "id": "yjwSeX-4bflw"
      },
      "source": [
        "def make_corr(Vs,Vtitle=''):\n",
        "    cols = ['TransactionDT'] + Vs\n",
        "    plt.figure(figsize=(15,15))\n",
        "    sns.heatmap(train[cols].corr(), cmap='RdBu_r', annot=True, center=0.0)\n",
        "    if Vtitle!='': plt.title(Vtitle,fontsize=14)\n",
        "    else: plt.title(Vs[0]+' - '+Vs[-1],fontsize=14)\n",
        "    plt.show()\n",
        "make_corr(Vs,Vtitle)"
      ],
      "execution_count": null,
      "outputs": []
    },
    {
      "cell_type": "code",
      "metadata": {
        "id": "x_TsNcHAbwTQ"
      },
      "source": [
        "grps = [[1],[2,3],[4,5],[6,7],[8,9],[10,11]]\n",
        "def reduce_group(grps,c='V'):\n",
        "    use = []\n",
        "    for g in grps:\n",
        "        mx = 0; vx = g[0]\n",
        "        for gg in g:\n",
        "            n = train[c+str(gg)].nunique()\n",
        "            if n>mx:\n",
        "                mx = n\n",
        "                vx = gg\n",
        "            #print(str(gg)+'-'+str(n),', ',end='')\n",
        "        use.append(vx)\n",
        "        #print()\n",
        "    print('Use these',use)\n",
        "reduce_group(grps)"
      ],
      "execution_count": null,
      "outputs": []
    },
    {
      "cell_type": "markdown",
      "metadata": {
        "id": "aNsiZkdDbrob"
      },
      "source": [
        "#V12 - V34\n"
      ]
    },
    {
      "cell_type": "code",
      "metadata": {
        "id": "UsSomgfdb7Z1"
      },
      "source": [
        "Vs = nans_groups[76073]\n",
        "make_plots(Vs)\n",
        "make_corr(Vs)"
      ],
      "execution_count": null,
      "outputs": []
    },
    {
      "cell_type": "code",
      "metadata": {
        "id": "KOXyadcgcHBb"
      },
      "source": [
        "grps = [[12,13],[14],[15,16,17,18,21,22,31,32,33,34],[19,20],[23,24],[25,26],[27,28],[29,30]]\n",
        "reduce_group(grps)"
      ],
      "execution_count": null,
      "outputs": []
    },
    {
      "cell_type": "markdown",
      "metadata": {
        "id": "NZDorNqPb6hb"
      },
      "source": [
        "#V35 - V52"
      ]
    },
    {
      "cell_type": "code",
      "metadata": {
        "id": "d0xZQY-PcI_A"
      },
      "source": [
        "Vs = nans_groups[168969]\n",
        "make_plots(Vs)\n",
        "make_corr(Vs)"
      ],
      "execution_count": null,
      "outputs": []
    },
    {
      "cell_type": "code",
      "metadata": {
        "id": "9ab8gJLKcTdA"
      },
      "source": [
        "grps = [[35,36],[37,38],[39,40,42,43,50,51,52],[41],[44,45],[46,47],[48,49]]\n",
        "reduce_group(grps)"
      ],
      "execution_count": null,
      "outputs": []
    },
    {
      "cell_type": "markdown",
      "metadata": {
        "id": "ijN_MbiKcb--"
      },
      "source": [
        "#V53 - V74"
      ]
    },
    {
      "cell_type": "code",
      "metadata": {
        "id": "rknAzQXQcWrb"
      },
      "source": [
        "Vs = nans_groups[77096]\n",
        "make_plots(Vs)\n",
        "make_corr(Vs)"
      ],
      "execution_count": null,
      "outputs": []
    },
    {
      "cell_type": "code",
      "metadata": {
        "id": "XfibGimTcwFP"
      },
      "source": [
        "grps = [[53,54],[55,56],[57,58,59,60,63,64,71,72,73,74],[61,62],[65],[66,67],[68],[69,70]]\n",
        "reduce_group(grps)"
      ],
      "execution_count": null,
      "outputs": []
    },
    {
      "cell_type": "markdown",
      "metadata": {
        "id": "ONjrcEFWc-Hm"
      },
      "source": [
        "#V75 - V94"
      ]
    },
    {
      "cell_type": "code",
      "metadata": {
        "id": "ULfujr1Oc7KB"
      },
      "source": [
        "Vs = nans_groups[89164]\n",
        "make_plots(Vs)\n",
        "make_corr(Vs)"
      ],
      "execution_count": null,
      "outputs": []
    },
    {
      "cell_type": "code",
      "metadata": {
        "id": "heZjLW64dFew"
      },
      "source": [
        "grps = [[75,76],[77,78],[79,80,81,84,85,92,93,94],[82,83],[86,87],[88],[89],[90,91]]\n",
        "reduce_group(grps)"
      ],
      "execution_count": null,
      "outputs": []
    },
    {
      "cell_type": "markdown",
      "metadata": {
        "id": "qE84HKcQdIaT"
      },
      "source": [
        "#V95 - V137\n"
      ]
    },
    {
      "cell_type": "code",
      "metadata": {
        "id": "GLobQsvzdIA6"
      },
      "source": [
        "Vs = nans_groups[314]\n",
        "make_corr(Vs)"
      ],
      "execution_count": null,
      "outputs": []
    },
    {
      "cell_type": "code",
      "metadata": {
        "id": "jHah7TN7daEg"
      },
      "source": [
        "Vs = ['V'+str(x) for x in range(95,107)]\n",
        "make_plots(Vs)\n",
        "make_corr(Vs)"
      ],
      "execution_count": null,
      "outputs": []
    },
    {
      "cell_type": "code",
      "metadata": {
        "id": "9y4Fq0aodo-i"
      },
      "source": [
        "grps = [[95,96,97,101,102,103,105,106],[98],[99,100],[104]]\n",
        "reduce_group(grps)"
      ],
      "execution_count": null,
      "outputs": []
    },
    {
      "cell_type": "code",
      "metadata": {
        "id": "09qykEssdqal"
      },
      "source": [
        "Vs = ['V'+str(x) for x in range(107,124)]\n",
        "make_plots(Vs)\n",
        "make_corr(Vs)"
      ],
      "execution_count": null,
      "outputs": []
    },
    {
      "cell_type": "code",
      "metadata": {
        "id": "oVDzzwhbdwBB"
      },
      "source": [
        "grps = [[107],[108,109,110,114],[111,112,113],[115,116],[117,118,119],[120,122],[121],[123]]\n",
        "reduce_group(grps)"
      ],
      "execution_count": null,
      "outputs": []
    },
    {
      "cell_type": "code",
      "metadata": {
        "id": "0iqbCf00d2s6"
      },
      "source": [
        "Vs = ['V'+str(x) for x in range(124,138)]\n",
        "make_plots(Vs)\n",
        "make_corr(Vs)"
      ],
      "execution_count": null,
      "outputs": []
    },
    {
      "cell_type": "code",
      "metadata": {
        "id": "Vl3LQ7G0d7DN"
      },
      "source": [
        "grps = [[124,125],[126,127,128,132,133,134],[129],[130,131],[135,136,137]]\n",
        "reduce_group(grps)"
      ],
      "execution_count": null,
      "outputs": []
    },
    {
      "cell_type": "markdown",
      "metadata": {
        "id": "HEhq0qtwm-_f"
      },
      "source": [
        "#V138 ~ V163"
      ]
    },
    {
      "cell_type": "code",
      "metadata": {
        "id": "sMScc1lkd8TB"
      },
      "source": [
        "Vs = nans_groups[508595]\n",
        "make_plots(Vs)\n",
        "make_corr(Vs)"
      ],
      "execution_count": null,
      "outputs": []
    },
    {
      "cell_type": "code",
      "metadata": {
        "id": "eSYPv6KMmkJ-"
      },
      "source": [
        "grps = [[138],[139,140],[141,142],[146,147],[148,149,153,154,156,157,158],[161,162,163]]\n",
        "reduce_group(grps)"
      ],
      "execution_count": null,
      "outputs": []
    },
    {
      "cell_type": "markdown",
      "metadata": {
        "id": "l6da9ntCnJPI"
      },
      "source": [
        "#V143 ~ V166"
      ]
    },
    {
      "cell_type": "code",
      "metadata": {
        "id": "W34GVdVhnFii"
      },
      "source": [
        "Vs = nans_groups[508589]\n",
        "make_plots(Vs)\n",
        "make_corr(Vs)"
      ],
      "execution_count": null,
      "outputs": []
    },
    {
      "cell_type": "code",
      "metadata": {
        "id": "2pW_Okc-nMkD"
      },
      "source": [
        "grps = [[143,164,165],[144,145,150,151,152,159,160],[166]]\n",
        "reduce_group(grps)"
      ],
      "execution_count": null,
      "outputs": []
    },
    {
      "cell_type": "markdown",
      "metadata": {
        "id": "7fZ09ZgwnO6i"
      },
      "source": [
        "#V167 ~ V216"
      ]
    },
    {
      "cell_type": "code",
      "metadata": {
        "id": "Vi9Y6kHanR8L"
      },
      "source": [
        "Vs = [x for x in nans_groups[450909]]\n",
        "make_corr(Vs)"
      ],
      "execution_count": null,
      "outputs": []
    },
    {
      "cell_type": "code",
      "metadata": {
        "id": "vLJxiLYUnUlX"
      },
      "source": [
        "Vs = [x for x in nans_groups[450909] if int(x[1:])<186]\n",
        "make_plots(Vs)\n",
        "make_corr(Vs)"
      ],
      "execution_count": null,
      "outputs": []
    },
    {
      "cell_type": "code",
      "metadata": {
        "id": "gHROQXfLncso"
      },
      "source": [
        "grps = [[167,168,177,178,179],[172,176],[173],[181,182,183]]\n",
        "reduce_group(grps)"
      ],
      "execution_count": null,
      "outputs": []
    },
    {
      "cell_type": "code",
      "metadata": {
        "id": "AJaphlSgndLz"
      },
      "source": [
        "Vs = [x for x in nans_groups[450909] if (int(x[1:])>183)]\n",
        "make_plots(Vs)\n",
        "make_corr(Vs)"
      ],
      "execution_count": null,
      "outputs": []
    },
    {
      "cell_type": "code",
      "metadata": {
        "id": "YALdhsTKne0k"
      },
      "source": [
        "grps = [[186,187,190,191,192,193,196,199],[202,203,204,211,212,213],[205,206],[207],[214,215,216]]\n",
        "reduce_group(grps)"
      ],
      "execution_count": null,
      "outputs": []
    },
    {
      "cell_type": "markdown",
      "metadata": {
        "id": "Z4mlGihQnlrn"
      },
      "source": [
        "#V169 ~ V210"
      ]
    },
    {
      "cell_type": "code",
      "metadata": {
        "id": "cP9f6Z5wnnEo"
      },
      "source": [
        "Vs = nans_groups[450721]\n",
        "make_plots(Vs)\n",
        "make_corr(Vs)"
      ],
      "execution_count": null,
      "outputs": []
    },
    {
      "cell_type": "code",
      "metadata": {
        "id": "UcSrOcVanpMD"
      },
      "source": [
        "grps = [[169],[170,171,200,201],[174,175],[180],[184,185],[188,189],[194,195,197,198],[208,210],[209]]\n",
        "reduce_group(grps)"
      ],
      "execution_count": null,
      "outputs": []
    },
    {
      "cell_type": "markdown",
      "metadata": {
        "id": "VTKxmL5entGp"
      },
      "source": [
        "#V217 ~ V278"
      ]
    },
    {
      "cell_type": "code",
      "metadata": {
        "id": "4ijnQdiHnust"
      },
      "source": [
        "Vs = [x for x in nans_groups[460110]]\n",
        "make_corr(Vs)"
      ],
      "execution_count": null,
      "outputs": []
    },
    {
      "cell_type": "code",
      "metadata": {
        "id": "jDH5cffInwmB"
      },
      "source": [
        "Vs = [x for x in nans_groups[460110] if int(x[1:])<240]\n",
        "make_plots(Vs)\n",
        "make_corr(Vs)"
      ],
      "execution_count": null,
      "outputs": []
    },
    {
      "cell_type": "code",
      "metadata": {
        "id": "EVfr8HlmnzO6"
      },
      "source": [
        "grps = [[217,218,219,231,232,233,236,237],[223],[224,225],[226],[228],[229,230],[235]]\n",
        "reduce_group(grps)"
      ],
      "execution_count": null,
      "outputs": []
    },
    {
      "cell_type": "code",
      "metadata": {
        "id": "oaSDOxsmn1eY"
      },
      "source": [
        "Vs = [x for x in nans_groups[460110] if (int(x[1:])>237)&(int(x[1:])<263)]\n",
        "make_plots(Vs)\n",
        "make_corr(Vs)"
      ],
      "execution_count": null,
      "outputs": []
    },
    {
      "cell_type": "code",
      "metadata": {
        "id": "fmt1ZyvGn3LH"
      },
      "source": [
        "grps = [[240,241],[242,243,244,258],[246,257],[247,248,249,253,254],[252],[260],[261,262]]\n",
        "reduce_group(grps)"
      ],
      "execution_count": null,
      "outputs": []
    },
    {
      "cell_type": "code",
      "metadata": {
        "id": "wR6ZxTO4n5XA"
      },
      "source": [
        "Vs = [x for x in nans_groups[460110] if (int(x[1:])>262)]\n",
        "make_plots(Vs)\n",
        "make_corr(Vs)"
      ],
      "execution_count": null,
      "outputs": []
    },
    {
      "cell_type": "code",
      "metadata": {
        "id": "BZzUtoZSn8ol"
      },
      "source": [
        "grps = [[263,265,264],[266,269],[267,268],[273,274,275],[276,277,278]]\n",
        "reduce_group(grps)"
      ],
      "execution_count": null,
      "outputs": []
    },
    {
      "cell_type": "markdown",
      "metadata": {
        "id": "_mkfXYgMn9GJ"
      },
      "source": [
        "#V220 ~ V272"
      ]
    },
    {
      "cell_type": "code",
      "metadata": {
        "id": "CA2vrY7AoAEy"
      },
      "source": [
        "Vs = nans_groups[449124]\n",
        "make_plots(Vs)\n",
        "make_corr(Vs)"
      ],
      "execution_count": null,
      "outputs": []
    },
    {
      "cell_type": "code",
      "metadata": {
        "id": "V6Qsdm3boBuG"
      },
      "source": [
        "grps = [[220],[221,222,227,245,255,256,259],[234],[238,239],[250,251],[270,271,272]]\n",
        "reduce_group(grps)"
      ],
      "execution_count": null,
      "outputs": []
    },
    {
      "cell_type": "markdown",
      "metadata": {
        "id": "nscKL84ToHJD"
      },
      "source": [
        "#V279 ~ V321"
      ]
    },
    {
      "cell_type": "code",
      "metadata": {
        "id": "pKL1XFuioD8u"
      },
      "source": [
        "Vs = [x for x in nans_groups[12]]\n",
        "make_corr(Vs)"
      ],
      "execution_count": null,
      "outputs": []
    },
    {
      "cell_type": "code",
      "metadata": {
        "id": "cA1BhhIwoK6_"
      },
      "source": [
        "Vs = [x for x in nans_groups[12] if int(x[1:])<302]\n",
        "make_plots(Vs)\n",
        "make_corr(Vs)"
      ],
      "execution_count": null,
      "outputs": []
    },
    {
      "cell_type": "code",
      "metadata": {
        "id": "2Y7UpbcvoNSm"
      },
      "source": [
        "grps = [[279,280,293,294,295,298,299],[284],[285,287],[286],[290,291,292],[297]]\n",
        "reduce_group(grps)"
      ],
      "execution_count": null,
      "outputs": []
    },
    {
      "cell_type": "code",
      "metadata": {
        "id": "45hxJObhoPfZ"
      },
      "source": [
        "Vs = [x for x in nans_groups[12] if int(x[1:])>299]\n",
        "make_plots(Vs)\n",
        "make_corr(Vs)"
      ],
      "execution_count": null,
      "outputs": []
    },
    {
      "cell_type": "code",
      "metadata": {
        "id": "-1TdMq6doR5w"
      },
      "source": [
        "grps = [[302,303,304],[305],[306,307,308,316,317,318],[309,311],[310,312],[319,320,321]]\n",
        "reduce_group(grps)"
      ],
      "execution_count": null,
      "outputs": []
    },
    {
      "cell_type": "markdown",
      "metadata": {
        "id": "4iuM4epGoWES"
      },
      "source": [
        "#V281 ~ V315, D1"
      ]
    },
    {
      "cell_type": "code",
      "metadata": {
        "id": "mqgXs5tmoXjD"
      },
      "source": [
        "Vs = nans_groups[1269]\n",
        "make_plots(Vs)\n",
        "Vtitle = 'V281 - V315, D1'\n",
        "make_corr(Vs,Vtitle)"
      ],
      "execution_count": null,
      "outputs": []
    },
    {
      "cell_type": "code",
      "metadata": {
        "id": "MGCKky0IoZVM"
      },
      "source": [
        "grps = [[281],[282,283],[288,289],[296],[300,301],[313,314,315]]\n",
        "reduce_group(grps)"
      ],
      "execution_count": null,
      "outputs": []
    },
    {
      "cell_type": "markdown",
      "metadata": {
        "id": "R9AoNij4odDy"
      },
      "source": [
        "#V322 - V339"
      ]
    },
    {
      "cell_type": "code",
      "metadata": {
        "id": "Ojm_iQWaoeED"
      },
      "source": [
        "Vs = nans_groups[508189]\n",
        "make_plots(Vs)\n",
        "make_corr(Vs)"
      ],
      "execution_count": null,
      "outputs": []
    },
    {
      "cell_type": "code",
      "metadata": {
        "id": "0nMtWA-Goftw"
      },
      "source": [
        "grps = [[322,323,324,326,327,328,329,330,331,332,333],[325],[334,335,336],[337,338,339]]\n",
        "reduce_group(grps)"
      ],
      "execution_count": null,
      "outputs": []
    },
    {
      "cell_type": "markdown",
      "metadata": {
        "id": "NAT7gG6GojII"
      },
      "source": [
        "#V Reduced"
      ]
    },
    {
      "cell_type": "code",
      "metadata": {
        "id": "NRK9lCZIokDC"
      },
      "source": [
        "v =  [1, 3, 4, 6, 8, 11]\n",
        "v += [13, 14, 17, 20, 23, 26, 27, 30]\n",
        "v += [36, 37, 40, 41, 44, 47, 48]\n",
        "v += [54, 56, 59, 62, 65, 67, 68, 70]\n",
        "v += [76, 78, 80, 82, 86, 88, 89, 91]\n",
        "v += [96, 98, 99, 104]\n",
        "v += [107, 108, 111, 115, 117, 120, 121, 123]\n",
        "v += [124, 127, 129, 130, 136]\n",
        "v += [138, 139, 142, 147, 156, 162]\n",
        "v += [165, 160, 166]\n",
        "v += [178, 176, 173, 182]\n",
        "v += [187, 203, 205, 207, 215]\n",
        "v += [169, 171, 175, 180, 185, 188, 198, 210, 209]\n",
        "v += [218, 223, 224, 226, 228, 229, 235]\n",
        "v += [240, 258, 257, 253, 252, 260, 261]\n",
        "v += [264, 266, 267, 274, 277]\n",
        "v += [220, 221, 234, 238, 250, 271]\n",
        "v += [294, 284, 285, 286, 291, 297]\n",
        "v += [303, 305, 307, 309, 310, 320]\n",
        "v += [281, 283, 289, 296, 301, 314]\n",
        "v += [332, 325, 335, 338]"
      ],
      "execution_count": null,
      "outputs": []
    },
    {
      "cell_type": "code",
      "metadata": {
        "id": "uMqy4l1yorSi"
      },
      "source": [
        "print('Reduced set has',len(v),'columns')"
      ],
      "execution_count": null,
      "outputs": []
    },
    {
      "cell_type": "code",
      "metadata": {
        "id": "_pspvjegouAG"
      },
      "source": [
        "cols = ['TransactionDT'] + ['V'+str(x) for x in v]\n",
        "train2 = train[cols].sample(frac=0.2)\n",
        "plt.figure(figsize=(15,15))\n",
        "sns.heatmap(train2[cols].corr(), cmap='RdBu_r', annot=False, center=0.0)\n",
        "plt.title('V1-V339 REDUCED',fontsize=14)\n",
        "plt.show()"
      ],
      "execution_count": null,
      "outputs": []
    },
    {
      "cell_type": "markdown",
      "metadata": {
        "id": "Id6-brklow72"
      },
      "source": [
        "#V All\n",
        "We notice that the first 100 Vs don't correlate much with the last 239 Vs. Also even though the first 100 have 6 different NAN groups there is much correlation between the groups. The latter 239 relate to each other."
      ]
    },
    {
      "cell_type": "code",
      "metadata": {
        "id": "ZEXv7skTo19h"
      },
      "source": [
        "cols = ['TransactionDT'] + ['V'+str(x) for x in range(1,340)]\n",
        "train2 = train[cols].sample(frac=0.2)\n",
        "plt.figure(figsize=(15,15))\n",
        "sns.heatmap(train2[cols].corr(), cmap='RdBu_r', annot=False, center=0.0)\n",
        "plt.title('V1-V339 ALL',fontsize=14)\n",
        "plt.show()"
      ],
      "execution_count": null,
      "outputs": []
    },
    {
      "cell_type": "markdown",
      "metadata": {
        "id": "9uHK6_ozo7E2"
      },
      "source": [
        "#C Columns"
      ]
    },
    {
      "cell_type": "code",
      "metadata": {
        "id": "2zCF7MAWo4Ok"
      },
      "source": [
        "def make_plots2(Vs):\n",
        "    col = 4\n",
        "    row = len(Vs)//4+1\n",
        "    plt.figure(figsize=(20,row*5))\n",
        "    for i,v in enumerate(Vs):\n",
        "        plt.subplot(row,col,i+1)\n",
        "        idx = train[~train[v].isna()].index\n",
        "        n = train[v].nunique()\n",
        "        x = np.sum(train.loc[idx,v]!=train.loc[idx,v].astype(int))\n",
        "        y = np.round(100*np.sum(train[v].isna())/len(train),2)\n",
        "        t = 'int'\n",
        "        if x!=0: t = 'float'\n",
        "        plt.title(v+' has '+str(n)+' '+t+' and '+str(y)+'% nan')\n",
        "        plt.yticks([])\n",
        "        h = plt.hist(train.loc[idx,v],bins=100)\n",
        "        if len(h[0])>1: plt.ylim((0,np.sort(h[0])[-2]))\n",
        "    plt.show()\n",
        "make_plots2(['C'+str(x) for x in range(1,15)])"
      ],
      "execution_count": null,
      "outputs": []
    },
    {
      "cell_type": "code",
      "metadata": {
        "id": "44sZHm2ZpA18"
      },
      "source": [
        "cols = ['TransactionDT'] + ['C'+str(x) for x in range(1,15)]\n",
        "plt.figure(figsize=(15,15))\n",
        "sns.heatmap(train[cols].corr(), cmap='RdBu_r', annot=True, center=0.0)\n",
        "plt.title('C1-C15')\n",
        "plt.show()"
      ],
      "execution_count": null,
      "outputs": []
    },
    {
      "cell_type": "markdown",
      "metadata": {
        "id": "1KAdLEtIpDHB"
      },
      "source": [
        "#D Columns\n"
      ]
    },
    {
      "cell_type": "code",
      "metadata": {
        "id": "eDkYgMX8pEHp"
      },
      "source": [
        "cols = ['TransactionDT'] + ['D'+str(x) for x in range(1,16)]\n",
        "plt.figure(figsize=(15,15))\n",
        "sns.heatmap(train[cols].corr(), cmap='RdBu_r', annot=True, center=0.0)\n",
        "plt.title('D1-D15')\n",
        "plt.show()"
      ],
      "execution_count": null,
      "outputs": []
    },
    {
      "cell_type": "markdown",
      "metadata": {
        "id": "0MGD9zLbpH2m"
      },
      "source": [
        "#M Columns\n"
      ]
    },
    {
      "cell_type": "code",
      "metadata": {
        "id": "3neEurDjpF0a"
      },
      "source": [
        "Ms = ['M'+str(x) for x in range(1,10)]\n",
        "mp = {'F':0,'T':1,'M0':0,'M1':1,'M2':2}\n",
        "for c in Ms: train[c] = train[c].map(mp)"
      ],
      "execution_count": null,
      "outputs": []
    },
    {
      "cell_type": "code",
      "metadata": {
        "id": "HKrrXX_WpLie"
      },
      "source": [
        "cols = ['TransactionDT'] + Ms\n",
        "plt.figure(figsize=(15,15))\n",
        "sns.heatmap(train[cols].corr(), cmap='RdBu_r', annot=True, center=0.0)\n",
        "plt.title('M1-M9')\n",
        "plt.show()"
      ],
      "execution_count": null,
      "outputs": []
    },
    {
      "cell_type": "markdown",
      "metadata": {
        "id": "cWhz4RELpPA6"
      },
      "source": [
        "#ID Columns\n"
      ]
    },
    {
      "cell_type": "code",
      "metadata": {
        "id": "BFxZvulQpNI5"
      },
      "source": [
        "train_id = pd.read_csv('train_identity.csv')\n",
        "train_id = pd.merge(train_id,train[['TransactionID','TransactionDT']],on='TransactionID',how='left')\n",
        "ids = ['id_0'+str(x) for x in range(1,10)]+['id_'+str(x) for x in range(10,39)]\n",
        "for c in ids: print (c,train_id[c].unique()[:10])"
      ],
      "execution_count": null,
      "outputs": []
    },
    {
      "cell_type": "code",
      "metadata": {
        "id": "hLK8HSMIpWSm"
      },
      "source": [
        "booln = ['id_12','id_15','id_16','id_27','id_28','id_29','id_35','id_36','id_37','id_38']\n",
        "cats = ['id_23','id_30','id_31','id_33','id_34']\n",
        "mp = {'Unknown':0,'NotFound':1,'Found':2,'New':3,'F':0,'T':1}\n",
        "for c in booln: train_id[c] = train_id[c].map(mp)"
      ],
      "execution_count": null,
      "outputs": []
    },
    {
      "cell_type": "code",
      "metadata": {
        "id": "xofL1X3hpYhM"
      },
      "source": [
        "def make_plots2(Vs):\n",
        "    col = 4\n",
        "    row = len(Vs)//4+1\n",
        "    plt.figure(figsize=(20,row*5))\n",
        "    for i,v in enumerate(Vs):\n",
        "        plt.subplot(row,col,i+1)\n",
        "        idx = train_id[~train_id[v].isna()].index\n",
        "        n = train_id[v].nunique()\n",
        "        x = np.sum(train_id.loc[idx,v]!=train_id.loc[idx,v].astype(int))\n",
        "        y = np.round(100*np.sum(train_id[v].isna())/len(train_id),2)\n",
        "        t = 'int'\n",
        "        if x!=0: t = 'float'\n",
        "        plt.title(v+' has '+str(n)+' '+t+' and '+str(y)+'% nan')\n",
        "        plt.yticks([])\n",
        "        h = plt.hist(train_id.loc[idx,v],bins=100)\n",
        "        if len(h[0])>1: plt.ylim((0,np.sort(h[0])[-2]))\n",
        "    plt.show()\n",
        "make_plots2([x for x in ids if x not in cats])"
      ],
      "execution_count": null,
      "outputs": []
    },
    {
      "cell_type": "code",
      "metadata": {
        "id": "gamWlvJNpa8m"
      },
      "source": [
        "cols = ['TransactionDT'] + [x for x in ids if x not in cats]\n",
        "plt.figure(figsize=(15,15))\n",
        "sns.heatmap(train_id[cols].corr(), cmap='RdBu_r', annot=True, center=0.0)\n",
        "plt.title('ID1-ID38')\n",
        "plt.show()"
      ],
      "execution_count": null,
      "outputs": []
    }
  ]
}