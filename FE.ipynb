{
  "cells": [
    {
      "cell_type": "markdown",
      "metadata": {
        "id": "zCFSEuQeUfhR"
      },
      "source": [
        " ## Feature Engineering\n",
        "\n",
        "Dưới đây là một số ý tưởng về cách tạo mới và chọn thuộc tính cho mô hình mà nhóm tác giả đã thực hiện:\n",
        ">Kernel https://www.kaggle.com/kyakovlev/ieee-fe-for-local-test của Konstantin thực hiện các FE for local test và chứng minh các kỹ thuật đó. Mọi người có thể xem để tham khảo thêm\n",
        "1. Tạo một feature mới và sau đó đánh giá nó bằng các tiến hành xác thực cục bộ local validation scheme  để xem liệu nó có cải thiện CV của mô hình hay không. Giữ lại các feature có lợi và loại bỏ các feature khác.\n",
        "2. Lựa chọn các thuộc tính chuyển tiếp (sử dụng trên một thuộc tính hoặc nhóm các thuộc tính)\n",
        "3. Loại bỏ thuộc tính đệ quy (sử dụng cho một thuộc tính hoặc nhóm các thuộc tính)\n",
        "4. Xác đinh tầm quan trọng của thuộc tính bằng cách thực hiện hoán vị các giá trị thuộc tính.\n",
        "5. Xác thực chéo.\n",
        "6. Phân tích tương quan các thuộc tính.\n",
        "7. Tính nhất quán về thời gian/\n",
        "8. Tính nhất quán của khách hàng.\n",
        "9. Kiểm tra sự phân phối của tập dữ liệu thử nghiệm so với tập dữ liệu đào tạo và nếu có thể xem chúng khác nhau như thế nào."
      ]
    },
    {
      "cell_type": "markdown",
      "metadata": {
        "id": "P21jmy5ZUfhk"
      },
      "source": [
        "### Train & Test\n",
        ">Khi thực hiện mã hóa nhãn, phải mã hóa trên cùng tập dữ liệu Train và Test bằng cách gộp chung dữ liệu lại với nhau."
      ]
    },
    {
      "cell_type": "code",
      "execution_count": null,
      "metadata": {
        "execution": {
          "iopub.execute_input": "2021-12-02T01:56:12.232898Z",
          "iopub.status.busy": "2021-12-02T01:56:12.232393Z",
          "iopub.status.idle": "2021-12-02T01:56:12.336768Z",
          "shell.execute_reply": "2021-12-02T01:56:12.334307Z",
          "shell.execute_reply.started": "2021-12-02T01:56:12.232809Z"
        },
        "id": "s-rgL9VBUfhm"
      },
      "outputs": [],
      "source": [
        "df = pd.concat([train[col],test[col]],axis=0)\n",
        "# PERFORM FEATURE ENGINEERING HERE\n",
        "train[col] = df[:len(train)]\n",
        "test[col] = df[len(train):]"
      ]
    },
    {
      "cell_type": "markdown",
      "metadata": {
        "id": "hPJlN99aUfho"
      },
      "source": [
        "### NAN Processing\n",
        ">Nếu ta cung cấp giá trị np.nan cho LGBM/XGB, thì tại mỗi lần Tree phân chia node, nó sẽ tách các giá trị không phải NAN và sau đó gửi tất cả các NAN đến con trái hoặc con phải tùy thuộc vào điều gì tốt nhất. Do đó, các giá trị NAN được đối xử đặc biệt ở mọi node và có thể trở dẫn đến overfit.\n",
        "\n",
        "-->Chuyển đổi tất cả NAN thành một số âm thấp hơn tất cả các giá trị không phải NAN (chẳng hạn như - 999) thì mô hình sẽ không ưu tiên xử lý với NAN nữa và dành cho nó sự chú ý giống như những con số khác."
      ]
    },
    {
      "cell_type": "code",
      "execution_count": null,
      "metadata": {
        "execution": {
          "iopub.status.busy": "2021-12-02T01:56:12.337986Z",
          "iopub.status.idle": "2021-12-02T01:56:12.338492Z",
          "shell.execute_reply": "2021-12-02T01:56:12.338297Z",
          "shell.execute_reply.started": "2021-12-02T01:56:12.338265Z"
        },
        "id": "D2DQ1XnuUfhp"
      },
      "outputs": [],
      "source": [
        "df[col].fillna(-999, inplace=True)"
      ]
    },
    {
      "cell_type": "markdown",
      "metadata": {
        "id": "yHYbp6j_Ufhq"
      },
      "source": [
        "### Label Encode/ Factorize/ Memory reduction\n",
        "Factorizing -Mã hóa nhãn : chuyển đổi một cột kiểu string, category, object thành integers. Sau đó, ta có thể chuyển thành kiểu int8, int16 hoặc int32 tùy thuộc vào việc kiểm tra giá trị lớn nhất của cột. Từ đó giúp giảm bộ nhớ lưu trữ."
      ]
    },
    {
      "cell_type": "code",
      "execution_count": null,
      "metadata": {
        "execution": {
          "iopub.status.busy": "2021-12-02T01:56:12.340071Z",
          "iopub.status.idle": "2021-12-02T01:56:12.341302Z",
          "shell.execute_reply": "2021-12-02T01:56:12.340932Z",
          "shell.execute_reply.started": "2021-12-02T01:56:12.340886Z"
        },
        "id": "3zlzP-VBUfhr"
      },
      "outputs": [],
      "source": [
        "df[col],_ = df[col].factorize()\n",
        "\n",
        "if df[col].max()<128: df[col] = df[col].astype('int8')\n",
        "elif df[col].max()<32768: df[col] = df[col].astype('int16')\n",
        "else: df[col].astype('int32')"
      ]
    },
    {
      "cell_type": "markdown",
      "metadata": {
        "id": "c7S_2tRRUfhs"
      },
      "source": [
        "Ngoài ra để giảm bộ nhớ, ta sử dụng memory_reducer trên các cột. Một cách tiếp cận đơn giản và an toàn hơn là chuyển đổi tất cả các giá trị kiểu float64 thành float32 và tất cả giá trị kiểu int64 thành int32. (Tốt nhất nên tránh float16 , sử dụng int8 và int16 nếu muốn)."
      ]
    },
    {
      "cell_type": "code",
      "execution_count": null,
      "metadata": {
        "execution": {
          "iopub.status.busy": "2021-12-02T01:56:12.343010Z",
          "iopub.status.idle": "2021-12-02T01:56:12.344766Z",
          "shell.execute_reply": "2021-12-02T01:56:12.344445Z",
          "shell.execute_reply.started": "2021-12-02T01:56:12.344415Z"
        },
        "id": "xShZ0zbcUfhu"
      },
      "outputs": [],
      "source": [
        "for col in df.columns:\n",
        "    if df[col].dtype=='float64': df[col] = df[col].astype('float32')\n",
        "    if df[col].dtype=='int64': df[col] = df[col].astype('int32')"
      ]
    },
    {
      "cell_type": "markdown",
      "metadata": {
        "id": "lEAvfL6_Ufhv"
      },
      "source": [
        "### Categorical Features\n",
        "Với các biến phân loại, ta có thể lựa chọn cho mô hình khi biết rằng chúng vó kiểu 'categorical' hoặc có thể coi nó là kiểu 'numeric' nếu ta đã mã hóa các nhãn của nó trước đó. Dù bằng cách nào, mô hình cũng có thể trích xuất các categorical classes."
      ]
    },
    {
      "cell_type": "markdown",
      "metadata": {
        "id": "OxhO2Ks0Ufhv"
      },
      "source": [
        "### Splitting\n",
        "Một cột kiểu string/numeric có thể được tách thành hai cột mới.\n",
        "\n",
        ">Ví dụ, một cột feature kiểu string chẳng hạn như cột 'id_30' có gí trị “ Mac OS X 10_9_5”  có thể được chia thành 2 cột mới là:\n",
        ">1. \"Operating System\"  có giá trị \"Mac OS X” \n",
        ">2. \"Version\" có giá trị là  “10_9_5”. \n",
        ">\n",
        ">Hoặc ví dụ với cột feature là \"TransactionAmt\" kiểu numeric có giá trị “ 1230.45” có thể được tách thành 2 cột ( tức là 2 feature mới) :\n",
        ">1. \"USD\" có giá trị  “ 1230” \n",
        ">2. \"Cent\" có giá trị  “ 45”\n"
      ]
    },
    {
      "cell_type": "markdown",
      "metadata": {
        "id": "gaNhrSXnUfhw"
      },
      "source": [
        "### Combining / Transforming / Interaction\n",
        "Hai cột có kiểu string/ numeric có thể được kết hợp thành một cột mới. \n",
        "\n",
        ">Ví dụ cột feature \"card1\" và feature \"card2\" có thể trở thành một cột feature mới là \"uid\""
      ]
    },
    {
      "cell_type": "code",
      "execution_count": null,
      "metadata": {
        "execution": {
          "iopub.status.busy": "2021-12-02T01:56:12.346029Z",
          "iopub.status.idle": "2021-12-02T01:56:12.347174Z",
          "shell.execute_reply": "2021-12-02T01:56:12.346889Z",
          "shell.execute_reply.started": "2021-12-02T01:56:12.346851Z"
        },
        "id": "EajQlwY7Ufhx"
      },
      "outputs": [],
      "source": [
        "df['uid'] = df[‘card1’].astype(str)+’_’+df[‘card2’].astype(str)"
      ]
    },
    {
      "cell_type": "markdown",
      "metadata": {
        "id": "jy2cEGCZUfhx"
      },
      "source": [
        ">Điều này giúp ích cho mô hình bởi vì bản thân thuộc tính 'card1' và 'card2' có thể không tương quan với target của bài toán ,do đó mô hình sẽ không phân chia các thuộc tính này. Nhưng thuộc tính 'uid = card1_card2' có thể tương quan với target và bây giờ mô hình có thể sử dụng thuộc tính này.\n",
        ">\n",
        "> Các cột thuộc tính kiểu số - numeric có thể được kết hợp với nhau bằng các phép cộng, trừ, nhân, v.v. \n",
        ">\n",
        ">ví dụ:"
      ]
    },
    {
      "cell_type": "code",
      "source": [
        " df['x1_x2'] = df['x1'] * df['x2']"
      ],
      "metadata": {
        "id": "Y-EgZ_75UsDm"
      },
      "execution_count": null,
      "outputs": []
    },
    {
      "cell_type": "markdown",
      "metadata": {
        "id": "wS8JifL_Ufhy"
      },
      "source": [
        "### Frequency Encoding\n",
        ">Mã hóa tần số là một kỹ thuật mạnh mẽ cho phép mô hình \"nhìn thấy\" liệu các giá trị nào đó của thuộc tính là hiếm gặp hay phổ biến. \n",
        ">\n",
        ">Ví dụ: nếu muốn mô hình nhân ra thuộc tính \"credit_card\" nào được sử dụng thường xuyên t có thể tiến hành đếm tần số xuất hiện của tất cả các giá trị cột \"card1\":"
      ]
    },
    {
      "cell_type": "code",
      "execution_count": null,
      "metadata": {
        "execution": {
          "iopub.status.busy": "2021-12-02T01:56:12.348538Z",
          "iopub.status.idle": "2021-12-02T01:56:12.349499Z",
          "shell.execute_reply": "2021-12-02T01:56:12.349186Z",
          "shell.execute_reply.started": "2021-12-02T01:56:12.349154Z"
        },
        "id": "8DaAphBtUfhy"
      },
      "outputs": [],
      "source": [
        "temp = df['card1'].value_counts().to_dict()\n",
        "df['card1_counts'] = df['card1'].map(temp)"
      ]
    },
    {
      "cell_type": "markdown",
      "metadata": {
        "id": "BJeuX6lrUfhz"
      },
      "source": [
        "### Aggregations / Group Statistics\n",
        ">Cung cấp cho mô hình các thông kê giá trị theo nhóm thuộc tính cho phép mô hình xác định xem giá trị nào là phổ biến hay hiếm gặp đối với từng nhóm thuộc tính cụ thể."
      ]
    },
    {
      "cell_type": "code",
      "execution_count": null,
      "metadata": {
        "execution": {
          "iopub.status.busy": "2021-12-02T01:56:12.350971Z",
          "iopub.status.idle": "2021-12-02T01:56:12.352168Z",
          "shell.execute_reply": "2021-12-02T01:56:12.351869Z",
          "shell.execute_reply.started": "2021-12-02T01:56:12.351833Z"
        },
        "id": "qcpqK6pfUfhz"
      },
      "outputs": [],
      "source": [
        "temp = df.groupby('card1')['TransactionAmt'].agg(['mean'])   \n",
        "    .rename({'mean':'TransactionAmt_card1_mean'},axis=1)\n",
        "df = pd.merge(df,temp,on='card1',how='left')"
      ]
    },
    {
      "cell_type": "markdown",
      "metadata": {
        "id": "m6aadKhfUfhz"
      },
      "source": [
        "### Normalize / Standardize\n",
        ">Chuẩn hóa các cột so với chính chúng. Hoặc chuẩn hóa cột này so với một cột khác."
      ]
    },
    {
      "cell_type": "code",
      "execution_count": null,
      "metadata": {
        "execution": {
          "iopub.status.busy": "2021-12-02T01:56:12.353827Z",
          "iopub.status.idle": "2021-12-02T01:56:12.354837Z",
          "shell.execute_reply": "2021-12-02T01:56:12.354534Z",
          "shell.execute_reply.started": "2021-12-02T01:56:12.354502Z"
        },
        "id": "KtN38Q0-Ufhz"
      },
      "outputs": [],
      "source": [
        "#themselfs \n",
        "df[col] = ( df[col]-df[col].mean() ) / df[col].std()\n",
        "\n",
        "#normalize D3\n",
        "df['D3_remove_time'] = df['D3'] - df['D3_week_mean']"
      ]
    },
    {
      "cell_type": "markdown",
      "metadata": {
        "id": "ji4IRSPPUfh0"
      },
      "source": [
        "### Outlier Removal / Relax / Smooth / PCA\n",
        ">Trong cuộc thi này, tác giả muốn tìm ra điểm bất thường nên tg sử dụng kỹ thuật làm mịn một cách cẩn thận.\n",
        ">\n",
        ">Ý tưởng : xác định và thay thế các giá trị không phổ biến.\n",
        ">\n",
        ">Ví dụ: bằng cách sử dụng mã hóa tần suất cho một biến, ta có thể loại bỏ tất cả các giá trị xuất hiện dưới 0,1% bằng cách thay thế chúng bằng một giá trị mới như -9999. (khác giá trị thay cho NAN)"
      ]
    }
  ],
  "metadata": {
    "kernelspec": {
      "display_name": "Python 3",
      "language": "python",
      "name": "python3"
    },
    "language_info": {
      "codemirror_mode": {
        "name": "ipython",
        "version": 3
      },
      "file_extension": ".py",
      "mimetype": "text/x-python",
      "name": "python",
      "nbconvert_exporter": "python",
      "pygments_lexer": "ipython3",
      "version": "3.7.10"
    },
    "colab": {
      "name": "ieee-xgb (1).ipynb",
      "provenance": []
    }
  },
  "nbformat": 4,
  "nbformat_minor": 0
}