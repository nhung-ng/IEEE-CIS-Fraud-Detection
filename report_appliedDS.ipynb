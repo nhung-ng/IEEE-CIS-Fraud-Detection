{
 "cells": [
  {
   "cell_type": "markdown",
   "id": "92559d25",
   "metadata": {
    "id": "52058208",
    "papermill": {
     "duration": 0.107634,
     "end_time": "2022-01-05T10:20:17.854231",
     "exception": false,
     "start_time": "2022-01-05T10:20:17.746597",
     "status": "completed"
    },
    "tags": []
   },
   "source": [
    "# Báo cáo đồ án môn \"Khoa học dữ liệu ứng dụng\"\n",
    "\n",
    "Nhóm 9:\n",
    "1. 18120533 - Dương Đoàn Bảo Sơn - https://github.com/baosonhcmus\n",
    "2. 18120498 - Nguyễn Thị Hồng Nhung - https://github.com/nhung-ng\n",
    "3. 18120009 - Vương Gia Bảo - https://github.com/bao12012000\n",
    "4. 18120543 - Trần Đại Tài - https://github.com/trandaitai327\n",
    "\n",
    "Link thùng chứa Github của nhóm: [Link](https://github.com/trandaitai327/IEEE-CIS-Fraud-Detection)"
   ]
  },
  {
   "cell_type": "markdown",
   "id": "71928ab1",
   "metadata": {
    "id": "e1868180",
    "papermill": {
     "duration": 0.104015,
     "end_time": "2022-01-05T10:20:18.062433",
     "exception": false,
     "start_time": "2022-01-05T10:20:17.958418",
     "status": "completed"
    },
    "tags": []
   },
   "source": [
    "## Mô tả bài toán"
   ]
  },
  {
   "cell_type": "markdown",
   "id": "e78e626e",
   "metadata": {
    "id": "0bb4ad2a",
    "papermill": {
     "duration": 0.107946,
     "end_time": "2022-01-05T10:20:18.275829",
     "exception": false,
     "start_time": "2022-01-05T10:20:18.167883",
     "status": "completed"
    },
    "tags": []
   },
   "source": [
    "[IEEE-CIS Fraud Detection](https://www.kaggle.com/c/ieee-fraud-detection/overview)\n",
    "### Bối cảnh\n",
    "Đây là cuộc thì được tổ chức bởi  Các nhà nghiên cứu từ IEEE Computational Intelligence Society (IEEE-CIS) hợp tác với công ty dịch vụ thanh toán hàng đầu thế giới - Vesta Corporation  nhằm tìm kiếm các giải pháp tốt nhất cho việc phát hiện gian lận từ các giao dịch của khách hàng, giúp hàng trăm nghìn doanh nghiệp giảm thất thoát do gian lận và tăng doanh thu của họ.\n",
    "### Đánh giá:\n",
    "Độ đo [Area under the ROC curve](https://en.wikipedia.org/wiki/Receiver_operating_characteristic)(AUC)\n",
    "### Submission File:\n",
    "Đối với mỗi `TransactionID` trong tập thử nghiệm, bạn phải dự đoán một xác suất cho biến `isFraud`. Tệp phải chứa tiêu đề và có định dạng sau:\n",
    "\n",
    "TransactionID,isFraud\n",
    "\n",
    "3663549,0.5\n",
    "\n",
    "3663550,0.5\n",
    "\n",
    "3663551,0.5\n",
    "\n",
    "etc.\n",
    "\n",
    "### Dữ liệu:\n",
    "- Dữ liệu đến từ các giao dịch thương mại điện tử của các khách hàng của Vesta bao gồm các features từ loại thiết bị cho đến features của sản phẩm cũng như thông tin về các giao dịch và cho phép tạo các features mới để cải thiện kết quả của model.\n",
    "\n",
    "- Dữ liệu được chia thành hai file:  identity và transactionđược nối với nhau bằng TransactionID. Không phải tất cả các giao dịch đều có thông tin nhận dạng tương ứng.\n",
    "\n",
    "- Các thuộc tính:\n",
    "  + Transaction Table:\n",
    "    * TransactionDT: thời gian tính từ một móc tham chiếu  (ngày/ giờ) nhất định (không phải thời gian thực tế).\n",
    "    * TransactionAMT: số tiền thanh toán cho giao dịch  (USD).\n",
    "    * ProductCD:  mã sản phẩm  của mỗi giao dịch.\n",
    "    * card1 - card6: thông tin thẻ thanh toán, chẳng hạn như loại thẻ, ngân hàng phát hành, quốc gia, v.v.\n",
    "    * addr: địa chỉ user.\n",
    "    * dist: khoảng cách giữa (không giới hạn) địa chỉ thanh toán, địa chỉ gửi, mã zip, địa chỉ IP, mã vùng điện thoại, v.v.\n",
    "    * P_ and (R__) emaildomain: tên miền email của người mua và người nhận, một số giao dịch nhất định không cần người nhận, do đó có thể null.\n",
    "    * C1-C14: counting, có bao nhiêu địa chỉ được tìm thấy có liên quan đến thẻ thanh toán, v.v (Ý nghĩa thực tế được che giấu).\n",
    "    * D1-D15: timedelta (chẳng hạn thời gian giữa các lần giao dịch).\n",
    "    * M1-M9: match (tên trên thẻ, địa chỉ, vv..vv.).\n",
    "    * Vxxx: các features  bao gồm xếp hạng, đếm và các quan hệ thực thể khác.\n",
    "    * Categorical Features: ProductCD, card1 - card6, addr1, addr2, P_emaildomain, R_emaildomain, M1 - M9.\n",
    "\n",
    "  + Indentity Table:\n",
    "    * Các biến trong bảng này là thông tin giúp xác thực/nhận dạng - thông tin kết nối mạng (IP, ISP, Proxy, v.v.) và chữ ký số (UA / browser / os / version, v.v.) được liên kết với các giao dịch.Chúng được thu thập bởi hệ thống chống gian lận của Vesta và các đối tác bảo mật kỹ thuật số. (Các tên trường được che dấu và từ điển ghép nối sẽ không được cung cấp để bảo vệ quyền riêng tư và thỏa thuận hợp đồng) .\n",
    "    * Categorical Features: DeviceType, DeviceInfo.\n",
    "    * id_12 - id_38 : là các numerical features cho Identity như rank thiết bị/ip_domain/ proxy, v.v. Ngoài ra, nó còn ghi lại dấu vân tay hành vi như số lần đăng nhập tài khoản / không đăng nhập được, thời gian đăng nhập tài khoản vẫn còn trên trang, v.v."
   ]
  },
  {
   "cell_type": "markdown",
   "id": "940a4bfe",
   "metadata": {
    "id": "50e610d0",
    "papermill": {
     "duration": 0.103589,
     "end_time": "2022-01-05T10:20:18.483788",
     "exception": false,
     "start_time": "2022-01-05T10:20:18.380199",
     "status": "completed"
    },
    "tags": []
   },
   "source": [
    "## Giải quyết bài toán"
   ]
  },
  {
   "cell_type": "markdown",
   "id": "5e706e50",
   "metadata": {
    "id": "ca1d1106",
    "papermill": {
     "duration": 0.104224,
     "end_time": "2022-01-05T10:20:18.691982",
     "exception": false,
     "start_time": "2022-01-05T10:20:18.587758",
     "status": "completed"
    },
    "tags": []
   },
   "source": [
    "[Giải pháp hạng 1 - Chris Deotte & Konstantin Yakovlev](https://www.kaggle.com/c/ieee-fraud-detection/discussion/111284?fbclid=IwAR1CdMPVYUNmvIgxfDQbExwpYZZyU8SiMICVvfXwJEOSRIFEjE-2lUapRMg)   \n",
    "**Time is not most important !!!**\n",
    "- Không phải bản chất của gian lận thay đổi theo thời gian mà là do tập khách hàng thay đổi theo thời gian.\n",
    "- Thử thách của cuộc thi này là dự đoán những khách hàng mà chúng ta không nhìn thấy được. Thực vậy dữ liệu private gồm 68.2% khách hàng chúng ta không nhìn thấy trong tập train, 16.4% tồn tại trong tập train và tập test, 15,4% là không chắc chắn (số liệu sau khi cuộc thi kết thúc).\n",
    "\n",
    "* \n",
    "<img src=\"https://github.com/nhung-ng/IEEE-CIS-Fraud-Detection/blob/main/image/distr_clients.png?raw=1\" alt=\"dis\" width=\"650\">\n",
    "\n",
    "### Hướng giải quyết :\n",
    ">Trong solution này, nhóm tham khảo các thông tin được tác giả chia sẻ qua các discussion và các mô tả, notebook mà tác giả cung cấp. \n",
    "Với một số bước mà tác giả không giải thích rõ ràng hoặc các bước mà tác giả thừa kế, tham khảo lại từ người khác (cụ thể là những người tham gia vào cuộc thi này), nhóm em sẽ thừa kế và tìm hiểu các kết quả đó chứ không đi vào bước thực hiện cụ thể(đó là bước nào thì nhóm em sẽ nói rõ khi đi vào các bước ở bên dưới). \n",
    ">\n",
    ">Nhóm chọn tập trung vào một mô hình (cụ thể là XGB) trong 3 mô hình mà nhóm tác giả kết hợp để giải quyết. Trong quá trình code lại thì nhóm em cũng có điều chỉnh một số chỗ để code ngắn gọn và rõ ràng hơn (chỗ nào code lại hoàn toàn theo tác giả và chỗ nào code lại có điều chỉnh thì nhóm em đều có comment rõ ràng trong phần code ở bên dưới).\n",
    "\n",
    "**Tóm tắt cách giải quyết**\n",
    "- Thay vì dự đoán giao dịch gian lận thì chúng ta phát hiện khách hàng gian lận.\n",
    "\n",
    "**Các phần quan trọng trong solution**\n",
    "- [EDA for Columns V and ID](https://www.kaggle.com/cdeotte/eda-for-columns-v-and-id)\n",
    "- [Feature Engineering and Feature Selection](https://www.kaggle.com/c/ieee-fraud-detection/discussion/111308)\n",
    "- [The Magic Works](https://www.kaggle.com/cdeotte/xgb-fraud-with-magic-0-9600#How-the-Magic-Works)\n"
   ]
  },
  {
   "cell_type": "markdown",
   "id": "51ec886e",
   "metadata": {
    "id": "7f990d9a",
    "papermill": {
     "duration": 0.10452,
     "end_time": "2022-01-05T10:20:18.900359",
     "exception": false,
     "start_time": "2022-01-05T10:20:18.795839",
     "status": "completed"
    },
    "tags": []
   },
   "source": [
    "### Tìm hiểu dữ liệu - Exploratory Data Analysis\n",
    "\n"
   ]
  },
  {
   "cell_type": "markdown",
   "id": "9e35097e",
   "metadata": {
    "id": "05873151",
    "papermill": {
     "duration": 0.105139,
     "end_time": "2022-01-05T10:20:19.109819",
     "exception": false,
     "start_time": "2022-01-05T10:20:19.004680",
     "status": "completed"
    },
    "tags": []
   },
   "source": [
    "Nhóm tác giả đã sử dụng kết quả [EDA của Alijs](https://www.kaggle.com/alijs1/ieee-transaction-columns-reference) (một người khác cũng tham gia vào cuộc thi) cho 53 cột thuộc tính trong Transactions table (khác với V) và 95 cột V đầu tiên trong 339 cột V ban đầu.\n",
    "\n",
    "Với 339 cột thuộc tính V ,ta thực hiện giảm số lượng cột V cho mô hình:\n",
    "* Nhóm các cột có chung số lượng giá trị NAN với cột V \n",
    "* Chọn một tập con có kích thước tối đa gồm các cột không tương quan từ mỗi nhóm.\n",
    "* Thay thế toàn bộ nhóm bằng tất cả các tập con của nó."
   ]
  },
  {
   "cell_type": "markdown",
   "id": "1551db39",
   "metadata": {
    "id": "a89eff65",
    "papermill": {
     "duration": 0.181336,
     "end_time": "2022-01-05T10:20:19.430814",
     "exception": false,
     "start_time": "2022-01-05T10:20:19.249478",
     "status": "completed"
    },
    "tags": []
   },
   "source": [
    "### 53 cột đầu tiên + 95 cột V"
   ]
  },
  {
   "cell_type": "markdown",
   "id": "25614e57",
   "metadata": {
    "id": "46e9c42c",
    "papermill": {
     "duration": 0.161563,
     "end_time": "2022-01-05T10:20:19.768081",
     "exception": false,
     "start_time": "2022-01-05T10:20:19.606518",
     "status": "completed"
    },
    "tags": []
   },
   "source": [
    "**Transactions columns reference**\n",
    "\n",
    "* Biểu diễn các thuộc theo thời gian để xem xét các thay đổi cũng như hoạt động của dữ liệu.\n",
    "* Thống kê thông tin về các giá trị trong mỗi thuộc tính.\n",
    "* Xem xét sự tương quan giữa các thuộc tính với nhau.\n",
    "\n",
    "---\n",
    "\n",
    "\n",
    "\n",
    "Ta nhận thấy một số điều thú vị: \n",
    "* Một số cột thuộc tính C thay đổi rất nhiều qua thời gian.\n",
    "* Các giá trị của các cột D tăng theo thời gian.\n",
    "* Các cột V chủ yếu là các giá trị NAN.\n",
    "* Một số thuộc tính tương quan rất cao với nhau ( ~ 0.99).\n",
    "\n"
   ]
  },
  {
   "cell_type": "code",
   "execution_count": null,
   "id": "bae325f7",
   "metadata": {
    "execution": {
     "iopub.execute_input": "2022-01-05T10:20:20.009820Z",
     "iopub.status.busy": "2022-01-05T10:20:20.008798Z",
     "iopub.status.idle": "2022-01-05T10:21:13.863460Z",
     "shell.execute_reply": "2022-01-05T10:21:13.861069Z",
     "shell.execute_reply.started": "2022-01-05T09:36:17.358079Z"
    },
    "id": "8b8b1a58",
    "outputId": "b9642f0a-f2f1-4608-da0b-e9558a7c518f",
    "papermill": {
     "duration": 53.991541,
     "end_time": "2022-01-05T10:21:13.863604",
     "exception": false,
     "start_time": "2022-01-05T10:20:19.872063",
     "status": "completed"
    },
    "tags": []
   },
   "outputs": [
    {
     "data": {
      "text/html": [
       "<b>Links to column info:</b> <li><a href=\"#c_TransactionID\">TransactionID</a>, <a href=\"#c_isFraud\">isFraud</a>, <a href=\"#c_TransactionDT\">TransactionDT</a>, <a href=\"#c_TransactionAmt\">TransactionAmt</a>, <a href=\"#c_ProductCD\">ProductCD</a>, <li><a href=\"#c_card1\">card1</a>, <a href=\"#c_card2\">card2</a>, <a href=\"#c_card3\">card3</a>, <a href=\"#c_card4\">card4</a>, <a href=\"#c_card5\">card5</a>, <a href=\"#c_card6\">card6</a>, <li><a href=\"#c_addr1\">addr1</a>, <a href=\"#c_addr2\">addr2</a>, <a href=\"#c_dist1\">dist1</a>, <a href=\"#c_dist2\">dist2</a>, <a href=\"#c_P_emaildomain\">P_emaildomain</a>, <a href=\"#c_R_emaildomain\">R_emaildomain</a>, <li><a href=\"#c_C1\">C1</a>, <a href=\"#c_C2\">C2</a>, <a href=\"#c_C3\">C3</a>, <a href=\"#c_C4\">C4</a>, <a href=\"#c_C5\">C5</a>, <a href=\"#c_C6\">C6</a>, <a href=\"#c_C7\">C7</a>, <a href=\"#c_C8\">C8</a>, <a href=\"#c_C9\">C9</a>, <a href=\"#c_C10\">C10</a>, <a href=\"#c_C11\">C11</a>, <a href=\"#c_C12\">C12</a>, <a href=\"#c_C13\">C13</a>, <a href=\"#c_C14\">C14</a>, <li><a href=\"#c_D1\">D1</a>, <a href=\"#c_D2\">D2</a>, <a href=\"#c_D3\">D3</a>, <a href=\"#c_D4\">D4</a>, <a href=\"#c_D5\">D5</a>, <a href=\"#c_D6\">D6</a>, <a href=\"#c_D7\">D7</a>, <a href=\"#c_D8\">D8</a>, <a href=\"#c_D9\">D9</a>, <a href=\"#c_D10\">D10</a>, <a href=\"#c_D11\">D11</a>, <a href=\"#c_D12\">D12</a>, <a href=\"#c_D13\">D13</a>, <a href=\"#c_D14\">D14</a>, <a href=\"#c_D15\">D15</a>, <li><a href=\"#c_M1\">M1</a>, <a href=\"#c_M2\">M2</a>, <a href=\"#c_M3\">M3</a>, <a href=\"#c_M4\">M4</a>, <a href=\"#c_M5\">M5</a>, <a href=\"#c_M6\">M6</a>, <a href=\"#c_M7\">M7</a>, <a href=\"#c_M8\">M8</a>, <a href=\"#c_M9\">M9</a>, <li><a href=\"#c_V1\">V1</a>, <a href=\"#c_V2\">V2</a>, <a href=\"#c_V3\">V3</a>, <a href=\"#c_V4\">V4</a>, <a href=\"#c_V5\">V5</a>, <a href=\"#c_V6\">V6</a>, <a href=\"#c_V7\">V7</a>, <a href=\"#c_V8\">V8</a>, <a href=\"#c_V9\">V9</a>, <a href=\"#c_V10\">V10</a>, <a href=\"#c_V11\">V11</a>, <a href=\"#c_V12\">V12</a>, <a href=\"#c_V13\">V13</a>, <a href=\"#c_V14\">V14</a>, <a href=\"#c_V15\">V15</a>, <a href=\"#c_V16\">V16</a>, <a href=\"#c_V17\">V17</a>, <a href=\"#c_V18\">V18</a>, <a href=\"#c_V19\">V19</a>, <a href=\"#c_V20\">V20</a>, <a href=\"#c_V21\">V21</a>, <a href=\"#c_V22\">V22</a>, <a href=\"#c_V23\">V23</a>, <a href=\"#c_V24\">V24</a>, <a href=\"#c_V25\">V25</a>, <a href=\"#c_V26\">V26</a>, <a href=\"#c_V27\">V27</a>, <a href=\"#c_V28\">V28</a>, <a href=\"#c_V29\">V29</a>, <a href=\"#c_V30\">V30</a>, <a href=\"#c_V31\">V31</a>, <a href=\"#c_V32\">V32</a>, <a href=\"#c_V33\">V33</a>, <a href=\"#c_V34\">V34</a>, <a href=\"#c_V35\">V35</a>, <a href=\"#c_V36\">V36</a>, <a href=\"#c_V37\">V37</a>, <a href=\"#c_V38\">V38</a>, <a href=\"#c_V39\">V39</a>, <a href=\"#c_V40\">V40</a>, <a href=\"#c_V41\">V41</a>, <a href=\"#c_V42\">V42</a>, <a href=\"#c_V43\">V43</a>, <a href=\"#c_V44\">V44</a>, <a href=\"#c_V45\">V45</a>, <a href=\"#c_V46\">V46</a>, <a href=\"#c_V47\">V47</a>, <a href=\"#c_V48\">V48</a>, <a href=\"#c_V49\">V49</a>, <a href=\"#c_V50\">V50</a>, <a href=\"#c_V51\">V51</a>, <a href=\"#c_V52\">V52</a>, <a href=\"#c_V53\">V53</a>, <a href=\"#c_V54\">V54</a>, <a href=\"#c_V55\">V55</a>, <a href=\"#c_V56\">V56</a>, <a href=\"#c_V57\">V57</a>, <a href=\"#c_V58\">V58</a>, <a href=\"#c_V59\">V59</a>, <a href=\"#c_V60\">V60</a>, <a href=\"#c_V61\">V61</a>, <a href=\"#c_V62\">V62</a>, <a href=\"#c_V63\">V63</a>, <a href=\"#c_V64\">V64</a>, <a href=\"#c_V65\">V65</a>, <a href=\"#c_V66\">V66</a>, <a href=\"#c_V67\">V67</a>, <a href=\"#c_V68\">V68</a>, <a href=\"#c_V69\">V69</a>, <a href=\"#c_V70\">V70</a>, <a href=\"#c_V71\">V71</a>, <a href=\"#c_V72\">V72</a>, <a href=\"#c_V73\">V73</a>, <a href=\"#c_V74\">V74</a>, <a href=\"#c_V75\">V75</a>, <a href=\"#c_V76\">V76</a>, <a href=\"#c_V77\">V77</a>, <a href=\"#c_V78\">V78</a>, <a href=\"#c_V79\">V79</a>, <a href=\"#c_V80\">V80</a>, <a href=\"#c_V81\">V81</a>, <a href=\"#c_V82\">V82</a>, <a href=\"#c_V83\">V83</a>, <a href=\"#c_V84\">V84</a>, <a href=\"#c_V85\">V85</a>, <a href=\"#c_V86\">V86</a>, <a href=\"#c_V87\">V87</a>, <a href=\"#c_V88\">V88</a>, <a href=\"#c_V89\">V89</a>, <a href=\"#c_V90\">V90</a>, <a href=\"#c_V91\">V91</a>, <a href=\"#c_V92\">V92</a>, <a href=\"#c_V93\">V93</a>, <a href=\"#c_V94\">V94</a>, <a href=\"#c_V95\">V95</a>"
      ],
      "text/plain": [
       "<IPython.core.display.HTML object>"
      ]
     },
     "metadata": {},
     "output_type": "display_data"
    },
    {
     "data": {
      "text/html": [
       "Train transactions shape: <b>(590540, 394)</b>, identity <b>(144233, 41)</b><br>Test transactions shape: <b>(506691, 393)</b>, identity <b>(141907, 41)</b>"
      ],
      "text/plain": [
       "<IPython.core.display.HTML object>"
      ]
     },
     "metadata": {},
     "output_type": "display_data"
    },
    {
     "data": {
      "text/html": [
       "Train transactions preview:"
      ],
      "text/plain": [
       "<IPython.core.display.HTML object>"
      ]
     },
     "metadata": {},
     "output_type": "display_data"
    },
    {
     "data": {
      "text/html": [
       "<div>\n",
       "<style scoped>\n",
       "    .dataframe tbody tr th:only-of-type {\n",
       "        vertical-align: middle;\n",
       "    }\n",
       "\n",
       "    .dataframe tbody tr th {\n",
       "        vertical-align: top;\n",
       "    }\n",
       "\n",
       "    .dataframe thead th {\n",
       "        text-align: right;\n",
       "    }\n",
       "</style>\n",
       "<table border=\"1\" class=\"dataframe\">\n",
       "  <thead>\n",
       "    <tr style=\"text-align: right;\">\n",
       "      <th></th>\n",
       "      <th>TransactionID</th>\n",
       "      <th>isFraud</th>\n",
       "      <th>TransactionDT</th>\n",
       "      <th>TransactionAmt</th>\n",
       "      <th>ProductCD</th>\n",
       "      <th>card1</th>\n",
       "      <th>card2</th>\n",
       "      <th>card3</th>\n",
       "      <th>card4</th>\n",
       "      <th>card5</th>\n",
       "      <th>...</th>\n",
       "      <th>V330</th>\n",
       "      <th>V331</th>\n",
       "      <th>V332</th>\n",
       "      <th>V333</th>\n",
       "      <th>V334</th>\n",
       "      <th>V335</th>\n",
       "      <th>V336</th>\n",
       "      <th>V337</th>\n",
       "      <th>V338</th>\n",
       "      <th>V339</th>\n",
       "    </tr>\n",
       "  </thead>\n",
       "  <tbody>\n",
       "    <tr>\n",
       "      <th>0</th>\n",
       "      <td>2987000</td>\n",
       "      <td>0</td>\n",
       "      <td>86400</td>\n",
       "      <td>68.5</td>\n",
       "      <td>W</td>\n",
       "      <td>13926</td>\n",
       "      <td>NaN</td>\n",
       "      <td>150.0</td>\n",
       "      <td>discover</td>\n",
       "      <td>142.0</td>\n",
       "      <td>...</td>\n",
       "      <td>NaN</td>\n",
       "      <td>NaN</td>\n",
       "      <td>NaN</td>\n",
       "      <td>NaN</td>\n",
       "      <td>NaN</td>\n",
       "      <td>NaN</td>\n",
       "      <td>NaN</td>\n",
       "      <td>NaN</td>\n",
       "      <td>NaN</td>\n",
       "      <td>NaN</td>\n",
       "    </tr>\n",
       "    <tr>\n",
       "      <th>1</th>\n",
       "      <td>2987001</td>\n",
       "      <td>0</td>\n",
       "      <td>86401</td>\n",
       "      <td>29.0</td>\n",
       "      <td>W</td>\n",
       "      <td>2755</td>\n",
       "      <td>404.0</td>\n",
       "      <td>150.0</td>\n",
       "      <td>mastercard</td>\n",
       "      <td>102.0</td>\n",
       "      <td>...</td>\n",
       "      <td>NaN</td>\n",
       "      <td>NaN</td>\n",
       "      <td>NaN</td>\n",
       "      <td>NaN</td>\n",
       "      <td>NaN</td>\n",
       "      <td>NaN</td>\n",
       "      <td>NaN</td>\n",
       "      <td>NaN</td>\n",
       "      <td>NaN</td>\n",
       "      <td>NaN</td>\n",
       "    </tr>\n",
       "    <tr>\n",
       "      <th>2</th>\n",
       "      <td>2987002</td>\n",
       "      <td>0</td>\n",
       "      <td>86469</td>\n",
       "      <td>59.0</td>\n",
       "      <td>W</td>\n",
       "      <td>4663</td>\n",
       "      <td>490.0</td>\n",
       "      <td>150.0</td>\n",
       "      <td>visa</td>\n",
       "      <td>166.0</td>\n",
       "      <td>...</td>\n",
       "      <td>NaN</td>\n",
       "      <td>NaN</td>\n",
       "      <td>NaN</td>\n",
       "      <td>NaN</td>\n",
       "      <td>NaN</td>\n",
       "      <td>NaN</td>\n",
       "      <td>NaN</td>\n",
       "      <td>NaN</td>\n",
       "      <td>NaN</td>\n",
       "      <td>NaN</td>\n",
       "    </tr>\n",
       "    <tr>\n",
       "      <th>3</th>\n",
       "      <td>2987003</td>\n",
       "      <td>0</td>\n",
       "      <td>86499</td>\n",
       "      <td>50.0</td>\n",
       "      <td>W</td>\n",
       "      <td>18132</td>\n",
       "      <td>567.0</td>\n",
       "      <td>150.0</td>\n",
       "      <td>mastercard</td>\n",
       "      <td>117.0</td>\n",
       "      <td>...</td>\n",
       "      <td>NaN</td>\n",
       "      <td>NaN</td>\n",
       "      <td>NaN</td>\n",
       "      <td>NaN</td>\n",
       "      <td>NaN</td>\n",
       "      <td>NaN</td>\n",
       "      <td>NaN</td>\n",
       "      <td>NaN</td>\n",
       "      <td>NaN</td>\n",
       "      <td>NaN</td>\n",
       "    </tr>\n",
       "    <tr>\n",
       "      <th>4</th>\n",
       "      <td>2987004</td>\n",
       "      <td>0</td>\n",
       "      <td>86506</td>\n",
       "      <td>50.0</td>\n",
       "      <td>H</td>\n",
       "      <td>4497</td>\n",
       "      <td>514.0</td>\n",
       "      <td>150.0</td>\n",
       "      <td>mastercard</td>\n",
       "      <td>102.0</td>\n",
       "      <td>...</td>\n",
       "      <td>0.0</td>\n",
       "      <td>0.0</td>\n",
       "      <td>0.0</td>\n",
       "      <td>0.0</td>\n",
       "      <td>0.0</td>\n",
       "      <td>0.0</td>\n",
       "      <td>0.0</td>\n",
       "      <td>0.0</td>\n",
       "      <td>0.0</td>\n",
       "      <td>0.0</td>\n",
       "    </tr>\n",
       "    <tr>\n",
       "      <th>5</th>\n",
       "      <td>2987005</td>\n",
       "      <td>0</td>\n",
       "      <td>86510</td>\n",
       "      <td>49.0</td>\n",
       "      <td>W</td>\n",
       "      <td>5937</td>\n",
       "      <td>555.0</td>\n",
       "      <td>150.0</td>\n",
       "      <td>visa</td>\n",
       "      <td>226.0</td>\n",
       "      <td>...</td>\n",
       "      <td>NaN</td>\n",
       "      <td>NaN</td>\n",
       "      <td>NaN</td>\n",
       "      <td>NaN</td>\n",
       "      <td>NaN</td>\n",
       "      <td>NaN</td>\n",
       "      <td>NaN</td>\n",
       "      <td>NaN</td>\n",
       "      <td>NaN</td>\n",
       "      <td>NaN</td>\n",
       "    </tr>\n",
       "    <tr>\n",
       "      <th>6</th>\n",
       "      <td>2987006</td>\n",
       "      <td>0</td>\n",
       "      <td>86522</td>\n",
       "      <td>159.0</td>\n",
       "      <td>W</td>\n",
       "      <td>12308</td>\n",
       "      <td>360.0</td>\n",
       "      <td>150.0</td>\n",
       "      <td>visa</td>\n",
       "      <td>166.0</td>\n",
       "      <td>...</td>\n",
       "      <td>NaN</td>\n",
       "      <td>NaN</td>\n",
       "      <td>NaN</td>\n",
       "      <td>NaN</td>\n",
       "      <td>NaN</td>\n",
       "      <td>NaN</td>\n",
       "      <td>NaN</td>\n",
       "      <td>NaN</td>\n",
       "      <td>NaN</td>\n",
       "      <td>NaN</td>\n",
       "    </tr>\n",
       "    <tr>\n",
       "      <th>7</th>\n",
       "      <td>2987007</td>\n",
       "      <td>0</td>\n",
       "      <td>86529</td>\n",
       "      <td>422.5</td>\n",
       "      <td>W</td>\n",
       "      <td>12695</td>\n",
       "      <td>490.0</td>\n",
       "      <td>150.0</td>\n",
       "      <td>visa</td>\n",
       "      <td>226.0</td>\n",
       "      <td>...</td>\n",
       "      <td>NaN</td>\n",
       "      <td>NaN</td>\n",
       "      <td>NaN</td>\n",
       "      <td>NaN</td>\n",
       "      <td>NaN</td>\n",
       "      <td>NaN</td>\n",
       "      <td>NaN</td>\n",
       "      <td>NaN</td>\n",
       "      <td>NaN</td>\n",
       "      <td>NaN</td>\n",
       "    </tr>\n",
       "    <tr>\n",
       "      <th>8</th>\n",
       "      <td>2987008</td>\n",
       "      <td>0</td>\n",
       "      <td>86535</td>\n",
       "      <td>15.0</td>\n",
       "      <td>H</td>\n",
       "      <td>2803</td>\n",
       "      <td>100.0</td>\n",
       "      <td>150.0</td>\n",
       "      <td>visa</td>\n",
       "      <td>226.0</td>\n",
       "      <td>...</td>\n",
       "      <td>0.0</td>\n",
       "      <td>0.0</td>\n",
       "      <td>0.0</td>\n",
       "      <td>0.0</td>\n",
       "      <td>0.0</td>\n",
       "      <td>0.0</td>\n",
       "      <td>0.0</td>\n",
       "      <td>0.0</td>\n",
       "      <td>0.0</td>\n",
       "      <td>0.0</td>\n",
       "    </tr>\n",
       "    <tr>\n",
       "      <th>9</th>\n",
       "      <td>2987009</td>\n",
       "      <td>0</td>\n",
       "      <td>86536</td>\n",
       "      <td>117.0</td>\n",
       "      <td>W</td>\n",
       "      <td>17399</td>\n",
       "      <td>111.0</td>\n",
       "      <td>150.0</td>\n",
       "      <td>mastercard</td>\n",
       "      <td>224.0</td>\n",
       "      <td>...</td>\n",
       "      <td>NaN</td>\n",
       "      <td>NaN</td>\n",
       "      <td>NaN</td>\n",
       "      <td>NaN</td>\n",
       "      <td>NaN</td>\n",
       "      <td>NaN</td>\n",
       "      <td>NaN</td>\n",
       "      <td>NaN</td>\n",
       "      <td>NaN</td>\n",
       "      <td>NaN</td>\n",
       "    </tr>\n",
       "  </tbody>\n",
       "</table>\n",
       "<p>10 rows × 394 columns</p>\n",
       "</div>"
      ],
      "text/plain": [
       "   TransactionID  isFraud  TransactionDT  TransactionAmt ProductCD  card1  \\\n",
       "0        2987000        0          86400            68.5         W  13926   \n",
       "1        2987001        0          86401            29.0         W   2755   \n",
       "2        2987002        0          86469            59.0         W   4663   \n",
       "3        2987003        0          86499            50.0         W  18132   \n",
       "4        2987004        0          86506            50.0         H   4497   \n",
       "5        2987005        0          86510            49.0         W   5937   \n",
       "6        2987006        0          86522           159.0         W  12308   \n",
       "7        2987007        0          86529           422.5         W  12695   \n",
       "8        2987008        0          86535            15.0         H   2803   \n",
       "9        2987009        0          86536           117.0         W  17399   \n",
       "\n",
       "   card2  card3       card4  card5  ... V330  V331  V332  V333  V334 V335  \\\n",
       "0    NaN  150.0    discover  142.0  ...  NaN   NaN   NaN   NaN   NaN  NaN   \n",
       "1  404.0  150.0  mastercard  102.0  ...  NaN   NaN   NaN   NaN   NaN  NaN   \n",
       "2  490.0  150.0        visa  166.0  ...  NaN   NaN   NaN   NaN   NaN  NaN   \n",
       "3  567.0  150.0  mastercard  117.0  ...  NaN   NaN   NaN   NaN   NaN  NaN   \n",
       "4  514.0  150.0  mastercard  102.0  ...  0.0   0.0   0.0   0.0   0.0  0.0   \n",
       "5  555.0  150.0        visa  226.0  ...  NaN   NaN   NaN   NaN   NaN  NaN   \n",
       "6  360.0  150.0        visa  166.0  ...  NaN   NaN   NaN   NaN   NaN  NaN   \n",
       "7  490.0  150.0        visa  226.0  ...  NaN   NaN   NaN   NaN   NaN  NaN   \n",
       "8  100.0  150.0        visa  226.0  ...  0.0   0.0   0.0   0.0   0.0  0.0   \n",
       "9  111.0  150.0  mastercard  224.0  ...  NaN   NaN   NaN   NaN   NaN  NaN   \n",
       "\n",
       "  V336  V337  V338  V339  \n",
       "0  NaN   NaN   NaN   NaN  \n",
       "1  NaN   NaN   NaN   NaN  \n",
       "2  NaN   NaN   NaN   NaN  \n",
       "3  NaN   NaN   NaN   NaN  \n",
       "4  0.0   0.0   0.0   0.0  \n",
       "5  NaN   NaN   NaN   NaN  \n",
       "6  NaN   NaN   NaN   NaN  \n",
       "7  NaN   NaN   NaN   NaN  \n",
       "8  0.0   0.0   0.0   0.0  \n",
       "9  NaN   NaN   NaN   NaN  \n",
       "\n",
       "[10 rows x 394 columns]"
      ]
     },
     "metadata": {},
     "output_type": "display_data"
    }
   ],
   "source": [
    "import numpy as np\n",
    "import pandas as pd\n",
    "import matplotlib.pyplot as plt\n",
    "from IPython.core.display import HTML\n",
    "import warnings\n",
    "warnings.filterwarnings(\"ignore\")\n",
    "\n",
    "INPUT_DIR = '../input/ieee-fraud-detection/'\n",
    "COLS_TO_SHOW = 150\n",
    "\n",
    "def h(content):\n",
    "    display(HTML(content))\n",
    "\n",
    "#biểu diễn sự thay đổi của feature theo thời gian\n",
    "def timehist1(col): \n",
    "    N = 8000 if col in ['TransactionAmt'] else 9999999999999999 # clip trans amount for better view\n",
    "    tr[tr['isFraud'] == 0].set_index('TransactionDT')[col].clip(0, N).plot(style='.', title='Hist ' + col, figsize=(15, 3))\n",
    "    tr[tr['isFraud'] == 1].set_index('TransactionDT')[col].clip(0, N).plot(style='.', title='Hist ' + col, figsize=(15, 3))\n",
    "    te.set_index('TransactionDT')[col].clip(0, N).plot(style='.', title=col + ' values over time (blue=no-fraud, orange=fraud, green=test)', figsize=(15, 3))\n",
    "    plt.show()\n",
    "\n",
    "# thống kê thông tin về giá trị NAN của feature\n",
    "def _desc(data, col, label): \n",
    "    d0 = data.describe().reset_index()\n",
    "    d0.columns = [col, label]\n",
    "    return d0.append({col:'unique values', label:data.unique().shape[0]}, ignore_index=True) \\\n",
    "             .append({col:'NaNs', label:data.isnull().sum()}, ignore_index=True) \\\n",
    "             .append({col:'NaNs share', label:np.round(data.isnull().sum() / data.shape[0], 4)}, ignore_index=True) \\\n",
    "\n",
    "# thống kê các giá trị của feature\n",
    "def desc1(col): \n",
    "    d0 = _desc(tr[col], col, 'Train')\n",
    "    d1 = _desc(tr.loc[tr['isFraud'] == 1, col], col, 'Train fraud')\n",
    "    d2 = _desc(tr.loc[tr['isFraud'] == 0, col], col, 'Train Not fraud')\n",
    "    d3 = _desc(te[col], col, 'Test')\n",
    "    n_public = int(te.shape[0] * 0.2)\n",
    "    d4 = _desc(te.loc[:n_public, col], col, 'Test public')\n",
    "    d5 = _desc(te.loc[n_public:, col], col, 'Test private')\n",
    "    dd = d0.merge(d1).merge(d2).merge(d3).merge(d4).merge(d5)\n",
    "    display(dd)\n",
    "    \n",
    "    if col not in ['TransactionID']:\n",
    "        h('<b>Most popular values (NaN = -999):</b>')\n",
    "        N = 10\n",
    "        d0 = tr[['isFraud',col]].fillna(-999).groupby(col)['isFraud'].agg(['size','mean','sum']).reset_index().sort_values('size', ascending=False).reset_index(drop=True)\n",
    "        d1 = te[['TransactionID',col]].fillna(-999).groupby(col)['TransactionID'].count().reset_index()\n",
    "        dd = d0.merge(d1, how='left', on=col).head(N)\n",
    "        dd = dd.rename({'size':'Count in train (desc)','mean':'Mean target','sum':'Sum target','TransactionID':'Count in test'}, axis=1)\n",
    "        display(dd)\n",
    "\n",
    "        h('<b>Biggest fraud sum values in train (NaN = -999):</b>')\n",
    "        dd = d0.sort_values('sum', ascending=False).reset_index(drop=True).head(N).merge(d1, how='left', on=col)\n",
    "        dd = dd.rename({'size':'Count in train','mean':'Mean target','sum':'Sum target (desc)','TransactionID':'Count in test'}, axis=1)\n",
    "        display(dd)\n",
    "\n",
    "#biểu diễn histogram của thuộc tính trên tập train và test\n",
    "def hist1(col): \n",
    "    plt.figure(figsize=(15, 3))\n",
    "    plt.subplot(121)\n",
    "    plt.hist(tr[col], bins=70);\n",
    "    plt.title('Train histogram: ' + col);\n",
    "    plt.subplot(122)\n",
    "    plt.hist(te[col], bins=70);\n",
    "    plt.title('Test histogram: ' + col);\n",
    "    plt.show()\n",
    "\n",
    "#correlation của feature\n",
    "#Xem xét các feature tương quan nhất.\n",
    "def corr1(col): \n",
    "    N = None #10000\n",
    "    num_vars = [f for f in tr.columns if tr[f].dtype != 'object']\n",
    "    trx = tr.head(N) if N is not None else tr.copy()\n",
    "    corrs = trx[num_vars].corrwith(trx[col]).reset_index().sort_values(0, ascending=False).reset_index(drop=True).rename({'index':'Column',0:'Correlation with ' + col}, axis=1)\n",
    "    h('<b>Most correlated values with ' + col + ':</b>')\n",
    "    trx = pd.concat([corrs.head(6), corrs.dropna().tail(5)])\n",
    "    def linkx(val):\n",
    "        return '<a href=\"#c_{}\">{}</a>'.format(val, val) if val in included_cols else val\n",
    "    trx['Column'] = trx['Column'].apply(linkx)\n",
    "    h(trx.to_html(escape=False))\n",
    "    \n",
    "\n",
    "#Vói các biến kiểu  số:\n",
    "#Biểu diễn các thông tin sau:\n",
    "def numeric(col):\n",
    "    timehist1(col)\n",
    "    hist1(col)\n",
    "    desc1(col)\n",
    "    corr1(col) \n",
    "    \n",
    "# Với biến phân loại:\n",
    "#biểu diễn thống kê cho các giá trị của fefature\n",
    "def categorical(col):\n",
    "    desc1(col)\n",
    "\n",
    "def proc(col):\n",
    "    if col not in ['isFraud','TransactionDT']:\n",
    "        h('<h3 id=\"c_' + col + '\">' + col + '</h3>' + '<a style=\"font-size:11px\" href=\"#home\">(Jump to top)</a>')\n",
    "        categorical(col) if tr[col].dtype == 'object' else numeric(col)\n",
    "        \n",
    "tr = pd.read_csv(INPUT_DIR + 'train_transaction.csv')\n",
    "te = pd.read_csv(INPUT_DIR + 'test_transaction.csv')\n",
    "trid = pd.read_csv(INPUT_DIR + 'train_identity.csv')\n",
    "teid = pd.read_csv(INPUT_DIR + 'test_identity.csv')\n",
    "\n",
    "included_cols = list(tr.columns.values[:COLS_TO_SHOW])\n",
    "split_on = ['TransactionID','card1','addr1','C1','D1','M1','V1']\n",
    "h('<b>Links to column info:</b> ' + ', '.join([('<li>' if col in split_on else '') + '<a href=\"#c_' + col + '\">' + col + '</a>' for col in included_cols]))\n",
    "h('Train transactions shape: <b>' + str(tr.shape) + '</b>, identity <b>' + str(trid.shape) + '</b>' + \n",
    "  '<br>Test transactions shape: <b>' + str(te.shape) + '</b>, identity <b>' + str(teid.shape) + '</b>')\n",
    "h('Train transactions preview:')\n",
    "display(tr.head(10))"
   ]
  },
  {
   "cell_type": "code",
   "execution_count": null,
   "id": "e3d6f7c1",
   "metadata": {
    "execution": {
     "iopub.execute_input": "2022-01-05T10:21:14.084550Z",
     "iopub.status.busy": "2022-01-05T10:21:14.083952Z",
     "iopub.status.idle": "2022-01-05T10:21:20.381574Z",
     "shell.execute_reply": "2022-01-05T10:21:20.380973Z",
     "shell.execute_reply.started": "2022-01-05T09:36:17.413596Z"
    },
    "id": "bb7b0d43",
    "outputId": "f2da3bc4-8e7e-446f-b397-aeb0612d890e",
    "papermill": {
     "duration": 6.412189,
     "end_time": "2022-01-05T10:21:20.381748",
     "exception": false,
     "start_time": "2022-01-05T10:21:13.969559",
     "status": "completed"
    },
    "tags": []
   },
   "outputs": [
    {
     "data": {
      "text/html": [
       "<h2 id=\"c_TransactionDT\">TransactionDT</h2><a style=\"font-size:11px\" href=\"#home\">(Jump to top)</a>"
      ],
      "text/plain": [
       "<IPython.core.display.HTML object>"
      ]
     },
     "metadata": {},
     "output_type": "display_data"
    },
    {
     "data": {
      "image/png": "[encoded data removed]",
      "text/plain": [
       "<Figure size 1080x360 with 1 Axes>"
      ]
     },
     "metadata": {
      "needs_background": "light"
     },
     "output_type": "display_data"
    },
    {
     "data": {
      "image/png": "[encoded data removed]",
      "text/plain": [
       "<Figure size 1080x360 with 1 Axes>"
      ]
     },
     "metadata": {
      "needs_background": "light"
     },
     "output_type": "display_data"
    },
    {
     "data": {
      "text/html": [
       "<b>Most correlated values with TransactionDT:</b>"
      ],
      "text/plain": [
       "<IPython.core.display.HTML object>"
      ]
     },
     "metadata": {},
     "output_type": "display_data"
    },
    {
     "data": {
      "text/html": [
       "<table border=\"1\" class=\"dataframe\">\n",
       "  <thead>\n",
       "    <tr style=\"text-align: right;\">\n",
       "      <th></th>\n",
       "      <th>Column</th>\n",
       "      <th>Correlation with TransactionDT</th>\n",
       "    </tr>\n",
       "  </thead>\n",
       "  <tbody>\n",
       "    <tr>\n",
       "      <th>0</th>\n",
       "      <td><a href=\"#c_TransactionDT\">TransactionDT</a></td>\n",
       "      <td>1.000000</td>\n",
       "    </tr>\n",
       "    <tr>\n",
       "      <th>1</th>\n",
       "      <td><a href=\"#c_TransactionID\">TransactionID</a></td>\n",
       "      <td>0.998280</td>\n",
       "    </tr>\n",
       "    <tr>\n",
       "      <th>2</th>\n",
       "      <td>V330</td>\n",
       "      <td>0.258603</td>\n",
       "    </tr>\n",
       "    <tr>\n",
       "      <th>3</th>\n",
       "      <td>V326</td>\n",
       "      <td>0.257295</td>\n",
       "    </tr>\n",
       "    <tr>\n",
       "      <th>4</th>\n",
       "      <td>V329</td>\n",
       "      <td>0.252599</td>\n",
       "    </tr>\n",
       "    <tr>\n",
       "      <th>5</th>\n",
       "      <td>V327</td>\n",
       "      <td>0.248494</td>\n",
       "    </tr>\n",
       "    <tr>\n",
       "      <th>375</th>\n",
       "      <td>V145</td>\n",
       "      <td>-0.252731</td>\n",
       "    </tr>\n",
       "    <tr>\n",
       "      <th>376</th>\n",
       "      <td>V160</td>\n",
       "      <td>-0.265566</td>\n",
       "    </tr>\n",
       "    <tr>\n",
       "      <th>377</th>\n",
       "      <td>V159</td>\n",
       "      <td>-0.279138</td>\n",
       "    </tr>\n",
       "    <tr>\n",
       "      <th>378</th>\n",
       "      <td>V151</td>\n",
       "      <td>-0.280576</td>\n",
       "    </tr>\n",
       "    <tr>\n",
       "      <th>379</th>\n",
       "      <td>V150</td>\n",
       "      <td>-0.284073</td>\n",
       "    </tr>\n",
       "  </tbody>\n",
       "</table>"
      ],
      "text/plain": [
       "<IPython.core.display.HTML object>"
      ]
     },
     "metadata": {},
     "output_type": "display_data"
    }
   ],
   "source": [
    "COL = 'TransactionDT'\n",
    "h('<h2 id=\"c_' + COL + '\">' + COL + '</h2>' + '<a style=\"font-size:11px\" href=\"#home\">(Jump to top)</a>')\n",
    "\n",
    "te['TransactionDT'].plot(kind='hist', figsize=(15, 5), label='test', bins=200, title='Train and Test TransactionDT distribution')\n",
    "tr['TransactionDT'].plot(kind='hist', label='train', bins=200)\n",
    "plt.legend()\n",
    "plt.show()\n",
    "tr['TransactionDT'].plot(kind='hist', figsize=(15, 5), label='train', bins=200, title='Train and Test public/private TransactionDT distribution')\n",
    "n_public = int(te.shape[0] * 0.2)\n",
    "te.loc[:n_public, 'TransactionDT'].plot(kind='hist', label='test public', bins=40)\n",
    "te.loc[n_public:, 'TransactionDT'].plot(kind='hist', label='test private', bins=160)\n",
    "plt.legend()\n",
    "plt.show()\n",
    "corr1(COL)"
   ]
  },
  {
   "cell_type": "code",
   "execution_count": null,
   "id": "550bb780",
   "metadata": {
    "execution": {
     "iopub.execute_input": "2022-01-05T10:21:20.622535Z",
     "iopub.status.busy": "2022-01-05T10:21:20.621864Z",
     "iopub.status.idle": "2022-01-05T10:21:24.419761Z",
     "shell.execute_reply": "2022-01-05T10:21:24.420224Z",
     "shell.execute_reply.started": "2022-01-05T09:36:17.415791Z"
    },
    "id": "400fa4a0",
    "papermill": {
     "duration": 3.915388,
     "end_time": "2022-01-05T10:21:24.420378",
     "exception": false,
     "start_time": "2022-01-05T10:21:20.504990",
     "status": "completed"
    },
    "tags": []
   },
   "outputs": [],
   "source": [
    "COL = 'isFraud'\n",
    "h('<h2 id=\"c_' + COL + '\">' + COL + '</h2>' + '<a style=\"font-size:11px\" href=\"#home\">(Jump to top)</a>')\n",
    "h('This is target column.')\n",
    "trx = tr['isFraud'].value_counts().reset_index().rename({'index':'Value','isFraud':'Count'}, axis=1)\n",
    "trx['Share'] = np.round(trx['Count'] / trx['Count'].sum(), 6)\n",
    "display(trx)\n",
    "corr1(COL)"
   ]
  },
  {
   "cell_type": "code",
   "execution_count": null,
   "id": "8e1a46c4",
   "metadata": {
    "execution": {
     "iopub.execute_input": "2022-01-05T10:21:24.658564Z",
     "iopub.status.busy": "2022-01-05T10:21:24.657667Z",
     "iopub.status.idle": "2022-01-05T10:38:32.755816Z",
     "shell.execute_reply": "2022-01-05T10:38:32.756236Z",
     "shell.execute_reply.started": "2022-01-05T09:36:17.41748Z"
    },
    "id": "d9e9e9bd",
    "papermill": {
     "duration": 1028.215972,
     "end_time": "2022-01-05T10:38:32.756427",
     "exception": false,
     "start_time": "2022-01-05T10:21:24.540455",
     "status": "completed"
    },
    "tags": []
   },
   "outputs": [],
   "source": [
    "for col in list(tr.columns.values[:COLS_TO_SHOW]):\n",
    "    proc(col)"
   ]
  },
  {
   "cell_type": "markdown",
   "id": "f7602ea3",
   "metadata": {
    "id": "e02a98fa",
    "papermill": {
     "duration": 0.914866,
     "end_time": "2022-01-05T10:38:34.587853",
     "exception": false,
     "start_time": "2022-01-05T10:38:33.672987",
     "status": "completed"
    },
    "tags": []
   },
   "source": [
    "### Các cột V và ID\n",
    "Tác giả nhận thấy các cột thuộc tính V khá dư thừa, không đem lại nhiều thông tin mới và có tương quan (correlated) với nhau."
   ]
  },
  {
   "cell_type": "markdown",
   "id": "6dc429d8",
   "metadata": {
    "id": "af3b654c",
    "papermill": {
     "duration": 0.905867,
     "end_time": "2022-01-05T10:38:36.397673",
     "exception": false,
     "start_time": "2022-01-05T10:38:35.491806",
     "status": "completed"
    },
    "tags": []
   },
   "source": [
    "#### Prepare Data"
   ]
  },
  {
   "cell_type": "code",
   "execution_count": null,
   "id": "8f89610f",
   "metadata": {
    "execution": {
     "iopub.execute_input": "2022-01-05T10:38:38.279766Z",
     "iopub.status.busy": "2022-01-05T10:38:38.278946Z",
     "iopub.status.idle": "2022-01-05T10:38:38.280736Z",
     "shell.execute_reply": "2022-01-05T10:38:38.280303Z",
     "shell.execute_reply.started": "2022-01-05T09:36:17.419169Z"
    },
    "id": "ac74294c",
    "papermill": {
     "duration": 0.966057,
     "end_time": "2022-01-05T10:38:38.280852",
     "exception": false,
     "start_time": "2022-01-05T10:38:37.314795",
     "status": "completed"
    },
    "tags": []
   },
   "outputs": [],
   "source": [
    "#!gdown https://drive.google.com/uc?id=1x6xmQifUHQWZi7nDJs53do1G4q5aEnWI&export=download\n",
    "#!unzip ieee-fraud-detection.zip"
   ]
  },
  {
   "cell_type": "markdown",
   "id": "2b461808",
   "metadata": {
    "id": "53bed99d",
    "papermill": {
     "duration": 1.163401,
     "end_time": "2022-01-05T10:38:40.348031",
     "exception": false,
     "start_time": "2022-01-05T10:38:39.184630",
     "status": "completed"
    },
    "tags": []
   },
   "source": [
    "#### Import thư viện"
   ]
  },
  {
   "cell_type": "code",
   "execution_count": null,
   "id": "eedf809f",
   "metadata": {
    "execution": {
     "iopub.execute_input": "2022-01-05T10:38:42.145636Z",
     "iopub.status.busy": "2022-01-05T10:38:42.144945Z",
     "iopub.status.idle": "2022-01-05T10:38:42.842368Z",
     "shell.execute_reply": "2022-01-05T10:38:42.841392Z",
     "shell.execute_reply.started": "2022-01-05T09:36:17.420792Z"
    },
    "id": "44109213",
    "papermill": {
     "duration": 1.595926,
     "end_time": "2022-01-05T10:38:42.842528",
     "exception": false,
     "start_time": "2022-01-05T10:38:41.246602",
     "status": "completed"
    },
    "tags": []
   },
   "outputs": [],
   "source": [
    "import seaborn as sns\n",
    "import matplotlib.pyplot as plt\n",
    "import numpy as np,gc # linear algebra\n",
    "import pandas as pd # data processing, CSV file I/O (e.g. pd.read_csv)\n",
    "pd.set_option('display.max_columns', 500)"
   ]
  },
  {
   "cell_type": "code",
   "execution_count": null,
   "id": "2a096c0c",
   "metadata": {
    "execution": {
     "iopub.execute_input": "2022-01-05T10:38:44.761607Z",
     "iopub.status.busy": "2022-01-05T10:38:44.760667Z",
     "iopub.status.idle": "2022-01-05T10:39:03.103696Z",
     "shell.execute_reply": "2022-01-05T10:39:03.103164Z",
     "shell.execute_reply.started": "2022-01-05T09:36:17.422774Z"
    },
    "id": "910a0449",
    "papermill": {
     "duration": 19.369192,
     "end_time": "2022-01-05T10:39:03.103834",
     "exception": false,
     "start_time": "2022-01-05T10:38:43.734642",
     "status": "completed"
    },
    "tags": []
   },
   "outputs": [],
   "source": [
    "cols_t = ['TransactionID', 'TransactionDT', 'TransactionAmt',\n",
    "       'ProductCD', 'card1', 'card2', 'card3', 'card4', 'card5', 'card6',\n",
    "       'addr1', 'addr2', 'dist1', 'dist2', 'P_emaildomain', 'R_emaildomain',\n",
    "       'C1', 'C2', 'C3', 'C4', 'C5', 'C6', 'C7', 'C8', 'C9', 'C10', 'C11',\n",
    "       'C12', 'C13', 'C14', 'D1', 'D2', 'D3', 'D4', 'D5', 'D6', 'D7', 'D8',\n",
    "       'D9', 'D10', 'D11', 'D12', 'D13', 'D14', 'D15', 'M1', 'M2', 'M3', 'M4',\n",
    "       'M5', 'M6', 'M7', 'M8', 'M9']\n",
    "cols_v = ['V'+str(x) for x in range(1,340)]; types_v = {}\n",
    "for c in cols_v: types_v[c] = 'float32'\n",
    "train = pd.read_csv(INPUT_DIR+'train_transaction.csv',usecols=cols_t+['isFraud']+cols_v,dtype=types_v)"
   ]
  },
  {
   "cell_type": "markdown",
   "id": "4b6b656f",
   "metadata": {
    "id": "b39ba40e",
    "papermill": {
     "duration": 0.890104,
     "end_time": "2022-01-05T10:39:04.884146",
     "exception": false,
     "start_time": "2022-01-05T10:39:03.994042",
     "status": "completed"
    },
    "tags": []
   },
   "source": [
    "#### NAN search\n",
    "Tìm kiếm tất cả các cột thuộc tính trong train_transaction.csv có số lượng giá trị NAN giống với các cột V, sau đó gom thành các block tương ứng với mỗi giá trị NAN."
   ]
  },
  {
   "cell_type": "code",
   "execution_count": null,
   "id": "eb88e1dc",
   "metadata": {
    "execution": {
     "iopub.execute_input": "2022-01-05T10:39:06.681841Z",
     "iopub.status.busy": "2022-01-05T10:39:06.680867Z",
     "iopub.status.idle": "2022-01-05T10:39:07.778642Z",
     "shell.execute_reply": "2022-01-05T10:39:07.777741Z",
     "shell.execute_reply.started": "2022-01-05T09:36:17.479389Z"
    },
    "id": "8a2a004c",
    "outputId": "fe9d5a93-28d3-4472-e612-b34d8a531dbb",
    "papermill": {
     "duration": 2.001262,
     "end_time": "2022-01-05T10:39:07.778780",
     "exception": false,
     "start_time": "2022-01-05T10:39:05.777518",
     "status": "completed"
    },
    "tags": []
   },
   "outputs": [
    {
     "name": "stdout",
     "output_type": "stream",
     "text": [
      "####### NAN count = 0\n",
      "['TransactionID', 'isFraud', 'TransactionDT', 'TransactionAmt', 'ProductCD', 'card1', 'C1', 'C2', 'C3', 'C4', 'C5', 'C6', 'C7', 'C8', 'C9', 'C10', 'C11', 'C12', 'C13', 'C14']\n",
      "####### NAN count = 8933\n",
      "['card2']\n",
      "####### NAN count = 1565\n",
      "['card3']\n",
      "####### NAN count = 1577\n",
      "['card4']\n",
      "####### NAN count = 4259\n",
      "['card5']\n",
      "####### NAN count = 1571\n",
      "['card6']\n",
      "####### NAN count = 65706\n",
      "['addr1', 'addr2']\n",
      "####### NAN count = 352271\n",
      "['dist1']\n",
      "####### NAN count = 552913\n",
      "['dist2']\n",
      "####### NAN count = 94456\n",
      "['P_emaildomain']\n",
      "####### NAN count = 453249\n",
      "['R_emaildomain']\n",
      "####### NAN count = 1269\n",
      "['D1', 'V281', 'V282', 'V283', 'V288', 'V289', 'V296', 'V300', 'V301', 'V313', 'V314', 'V315']\n",
      "####### NAN count = 280797\n",
      "['D2']\n",
      "####### NAN count = 262878\n",
      "['D3']\n",
      "####### NAN count = 168922\n",
      "['D4']\n",
      "####### NAN count = 309841\n",
      "['D5']\n",
      "####### NAN count = 517353\n",
      "['D6']\n",
      "####### NAN count = 551623\n",
      "['D7']\n",
      "####### NAN count = 515614\n",
      "['D8', 'D9']\n",
      "####### NAN count = 76022\n",
      "['D10']\n",
      "####### NAN count = 279287\n",
      "['D11', 'V1', 'V2', 'V3', 'V4', 'V5', 'V6', 'V7', 'V8', 'V9', 'V10', 'V11']\n",
      "####### NAN count = 525823\n",
      "['D12']\n",
      "####### NAN count = 528588\n",
      "['D13']\n",
      "####### NAN count = 528353\n",
      "['D14']\n",
      "####### NAN count = 89113\n",
      "['D15']\n",
      "####### NAN count = 271100\n",
      "['M1', 'M2', 'M3']\n",
      "####### NAN count = 281444\n",
      "['M4']\n",
      "####### NAN count = 350482\n",
      "['M5']\n",
      "####### NAN count = 169360\n",
      "['M6']\n",
      "####### NAN count = 346265\n",
      "['M7']\n",
      "####### NAN count = 346252\n",
      "['M8', 'M9']\n",
      "####### NAN count = 76073\n",
      "['V12', 'V13', 'V14', 'V15', 'V16', 'V17', 'V18', 'V19', 'V20', 'V21', 'V22', 'V23', 'V24', 'V25', 'V26', 'V27', 'V28', 'V29', 'V30', 'V31', 'V32', 'V33', 'V34']\n",
      "####### NAN count = 168969\n",
      "['V35', 'V36', 'V37', 'V38', 'V39', 'V40', 'V41', 'V42', 'V43', 'V44', 'V45', 'V46', 'V47', 'V48', 'V49', 'V50', 'V51', 'V52']\n",
      "####### NAN count = 77096\n",
      "['V53', 'V54', 'V55', 'V56', 'V57', 'V58', 'V59', 'V60', 'V61', 'V62', 'V63', 'V64', 'V65', 'V66', 'V67', 'V68', 'V69', 'V70', 'V71', 'V72', 'V73', 'V74']\n",
      "####### NAN count = 89164\n",
      "['V75', 'V76', 'V77', 'V78', 'V79', 'V80', 'V81', 'V82', 'V83', 'V84', 'V85', 'V86', 'V87', 'V88', 'V89', 'V90', 'V91', 'V92', 'V93', 'V94']\n",
      "####### NAN count = 314\n",
      "['V95', 'V96', 'V97', 'V98', 'V99', 'V100', 'V101', 'V102', 'V103', 'V104', 'V105', 'V106', 'V107', 'V108', 'V109', 'V110', 'V111', 'V112', 'V113', 'V114', 'V115', 'V116', 'V117', 'V118', 'V119', 'V120', 'V121', 'V122', 'V123', 'V124', 'V125', 'V126', 'V127', 'V128', 'V129', 'V130', 'V131', 'V132', 'V133', 'V134', 'V135', 'V136', 'V137']\n",
      "####### NAN count = 508595\n",
      "['V138', 'V139', 'V140', 'V141', 'V142', 'V146', 'V147', 'V148', 'V149', 'V153', 'V154', 'V155', 'V156', 'V157', 'V158', 'V161', 'V162', 'V163']\n",
      "####### NAN count = 508589\n",
      "['V143', 'V144', 'V145', 'V150', 'V151', 'V152', 'V159', 'V160', 'V164', 'V165', 'V166']\n",
      "####### NAN count = 450909\n",
      "['V167', 'V168', 'V172', 'V173', 'V176', 'V177', 'V178', 'V179', 'V181', 'V182', 'V183', 'V186', 'V187', 'V190', 'V191', 'V192', 'V193', 'V196', 'V199', 'V202', 'V203', 'V204', 'V205', 'V206', 'V207', 'V211', 'V212', 'V213', 'V214', 'V215', 'V216']\n",
      "####### NAN count = 450721\n",
      "['V169', 'V170', 'V171', 'V174', 'V175', 'V180', 'V184', 'V185', 'V188', 'V189', 'V194', 'V195', 'V197', 'V198', 'V200', 'V201', 'V208', 'V209', 'V210']\n",
      "####### NAN count = 460110\n",
      "['V217', 'V218', 'V219', 'V223', 'V224', 'V225', 'V226', 'V228', 'V229', 'V230', 'V231', 'V232', 'V233', 'V235', 'V236', 'V237', 'V240', 'V241', 'V242', 'V243', 'V244', 'V246', 'V247', 'V248', 'V249', 'V252', 'V253', 'V254', 'V257', 'V258', 'V260', 'V261', 'V262', 'V263', 'V264', 'V265', 'V266', 'V267', 'V268', 'V269', 'V273', 'V274', 'V275', 'V276', 'V277', 'V278']\n",
      "####### NAN count = 449124\n",
      "['V220', 'V221', 'V222', 'V227', 'V234', 'V238', 'V239', 'V245', 'V250', 'V251', 'V255', 'V256', 'V259', 'V270', 'V271', 'V272']\n",
      "####### NAN count = 12\n",
      "['V279', 'V280', 'V284', 'V285', 'V286', 'V287', 'V290', 'V291', 'V292', 'V293', 'V294', 'V295', 'V297', 'V298', 'V299', 'V302', 'V303', 'V304', 'V305', 'V306', 'V307', 'V308', 'V309', 'V310', 'V311', 'V312', 'V316', 'V317', 'V318', 'V319', 'V320', 'V321']\n",
      "####### NAN count = 508189\n",
      "['V322', 'V323', 'V324', 'V325', 'V326', 'V327', 'V328', 'V329', 'V330', 'V331', 'V332', 'V333', 'V334', 'V335', 'V336', 'V337', 'V338', 'V339']\n"
     ]
    }
   ],
   "source": [
    "nans_df = train.isna()\n",
    "nans_groups={}\n",
    "i_cols = ['V'+str(i) for i in range(1,340)]\n",
    "for col in train.columns:\n",
    "    cur_group = nans_df[col].sum()\n",
    "    try:\n",
    "        nans_groups[cur_group].append(col)\n",
    "    except:\n",
    "        nans_groups[cur_group]=[col]\n",
    "del nans_df; x=gc.collect()\n",
    "\n",
    "for k,v in nans_groups.items():\n",
    "    print('####### NAN count =',k)\n",
    "    print(v)"
   ]
  },
  {
   "cell_type": "markdown",
   "id": "238518a9",
   "metadata": {
    "id": "3dbf2885",
    "papermill": {
     "duration": 0.904099,
     "end_time": "2022-01-05T10:39:09.593472",
     "exception": false,
     "start_time": "2022-01-05T10:39:08.689373",
     "status": "completed"
    },
    "tags": []
   },
   "source": [
    "Theo như kết quả trên, ví dụ ở đây ta có được một số block như  D1 và [V281-V135] , D11 và [V1 - V11], hay các block gồm các cột V tương tự nhau về số lượng giá trị NAN như [V35 -V52], [V75-94], ..."
   ]
  },
  {
   "cell_type": "markdown",
   "id": "db2d6175",
   "metadata": {
    "id": "47c16cc9",
    "papermill": {
     "duration": 0.89605,
     "end_time": "2022-01-05T10:39:11.426364",
     "exception": false,
     "start_time": "2022-01-05T10:39:10.530314",
     "status": "completed"
    },
    "tags": []
   },
   "source": [
    "#### Giảm số lượng cột V cho mỗi block"
   ]
  },
  {
   "cell_type": "markdown",
   "id": "aef299d4",
   "metadata": {
    "id": "2bc3c6d2",
    "papermill": {
     "duration": 1.038812,
     "end_time": "2022-01-05T10:39:13.459103",
     "exception": false,
     "start_time": "2022-01-05T10:39:12.420291",
     "status": "completed"
    },
    "tags": []
   },
   "source": [
    "##### V1-V11,D11"
   ]
  },
  {
   "cell_type": "code",
   "execution_count": null,
   "id": "c90889de",
   "metadata": {
    "execution": {
     "iopub.execute_input": "2022-01-05T10:39:15.267479Z",
     "iopub.status.busy": "2022-01-05T10:39:15.266536Z",
     "iopub.status.idle": "2022-01-05T10:39:15.269499Z",
     "shell.execute_reply": "2022-01-05T10:39:15.269019Z",
     "shell.execute_reply.started": "2022-01-05T09:36:17.49939Z"
    },
    "id": "fc08b88f",
    "papermill": {
     "duration": 0.918752,
     "end_time": "2022-01-05T10:39:15.269615",
     "exception": false,
     "start_time": "2022-01-05T10:39:14.350863",
     "status": "completed"
    },
    "tags": []
   },
   "outputs": [],
   "source": [
    "Vc = ['dayr','isFraud','TransactionAmt','card1','addr1','D1n','D11n']\n",
    "Vs = nans_groups[279287]\n",
    "Vtitle = 'V1 - V11, D11'"
   ]
  },
  {
   "cell_type": "code",
   "execution_count": null,
   "id": "bc9fb284",
   "metadata": {
    "execution": {
     "iopub.execute_input": "2022-01-05T10:39:17.147507Z",
     "iopub.status.busy": "2022-01-05T10:39:17.146675Z",
     "iopub.status.idle": "2022-01-05T10:39:21.505262Z",
     "shell.execute_reply": "2022-01-05T10:39:21.505756Z",
     "shell.execute_reply.started": "2022-01-05T09:36:17.501487Z"
    },
    "id": "1e0f8a90",
    "outputId": "957591b5-c52a-46c9-f9b5-c1ff93f78e20",
    "papermill": {
     "duration": 5.320251,
     "end_time": "2022-01-05T10:39:21.505937",
     "exception": false,
     "start_time": "2022-01-05T10:39:16.185686",
     "status": "completed"
    },
    "tags": []
   },
   "outputs": [
    {
     "data": {
      "image/png": "[encoded data removed]",
      "text/plain": [
       "<Figure size 1440x1440 with 12 Axes>"
      ]
     },
     "metadata": {
      "needs_background": "light"
     },
     "output_type": "display_data"
    }
   ],
   "source": [
    "def make_plots(Vs):\n",
    "    col = 4\n",
    "    row = len(Vs)//4+1\n",
    "    plt.figure(figsize=(20,row*5))\n",
    "    idx = train[~train[Vs[0]].isna()].index\n",
    "    for i,v in enumerate(Vs):\n",
    "        plt.subplot(row,col,i+1)\n",
    "        n = train[v].nunique()\n",
    "        x = np.sum(train.loc[idx,v]!=train.loc[idx,v].astype(int))\n",
    "        y = np.round(100*np.sum(train[v].isna())/len(train),2)\n",
    "        t = 'int'\n",
    "        if x!=0: t = 'float'\n",
    "        plt.title(v+' has '+str(n)+' '+t+' and '+str(y)+'% nan')\n",
    "        plt.yticks([])\n",
    "        h = plt.hist(train.loc[idx,v],bins=100)\n",
    "        if len(h[0])>1: plt.ylim((0,np.sort(h[0])[-2]))\n",
    "    plt.show()\n",
    "make_plots(Vs)"
   ]
  },
  {
   "cell_type": "markdown",
   "id": "8a98b4e4",
   "metadata": {
    "id": "9226fe20",
    "papermill": {
     "duration": 1.10536,
     "end_time": "2022-01-05T10:39:23.599829",
     "exception": false,
     "start_time": "2022-01-05T10:39:22.494469",
     "status": "completed"
    },
    "tags": []
   },
   "source": [
    "Tính correlation giữa các cột V trong block."
   ]
  },
  {
   "cell_type": "code",
   "execution_count": null,
   "id": "aafe6ea7",
   "metadata": {
    "execution": {
     "iopub.execute_input": "2022-01-05T10:39:25.474138Z",
     "iopub.status.busy": "2022-01-05T10:39:25.472039Z",
     "iopub.status.idle": "2022-01-05T10:39:26.642295Z",
     "shell.execute_reply": "2022-01-05T10:39:26.641718Z",
     "shell.execute_reply.started": "2022-01-05T09:36:17.503213Z"
    },
    "id": "4ef32a1a",
    "outputId": "c545a732-926f-4abc-e35a-e1c0ffe712eb",
    "papermill": {
     "duration": 2.082918,
     "end_time": "2022-01-05T10:39:26.642438",
     "exception": false,
     "start_time": "2022-01-05T10:39:24.559520",
     "status": "completed"
    },
    "tags": []
   },
   "outputs": [
    {
     "data": {
      "image/png": "[encoded data removed]",
      "text/plain": [
       "<Figure size 1080x1080 with 2 Axes>"
      ]
     },
     "metadata": {
      "needs_background": "light"
     },
     "output_type": "display_data"
    }
   ],
   "source": [
    "# Tính độ tương quan correlate giữa các cột thuộc tính\n",
    "def make_corr(Vs,Vtitle=''):\n",
    "    cols = ['TransactionDT'] + Vs\n",
    "    plt.figure(figsize=(15,15))\n",
    "    sns.heatmap(train[cols].corr(), cmap='RdBu_r', annot=True, center=0.0)\n",
    "    if Vtitle!='': plt.title(Vtitle,fontsize=14)\n",
    "    else: plt.title(Vs[0]+' - '+Vs[-1],fontsize=14)\n",
    "    plt.show()\n",
    "make_corr(Vs,Vtitle)"
   ]
  },
  {
   "cell_type": "markdown",
   "id": "fac82ed6",
   "metadata": {
    "id": "d76fc5bc",
    "papermill": {
     "duration": 0.947315,
     "end_time": "2022-01-05T10:39:28.589086",
     "exception": false,
     "start_time": "2022-01-05T10:39:27.641771",
     "status": "completed"
    },
    "tags": []
   },
   "source": [
    "Trong mỗi block, tiến hành giảm số lượng cột V trong block, bằng cách chỉ giữ lại cột V có nhiều giá trị nunique nhất trong mỗi nhóm correlated."
   ]
  },
  {
   "cell_type": "code",
   "execution_count": null,
   "id": "4f8fcd10",
   "metadata": {
    "execution": {
     "iopub.execute_input": "2022-01-05T10:39:30.390822Z",
     "iopub.status.busy": "2022-01-05T10:39:30.389985Z",
     "iopub.status.idle": "2022-01-05T10:39:30.464066Z",
     "shell.execute_reply": "2022-01-05T10:39:30.463449Z",
     "shell.execute_reply.started": "2022-01-05T09:36:17.504883Z"
    },
    "id": "0139b8d5",
    "outputId": "6b3ebb10-1bd4-4b5e-815b-618c95cde59a",
    "papermill": {
     "duration": 0.977859,
     "end_time": "2022-01-05T10:39:30.464251",
     "exception": false,
     "start_time": "2022-01-05T10:39:29.486392",
     "status": "completed"
    },
    "tags": []
   },
   "outputs": [
    {
     "name": "stdout",
     "output_type": "stream",
     "text": [
      "Use these [1, 3, 4, 6, 8, 11]\n"
     ]
    }
   ],
   "source": [
    "grps = [[1],[2,3],[4,5],[6,7],[8,9],[10,11]]\n",
    "def reduce_group(grps,c='V'):\n",
    "    use = []\n",
    "    for g in grps:\n",
    "        mx = 0; vx = g[0]\n",
    "        for gg in g:\n",
    "            n = train[c+str(gg)].nunique()\n",
    "            if n>mx:\n",
    "                mx = n\n",
    "                vx = gg\n",
    "            #print(str(gg)+'-'+str(n),', ',end='')\n",
    "        use.append(vx)\n",
    "        #print()\n",
    "    print('Use these',use)\n",
    "reduce_group(grps)"
   ]
  },
  {
   "cell_type": "markdown",
   "id": "c2c93086",
   "metadata": {
    "id": "QlM2GWq8LqkV"
   },
   "source": [
    "Các cột trong block [V1-V11] sẽ được thay thế bằng các cột:\n",
    "\n",
    "{ V1,V3, V4, V6, V8, V11}"
   ]
  },
  {
   "cell_type": "markdown",
   "id": "4a08e652",
   "metadata": {
    "id": "fab77993",
    "papermill": {
     "duration": 0.902844,
     "end_time": "2022-01-05T10:39:32.271301",
     "exception": false,
     "start_time": "2022-01-05T10:39:31.368457",
     "status": "completed"
    },
    "tags": []
   },
   "source": [
    "##### V12 - V34"
   ]
  },
  {
   "cell_type": "code",
   "execution_count": null,
   "id": "20f67fc7",
   "metadata": {
    "execution": {
     "iopub.execute_input": "2022-01-05T10:39:34.142961Z",
     "iopub.status.busy": "2022-01-05T10:39:34.142089Z",
     "iopub.status.idle": "2022-01-05T10:39:45.359202Z",
     "shell.execute_reply": "2022-01-05T10:39:45.360687Z",
     "shell.execute_reply.started": "2022-01-05T09:36:17.506732Z"
    },
    "id": "1095132f",
    "papermill": {
     "duration": 12.184677,
     "end_time": "2022-01-05T10:39:45.360904",
     "exception": false,
     "start_time": "2022-01-05T10:39:33.176227",
     "status": "completed"
    },
    "tags": []
   },
   "outputs": [],
   "source": [
    "Vs = nans_groups[76073]\n",
    "make_plots(Vs)\n",
    "make_corr(Vs)"
   ]
  },
  {
   "cell_type": "code",
   "execution_count": null,
   "id": "25b2ae4b",
   "metadata": {
    "execution": {
     "iopub.execute_input": "2022-01-05T10:39:47.408754Z",
     "iopub.status.busy": "2022-01-05T10:39:47.407942Z",
     "iopub.status.idle": "2022-01-05T10:39:47.535721Z",
     "shell.execute_reply": "2022-01-05T10:39:47.536089Z",
     "shell.execute_reply.started": "2022-01-05T09:36:17.508362Z"
    },
    "id": "da6214e7",
    "outputId": "9d93a0db-ebbd-43de-ffe7-d5066da90dd5",
    "papermill": {
     "duration": 1.067713,
     "end_time": "2022-01-05T10:39:47.536261",
     "exception": false,
     "start_time": "2022-01-05T10:39:46.468548",
     "status": "completed"
    },
    "tags": []
   },
   "outputs": [
    {
     "name": "stdout",
     "output_type": "stream",
     "text": [
      "Use these [13, 14, 17, 20, 23, 26, 27, 30]\n"
     ]
    }
   ],
   "source": [
    "grps = [[12,13],[14],[15,16,17,18,21,22,31,32,33,34],[19,20],[23,24],[25,26],[27,28],[29,30]]\n",
    "reduce_group(grps)"
   ]
  },
  {
   "cell_type": "markdown",
   "id": "1da95cd1",
   "metadata": {
    "id": "193a4381",
    "papermill": {
     "duration": 0.913823,
     "end_time": "2022-01-05T10:39:49.361149",
     "exception": false,
     "start_time": "2022-01-05T10:39:48.447326",
     "status": "completed"
    },
    "tags": []
   },
   "source": [
    "##### V35 - V52"
   ]
  },
  {
   "cell_type": "code",
   "execution_count": null,
   "id": "f68ec863",
   "metadata": {
    "execution": {
     "iopub.execute_input": "2022-01-05T10:39:51.250525Z",
     "iopub.status.busy": "2022-01-05T10:39:51.249482Z",
     "iopub.status.idle": "2022-01-05T10:39:59.829746Z",
     "shell.execute_reply": "2022-01-05T10:39:59.830164Z",
     "shell.execute_reply.started": "2022-01-05T09:36:17.510034Z"
    },
    "id": "733dbcde",
    "papermill": {
     "duration": 9.56096,
     "end_time": "2022-01-05T10:39:59.830332",
     "exception": false,
     "start_time": "2022-01-05T10:39:50.269372",
     "status": "completed"
    },
    "tags": []
   },
   "outputs": [],
   "source": [
    "Vs = nans_groups[168969]\n",
    "make_plots(Vs)\n",
    "make_corr(Vs)"
   ]
  },
  {
   "cell_type": "code",
   "execution_count": null,
   "id": "1605be6f",
   "metadata": {
    "execution": {
     "iopub.execute_input": "2022-01-05T10:40:01.742436Z",
     "iopub.status.busy": "2022-01-05T10:40:01.741678Z",
     "iopub.status.idle": "2022-01-05T10:40:01.869728Z",
     "shell.execute_reply": "2022-01-05T10:40:01.869093Z",
     "shell.execute_reply.started": "2022-01-05T09:36:17.511682Z"
    },
    "id": "62496cc9",
    "outputId": "487fb827-5b30-4e98-b9b8-7d8d57feb6b3",
    "papermill": {
     "duration": 1.046504,
     "end_time": "2022-01-05T10:40:01.869872",
     "exception": false,
     "start_time": "2022-01-05T10:40:00.823368",
     "status": "completed"
    },
    "tags": []
   },
   "outputs": [
    {
     "name": "stdout",
     "output_type": "stream",
     "text": [
      "Use these [36, 37, 40, 41, 44, 47, 48]\n"
     ]
    }
   ],
   "source": [
    "grps = [[35,36],[37,38],[39,40,42,43,50,51,52],[41],[44,45],[46,47],[48,49]]\n",
    "reduce_group(grps)"
   ]
  },
  {
   "cell_type": "markdown",
   "id": "3d9d0431",
   "metadata": {
    "id": "2ef4975b",
    "papermill": {
     "duration": 0.931048,
     "end_time": "2022-01-05T10:40:03.714446",
     "exception": false,
     "start_time": "2022-01-05T10:40:02.783398",
     "status": "completed"
    },
    "tags": []
   },
   "source": [
    "##### V53 - V74"
   ]
  },
  {
   "cell_type": "code",
   "execution_count": null,
   "id": "65a5e190",
   "metadata": {
    "execution": {
     "iopub.execute_input": "2022-01-05T10:40:05.570387Z",
     "iopub.status.busy": "2022-01-05T10:40:05.569344Z",
     "iopub.status.idle": "2022-01-05T10:40:15.821826Z",
     "shell.execute_reply": "2022-01-05T10:40:15.822259Z",
     "shell.execute_reply.started": "2022-01-05T09:36:17.513372Z"
    },
    "id": "222aea2a",
    "papermill": {
     "duration": 11.176053,
     "end_time": "2022-01-05T10:40:15.822412",
     "exception": false,
     "start_time": "2022-01-05T10:40:04.646359",
     "status": "completed"
    },
    "tags": []
   },
   "outputs": [],
   "source": [
    "Vs = nans_groups[77096]\n",
    "make_plots(Vs)\n",
    "make_corr(Vs)"
   ]
  },
  {
   "cell_type": "code",
   "execution_count": null,
   "id": "c0291237",
   "metadata": {
    "execution": {
     "iopub.execute_input": "2022-01-05T10:40:17.744294Z",
     "iopub.status.busy": "2022-01-05T10:40:17.743498Z",
     "iopub.status.idle": "2022-01-05T10:40:17.869402Z",
     "shell.execute_reply": "2022-01-05T10:40:17.868914Z",
     "shell.execute_reply.started": "2022-01-05T09:36:17.515105Z"
    },
    "id": "8d09d730",
    "outputId": "92a5f56e-0b07-4b0f-e9e1-9f27e595ff3e",
    "papermill": {
     "duration": 1.11584,
     "end_time": "2022-01-05T10:40:17.869535",
     "exception": false,
     "start_time": "2022-01-05T10:40:16.753695",
     "status": "completed"
    },
    "tags": []
   },
   "outputs": [
    {
     "name": "stdout",
     "output_type": "stream",
     "text": [
      "Use these [54, 56, 59, 62, 65, 67, 68, 70]\n"
     ]
    }
   ],
   "source": [
    "grps = [[53,54],[55,56],[57,58,59,60,63,64,71,72,73,74],[61,62],[65],[66,67],[68],[69,70]]\n",
    "reduce_group(grps)"
   ]
  },
  {
   "cell_type": "markdown",
   "id": "e6248787",
   "metadata": {
    "id": "b5df089e",
    "papermill": {
     "duration": 0.92605,
     "end_time": "2022-01-05T10:40:19.973673",
     "exception": false,
     "start_time": "2022-01-05T10:40:19.047623",
     "status": "completed"
    },
    "tags": []
   },
   "source": [
    "##### V75 - V94"
   ]
  },
  {
   "cell_type": "code",
   "execution_count": null,
   "id": "df668210",
   "metadata": {
    "execution": {
     "iopub.execute_input": "2022-01-05T10:40:21.903138Z",
     "iopub.status.busy": "2022-01-05T10:40:21.902275Z",
     "iopub.status.idle": "2022-01-05T10:40:31.858851Z",
     "shell.execute_reply": "2022-01-05T10:40:31.859289Z",
     "shell.execute_reply.started": "2022-01-05T09:36:17.518276Z"
    },
    "id": "c6fadb1b",
    "papermill": {
     "duration": 10.963454,
     "end_time": "2022-01-05T10:40:31.859441",
     "exception": false,
     "start_time": "2022-01-05T10:40:20.895987",
     "status": "completed"
    },
    "tags": []
   },
   "outputs": [],
   "source": [
    "Vs = nans_groups[89164]\n",
    "make_plots(Vs)\n",
    "make_corr(Vs)"
   ]
  },
  {
   "cell_type": "code",
   "execution_count": null,
   "id": "bb9fc0ea",
   "metadata": {
    "execution": {
     "iopub.execute_input": "2022-01-05T10:40:33.777330Z",
     "iopub.status.busy": "2022-01-05T10:40:33.776550Z",
     "iopub.status.idle": "2022-01-05T10:40:33.895162Z",
     "shell.execute_reply": "2022-01-05T10:40:33.894712Z",
     "shell.execute_reply.started": "2022-01-05T09:36:17.519969Z"
    },
    "id": "92b99121",
    "outputId": "c42eb41e-230c-431a-b1fc-f67f7e23f785",
    "papermill": {
     "duration": 1.093989,
     "end_time": "2022-01-05T10:40:33.895310",
     "exception": false,
     "start_time": "2022-01-05T10:40:32.801321",
     "status": "completed"
    },
    "tags": []
   },
   "outputs": [
    {
     "name": "stdout",
     "output_type": "stream",
     "text": [
      "Use these [76, 78, 80, 82, 86, 88, 89, 91]\n"
     ]
    }
   ],
   "source": [
    "grps = [[75,76],[77,78],[79,80,81,84,85,92,93,94],[82,83],[86,87],[88],[89],[90,91]]\n",
    "reduce_group(grps)"
   ]
  },
  {
   "cell_type": "markdown",
   "id": "d3b9858d",
   "metadata": {
    "id": "2b23c6d9",
    "papermill": {
     "duration": 0.92757,
     "end_time": "2022-01-05T10:40:35.751232",
     "exception": false,
     "start_time": "2022-01-05T10:40:34.823662",
     "status": "completed"
    },
    "tags": []
   },
   "source": [
    "##### V95 - V137"
   ]
  },
  {
   "cell_type": "code",
   "execution_count": null,
   "id": "b33d0af1",
   "metadata": {
    "execution": {
     "iopub.execute_input": "2022-01-05T10:40:37.658937Z",
     "iopub.status.busy": "2022-01-05T10:40:37.657689Z",
     "iopub.status.idle": "2022-01-05T10:40:47.199501Z",
     "shell.execute_reply": "2022-01-05T10:40:47.199995Z",
     "shell.execute_reply.started": "2022-01-05T09:36:17.521846Z"
    },
    "id": "3d60d05c",
    "papermill": {
     "duration": 10.519247,
     "end_time": "2022-01-05T10:40:47.200175",
     "exception": false,
     "start_time": "2022-01-05T10:40:36.680928",
     "status": "completed"
    },
    "tags": []
   },
   "outputs": [],
   "source": [
    "Vs = nans_groups[314]\n",
    "make_corr(Vs)"
   ]
  },
  {
   "cell_type": "code",
   "execution_count": null,
   "id": "f3569f4d",
   "metadata": {
    "execution": {
     "iopub.execute_input": "2022-01-05T10:40:49.134282Z",
     "iopub.status.busy": "2022-01-05T10:40:49.133339Z",
     "iopub.status.idle": "2022-01-05T10:40:54.759623Z",
     "shell.execute_reply": "2022-01-05T10:40:54.760045Z",
     "shell.execute_reply.started": "2022-01-05T09:36:17.523797Z"
    },
    "id": "fdc73d52",
    "papermill": {
     "duration": 6.583153,
     "end_time": "2022-01-05T10:40:54.760201",
     "exception": false,
     "start_time": "2022-01-05T10:40:48.177048",
     "status": "completed"
    },
    "tags": []
   },
   "outputs": [],
   "source": [
    "Vs = ['V'+str(x) for x in range(95,107)]\n",
    "make_plots(Vs)\n",
    "make_corr(Vs)"
   ]
  },
  {
   "cell_type": "code",
   "execution_count": null,
   "id": "a5b7c7da",
   "metadata": {
    "execution": {
     "iopub.execute_input": "2022-01-05T10:40:57.190585Z",
     "iopub.status.busy": "2022-01-05T10:40:57.189739Z",
     "iopub.status.idle": "2022-01-05T10:40:57.238739Z",
     "shell.execute_reply": "2022-01-05T10:40:57.239376Z",
     "shell.execute_reply.started": "2022-01-05T09:36:17.525656Z"
    },
    "id": "fe82f4e8",
    "outputId": "22e8affb-d765-4418-b8ac-c4daa74a7716",
    "papermill": {
     "duration": 1.099075,
     "end_time": "2022-01-05T10:40:57.239564",
     "exception": false,
     "start_time": "2022-01-05T10:40:56.140489",
     "status": "completed"
    },
    "tags": []
   },
   "outputs": [
    {
     "name": "stdout",
     "output_type": "stream",
     "text": [
      "Use these [96, 98, 99, 104]\n"
     ]
    }
   ],
   "source": [
    "grps = [[95,96,97,101,102,103,105,106],[98],[99,100],[104]]\n",
    "reduce_group(grps)"
   ]
  },
  {
   "cell_type": "code",
   "execution_count": null,
   "id": "23f94d2a",
   "metadata": {
    "execution": {
     "iopub.execute_input": "2022-01-05T10:40:59.178478Z",
     "iopub.status.busy": "2022-01-05T10:40:59.177282Z",
     "iopub.status.idle": "2022-01-05T10:41:07.215269Z",
     "shell.execute_reply": "2022-01-05T10:41:07.215718Z",
     "shell.execute_reply.started": "2022-01-05T09:36:17.527579Z"
    },
    "id": "f425f1ed",
    "papermill": {
     "duration": 9.02765,
     "end_time": "2022-01-05T10:41:07.215870",
     "exception": false,
     "start_time": "2022-01-05T10:40:58.188220",
     "status": "completed"
    },
    "tags": []
   },
   "outputs": [],
   "source": [
    "Vs = ['V'+str(x) for x in range(107,124)]\n",
    "make_plots(Vs)\n",
    "make_corr(Vs)"
   ]
  },
  {
   "cell_type": "code",
   "execution_count": null,
   "id": "1c1d1783",
   "metadata": {
    "execution": {
     "iopub.execute_input": "2022-01-05T10:41:09.159274Z",
     "iopub.status.busy": "2022-01-05T10:41:09.158373Z",
     "iopub.status.idle": "2022-01-05T10:41:09.245223Z",
     "shell.execute_reply": "2022-01-05T10:41:09.245837Z",
     "shell.execute_reply.started": "2022-01-05T09:36:17.529329Z"
    },
    "id": "ec5513ad",
    "outputId": "4a4f015d-5316-42fc-c06a-028b597a12f0",
    "papermill": {
     "duration": 1.047013,
     "end_time": "2022-01-05T10:41:09.246027",
     "exception": false,
     "start_time": "2022-01-05T10:41:08.199014",
     "status": "completed"
    },
    "tags": []
   },
   "outputs": [
    {
     "name": "stdout",
     "output_type": "stream",
     "text": [
      "Use these [107, 108, 111, 115, 117, 120, 121, 123]\n"
     ]
    }
   ],
   "source": [
    "grps = [[107],[108,109,110,114],[111,112,113],[115,116],[117,118,119],[120,122],[121],[123]]\n",
    "reduce_group(grps)"
   ]
  },
  {
   "cell_type": "code",
   "execution_count": null,
   "id": "880a50c5",
   "metadata": {
    "execution": {
     "iopub.execute_input": "2022-01-05T10:41:11.217002Z",
     "iopub.status.busy": "2022-01-05T10:41:11.215991Z",
     "iopub.status.idle": "2022-01-05T10:41:17.866960Z",
     "shell.execute_reply": "2022-01-05T10:41:17.867397Z",
     "shell.execute_reply.started": "2022-01-05T09:36:17.531113Z"
    },
    "id": "6d350606",
    "papermill": {
     "duration": 7.658856,
     "end_time": "2022-01-05T10:41:17.867544",
     "exception": false,
     "start_time": "2022-01-05T10:41:10.208688",
     "status": "completed"
    },
    "tags": []
   },
   "outputs": [],
   "source": [
    "Vs = ['V'+str(x) for x in range(124,138)]\n",
    "make_plots(Vs)\n",
    "make_corr(Vs)"
   ]
  },
  {
   "cell_type": "code",
   "execution_count": null,
   "id": "b8c9d2d3",
   "metadata": {
    "execution": {
     "iopub.execute_input": "2022-01-05T10:41:19.826763Z",
     "iopub.status.busy": "2022-01-05T10:41:19.825954Z",
     "iopub.status.idle": "2022-01-05T10:41:19.886306Z",
     "shell.execute_reply": "2022-01-05T10:41:19.886696Z",
     "shell.execute_reply.started": "2022-01-05T09:36:17.532859Z"
    },
    "id": "218bfd36",
    "outputId": "1c49a475-d70b-42f8-b54a-e4b79a47d0e3",
    "papermill": {
     "duration": 1.03872,
     "end_time": "2022-01-05T10:41:19.886843",
     "exception": false,
     "start_time": "2022-01-05T10:41:18.848123",
     "status": "completed"
    },
    "tags": []
   },
   "outputs": [
    {
     "name": "stdout",
     "output_type": "stream",
     "text": [
      "Use these [124, 127, 129, 130, 136]\n"
     ]
    }
   ],
   "source": [
    "grps = [[124,125],[126,127,128,132,133,134],[129],[130,131],[135,136,137]]\n",
    "reduce_group(grps)"
   ]
  },
  {
   "cell_type": "markdown",
   "id": "4d092a44",
   "metadata": {
    "id": "41847530",
    "papermill": {
     "duration": 0.972949,
     "end_time": "2022-01-05T10:41:21.829999",
     "exception": false,
     "start_time": "2022-01-05T10:41:20.857050",
     "status": "completed"
    },
    "tags": []
   },
   "source": [
    "##### V138 ~ V163"
   ]
  },
  {
   "cell_type": "code",
   "execution_count": null,
   "id": "db17870a",
   "metadata": {
    "execution": {
     "iopub.execute_input": "2022-01-05T10:41:23.761856Z",
     "iopub.status.busy": "2022-01-05T10:41:23.761004Z",
     "iopub.status.idle": "2022-01-05T10:41:30.853913Z",
     "shell.execute_reply": "2022-01-05T10:41:30.854335Z",
     "shell.execute_reply.started": "2022-01-05T09:36:17.534634Z"
    },
    "id": "d7070ef0",
    "papermill": {
     "duration": 8.066544,
     "end_time": "2022-01-05T10:41:30.854482",
     "exception": false,
     "start_time": "2022-01-05T10:41:22.787938",
     "status": "completed"
    },
    "tags": []
   },
   "outputs": [],
   "source": [
    "Vs = nans_groups[508595]\n",
    "make_plots(Vs)\n",
    "make_corr(Vs)"
   ]
  },
  {
   "cell_type": "code",
   "execution_count": null,
   "id": "e91fb40f",
   "metadata": {
    "execution": {
     "iopub.execute_input": "2022-01-05T10:41:32.866439Z",
     "iopub.status.busy": "2022-01-05T10:41:32.865612Z",
     "iopub.status.idle": "2022-01-05T10:41:32.939247Z",
     "shell.execute_reply": "2022-01-05T10:41:32.938510Z",
     "shell.execute_reply.started": "2022-01-05T09:36:17.536398Z"
    },
    "id": "a3de1232",
    "outputId": "dac21163-00a5-4faa-ede6-312ccd34bd36",
    "papermill": {
     "duration": 1.047718,
     "end_time": "2022-01-05T10:41:32.939421",
     "exception": false,
     "start_time": "2022-01-05T10:41:31.891703",
     "status": "completed"
    },
    "tags": []
   },
   "outputs": [
    {
     "name": "stdout",
     "output_type": "stream",
     "text": [
      "Use these [138, 139, 142, 147, 156, 162]\n"
     ]
    }
   ],
   "source": [
    "grps = [[138],[139,140],[141,142],[146,147],[148,149,153,154,156,157,158],[161,162,163]]\n",
    "reduce_group(grps)"
   ]
  },
  {
   "cell_type": "markdown",
   "id": "2a111881",
   "metadata": {
    "id": "8ea1f2eb",
    "papermill": {
     "duration": 0.969025,
     "end_time": "2022-01-05T10:41:34.883078",
     "exception": false,
     "start_time": "2022-01-05T10:41:33.914053",
     "status": "completed"
    },
    "tags": []
   },
   "source": [
    "##### V143 ~ V166"
   ]
  },
  {
   "cell_type": "code",
   "execution_count": null,
   "id": "9ff0d020",
   "metadata": {
    "execution": {
     "iopub.execute_input": "2022-01-05T10:41:37.158273Z",
     "iopub.status.busy": "2022-01-05T10:41:37.157355Z",
     "iopub.status.idle": "2022-01-05T10:41:41.026322Z",
     "shell.execute_reply": "2022-01-05T10:41:41.026939Z",
     "shell.execute_reply.started": "2022-01-05T09:36:17.538184Z"
    },
    "id": "853fa47a",
    "papermill": {
     "duration": 4.912125,
     "end_time": "2022-01-05T10:41:41.027121",
     "exception": false,
     "start_time": "2022-01-05T10:41:36.114996",
     "status": "completed"
    },
    "tags": []
   },
   "outputs": [],
   "source": [
    "Vs = nans_groups[508589]\n",
    "make_plots(Vs)\n",
    "make_corr(Vs)"
   ]
  },
  {
   "cell_type": "code",
   "execution_count": null,
   "id": "62caf25f",
   "metadata": {
    "execution": {
     "iopub.execute_input": "2022-01-05T10:41:43.054930Z",
     "iopub.status.busy": "2022-01-05T10:41:43.054144Z",
     "iopub.status.idle": "2022-01-05T10:41:43.103115Z",
     "shell.execute_reply": "2022-01-05T10:41:43.104157Z",
     "shell.execute_reply.started": "2022-01-05T09:36:17.540157Z"
    },
    "id": "f649c4e8",
    "outputId": "5a3b38ae-56e9-483d-c1af-7f51d19b17a6",
    "papermill": {
     "duration": 1.096239,
     "end_time": "2022-01-05T10:41:43.104369",
     "exception": false,
     "start_time": "2022-01-05T10:41:42.008130",
     "status": "completed"
    },
    "tags": []
   },
   "outputs": [
    {
     "name": "stdout",
     "output_type": "stream",
     "text": [
      "Use these [165, 160, 166]\n"
     ]
    }
   ],
   "source": [
    "grps = [[143,164,165],[144,145,150,151,152,159,160],[166]]\n",
    "reduce_group(grps)"
   ]
  },
  {
   "cell_type": "markdown",
   "id": "513386f2",
   "metadata": {
    "id": "07df016a",
    "papermill": {
     "duration": 0.971,
     "end_time": "2022-01-05T10:41:45.043232",
     "exception": false,
     "start_time": "2022-01-05T10:41:44.072232",
     "status": "completed"
    },
    "tags": []
   },
   "source": [
    "##### V167 ~ V216"
   ]
  },
  {
   "cell_type": "code",
   "execution_count": null,
   "id": "f4c03ac1",
   "metadata": {
    "execution": {
     "iopub.execute_input": "2022-01-05T10:41:47.341873Z",
     "iopub.status.busy": "2022-01-05T10:41:47.340354Z",
     "iopub.status.idle": "2022-01-05T10:41:52.270296Z",
     "shell.execute_reply": "2022-01-05T10:41:52.270724Z",
     "shell.execute_reply.started": "2022-01-05T09:36:17.541972Z"
    },
    "id": "edfbd2ad",
    "papermill": {
     "duration": 6.25301,
     "end_time": "2022-01-05T10:41:52.270871",
     "exception": false,
     "start_time": "2022-01-05T10:41:46.017861",
     "status": "completed"
    },
    "tags": []
   },
   "outputs": [],
   "source": [
    "Vs = [x for x in nans_groups[450909]]\n",
    "make_corr(Vs)"
   ]
  },
  {
   "cell_type": "code",
   "execution_count": null,
   "id": "150c1cae",
   "metadata": {
    "execution": {
     "iopub.execute_input": "2022-01-05T10:41:54.261672Z",
     "iopub.status.busy": "2022-01-05T10:41:54.260834Z",
     "iopub.status.idle": "2022-01-05T10:41:58.574860Z",
     "shell.execute_reply": "2022-01-05T10:41:58.575290Z",
     "shell.execute_reply.started": "2022-01-05T09:36:17.543773Z"
    },
    "id": "baee2b12",
    "papermill": {
     "duration": 5.300097,
     "end_time": "2022-01-05T10:41:58.575439",
     "exception": false,
     "start_time": "2022-01-05T10:41:53.275342",
     "status": "completed"
    },
    "tags": []
   },
   "outputs": [],
   "source": [
    "Vs = [x for x in nans_groups[450909] if int(x[1:])<186]\n",
    "make_plots(Vs)\n",
    "make_corr(Vs)"
   ]
  },
  {
   "cell_type": "code",
   "execution_count": null,
   "id": "036bae1e",
   "metadata": {
    "execution": {
     "iopub.execute_input": "2022-01-05T10:42:01.082168Z",
     "iopub.status.busy": "2022-01-05T10:42:01.081388Z",
     "iopub.status.idle": "2022-01-05T10:42:01.139517Z",
     "shell.execute_reply": "2022-01-05T10:42:01.140104Z",
     "shell.execute_reply.started": "2022-01-05T09:36:17.545641Z"
    },
    "id": "4cc3eeed",
    "outputId": "c16e3433-186d-42d3-dae8-b49a58d182cc",
    "papermill": {
     "duration": 1.045406,
     "end_time": "2022-01-05T10:42:01.140310",
     "exception": false,
     "start_time": "2022-01-05T10:42:00.094904",
     "status": "completed"
    },
    "tags": []
   },
   "outputs": [
    {
     "name": "stdout",
     "output_type": "stream",
     "text": [
      "Use these [178, 176, 173, 182]\n"
     ]
    }
   ],
   "source": [
    "grps = [[167,168,177,178,179],[172,176],[173],[181,182,183]]\n",
    "reduce_group(grps)"
   ]
  },
  {
   "cell_type": "code",
   "execution_count": null,
   "id": "19995b35",
   "metadata": {
    "execution": {
     "iopub.execute_input": "2022-01-05T10:42:03.130760Z",
     "iopub.status.busy": "2022-01-05T10:42:03.129935Z",
     "iopub.status.idle": "2022-01-05T10:42:10.873589Z",
     "shell.execute_reply": "2022-01-05T10:42:10.874012Z",
     "shell.execute_reply.started": "2022-01-05T09:36:17.547695Z"
    },
    "id": "1072f167",
    "papermill": {
     "duration": 8.751289,
     "end_time": "2022-01-05T10:42:10.874163",
     "exception": false,
     "start_time": "2022-01-05T10:42:02.122874",
     "status": "completed"
    },
    "tags": []
   },
   "outputs": [],
   "source": [
    "Vs = [x for x in nans_groups[450909] if (int(x[1:])>183)]\n",
    "make_plots(Vs)\n",
    "make_corr(Vs)"
   ]
  },
  {
   "cell_type": "code",
   "execution_count": null,
   "id": "45147185",
   "metadata": {
    "execution": {
     "iopub.execute_input": "2022-01-05T10:42:12.875326Z",
     "iopub.status.busy": "2022-01-05T10:42:12.874551Z",
     "iopub.status.idle": "2022-01-05T10:42:12.976299Z",
     "shell.execute_reply": "2022-01-05T10:42:12.976701Z",
     "shell.execute_reply.started": "2022-01-05T09:36:17.549514Z"
    },
    "id": "88225a34",
    "outputId": "fbf7357e-bc87-40b5-c31e-aa096a918bdd",
    "papermill": {
     "duration": 1.098015,
     "end_time": "2022-01-05T10:42:12.976850",
     "exception": false,
     "start_time": "2022-01-05T10:42:11.878835",
     "status": "completed"
    },
    "tags": []
   },
   "outputs": [
    {
     "name": "stdout",
     "output_type": "stream",
     "text": [
      "Use these [187, 203, 205, 207, 215]\n"
     ]
    }
   ],
   "source": [
    "grps = [[186,187,190,191,192,193,196,199],[202,203,204,211,212,213],[205,206],[207],[214,215,216]]\n",
    "reduce_group(grps)"
   ]
  },
  {
   "cell_type": "markdown",
   "id": "d94db2b4",
   "metadata": {
    "id": "2827c15b",
    "papermill": {
     "duration": 1.0308,
     "end_time": "2022-01-05T10:42:15.001052",
     "exception": false,
     "start_time": "2022-01-05T10:42:13.970252",
     "status": "completed"
    },
    "tags": []
   },
   "source": [
    "##### V169 ~ V210"
   ]
  },
  {
   "cell_type": "code",
   "execution_count": null,
   "id": "23814832",
   "metadata": {
    "execution": {
     "iopub.execute_input": "2022-01-05T10:42:17.054511Z",
     "iopub.status.busy": "2022-01-05T10:42:17.053691Z",
     "iopub.status.idle": "2022-01-05T10:42:24.652021Z",
     "shell.execute_reply": "2022-01-05T10:42:24.652459Z",
     "shell.execute_reply.started": "2022-01-05T09:36:17.551417Z"
    },
    "id": "643b08af",
    "papermill": {
     "duration": 8.663615,
     "end_time": "2022-01-05T10:42:24.652612",
     "exception": false,
     "start_time": "2022-01-05T10:42:15.988997",
     "status": "completed"
    },
    "tags": []
   },
   "outputs": [],
   "source": [
    "Vs = nans_groups[450721]\n",
    "make_plots(Vs)\n",
    "make_corr(Vs)"
   ]
  },
  {
   "cell_type": "code",
   "execution_count": null,
   "id": "128e9851",
   "metadata": {
    "execution": {
     "iopub.execute_input": "2022-01-05T10:42:26.670325Z",
     "iopub.status.busy": "2022-01-05T10:42:26.669530Z",
     "iopub.status.idle": "2022-01-05T10:42:26.764225Z",
     "shell.execute_reply": "2022-01-05T10:42:26.763788Z",
     "shell.execute_reply.started": "2022-01-05T09:36:17.553233Z"
    },
    "id": "7593a927",
    "outputId": "298891cb-8d83-43ab-9db6-1ad1b659973f",
    "papermill": {
     "duration": 1.096656,
     "end_time": "2022-01-05T10:42:26.764352",
     "exception": false,
     "start_time": "2022-01-05T10:42:25.667696",
     "status": "completed"
    },
    "tags": []
   },
   "outputs": [
    {
     "name": "stdout",
     "output_type": "stream",
     "text": [
      "Use these [169, 171, 175, 180, 185, 188, 198, 210, 209]\n"
     ]
    }
   ],
   "source": [
    "grps = [[169],[170,171,200,201],[174,175],[180],[184,185],[188,189],[194,195,197,198],[208,210],[209]]\n",
    "reduce_group(grps)"
   ]
  },
  {
   "cell_type": "markdown",
   "id": "e1022885",
   "metadata": {
    "id": "264c12dd",
    "papermill": {
     "duration": 1.000472,
     "end_time": "2022-01-05T10:42:28.770335",
     "exception": false,
     "start_time": "2022-01-05T10:42:27.769863",
     "status": "completed"
    },
    "tags": []
   },
   "source": [
    "##### V217 ~ V278"
   ]
  },
  {
   "cell_type": "code",
   "execution_count": null,
   "id": "cff2d060",
   "metadata": {
    "execution": {
     "iopub.execute_input": "2022-01-05T10:42:31.175531Z",
     "iopub.status.busy": "2022-01-05T10:42:31.174217Z",
     "iopub.status.idle": "2022-01-05T10:42:41.329545Z",
     "shell.execute_reply": "2022-01-05T10:42:41.330232Z",
     "shell.execute_reply.started": "2022-01-05T09:36:17.555011Z"
    },
    "id": "dfa8bdc1",
    "papermill": {
     "duration": 11.514699,
     "end_time": "2022-01-05T10:42:41.330461",
     "exception": false,
     "start_time": "2022-01-05T10:42:29.815762",
     "status": "completed"
    },
    "tags": []
   },
   "outputs": [],
   "source": [
    "Vs = [x for x in nans_groups[460110]]\n",
    "make_corr(Vs)"
   ]
  },
  {
   "cell_type": "code",
   "execution_count": null,
   "id": "ac85851b",
   "metadata": {
    "execution": {
     "iopub.execute_input": "2022-01-05T10:42:43.578943Z",
     "iopub.status.busy": "2022-01-05T10:42:43.578099Z",
     "iopub.status.idle": "2022-01-05T10:42:49.323832Z",
     "shell.execute_reply": "2022-01-05T10:42:49.324259Z",
     "shell.execute_reply.started": "2022-01-05T09:36:17.556818Z"
    },
    "id": "9e547822",
    "papermill": {
     "duration": 6.768275,
     "end_time": "2022-01-05T10:42:49.324406",
     "exception": false,
     "start_time": "2022-01-05T10:42:42.556131",
     "status": "completed"
    },
    "tags": []
   },
   "outputs": [],
   "source": [
    "Vs = [x for x in nans_groups[460110] if int(x[1:])<240]\n",
    "make_plots(Vs)\n",
    "make_corr(Vs)"
   ]
  },
  {
   "cell_type": "code",
   "execution_count": null,
   "id": "0e1330dc",
   "metadata": {
    "execution": {
     "iopub.execute_input": "2022-01-05T10:42:51.391388Z",
     "iopub.status.busy": "2022-01-05T10:42:51.390624Z",
     "iopub.status.idle": "2022-01-05T10:42:51.469723Z",
     "shell.execute_reply": "2022-01-05T10:42:51.469277Z",
     "shell.execute_reply.started": "2022-01-05T09:36:17.558641Z"
    },
    "id": "a8a7f649",
    "outputId": "bddac94c-b82d-4aad-f86b-b076332a5275",
    "papermill": {
     "duration": 1.10792,
     "end_time": "2022-01-05T10:42:51.469840",
     "exception": false,
     "start_time": "2022-01-05T10:42:50.361920",
     "status": "completed"
    },
    "tags": []
   },
   "outputs": [
    {
     "name": "stdout",
     "output_type": "stream",
     "text": [
      "Use these [218, 223, 224, 226, 228, 229, 235]\n"
     ]
    }
   ],
   "source": [
    "grps = [[217,218,219,231,232,233,236,237],[223],[224,225],[226],[228],[229,230],[235]]\n",
    "reduce_group(grps)"
   ]
  },
  {
   "cell_type": "code",
   "execution_count": null,
   "id": "23b3d6cb",
   "metadata": {
    "execution": {
     "iopub.execute_input": "2022-01-05T10:42:53.804050Z",
     "iopub.status.busy": "2022-01-05T10:42:53.803244Z",
     "iopub.status.idle": "2022-01-05T10:43:00.131349Z",
     "shell.execute_reply": "2022-01-05T10:43:00.131933Z",
     "shell.execute_reply.started": "2022-01-05T09:36:17.607297Z"
    },
    "id": "76e04d24",
    "papermill": {
     "duration": 7.4252,
     "end_time": "2022-01-05T10:43:00.132108",
     "exception": false,
     "start_time": "2022-01-05T10:42:52.706908",
     "status": "completed"
    },
    "tags": []
   },
   "outputs": [],
   "source": [
    "Vs = [x for x in nans_groups[460110] if (int(x[1:])>237)&(int(x[1:])<263)]\n",
    "make_plots(Vs)\n",
    "make_corr(Vs)"
   ]
  },
  {
   "cell_type": "code",
   "execution_count": null,
   "id": "6d9d3234",
   "metadata": {
    "execution": {
     "iopub.execute_input": "2022-01-05T10:43:02.221454Z",
     "iopub.status.busy": "2022-01-05T10:43:02.220652Z",
     "iopub.status.idle": "2022-01-05T10:43:02.299123Z",
     "shell.execute_reply": "2022-01-05T10:43:02.298688Z",
     "shell.execute_reply.started": "2022-01-05T09:36:17.629777Z"
    },
    "id": "071b125e",
    "outputId": "5086dd3a-6c99-4532-cfac-68f99300da6b",
    "papermill": {
     "duration": 1.120708,
     "end_time": "2022-01-05T10:43:02.299277",
     "exception": false,
     "start_time": "2022-01-05T10:43:01.178569",
     "status": "completed"
    },
    "tags": []
   },
   "outputs": [
    {
     "name": "stdout",
     "output_type": "stream",
     "text": [
      "Use these [240, 258, 257, 253, 252, 260, 261]\n"
     ]
    }
   ],
   "source": [
    "grps = [[240,241],[242,243,244,258],[246,257],[247,248,249,253,254],[252],[260],[261,262]]\n",
    "reduce_group(grps)"
   ]
  },
  {
   "cell_type": "code",
   "execution_count": null,
   "id": "01d36958",
   "metadata": {
    "execution": {
     "iopub.execute_input": "2022-01-05T10:43:05.138339Z",
     "iopub.status.busy": "2022-01-05T10:43:05.137510Z",
     "iopub.status.idle": "2022-01-05T10:43:10.019279Z",
     "shell.execute_reply": "2022-01-05T10:43:10.019701Z",
     "shell.execute_reply.started": "2022-01-05T09:36:17.63414Z"
    },
    "id": "a2b48fc1",
    "papermill": {
     "duration": 6.359216,
     "end_time": "2022-01-05T10:43:10.019847",
     "exception": false,
     "start_time": "2022-01-05T10:43:03.660631",
     "status": "completed"
    },
    "tags": []
   },
   "outputs": [],
   "source": [
    "Vs = [x for x in nans_groups[460110] if (int(x[1:])>262)]\n",
    "make_plots(Vs)\n",
    "make_corr(Vs)"
   ]
  },
  {
   "cell_type": "code",
   "execution_count": null,
   "id": "a289cae7",
   "metadata": {
    "execution": {
     "iopub.execute_input": "2022-01-05T10:43:12.136339Z",
     "iopub.status.busy": "2022-01-05T10:43:12.135508Z",
     "iopub.status.idle": "2022-01-05T10:43:12.206990Z",
     "shell.execute_reply": "2022-01-05T10:43:12.206369Z",
     "shell.execute_reply.started": "2022-01-05T09:36:17.636011Z"
    },
    "id": "8fdccfe3",
    "outputId": "d5542f57-f57d-4a39-8a61-d06f9b376548",
    "papermill": {
     "duration": 1.110527,
     "end_time": "2022-01-05T10:43:12.207145",
     "exception": false,
     "start_time": "2022-01-05T10:43:11.096618",
     "status": "completed"
    },
    "tags": []
   },
   "outputs": [
    {
     "name": "stdout",
     "output_type": "stream",
     "text": [
      "Use these [264, 266, 267, 274, 277]\n"
     ]
    }
   ],
   "source": [
    "grps = [[263,265,264],[266,269],[267,268],[273,274,275],[276,277,278]]\n",
    "reduce_group(grps)"
   ]
  },
  {
   "cell_type": "markdown",
   "id": "5cac0fb2",
   "metadata": {
    "id": "1dbbca1c",
    "papermill": {
     "duration": 1.128417,
     "end_time": "2022-01-05T10:43:14.412632",
     "exception": false,
     "start_time": "2022-01-05T10:43:13.284215",
     "status": "completed"
    },
    "tags": []
   },
   "source": [
    "##### V220 ~ V272"
   ]
  },
  {
   "cell_type": "code",
   "execution_count": null,
   "id": "2e10f9d7",
   "metadata": {
    "execution": {
     "iopub.execute_input": "2022-01-05T10:43:16.649718Z",
     "iopub.status.busy": "2022-01-05T10:43:16.648877Z",
     "iopub.status.idle": "2022-01-05T10:43:22.534262Z",
     "shell.execute_reply": "2022-01-05T10:43:22.534747Z",
     "shell.execute_reply.started": "2022-01-05T09:36:17.637861Z"
    },
    "id": "e4c91276",
    "papermill": {
     "duration": 6.93186,
     "end_time": "2022-01-05T10:43:22.534910",
     "exception": false,
     "start_time": "2022-01-05T10:43:15.603050",
     "status": "completed"
    },
    "tags": []
   },
   "outputs": [],
   "source": [
    "Vs = nans_groups[449124]\n",
    "make_plots(Vs)\n",
    "make_corr(Vs)"
   ]
  },
  {
   "cell_type": "code",
   "execution_count": null,
   "id": "dce868d5",
   "metadata": {
    "execution": {
     "iopub.execute_input": "2022-01-05T10:43:24.637589Z",
     "iopub.status.busy": "2022-01-05T10:43:24.636765Z",
     "iopub.status.idle": "2022-01-05T10:43:24.718270Z",
     "shell.execute_reply": "2022-01-05T10:43:24.717812Z",
     "shell.execute_reply.started": "2022-01-05T09:36:17.639835Z"
    },
    "id": "764e30ad",
    "outputId": "6aaa3984-9619-4cb9-cc98-93583ba81825",
    "papermill": {
     "duration": 1.128821,
     "end_time": "2022-01-05T10:43:24.718406",
     "exception": false,
     "start_time": "2022-01-05T10:43:23.589585",
     "status": "completed"
    },
    "tags": []
   },
   "outputs": [
    {
     "name": "stdout",
     "output_type": "stream",
     "text": [
      "Use these [220, 221, 234, 238, 250, 271]\n"
     ]
    }
   ],
   "source": [
    "grps = [[220],[221,222,227,245,255,256,259],[234],[238,239],[250,251],[270,271,272]]\n",
    "reduce_group(grps)"
   ]
  },
  {
   "cell_type": "markdown",
   "id": "373dd19d",
   "metadata": {
    "id": "7fa9105c",
    "papermill": {
     "duration": 1.091268,
     "end_time": "2022-01-05T10:43:27.125857",
     "exception": false,
     "start_time": "2022-01-05T10:43:26.034589",
     "status": "completed"
    },
    "tags": []
   },
   "source": [
    "##### V279 ~ V321"
   ]
  },
  {
   "cell_type": "code",
   "execution_count": null,
   "id": "b78bc5f4",
   "metadata": {
    "execution": {
     "iopub.execute_input": "2022-01-05T10:43:29.310727Z",
     "iopub.status.busy": "2022-01-05T10:43:29.309306Z",
     "iopub.status.idle": "2022-01-05T10:43:34.726166Z",
     "shell.execute_reply": "2022-01-05T10:43:34.726592Z",
     "shell.execute_reply.started": "2022-01-05T09:36:17.641743Z"
    },
    "id": "4c716e27",
    "papermill": {
     "duration": 6.548779,
     "end_time": "2022-01-05T10:43:34.726744",
     "exception": false,
     "start_time": "2022-01-05T10:43:28.177965",
     "status": "completed"
    },
    "tags": []
   },
   "outputs": [],
   "source": [
    "Vs = [x for x in nans_groups[12]]\n",
    "make_corr(Vs)"
   ]
  },
  {
   "cell_type": "code",
   "execution_count": null,
   "id": "ab9e46e7",
   "metadata": {
    "execution": {
     "iopub.execute_input": "2022-01-05T10:43:37.681616Z",
     "iopub.status.busy": "2022-01-05T10:43:37.680565Z",
     "iopub.status.idle": "2022-01-05T10:43:44.487340Z",
     "shell.execute_reply": "2022-01-05T10:43:44.487787Z",
     "shell.execute_reply.started": "2022-01-05T09:36:17.643756Z"
    },
    "id": "cfd3ba7f",
    "papermill": {
     "duration": 8.362071,
     "end_time": "2022-01-05T10:43:44.487943",
     "exception": false,
     "start_time": "2022-01-05T10:43:36.125872",
     "status": "completed"
    },
    "tags": []
   },
   "outputs": [],
   "source": [
    "Vs = [x for x in nans_groups[12] if int(x[1:])<302]\n",
    "make_plots(Vs)\n",
    "make_corr(Vs)"
   ]
  },
  {
   "cell_type": "code",
   "execution_count": null,
   "id": "359d4d8e",
   "metadata": {
    "execution": {
     "iopub.execute_input": "2022-01-05T10:43:46.651092Z",
     "iopub.status.busy": "2022-01-05T10:43:46.650219Z",
     "iopub.status.idle": "2022-01-05T10:43:46.711148Z",
     "shell.execute_reply": "2022-01-05T10:43:46.711552Z",
     "shell.execute_reply.started": "2022-01-05T09:36:17.645708Z"
    },
    "id": "733ec561",
    "outputId": "d9e77bf4-5d1b-4fbc-bfd1-f2bea482bef0",
    "papermill": {
     "duration": 1.137322,
     "end_time": "2022-01-05T10:43:46.711701",
     "exception": false,
     "start_time": "2022-01-05T10:43:45.574379",
     "status": "completed"
    },
    "tags": []
   },
   "outputs": [
    {
     "name": "stdout",
     "output_type": "stream",
     "text": [
      "Use these [294, 284, 285, 286, 291, 297]\n"
     ]
    }
   ],
   "source": [
    "grps = [[279,280,293,294,295,298,299],[284],[285,287],[286],[290,291,292],[297]]\n",
    "reduce_group(grps)"
   ]
  },
  {
   "cell_type": "code",
   "execution_count": null,
   "id": "6935d563",
   "metadata": {
    "execution": {
     "iopub.execute_input": "2022-01-05T10:43:49.153420Z",
     "iopub.status.busy": "2022-01-05T10:43:49.152400Z",
     "iopub.status.idle": "2022-01-05T10:43:56.946431Z",
     "shell.execute_reply": "2022-01-05T10:43:56.946850Z",
     "shell.execute_reply.started": "2022-01-05T09:36:17.647698Z"
    },
    "id": "17b04469",
    "papermill": {
     "duration": 8.862052,
     "end_time": "2022-01-05T10:43:56.946998",
     "exception": false,
     "start_time": "2022-01-05T10:43:48.084946",
     "status": "completed"
    },
    "tags": []
   },
   "outputs": [],
   "source": [
    "Vs = [x for x in nans_groups[12] if int(x[1:])>299]\n",
    "make_plots(Vs)\n",
    "make_corr(Vs)"
   ]
  },
  {
   "cell_type": "code",
   "execution_count": null,
   "id": "40839b2b",
   "metadata": {
    "execution": {
     "iopub.execute_input": "2022-01-05T10:43:59.502921Z",
     "iopub.status.busy": "2022-01-05T10:43:59.502109Z",
     "iopub.status.idle": "2022-01-05T10:43:59.582592Z",
     "shell.execute_reply": "2022-01-05T10:43:59.583020Z",
     "shell.execute_reply.started": "2022-01-05T09:36:17.650044Z"
    },
    "id": "cbce4968",
    "outputId": "632aa0a3-ebbf-4544-a915-f02fd643b083",
    "papermill": {
     "duration": 1.529531,
     "end_time": "2022-01-05T10:43:59.583166",
     "exception": false,
     "start_time": "2022-01-05T10:43:58.053635",
     "status": "completed"
    },
    "tags": []
   },
   "outputs": [
    {
     "name": "stdout",
     "output_type": "stream",
     "text": [
      "Use these [303, 305, 307, 309, 310, 320]\n"
     ]
    }
   ],
   "source": [
    "grps = [[302,303,304],[305],[306,307,308,316,317,318],[309,311],[310,312],[319,320,321]]\n",
    "reduce_group(grps)"
   ]
  },
  {
   "cell_type": "markdown",
   "id": "57bd1183",
   "metadata": {
    "id": "d5cfed8c",
    "papermill": {
     "duration": 1.075577,
     "end_time": "2022-01-05T10:44:01.818446",
     "exception": false,
     "start_time": "2022-01-05T10:44:00.742869",
     "status": "completed"
    },
    "tags": []
   },
   "source": [
    "##### V281 ~ V315, D1"
   ]
  },
  {
   "cell_type": "code",
   "execution_count": null,
   "id": "ffaa6eb7",
   "metadata": {
    "execution": {
     "iopub.execute_input": "2022-01-05T10:44:04.026520Z",
     "iopub.status.busy": "2022-01-05T10:44:04.025396Z",
     "iopub.status.idle": "2022-01-05T10:44:10.354404Z",
     "shell.execute_reply": "2022-01-05T10:44:10.353911Z",
     "shell.execute_reply.started": "2022-01-05T09:36:17.651722Z"
    },
    "id": "6db76953",
    "papermill": {
     "duration": 7.455435,
     "end_time": "2022-01-05T10:44:10.354549",
     "exception": false,
     "start_time": "2022-01-05T10:44:02.899114",
     "status": "completed"
    },
    "tags": []
   },
   "outputs": [],
   "source": [
    "Vs = nans_groups[1269]\n",
    "make_plots(Vs)\n",
    "Vtitle = 'V281 - V315, D1'\n",
    "make_corr(Vs,Vtitle)"
   ]
  },
  {
   "cell_type": "code",
   "execution_count": null,
   "id": "32f35396",
   "metadata": {
    "execution": {
     "iopub.execute_input": "2022-01-05T10:44:12.534803Z",
     "iopub.status.busy": "2022-01-05T10:44:12.533989Z",
     "iopub.status.idle": "2022-01-05T10:44:12.582891Z",
     "shell.execute_reply": "2022-01-05T10:44:12.583369Z",
     "shell.execute_reply.started": "2022-01-05T09:36:17.653995Z"
    },
    "id": "b4171635",
    "outputId": "7a8c7c44-e4bf-4aa9-c0fa-3999c9fc14e6",
    "papermill": {
     "duration": 1.14317,
     "end_time": "2022-01-05T10:44:12.583525",
     "exception": false,
     "start_time": "2022-01-05T10:44:11.440355",
     "status": "completed"
    },
    "tags": []
   },
   "outputs": [
    {
     "name": "stdout",
     "output_type": "stream",
     "text": [
      "Use these [281, 283, 289, 296, 301, 314]\n"
     ]
    }
   ],
   "source": [
    "grps = [[281],[282,283],[288,289],[296],[300,301],[313,314,315]]\n",
    "reduce_group(grps)"
   ]
  },
  {
   "cell_type": "markdown",
   "id": "dfeaf2d4",
   "metadata": {
    "id": "e8a35550",
    "papermill": {
     "duration": 1.082575,
     "end_time": "2022-01-05T10:44:14.744034",
     "exception": false,
     "start_time": "2022-01-05T10:44:13.661459",
     "status": "completed"
    },
    "tags": []
   },
   "source": [
    "##### V322 - V339"
   ]
  },
  {
   "cell_type": "code",
   "execution_count": null,
   "id": "36bb3f9b",
   "metadata": {
    "execution": {
     "iopub.execute_input": "2022-01-05T10:44:16.976749Z",
     "iopub.status.busy": "2022-01-05T10:44:16.975804Z",
     "iopub.status.idle": "2022-01-05T10:44:23.861001Z",
     "shell.execute_reply": "2022-01-05T10:44:23.861430Z",
     "shell.execute_reply.started": "2022-01-05T09:36:17.655856Z"
    },
    "id": "0e8bbdfe",
    "papermill": {
     "duration": 8.036669,
     "end_time": "2022-01-05T10:44:23.861581",
     "exception": false,
     "start_time": "2022-01-05T10:44:15.824912",
     "status": "completed"
    },
    "tags": []
   },
   "outputs": [],
   "source": [
    "Vs = nans_groups[508189]\n",
    "make_plots(Vs)\n",
    "make_corr(Vs)"
   ]
  },
  {
   "cell_type": "code",
   "execution_count": null,
   "id": "b0f36f04",
   "metadata": {
    "execution": {
     "iopub.execute_input": "2022-01-05T10:44:26.100588Z",
     "iopub.status.busy": "2022-01-05T10:44:26.099805Z",
     "iopub.status.idle": "2022-01-05T10:44:26.176820Z",
     "shell.execute_reply": "2022-01-05T10:44:26.177247Z",
     "shell.execute_reply.started": "2022-01-05T09:36:17.657742Z"
    },
    "id": "649ab267",
    "outputId": "07d87b68-fe09-4bed-d232-1e2ce0c8fff4",
    "papermill": {
     "duration": 1.178813,
     "end_time": "2022-01-05T10:44:26.177395",
     "exception": false,
     "start_time": "2022-01-05T10:44:24.998582",
     "status": "completed"
    },
    "tags": []
   },
   "outputs": [
    {
     "name": "stdout",
     "output_type": "stream",
     "text": [
      "Use these [332, 325, 335, 338]\n"
     ]
    }
   ],
   "source": [
    "grps = [[322,323,324,326,327,328,329,330,331,332,333],[325],[334,335,336],[337,338,339]]\n",
    "reduce_group(grps)"
   ]
  },
  {
   "cell_type": "markdown",
   "id": "a9572e06",
   "metadata": {
    "id": "2c13c404",
    "papermill": {
     "duration": 1.09326,
     "end_time": "2022-01-05T10:44:28.375472",
     "exception": false,
     "start_time": "2022-01-05T10:44:27.282212",
     "status": "completed"
    },
    "tags": []
   },
   "source": [
    "#### Biểu diễn các cột thuộc tính"
   ]
  },
  {
   "cell_type": "markdown",
   "id": "b7b4747b",
   "metadata": {
    "id": "fad19061",
    "papermill": {
     "duration": 1.110625,
     "end_time": "2022-01-05T10:44:30.579731",
     "exception": false,
     "start_time": "2022-01-05T10:44:29.469106",
     "status": "completed"
    },
    "tags": []
   },
   "source": [
    "##### V reduced"
   ]
  },
  {
   "cell_type": "markdown",
   "id": "b52f92af",
   "metadata": {
    "id": "4e91d72c",
    "papermill": {
     "duration": 1.134559,
     "end_time": "2022-01-05T10:44:33.057340",
     "exception": false,
     "start_time": "2022-01-05T10:44:31.922781",
     "status": "completed"
    },
    "tags": []
   },
   "source": [
    "Ta còn lại 128 cột thuộc tính V"
   ]
  },
  {
   "cell_type": "code",
   "execution_count": null,
   "id": "e460fa64",
   "metadata": {
    "execution": {
     "iopub.execute_input": "2022-01-05T10:44:35.262859Z",
     "iopub.status.busy": "2022-01-05T10:44:35.261960Z",
     "iopub.status.idle": "2022-01-05T10:44:35.263866Z",
     "shell.execute_reply": "2022-01-05T10:44:35.264354Z",
     "shell.execute_reply.started": "2022-01-05T09:36:17.659629Z"
    },
    "id": "551c375e",
    "papermill": {
     "duration": 1.11562,
     "end_time": "2022-01-05T10:44:35.264501",
     "exception": false,
     "start_time": "2022-01-05T10:44:34.148881",
     "status": "completed"
    },
    "tags": []
   },
   "outputs": [],
   "source": [
    "v =  [1, 3, 4, 6, 8, 11]\n",
    "v += [13, 14, 17, 20, 23, 26, 27, 30]\n",
    "v += [36, 37, 40, 41, 44, 47, 48]\n",
    "v += [54, 56, 59, 62, 65, 67, 68, 70]\n",
    "v += [76, 78, 80, 82, 86, 88, 89, 91]\n",
    "v += [96, 98, 99, 104]\n",
    "v += [107, 108, 111, 115, 117, 120, 121, 123]\n",
    "v += [124, 127, 129, 130, 136]\n",
    "v += [138, 139, 142, 147, 156, 162]\n",
    "v += [165, 160, 166]\n",
    "v += [178, 176, 173, 182]\n",
    "v += [187, 203, 205, 207, 215]\n",
    "v += [169, 171, 175, 180, 185, 188, 198, 210, 209]\n",
    "v += [218, 223, 224, 226, 228, 229, 235]\n",
    "v += [240, 258, 257, 253, 252, 260, 261]\n",
    "v += [264, 266, 267, 274, 277]\n",
    "v += [220, 221, 234, 238, 250, 271]\n",
    "v += [294, 284, 285, 286, 291, 297]\n",
    "v += [303, 305, 307, 309, 310, 320]\n",
    "v += [281, 283, 289, 296, 301, 314]\n",
    "v += [332, 325, 335, 338]"
   ]
  },
  {
   "cell_type": "code",
   "execution_count": null,
   "id": "07a59496",
   "metadata": {
    "execution": {
     "iopub.execute_input": "2022-01-05T10:44:37.518662Z",
     "iopub.status.busy": "2022-01-05T10:44:37.517639Z",
     "iopub.status.idle": "2022-01-05T10:44:37.520937Z",
     "shell.execute_reply": "2022-01-05T10:44:37.519434Z",
     "shell.execute_reply.started": "2022-01-05T09:36:17.661534Z"
    },
    "id": "d192d123",
    "outputId": "b4cdc5c9-062c-40ae-e202-c9298e0a1d4f",
    "papermill": {
     "duration": 1.134783,
     "end_time": "2022-01-05T10:44:37.521065",
     "exception": false,
     "start_time": "2022-01-05T10:44:36.386282",
     "status": "completed"
    },
    "tags": []
   },
   "outputs": [
    {
     "name": "stdout",
     "output_type": "stream",
     "text": [
      "Reduced set has 128 columns\n"
     ]
    }
   ],
   "source": [
    "print('Reduced set has',len(v),'columns')"
   ]
  },
  {
   "cell_type": "code",
   "execution_count": null,
   "id": "37e62fcf",
   "metadata": {
    "execution": {
     "iopub.execute_input": "2022-01-05T10:44:39.714064Z",
     "iopub.status.busy": "2022-01-05T10:44:39.713161Z",
     "iopub.status.idle": "2022-01-05T10:44:46.017858Z",
     "shell.execute_reply": "2022-01-05T10:44:46.018289Z",
     "shell.execute_reply.started": "2022-01-05T09:36:17.663412Z"
    },
    "id": "0e53e9a6",
    "outputId": "9025ef66-04fa-4b98-a7a5-3713fceefd14",
    "papermill": {
     "duration": 7.407977,
     "end_time": "2022-01-05T10:44:46.018448",
     "exception": false,
     "start_time": "2022-01-05T10:44:38.610471",
     "status": "completed"
    },
    "tags": []
   },
   "outputs": [
    {
     "data": {
      "image/png": "[encoded data removed]",
      "text/plain": [
       "<Figure size 1080x1080 with 2 Axes>"
      ]
     },
     "metadata": {
      "needs_background": "light"
     },
     "output_type": "display_data"
    }
   ],
   "source": [
    "cols = ['TransactionDT'] + ['V'+str(x) for x in v]\n",
    "train2 = train[cols].sample(frac=0.2)\n",
    "plt.figure(figsize=(15,15))\n",
    "sns.heatmap(train2[cols].corr(), cmap='RdBu_r', annot=False, center=0.0)\n",
    "plt.title('V1-V339 REDUCED',fontsize=14)\n",
    "plt.show()"
   ]
  },
  {
   "cell_type": "markdown",
   "id": "6f51b4fd",
   "metadata": {
    "id": "3542ae05",
    "papermill": {
     "duration": 1.148102,
     "end_time": "2022-01-05T10:44:48.304658",
     "exception": false,
     "start_time": "2022-01-05T10:44:47.156556",
     "status": "completed"
    },
    "tags": []
   },
   "source": [
    "##### V all"
   ]
  },
  {
   "cell_type": "code",
   "execution_count": null,
   "id": "dc08d7c7",
   "metadata": {
    "execution": {
     "iopub.execute_input": "2022-01-05T10:44:50.804331Z",
     "iopub.status.busy": "2022-01-05T10:44:50.803545Z",
     "iopub.status.idle": "2022-01-05T10:45:21.996095Z",
     "shell.execute_reply": "2022-01-05T10:45:21.996763Z",
     "shell.execute_reply.started": "2022-01-05T09:36:17.665292Z"
    },
    "id": "30dad266",
    "papermill": {
     "duration": 32.584801,
     "end_time": "2022-01-05T10:45:21.996949",
     "exception": false,
     "start_time": "2022-01-05T10:44:49.412148",
     "status": "completed"
    },
    "tags": []
   },
   "outputs": [],
   "source": [
    "cols = ['TransactionDT'] + ['V'+str(x) for x in range(1,340)]\n",
    "train2 = train[cols].sample(frac=0.2)\n",
    "plt.figure(figsize=(15,15))\n",
    "sns.heatmap(train2[cols].corr(), cmap='RdBu_r', annot=False, center=0.0)\n",
    "plt.title('V1-V339 ALL',fontsize=14)\n",
    "plt.show()"
   ]
  },
  {
   "cell_type": "markdown",
   "id": "44356abd",
   "metadata": {
    "id": "8065ef9a",
    "papermill": {
     "duration": 1.137508,
     "end_time": "2022-01-05T10:45:24.267449",
     "exception": false,
     "start_time": "2022-01-05T10:45:23.129941",
     "status": "completed"
    },
    "tags": []
   },
   "source": [
    "Ta có thể nhận thấy rằng 100 cột V đầu tiên không tương quan nhiều với 239 cột V cuối cùng. \n",
    "\n",
    "Ngoài ra, mặc dù có 6 nhóm NAN khác nhau trong 100 cột V đầu tiên nhưng có nhiều mối tương quan giữa các nhóm này; tương tự, 239 cột V sau có liên quan đến nhau."
   ]
  },
  {
   "cell_type": "markdown",
   "id": "a5efe8d2",
   "metadata": {
    "id": "9638aed6",
    "papermill": {
     "duration": 1.340685,
     "end_time": "2022-01-05T10:45:26.785379",
     "exception": false,
     "start_time": "2022-01-05T10:45:25.444694",
     "status": "completed"
    },
    "tags": []
   },
   "source": [
    "##### C columns"
   ]
  },
  {
   "cell_type": "code",
   "execution_count": null,
   "id": "fecda3cf",
   "metadata": {
    "execution": {
     "iopub.execute_input": "2022-01-05T10:45:29.037481Z",
     "iopub.status.busy": "2022-01-05T10:45:29.036601Z",
     "iopub.status.idle": "2022-01-05T10:45:41.762241Z",
     "shell.execute_reply": "2022-01-05T10:45:41.762660Z",
     "shell.execute_reply.started": "2022-01-05T09:36:17.667003Z"
    },
    "id": "99eaa933",
    "outputId": "c8b106ac-102b-478c-ba17-ee20403bffb9",
    "papermill": {
     "duration": 13.850821,
     "end_time": "2022-01-05T10:45:41.762806",
     "exception": false,
     "start_time": "2022-01-05T10:45:27.911985",
     "status": "completed"
    },
    "tags": []
   },
   "outputs": [
    {
     "data": {
      "image/png": "[encoded data removed]",
      "text/plain": [
       "<Figure size 1440x1440 with 14 Axes>"
      ]
     },
     "metadata": {
      "needs_background": "light"
     },
     "output_type": "display_data"
    }
   ],
   "source": [
    "def make_plots2(Vs):\n",
    "    col = 4\n",
    "    row = len(Vs)//4+1\n",
    "    plt.figure(figsize=(20,row*5))\n",
    "    for i,v in enumerate(Vs):\n",
    "        plt.subplot(row,col,i+1)\n",
    "        idx = train[~train[v].isna()].index\n",
    "        n = train[v].nunique()\n",
    "        x = np.sum(train.loc[idx,v]!=train.loc[idx,v].astype(int))\n",
    "        y = np.round(100*np.sum(train[v].isna())/len(train),2)\n",
    "        t = 'int'\n",
    "        if x!=0: t = 'float'\n",
    "        plt.title(v+' has '+str(n)+' '+t+' and '+str(y)+'% nan')\n",
    "        plt.yticks([])\n",
    "        h = plt.hist(train.loc[idx,v],bins=100)\n",
    "        if len(h[0])>1: plt.ylim((0,np.sort(h[0])[-2]))\n",
    "    plt.show()\n",
    "make_plots2(['C'+str(x) for x in range(1,15)])"
   ]
  },
  {
   "cell_type": "code",
   "execution_count": null,
   "id": "5eeb1e38",
   "metadata": {
    "execution": {
     "iopub.execute_input": "2022-01-05T10:45:44.091111Z",
     "iopub.status.busy": "2022-01-05T10:45:44.090102Z",
     "iopub.status.idle": "2022-01-05T10:45:45.886152Z",
     "shell.execute_reply": "2022-01-05T10:45:45.885689Z",
     "shell.execute_reply.started": "2022-01-05T09:36:17.669073Z"
    },
    "id": "dfefc366",
    "papermill": {
     "duration": 3.010989,
     "end_time": "2022-01-05T10:45:45.886313",
     "exception": false,
     "start_time": "2022-01-05T10:45:42.875324",
     "status": "completed"
    },
    "tags": []
   },
   "outputs": [],
   "source": [
    "cols = ['TransactionDT'] + ['C'+str(x) for x in range(1,15)]\n",
    "plt.figure(figsize=(15,15))\n",
    "sns.heatmap(train[cols].corr(), cmap='RdBu_r', annot=True, center=0.0)\n",
    "plt.title('C1-C15')\n",
    "plt.show()"
   ]
  },
  {
   "cell_type": "markdown",
   "id": "97d13c0c",
   "metadata": {
    "id": "fbbdb2b2",
    "papermill": {
     "duration": 1.317047,
     "end_time": "2022-01-05T10:45:48.367393",
     "exception": false,
     "start_time": "2022-01-05T10:45:47.050346",
     "status": "completed"
    },
    "tags": []
   },
   "source": [
    "##### D Columns"
   ]
  },
  {
   "cell_type": "code",
   "execution_count": null,
   "id": "45613bd2",
   "metadata": {
    "execution": {
     "iopub.execute_input": "2022-01-05T10:45:50.791259Z",
     "iopub.status.busy": "2022-01-05T10:45:50.789845Z",
     "iopub.status.idle": "2022-01-05T10:45:52.202365Z",
     "shell.execute_reply": "2022-01-05T10:45:52.202792Z",
     "shell.execute_reply.started": "2022-01-05T09:36:17.670891Z"
    },
    "id": "dbd82d55",
    "outputId": "f3c46867-4d10-4981-906a-79fd51608ad9",
    "papermill": {
     "duration": 2.549467,
     "end_time": "2022-01-05T10:45:52.202941",
     "exception": false,
     "start_time": "2022-01-05T10:45:49.653474",
     "status": "completed"
    },
    "tags": []
   },
   "outputs": [
    {
     "data": {
      "image/png": "[encoded data removed]",
      "text/plain": [
       "<Figure size 1080x1080 with 2 Axes>"
      ]
     },
     "metadata": {
      "needs_background": "light"
     },
     "output_type": "display_data"
    }
   ],
   "source": [
    "cols = ['TransactionDT'] + ['D'+str(x) for x in range(1,16)]\n",
    "plt.figure(figsize=(15,15))\n",
    "sns.heatmap(train[cols].corr(), cmap='RdBu_r', annot=True, center=0.0)\n",
    "plt.title('D1-D15')\n",
    "plt.show()"
   ]
  },
  {
   "cell_type": "markdown",
   "id": "0545a088",
   "metadata": {
    "id": "fced8d08",
    "papermill": {
     "duration": 1.125659,
     "end_time": "2022-01-05T10:45:54.503835",
     "exception": false,
     "start_time": "2022-01-05T10:45:53.378176",
     "status": "completed"
    },
    "tags": []
   },
   "source": [
    "##### M Columns"
   ]
  },
  {
   "cell_type": "code",
   "execution_count": null,
   "id": "82046a41",
   "metadata": {
    "execution": {
     "iopub.execute_input": "2022-01-05T10:45:56.880996Z",
     "iopub.status.busy": "2022-01-05T10:45:56.880059Z",
     "iopub.status.idle": "2022-01-05T10:45:57.575547Z",
     "shell.execute_reply": "2022-01-05T10:45:57.575023Z",
     "shell.execute_reply.started": "2022-01-05T09:36:17.67274Z"
    },
    "id": "e0220d46",
    "papermill": {
     "duration": 1.897593,
     "end_time": "2022-01-05T10:45:57.575674",
     "exception": false,
     "start_time": "2022-01-05T10:45:55.678081",
     "status": "completed"
    },
    "tags": []
   },
   "outputs": [],
   "source": [
    "Ms = ['M'+str(x) for x in range(1,10)]\n",
    "mp = {'F':0,'T':1,'M0':0,'M1':1,'M2':2}\n",
    "for c in Ms: train[c] = train[c].map(mp)"
   ]
  },
  {
   "cell_type": "code",
   "execution_count": null,
   "id": "d6c1b580",
   "metadata": {
    "execution": {
     "iopub.execute_input": "2022-01-05T10:46:00.106248Z",
     "iopub.status.busy": "2022-01-05T10:46:00.105081Z",
     "iopub.status.idle": "2022-01-05T10:46:01.076362Z",
     "shell.execute_reply": "2022-01-05T10:46:01.076792Z",
     "shell.execute_reply.started": "2022-01-05T09:36:17.674593Z"
    },
    "id": "9f81cdd0",
    "papermill": {
     "duration": 2.356495,
     "end_time": "2022-01-05T10:46:01.076940",
     "exception": false,
     "start_time": "2022-01-05T10:45:58.720445",
     "status": "completed"
    },
    "tags": []
   },
   "outputs": [],
   "source": [
    "cols = ['TransactionDT'] + Ms\n",
    "plt.figure(figsize=(15,15))\n",
    "sns.heatmap(train[cols].corr(), cmap='RdBu_r', annot=True, center=0.0)\n",
    "plt.title('M1-M9')\n",
    "plt.show()"
   ]
  },
  {
   "cell_type": "markdown",
   "id": "3818470d",
   "metadata": {
    "id": "bb8cedb7",
    "papermill": {
     "duration": 1.131112,
     "end_time": "2022-01-05T10:46:03.339892",
     "exception": false,
     "start_time": "2022-01-05T10:46:02.208780",
     "status": "completed"
    },
    "tags": []
   },
   "source": [
    "##### ID Columns"
   ]
  },
  {
   "cell_type": "code",
   "execution_count": null,
   "id": "6531b107",
   "metadata": {
    "execution": {
     "iopub.execute_input": "2022-01-05T10:46:05.600358Z",
     "iopub.status.busy": "2022-01-05T10:46:05.599526Z",
     "iopub.status.idle": "2022-01-05T10:46:06.561604Z",
     "shell.execute_reply": "2022-01-05T10:46:06.561018Z",
     "shell.execute_reply.started": "2022-01-05T09:36:17.676499Z"
    },
    "id": "93990895",
    "papermill": {
     "duration": 2.099943,
     "end_time": "2022-01-05T10:46:06.561756",
     "exception": false,
     "start_time": "2022-01-05T10:46:04.461813",
     "status": "completed"
    },
    "tags": []
   },
   "outputs": [],
   "source": [
    "train_id = pd.read_csv(INPUT_DIR+'train_identity.csv')\n",
    "train_id = pd.merge(train_id,train[['TransactionID','TransactionDT']],on='TransactionID',how='left')\n",
    "ids = ['id_0'+str(x) for x in range(1,10)]+['id_'+str(x) for x in range(10,39)]\n",
    "for c in ids: print (c,train_id[c].unique()[:10])"
   ]
  },
  {
   "cell_type": "code",
   "execution_count": null,
   "id": "adea6011",
   "metadata": {
    "execution": {
     "iopub.execute_input": "2022-01-05T10:46:08.911979Z",
     "iopub.status.busy": "2022-01-05T10:46:08.911027Z",
     "iopub.status.idle": "2022-01-05T10:46:09.064322Z",
     "shell.execute_reply": "2022-01-05T10:46:09.063820Z",
     "shell.execute_reply.started": "2022-01-05T09:36:17.678382Z"
    },
    "id": "1cb677fd",
    "papermill": {
     "duration": 1.30292,
     "end_time": "2022-01-05T10:46:09.064470",
     "exception": false,
     "start_time": "2022-01-05T10:46:07.761550",
     "status": "completed"
    },
    "tags": []
   },
   "outputs": [],
   "source": [
    "booln = ['id_12','id_15','id_16','id_27','id_28','id_29','id_35','id_36','id_37','id_38']\n",
    "cats = ['id_23','id_30','id_31','id_33','id_34']\n",
    "mp = {'Unknown':0,'NotFound':1,'Found':2,'New':3,'F':0,'T':1}\n",
    "for c in booln: train_id[c] = train_id[c].map(mp)"
   ]
  },
  {
   "cell_type": "code",
   "execution_count": null,
   "id": "910a97f1",
   "metadata": {
    "execution": {
     "iopub.execute_input": "2022-01-05T10:46:11.597915Z",
     "iopub.status.busy": "2022-01-05T10:46:11.597006Z",
     "iopub.status.idle": "2022-01-05T10:46:20.663305Z",
     "shell.execute_reply": "2022-01-05T10:46:20.663755Z",
     "shell.execute_reply.started": "2022-01-05T09:36:17.680262Z"
    },
    "id": "598b7f5a",
    "outputId": "e35e9ea0-8599-463b-cc2f-108b3e9de17d",
    "papermill": {
     "duration": 10.42037,
     "end_time": "2022-01-05T10:46:20.663913",
     "exception": false,
     "start_time": "2022-01-05T10:46:10.243543",
     "status": "completed"
    },
    "tags": []
   },
   "outputs": [
    {
     "data": {
      "image/png": "[encoded data removed]",
      "text/plain": [
       "<Figure size 1440x3240 with 33 Axes>"
      ]
     },
     "metadata": {
      "needs_background": "light"
     },
     "output_type": "display_data"
    }
   ],
   "source": [
    "def make_plots2(Vs):\n",
    "    col = 4\n",
    "    row = len(Vs)//4+1\n",
    "    plt.figure(figsize=(20,row*5))\n",
    "    for i,v in enumerate(Vs):\n",
    "        plt.subplot(row,col,i+1)\n",
    "        idx = train_id[~train_id[v].isna()].index\n",
    "        n = train_id[v].nunique()\n",
    "        x = np.sum(train_id.loc[idx,v]!=train_id.loc[idx,v].astype(int))\n",
    "        y = np.round(100*np.sum(train_id[v].isna())/len(train_id),2)\n",
    "        t = 'int'\n",
    "        if x!=0: t = 'float'\n",
    "        plt.title(v+' has '+str(n)+' '+t+' and '+str(y)+'% nan')\n",
    "        plt.yticks([])\n",
    "        h = plt.hist(train_id.loc[idx,v],bins=100)\n",
    "        if len(h[0])>1: plt.ylim((0,np.sort(h[0])[-2]))\n",
    "    plt.show()\n",
    "make_plots2([x for x in ids if x not in cats])"
   ]
  },
  {
   "cell_type": "code",
   "execution_count": null,
   "id": "9a5bf690",
   "metadata": {
    "execution": {
     "iopub.execute_input": "2022-01-05T10:46:23.217586Z",
     "iopub.status.busy": "2022-01-05T10:46:23.206224Z",
     "iopub.status.idle": "2022-01-05T10:46:27.944537Z",
     "shell.execute_reply": "2022-01-05T10:46:27.944950Z",
     "shell.execute_reply.started": "2022-01-05T09:36:17.682134Z"
    },
    "id": "13387363",
    "papermill": {
     "duration": 5.897005,
     "end_time": "2022-01-05T10:46:27.945099",
     "exception": false,
     "start_time": "2022-01-05T10:46:22.048094",
     "status": "completed"
    },
    "tags": []
   },
   "outputs": [],
   "source": [
    "cols = ['TransactionDT'] + [x for x in ids if x not in cats]\n",
    "plt.figure(figsize=(15,15))\n",
    "sns.heatmap(train_id[cols].corr(), cmap='RdBu_r', annot=True, center=0.0)\n",
    "plt.title('ID1-ID38')\n",
    "plt.show()"
   ]
  },
  {
   "cell_type": "markdown",
   "id": "fad2456a",
   "metadata": {
    "id": "4e07b9b9",
    "papermill": {
     "duration": 1.153201,
     "end_time": "2022-01-05T10:46:30.315453",
     "exception": false,
     "start_time": "2022-01-05T10:46:29.162252",
     "status": "completed"
    },
    "tags": []
   },
   "source": [
    "### Feature Engineering and Feature Selection"
   ]
  },
  {
   "cell_type": "markdown",
   "id": "1a992f9c",
   "metadata": {
    "id": "92030d7b",
    "papermill": {
     "duration": 1.391339,
     "end_time": "2022-01-05T10:46:32.846476",
     "exception": false,
     "start_time": "2022-01-05T10:46:31.455137",
     "status": "completed"
    },
    "tags": []
   },
   "source": [
    "Dưới đây là một số ý tưởng về cách tạo mới và chọn thuộc tính cho mô hình mà nhóm tác giả đã thực hiện:\n",
    ">Kernel https://www.kaggle.com/kyakovlev/ieee-fe-for-local-test của Konstantin thực hiện các FE for local test và chứng minh các kỹ thuật đó. Mọi người có thể xem để tham khảo thêm\n",
    "1. Tạo một feature mới và sau đó đánh giá nó bằng các tiến hành xác thực cục bộ (local validation scheme)  để xem liệu nó có cải thiện CV của mô hình hay không. Giữ lại các feature có lợi và loại bỏ các feature khác.\n",
    "2. Lựa chọn các thuộc tính chuyển tiếp (sử dụng trên một thuộc tính hoặc nhóm các thuộc tính)\n",
    "3. Loại bỏ thuộc tính đệ quy (sử dụng cho một thuộc tính hoặc nhóm các thuộc tính).\n",
    "4. Xác đinh tầm quan trọng của thuộc tính bằng cách thực hiện hoán vị các giá trị thuộc tính.\n",
    "5. Xác thực chéo.\n",
    "6. Phân tích tương quan các thuộc tính.\n",
    "7. Tính nhất quán về thời gian.\n",
    "8. Tính nhất quán của khách hàng.\n",
    "9. Xem xét sự phân phối của tập dữ liệu thử nghiệm so với tập dữ liệu đào tạo và xem chúng giống và khác nhau như thế nào."
   ]
  },
  {
   "cell_type": "markdown",
   "id": "b46061d2",
   "metadata": {
    "id": "5fdb54d2",
    "papermill": {
     "duration": 1.287841,
     "end_time": "2022-01-05T10:46:35.274673",
     "exception": false,
     "start_time": "2022-01-05T10:46:33.986832",
     "status": "completed"
    },
    "tags": []
   },
   "source": [
    "#### Train & Test"
   ]
  },
  {
   "cell_type": "markdown",
   "id": "23775b16",
   "metadata": {
    "id": "18726644",
    "papermill": {
     "duration": 1.212009,
     "end_time": "2022-01-05T10:46:37.649237",
     "exception": false,
     "start_time": "2022-01-05T10:46:36.437228",
     "status": "completed"
    },
    "tags": []
   },
   "source": [
    ">Khi thực hiện mã hóa nhãn, phải mã hóa trên cùng tập dữ liệu Train và Test bằng cách gộp chung dữ liệu lại với nhau.\n",
    ">\n",
    ">```python\n",
    ">df = pd.concat([train[col],test[col]],axis=0) \n",
    "># PERFORM FEATURE ENGINEERING HERE\n",
    ">train[col] = df[:len(train)]   \n",
    ">test[col] = df[len(train):]\n",
    "```\n"
   ]
  },
  {
   "cell_type": "markdown",
   "id": "8a151104",
   "metadata": {
    "id": "8f1a31b4",
    "papermill": {
     "duration": 1.148084,
     "end_time": "2022-01-05T10:46:39.945552",
     "exception": false,
     "start_time": "2022-01-05T10:46:38.797468",
     "status": "completed"
    },
    "tags": []
   },
   "source": [
    "#### Xử lý giá trị NAN - NAN Processing"
   ]
  },
  {
   "cell_type": "markdown",
   "id": "f9a397d1",
   "metadata": {
    "id": "6e825713",
    "papermill": {
     "duration": 1.164013,
     "end_time": "2022-01-05T10:46:42.256861",
     "exception": false,
     "start_time": "2022-01-05T10:46:41.092848",
     "status": "completed"
    },
    "tags": []
   },
   "source": [
    "\n",
    ">Nếu ta cung cấp giá trị np.nan cho mô hình, thì tại mỗi lần Tree phân chia, nó sẽ tách các giá trị không phải NAN và sau đó gửi tất cả các NAN đến con trái hoặc con phải tùy thuộc vào điều gì tốt nhất. Do đó, các giá trị NAN được đối xử đặc biệt ở mọi node và có thể trở dẫn đến overfit.\n",
    ">\n",
    ">-->Chuyển đổi tất cả NAN thành một số âm thấp hơn tất cả các giá trị không phải NAN (chẳng hạn như - 999) thì mô hình sẽ không ưu tiên xử lý với NAN nữa và dành cho nó sự chú ý giống như những con số khác.Trong bài này tác giả sử dụng giá trị -1.\n",
    ">```python\n",
    ">df[col].fillna(-999, inplace=True)\n",
    ">```"
   ]
  },
  {
   "cell_type": "markdown",
   "id": "48d835a2",
   "metadata": {
    "id": "48496f80",
    "papermill": {
     "duration": 1.256073,
     "end_time": "2022-01-05T10:46:44.796435",
     "exception": false,
     "start_time": "2022-01-05T10:46:43.540362",
     "status": "completed"
    },
    "tags": []
   },
   "source": [
    "#### Label Encode/ Factorize/ Memory reduction"
   ]
  },
  {
   "cell_type": "markdown",
   "id": "1311e362",
   "metadata": {
    "id": "91d9b275",
    "papermill": {
     "duration": 1.34434,
     "end_time": "2022-01-05T10:46:47.298060",
     "exception": false,
     "start_time": "2022-01-05T10:46:45.953720",
     "status": "completed"
    },
    "tags": []
   },
   "source": [
    ">Mã hóa nhãn ,chuyển đổi một cột thuộc tính kiểu string, category, object thành kiểu integers. Sau đó, ta có thể chuyển thành kiểu int8, int16 hoặc int32 tùy thuộc vào việc kiểm tra giá trị lớn nhất của cột. Từ đó giúp giảm bộ nhớ lưu trữ và biến các giá trị NAN thành một số.\n",
    ">```python\n",
    ">df[col],_ = df[col].factorize() #factorize() function encode the object as an enumerated type or categorical variable.\n",
    ">if df[col].max()<128: df[col] = df[col].astype('int8')\n",
    ">elif df[col].max()<32768: df[col] = df[col].astype('int16')\n",
    ">else: df[col].astype('int32')\n",
    ">```\n",
    ">"
   ]
  },
  {
   "cell_type": "markdown",
   "id": "aaca6a70",
   "metadata": {
    "id": "52146dc4",
    "papermill": {
     "duration": 1.302081,
     "end_time": "2022-01-05T10:46:50.106865",
     "exception": false,
     "start_time": "2022-01-05T10:46:48.804784",
     "status": "completed"
    },
    "tags": []
   },
   "source": [
    ">Ngoài ra để giảm bộ nhớ, ta sử dụng memory_reducer trên các cột. Một cách tiếp cận đơn giản và an toàn hơn là chuyển đổi tất cả các giá trị kiểu float64 thành float32 và tất cả giá trị kiểu int64 thành int32. (Tốt nhất nên tránh float16 , sử dụng int8 và int16 nếu muốn).\n",
    ">```python\n",
    ">for col in df.columns:\n",
    ">    if df[col].dtype=='float64': \n",
    ">       df[col] = df[col].astype('float32')\n",
    ">    if df[col].dtype=='int64': \n",
    ">       df[col] = df[col].astype('int32')\n",
    ">```\n"
   ]
  },
  {
   "cell_type": "markdown",
   "id": "0664047a",
   "metadata": {
    "id": "24249db8",
    "papermill": {
     "duration": 1.301973,
     "end_time": "2022-01-05T10:46:52.547304",
     "exception": false,
     "start_time": "2022-01-05T10:46:51.245331",
     "status": "completed"
    },
    "tags": []
   },
   "source": [
    "#### Thuộc tính phân loại - Categorical Features"
   ]
  },
  {
   "cell_type": "markdown",
   "id": "a56bb7aa",
   "metadata": {
    "id": "856fba5b",
    "papermill": {
     "duration": 1.445007,
     "end_time": "2022-01-05T10:46:55.155350",
     "exception": false,
     "start_time": "2022-01-05T10:46:53.710343",
     "status": "completed"
    },
    "tags": []
   },
   "source": [
    "\n",
    ">Với các biến phân loại, nếu ta đã mã hóa các nhãn trước đó, ta sẽ để mô hình xem xét một thuộc tính nào đó nếu thuộc kiểu 'categorical' hay 'numeric' thì tốt hơn đối với mô hình. Từ đó quyết định thuộc tính nào tốt nhất dưới dạng số và tính năng nào tốt nhất ở dạng phân loại. "
   ]
  },
  {
   "cell_type": "markdown",
   "id": "a699e816",
   "metadata": {
    "id": "364f6e7b",
    "papermill": {
     "duration": 1.284869,
     "end_time": "2022-01-05T10:46:57.577322",
     "exception": false,
     "start_time": "2022-01-05T10:46:56.292453",
     "status": "completed"
    },
    "tags": []
   },
   "source": [
    "#### Chia tách - Splitting"
   ]
  },
  {
   "cell_type": "markdown",
   "id": "6a57f1a6",
   "metadata": {
    "id": "cb848340",
    "papermill": {
     "duration": 1.139209,
     "end_time": "2022-01-05T10:46:59.860338",
     "exception": false,
     "start_time": "2022-01-05T10:46:58.721129",
     "status": "completed"
    },
    "tags": []
   },
   "source": [
    ">Một cột kiểu string/numeric có thể được tách thành hai cột mới.\n",
    ">\n",
    ">Ví dụ, một cột feature kiểu string chẳng hạn như cột 'id_30' có gí trị “ Mac OS X 10_9_5”  có thể được chia thành 2 cột mới là:\n",
    ">1. \"Operating System\"  có giá trị \"Mac OS X” \n",
    ">2. \"Version\" có giá trị là  “10_9_5”. \n",
    ">\n",
    ">Hoặc ví dụ với cột feature là \"TransactionAmt\" kiểu numeric có giá trị “ 1230.45” có thể được tách thành 2 cột ( tức là 2 feature mới) :\n",
    ">1. \"USD\" có giá trị  “ 1230” \n",
    ">2. \"Cent\" có giá trị  “ 45”\n"
   ]
  },
  {
   "cell_type": "markdown",
   "id": "39c0985f",
   "metadata": {
    "id": "c6a8d46b",
    "papermill": {
     "duration": 1.151818,
     "end_time": "2022-01-05T10:47:02.157584",
     "exception": false,
     "start_time": "2022-01-05T10:47:01.005766",
     "status": "completed"
    },
    "tags": []
   },
   "source": [
    "#### Combining / Transforming / Interaction"
   ]
  },
  {
   "cell_type": "markdown",
   "id": "876a85f4",
   "metadata": {
    "id": "23880caf",
    "papermill": {
     "duration": 1.152987,
     "end_time": "2022-01-05T10:47:04.587500",
     "exception": false,
     "start_time": "2022-01-05T10:47:03.434513",
     "status": "completed"
    },
    "tags": []
   },
   "source": [
    ">Hai cột có kiểu string/ numeric có thể được kết hợp thành một cột mới. \n",
    ">\n",
    ">Ví dụ cột feature \"card1\" và feature \"card2\" có thể kết hợp để trở thành một cột feature mới là \"uid\"\n",
    ">```python\n",
    ">df['uid'] = df[‘card1’].astype(str)+’_’+df[‘card2’].astype(str)\n",
    ">```"
   ]
  },
  {
   "cell_type": "markdown",
   "id": "e69fb849",
   "metadata": {
    "id": "9ee8e46e",
    "papermill": {
     "duration": 1.148635,
     "end_time": "2022-01-05T10:47:07.122728",
     "exception": false,
     "start_time": "2022-01-05T10:47:05.974093",
     "status": "completed"
    },
    "tags": []
   },
   "source": [
    ">Điều này giúp ích cho mô hình bởi vì bản thân thuộc tính 'card1' và 'card2' có thể không tương quan với target của bài toán ,do đó mô hình sẽ không phân chia các thuộc tính này. Nhưng thuộc tính 'uid = card1_card2' có thể tương quan với target và bây giờ mô hình có thể sử dụng thuộc tính này.\n",
    ">\n",
    "> Các cột thuộc tính kiểu số - numeric có thể được kết hợp với nhau bằng các phép cộng, trừ, nhân, v.v. \n",
    ">\n",
    ">ví dụ:\n",
    ">```python\n",
    "> df['x1_x2'] = df['x1'] * df['x2']\n",
    ">```"
   ]
  },
  {
   "cell_type": "markdown",
   "id": "a85c6321",
   "metadata": {
    "id": "30974ee2",
    "papermill": {
     "duration": 1.274811,
     "end_time": "2022-01-05T10:47:09.578689",
     "exception": false,
     "start_time": "2022-01-05T10:47:08.303878",
     "status": "completed"
    },
    "tags": []
   },
   "source": [
    "#### Mã hóa tần suất - Frequency Encoding"
   ]
  },
  {
   "cell_type": "markdown",
   "id": "87ffb48b",
   "metadata": {
    "id": "85fd7246",
    "papermill": {
     "duration": 1.147992,
     "end_time": "2022-01-05T10:47:11.880796",
     "exception": false,
     "start_time": "2022-01-05T10:47:10.732804",
     "status": "completed"
    },
    "tags": []
   },
   "source": [
    "\n",
    ">Mã hóa tần số là một kỹ thuật mạnh mẽ cho phép mô hình \"nhìn thấy\" liệu các giá trị nào đó của thuộc tính là hiếm gặp hay phổ biến. \n",
    ">\n",
    ">Ví dụ: nếu ta tiến hành đếm tần số xuất hiện của tất cả các giá trị cột \"card1, mô hình có thể nhận ra giá trị nào của thuộc tính \"credit_card\" được sử dụng/ xuất hiện thường xuyên.\n",
    "```python\n",
    "temp = df['card1'].value_counts().to_dict()\n",
    "df['card1_counts'] = df['card1'].map(temp)\n",
    "```"
   ]
  },
  {
   "cell_type": "markdown",
   "id": "65225b2a",
   "metadata": {
    "id": "60cc6ca1",
    "papermill": {
     "duration": 1.142427,
     "end_time": "2022-01-05T10:47:14.212372",
     "exception": false,
     "start_time": "2022-01-05T10:47:13.069945",
     "status": "completed"
    },
    "tags": []
   },
   "source": [
    "#### Tổng hợp/ thống kê nhóm - Aggregations / Group Statistics"
   ]
  },
  {
   "cell_type": "markdown",
   "id": "921f2b40",
   "metadata": {
    "id": "c66d7c84",
    "papermill": {
     "duration": 1.380965,
     "end_time": "2022-01-05T10:47:16.895329",
     "exception": false,
     "start_time": "2022-01-05T10:47:15.514364",
     "status": "completed"
    },
    "tags": []
   },
   "source": [
    ">Cung cấp cho mô hình các giá trị thống kê theo nhóm thuộc tính, cho phép mô hình xác định xem giá trị nào là phổ biến hay hiếm gặp đối với từng nhóm thuộc tính cụ thể.\n",
    ">```python\n",
    ">temp = df.groupby('card1')['TransactionAmt'].agg(['mean'])   \n",
    ">    .rename({'mean':'TransactionAmt_card1_mean'},axis=1)\n",
    ">df = pd.merge(df,temp,on='card1',how='left')\n",
    ">```"
   ]
  },
  {
   "cell_type": "markdown",
   "id": "705680d0",
   "metadata": {
    "id": "525d5768",
    "papermill": {
     "duration": 1.14476,
     "end_time": "2022-01-05T10:47:19.191050",
     "exception": false,
     "start_time": "2022-01-05T10:47:18.046290",
     "status": "completed"
    },
    "tags": []
   },
   "source": [
    "#### Chuẩn hóa - Normalize / Standardize"
   ]
  },
  {
   "cell_type": "markdown",
   "id": "d6eb66c8",
   "metadata": {
    "id": "7fdb5909",
    "papermill": {
     "duration": 1.65666,
     "end_time": "2022-01-05T10:47:22.091641",
     "exception": false,
     "start_time": "2022-01-05T10:47:20.434981",
     "status": "completed"
    },
    "tags": []
   },
   "source": [
    ">Chuẩn hóa các cột so với chính chúng. Hoặc chuẩn hóa cột này so với một cột khác.\n",
    ">\n",
    ">```python\n",
    ">   # chuẩn hóa trên cột.\n",
    ">   df[col] = ( df[col]-df[col].mean() ) / df[col].std()\n",
    ">\n",
    ">   #chuẩn hóa cột ['D3_remove_time'] từ cột ['D3'] và ['D3_week_mean']  -> loại bỏ sự phụ thuộc theo thời gian>\n",
    ">   df['D3_remove_time'] = df['D3'] - df['D3_week_mean']\n",
    ">```"
   ]
  },
  {
   "cell_type": "markdown",
   "id": "e067883b",
   "metadata": {
    "id": "404ff458",
    "papermill": {
     "duration": 1.138398,
     "end_time": "2022-01-05T10:47:24.379628",
     "exception": false,
     "start_time": "2022-01-05T10:47:23.241230",
     "status": "completed"
    },
    "tags": []
   },
   "source": [
    "#### Outlier Removal / Relax / Smooth / PCA"
   ]
  },
  {
   "cell_type": "markdown",
   "id": "cd0e0546",
   "metadata": {
    "id": "0eadb971",
    "papermill": {
     "duration": 1.164286,
     "end_time": "2022-01-05T10:47:26.682685",
     "exception": false,
     "start_time": "2022-01-05T10:47:25.518399",
     "status": "completed"
    },
    "tags": []
   },
   "source": [
    ">Trong cuộc thi này, tác giả muốn tìm ra điểm bất thường nên tg sử dụng kỹ thuật làm mịn một cách cẩn thận.\n",
    ">\n",
    ">Loại bỏ ngoại lệ: xác định và thay thế các giá trị không phổ biến.\n",
    ">\n",
    ">Ví dụ: bằng cách sử dụng mã hóa tần suất cho một biến thuộc tính, ta có thể loại bỏ tất cả các giá trị xuất hiện dưới 0,1% bằng cách thay thế chúng bằng một giá trị mới như -9999 (khác giá trị thay cho NAN)."
   ]
  },
  {
   "cell_type": "markdown",
   "id": "427bdee6",
   "metadata": {
    "id": "a9b48b3c",
    "papermill": {
     "duration": 1.193097,
     "end_time": "2022-01-05T10:47:29.283061",
     "exception": false,
     "start_time": "2022-01-05T10:47:28.089964",
     "status": "completed"
    },
    "tags": []
   },
   "source": [
    "### Các bước thực hiện"
   ]
  },
  {
   "cell_type": "markdown",
   "id": "cb2331af",
   "metadata": {
    "id": "4143da99",
    "papermill": {
     "duration": 1.16116,
     "end_time": "2022-01-05T10:47:31.578502",
     "exception": false,
     "start_time": "2022-01-05T10:47:30.417342",
     "status": "completed"
    },
    "tags": []
   },
   "source": [
    "#### Load Data\n",
    "Load tất cả data ngoại trừ 229 V columns đã được tác giả xác định dư thừa thông qua phân tích tương quan như ở trên."
   ]
  },
  {
   "cell_type": "code",
   "execution_count": null,
   "id": "0b0a72d9",
   "metadata": {
    "_kg_hide-input": true,
    "execution": {
     "iopub.execute_input": "2022-01-05T10:47:33.867390Z",
     "iopub.status.busy": "2022-01-05T10:47:33.866520Z",
     "iopub.status.idle": "2022-01-05T10:47:34.020366Z",
     "shell.execute_reply": "2022-01-05T10:47:34.019818Z",
     "shell.execute_reply.started": "2022-01-05T09:36:17.684016Z"
    },
    "id": "a3d67ac0",
    "papermill": {
     "duration": 1.305341,
     "end_time": "2022-01-05T10:47:34.020506",
     "exception": false,
     "start_time": "2022-01-05T10:47:32.715165",
     "status": "completed"
    },
    "tags": []
   },
   "outputs": [],
   "source": [
    "BUILD95 = True\n",
    "BUILD96 = True\n",
    "\n",
    "import numpy as np, pandas as pd, os, gc\n",
    "from sklearn.model_selection import GroupKFold\n",
    "from sklearn.metrics import roc_auc_score\n",
    "import matplotlib.pyplot as plt\n",
    "import seaborn as sns\n",
    "\n",
    "# COLUMNS WITH STRINGS\n",
    "str_type = ['ProductCD', 'card4', 'card6', 'P_emaildomain', 'R_emaildomain','M1', 'M2', 'M3', 'M4','M5',\n",
    "            'M6', 'M7', 'M8', 'M9', 'id_12', 'id_15', 'id_16', 'id_23', 'id_27', 'id_28', 'id_29', 'id_30', \n",
    "            'id_31', 'id_33', 'id_34', 'id_35', 'id_36', 'id_37', 'id_38', 'DeviceType', 'DeviceInfo']\n",
    "str_type += ['id-12', 'id-15', 'id-16', 'id-23', 'id-27', 'id-28', 'id-29', 'id-30', \n",
    "            'id-31', 'id-33', 'id-34', 'id-35', 'id-36', 'id-37', 'id-38']\n",
    "\n",
    "# FIRST 53 COLUMNS\n",
    "cols = ['TransactionID', 'TransactionDT', 'TransactionAmt',\n",
    "       'ProductCD', 'card1', 'card2', 'card3', 'card4', 'card5', 'card6',\n",
    "       'addr1', 'addr2', 'dist1', 'dist2', 'P_emaildomain', 'R_emaildomain',\n",
    "       'C1', 'C2', 'C3', 'C4', 'C5', 'C6', 'C7', 'C8', 'C9', 'C10', 'C11',\n",
    "       'C12', 'C13', 'C14', 'D1', 'D2', 'D3', 'D4', 'D5', 'D6', 'D7', 'D8',\n",
    "       'D9', 'D10', 'D11', 'D12', 'D13', 'D14', 'D15', 'M1', 'M2', 'M3', 'M4',\n",
    "       'M5', 'M6', 'M7', 'M8', 'M9']\n",
    "\n",
    "# V COLUMNS TO LOAD DECIDED BY CORRELATION EDA\n",
    "\n",
    "cols += ['V'+str(x) for x in v]\n",
    "dtypes = {}\n",
    "for c in cols+['id_0'+str(x) for x in range(1,10)]+['id_'+str(x) for x in range(10,34)]+\\\n",
    "    ['id-0'+str(x) for x in range(1,10)]+['id-'+str(x) for x in range(10,34)]:\n",
    "        dtypes[c] = 'float32'\n",
    "for c in str_type: dtypes[c] = 'category'"
   ]
  },
  {
   "cell_type": "code",
   "execution_count": null,
   "id": "8c2bdece",
   "metadata": {
    "execution": {
     "iopub.execute_input": "2022-01-05T10:47:36.329085Z",
     "iopub.status.busy": "2022-01-05T10:47:36.328203Z",
     "iopub.status.idle": "2022-01-05T10:48:11.906721Z",
     "shell.execute_reply": "2022-01-05T10:48:11.907536Z",
     "shell.execute_reply.started": "2022-01-05T09:36:17.685904Z"
    },
    "id": "2d662ca7",
    "outputId": "58e3cf54-6c98-43ad-a848-f3ea2433f2c9",
    "papermill": {
     "duration": 36.737296,
     "end_time": "2022-01-05T10:48:11.907785",
     "exception": false,
     "start_time": "2022-01-05T10:47:35.170489",
     "status": "completed"
    },
    "tags": []
   },
   "outputs": [
    {
     "name": "stdout",
     "output_type": "stream",
     "text": [
      "Train shape (590540, 221) test shape (506691, 221)\n",
      "CPU times: user 33.6 s, sys: 510 ms, total: 34.1 s\n",
      "Wall time: 34.2 s\n"
     ]
    }
   ],
   "source": [
    "%%time\n",
    "# LOAD TRAIN\n",
    "X_train = pd.read_csv(INPUT_DIR+'train_transaction.csv',index_col='TransactionID', dtype=dtypes, usecols=cols+['isFraud'])\n",
    "train_id = pd.read_csv(INPUT_DIR+'train_identity.csv',index_col='TransactionID', dtype=dtypes)\n",
    "X_train = X_train.merge(train_id, how='left', left_index=True, right_index=True)\n",
    "# LOAD TEST\n",
    "X_test = pd.read_csv(INPUT_DIR+'test_transaction.csv',index_col='TransactionID', dtype=dtypes, usecols=cols)\n",
    "test_id = pd.read_csv(INPUT_DIR+'test_identity.csv',index_col='TransactionID', dtype=dtypes)\n",
    "fix = {o:n for o, n in zip(test_id.columns, train_id.columns)}\n",
    "test_id.rename(columns=fix, inplace=True)\n",
    "X_test = X_test.merge(test_id, how='left', left_index=True, right_index=True)\n",
    "# TARGET\n",
    "y_train = X_train['isFraud'].copy()\n",
    "del train_id, test_id, X_train['isFraud']; x = gc.collect()\n",
    "# PRINT STATUS\n",
    "print('Train shape',X_train.shape,'test shape',X_test.shape)"
   ]
  },
  {
   "cell_type": "markdown",
   "id": "7c21a463",
   "metadata": {
    "id": "b41af9f5",
    "papermill": {
     "duration": 1.149597,
     "end_time": "2022-01-05T10:48:14.255819",
     "exception": false,
     "start_time": "2022-01-05T10:48:13.106222",
     "status": "completed"
    },
    "tags": []
   },
   "source": [
    "#### Chuẩn hóa các cột D"
   ]
  },
  {
   "cell_type": "markdown",
   "id": "5f945d17",
   "metadata": {
    "id": "8d04e192",
    "papermill": {
     "duration": 1.144408,
     "end_time": "2022-01-05T10:48:16.572166",
     "exception": false,
     "start_time": "2022-01-05T10:48:15.427758",
     "status": "completed"
    },
    "tags": []
   },
   "source": [
    "Công thức chuẩn hóa cho các giá trị cột D như sau:\n",
    "\n",
    " `D15n = Transaction_Day - D15`\n",
    " \n",
    " `Transaction_Day = TransactionDT/(24*60*60)`. \n",
    " \n",
    "Các cột thuộc tính D là các khoảng thời gian (timedelta) được tính từ 1 thời điểm nào đó trong quá khứ. \n",
    "\n",
    "Nhóm tiến hành transform các cột D thành các ngày cụ thể trong quá khứ. Loại bỏ sự phụ thuộc theo thời gian (đây ko còn là bài toán time series) giá trị của các features D không còn tăng dần theo thời gian nữa.\n",
    "\n",
    "Ngoài ra, các thuộc tính `D*n` giúp mô hình phân loại khách hàng tốt hơn, sẽ được nói cụ thể ở dưới."
   ]
  },
  {
   "cell_type": "code",
   "execution_count": null,
   "id": "5a502df9",
   "metadata": {
    "execution": {
     "iopub.execute_input": "2022-01-05T10:48:18.881332Z",
     "iopub.status.busy": "2022-01-05T10:48:18.880389Z",
     "iopub.status.idle": "2022-01-05T10:48:19.827300Z",
     "shell.execute_reply": "2022-01-05T10:48:19.827731Z",
     "shell.execute_reply.started": "2022-01-05T09:36:17.687788Z"
    },
    "id": "b9ae80fa",
    "outputId": "0e5a06ba-3831-478a-c390-2d9714963133",
    "papermill": {
     "duration": 2.096238,
     "end_time": "2022-01-05T10:48:19.827881",
     "exception": false,
     "start_time": "2022-01-05T10:48:17.731643",
     "status": "completed"
    },
    "tags": []
   },
   "outputs": [
    {
     "data": {
      "image/png": "[encoded data removed]",
      "text/plain": [
       "<Figure size 1080x360 with 1 Axes>"
      ]
     },
     "metadata": {
      "needs_background": "light"
     },
     "output_type": "display_data"
    }
   ],
   "source": [
    "# PLOT ORIGINAL D\n",
    "plt.figure(figsize=(15,5))\n",
    "plt.scatter(X_train.TransactionDT,X_train.D15)\n",
    "plt.title('Original D15')\n",
    "plt.xlabel('Time')\n",
    "plt.ylabel('D15')\n",
    "plt.show()"
   ]
  },
  {
   "cell_type": "code",
   "execution_count": null,
   "id": "723e10f9",
   "metadata": {
    "execution": {
     "iopub.execute_input": "2022-01-05T10:48:22.181444Z",
     "iopub.status.busy": "2022-01-05T10:48:22.178768Z",
     "iopub.status.idle": "2022-01-05T10:48:22.228831Z",
     "shell.execute_reply": "2022-01-05T10:48:22.229887Z",
     "shell.execute_reply.started": "2022-01-05T09:36:17.689715Z"
    },
    "id": "790ef71d",
    "papermill": {
     "duration": 1.206859,
     "end_time": "2022-01-05T10:48:22.230077",
     "exception": false,
     "start_time": "2022-01-05T10:48:21.023218",
     "status": "completed"
    },
    "tags": []
   },
   "outputs": [],
   "source": [
    "# NORMALIZE D COLUMNS\n",
    "for i in range(1,16):\n",
    "    if i in [1,2,3,5,9]: continue\n",
    "    X_train['D'+str(i)] =  X_train['D'+str(i)] - X_train.TransactionDT/np.float32(24*60*60)\n",
    "    X_test['D'+str(i)] = X_test['D'+str(i)] - X_test.TransactionDT/np.float32(24*60*60)"
   ]
  },
  {
   "cell_type": "code",
   "execution_count": null,
   "id": "2aa5da28",
   "metadata": {
    "execution": {
     "iopub.execute_input": "2022-01-05T10:48:24.807139Z",
     "iopub.status.busy": "2022-01-05T10:48:24.806277Z",
     "iopub.status.idle": "2022-01-05T10:48:25.960578Z",
     "shell.execute_reply": "2022-01-05T10:48:25.961805Z",
     "shell.execute_reply.started": "2022-01-05T09:36:17.691583Z"
    },
    "id": "cef7d082",
    "outputId": "83866793-324c-4f1e-b9c0-42dd20be410b",
    "papermill": {
     "duration": 2.309762,
     "end_time": "2022-01-05T10:48:25.962014",
     "exception": false,
     "start_time": "2022-01-05T10:48:23.652252",
     "status": "completed"
    },
    "tags": []
   },
   "outputs": [
    {
     "data": {
      "image/png": "[encoded data removed]",
      "text/plain": [
       "<Figure size 1080x360 with 1 Axes>"
      ]
     },
     "metadata": {
      "needs_background": "light"
     },
     "output_type": "display_data"
    }
   ],
   "source": [
    "# PLOT TRANSFORMED D\n",
    "plt.figure(figsize=(15,5))\n",
    "plt.scatter(X_train.TransactionDT,X_train.D15)\n",
    "plt.title('Transformed D15')\n",
    "plt.xlabel('Time')\n",
    "plt.ylabel('D15n')\n",
    "plt.show()"
   ]
  },
  {
   "cell_type": "code",
   "execution_count": null,
   "id": "d15f5bea",
   "metadata": {
    "_kg_hide-input": true,
    "execution": {
     "iopub.execute_input": "2022-01-05T10:48:28.492082Z",
     "iopub.status.busy": "2022-01-05T10:48:28.491068Z",
     "iopub.status.idle": "2022-01-05T10:48:31.221930Z",
     "shell.execute_reply": "2022-01-05T10:48:31.222552Z",
     "shell.execute_reply.started": "2022-01-05T09:36:17.69352Z"
    },
    "id": "f1e2a226",
    "outputId": "7d0cdae6-45b8-4b7e-db16-09bfbcec64ab",
    "papermill": {
     "duration": 3.87828,
     "end_time": "2022-01-05T10:48:31.222759",
     "exception": false,
     "start_time": "2022-01-05T10:48:27.344479",
     "status": "completed"
    },
    "tags": []
   },
   "outputs": [
    {
     "name": "stdout",
     "output_type": "stream",
     "text": [
      "CPU times: user 2.72 s, sys: 13.8 ms, total: 2.73 s\n",
      "Wall time: 2.73 s\n"
     ]
    }
   ],
   "source": [
    "%%time\n",
    "# Mã hóa nhãn (label encode) và thực hiện giảm bộ nhớ.\n",
    "for i,f in enumerate(X_train.columns):\n",
    "    # Đối với các biến thuộc tính phân loại, đưa về kiểu số.\n",
    "    if (np.str(X_train[f].dtype)=='category')|(X_train[f].dtype=='object'): \n",
    "        df_comb = pd.concat([X_train[f],X_test[f]],axis=0) #nối dữ liệu train và test lại với nhau\n",
    "        df_comb,_ = df_comb.factorize(sort=True)   # mã hóa và xáo trôn thứ tự dữ liệu\n",
    "        if df_comb.max()>32000: print(f,'needs int32') #kiểm tra giá trị max để astype kiểu phù hợp\n",
    "        X_train[f] = df_comb[:len(X_train)].astype('int16')\n",
    "        X_test[f] = df_comb[len(X_train):].astype('int16')\n",
    "    # SHIFT ALL NUMERICS POSITIVE. SET NAN to -1\n",
    "    elif f not in ['TransactionAmt','TransactionDT']:\n",
    "        mn = np.min((X_train[f].min(),X_test[f].min()))\n",
    "        X_train[f] -= np.float32(mn)\n",
    "        X_test[f] -= np.float32(mn)\n",
    "        X_train[f].fillna(-1,inplace=True) # thay các giá trị NAN = -1\n",
    "        X_test[f].fillna(-1,inplace=True)  # thay các giá trị NAN = -1"
   ]
  },
  {
   "cell_type": "markdown",
   "id": "719f18fa",
   "metadata": {
    "id": "0b3e1229",
    "papermill": {
     "duration": 1.380832,
     "end_time": "2022-01-05T10:48:33.803575",
     "exception": false,
     "start_time": "2022-01-05T10:48:32.422743",
     "status": "completed"
    },
    "tags": []
   },
   "source": [
    "#### Các bước mã hóa"
   ]
  },
  {
   "cell_type": "markdown",
   "id": "deb1f050",
   "metadata": {
    "id": "e37b0255",
    "papermill": {
     "duration": 1.141456,
     "end_time": "2022-01-05T10:48:36.087151",
     "exception": false,
     "start_time": "2022-01-05T10:48:34.945695",
     "status": "completed"
    },
    "tags": []
   },
   "source": [
    "1. `encode_FE` : hàm này thực hiện frequency encode- mã hóa tần suất cho giá trị của các thuộc tính, trong đó ta cần kết hợp dữ liệu train và test trước khi thực hiện mã hóa.\n",
    "* Input : dữ liệu train, test, các cột thuộc tính cần mã hóa.\n",
    "* Output: tạo thêm một cột thuộc tính mới - là tần suất của các giá trị trương ứng trong cột thuộc tính input đầu vào."
   ]
  },
  {
   "cell_type": "code",
   "execution_count": null,
   "id": "1ada1f30",
   "metadata": {
    "execution": {
     "iopub.execute_input": "2022-01-05T10:48:38.538730Z",
     "iopub.status.busy": "2022-01-05T10:48:38.537897Z",
     "iopub.status.idle": "2022-01-05T10:48:38.541110Z",
     "shell.execute_reply": "2022-01-05T10:48:38.540633Z",
     "shell.execute_reply.started": "2022-01-05T09:36:17.695406Z"
    },
    "id": "e12e6678",
    "papermill": {
     "duration": 1.310542,
     "end_time": "2022-01-05T10:48:38.541251",
     "exception": false,
     "start_time": "2022-01-05T10:48:37.230709",
     "status": "completed"
    },
    "tags": []
   },
   "outputs": [],
   "source": [
    "# Mã hóa tần số cho thuộc tính\n",
    "def encode_FE(df1, df2, cols):\n",
    "    for col in cols:\n",
    "        df = pd.concat([df1[col],df2[col]])\n",
    "        vc = df.value_counts(dropna=True, normalize=True).to_dict()\n",
    "        vc[-1] = -1\n",
    "        nm = col+'_FE'\n",
    "        df1[nm] = df1[col].map(vc)\n",
    "        df1[nm] = df1[nm].astype('float32')\n",
    "        df2[nm] = df2[col].map(vc)\n",
    "        df2[nm] = df2[nm].astype('float32')\n",
    "        print(nm,', ',end='')"
   ]
  },
  {
   "cell_type": "markdown",
   "id": "37a59350",
   "metadata": {
    "id": "7a250644",
    "papermill": {
     "duration": 1.138023,
     "end_time": "2022-01-05T10:48:40.827938",
     "exception": false,
     "start_time": "2022-01-05T10:48:39.689915",
     "status": "completed"
    },
    "tags": []
   },
   "source": [
    "2. `encode_LE` : mã hóa nhãn cho các thuộc tính phân loại thành kiểu số nguyên."
   ]
  },
  {
   "cell_type": "code",
   "execution_count": null,
   "id": "f2fbe489",
   "metadata": {
    "execution": {
     "iopub.execute_input": "2022-01-05T10:48:43.212408Z",
     "iopub.status.busy": "2022-01-05T10:48:43.211432Z",
     "iopub.status.idle": "2022-01-05T10:48:43.213264Z",
     "shell.execute_reply": "2022-01-05T10:48:43.213676Z",
     "shell.execute_reply.started": "2022-01-05T09:36:17.69721Z"
    },
    "id": "53622cde",
    "papermill": {
     "duration": 1.172568,
     "end_time": "2022-01-05T10:48:43.213824",
     "exception": false,
     "start_time": "2022-01-05T10:48:42.041256",
     "status": "completed"
    },
    "tags": []
   },
   "outputs": [],
   "source": [
    "# LABEL ENCODE\n",
    "def encode_LE(col,train=X_train,test=X_test,verbose=True):\n",
    "    df_comb = pd.concat([train[col],test[col]],axis=0)\n",
    "    df_comb,_ = df_comb.factorize(sort=True)\n",
    "    nm = col\n",
    "    if df_comb.max()>32000: \n",
    "        train[nm] = df_comb[:len(train)].astype('int32')\n",
    "        test[nm] = df_comb[len(train):].astype('int32')\n",
    "    else:\n",
    "        train[nm] = df_comb[:len(train)].astype('int16')\n",
    "        test[nm] = df_comb[len(train):].astype('int16')\n",
    "    del df_comb; x=gc.collect()\n",
    "    if verbose: print(nm,', ',end='')"
   ]
  },
  {
   "cell_type": "markdown",
   "id": "0a1e8b6e",
   "metadata": {
    "id": "1756821d",
    "papermill": {
     "duration": 1.384734,
     "end_time": "2022-01-05T10:48:45.875260",
     "exception": false,
     "start_time": "2022-01-05T10:48:44.490526",
     "status": "completed"
    },
    "tags": []
   },
   "source": [
    "\n",
    "3. `encode_AG` : tạo các thuộc tính tổng hợp ( theo giá trị trung bình - mean hoặc độ lệch chuẩn - std ) bằng cách thống kê theo nhóm thuộc tính."
   ]
  },
  {
   "cell_type": "code",
   "execution_count": null,
   "id": "bc9f9f40",
   "metadata": {
    "execution": {
     "iopub.execute_input": "2022-01-05T10:48:48.216015Z",
     "iopub.status.busy": "2022-01-05T10:48:48.215120Z",
     "iopub.status.idle": "2022-01-05T10:48:48.221656Z",
     "shell.execute_reply": "2022-01-05T10:48:48.221089Z",
     "shell.execute_reply.started": "2022-01-05T09:36:17.699192Z"
    },
    "id": "85898c52",
    "papermill": {
     "duration": 1.174689,
     "end_time": "2022-01-05T10:48:48.221791",
     "exception": false,
     "start_time": "2022-01-05T10:48:47.047102",
     "status": "completed"
    },
    "tags": []
   },
   "outputs": [],
   "source": [
    "# GROUP AGGREGATION MEAN AND STD\n",
    "def encode_AG(main_columns, uids, aggregations=['mean'], train_df=X_train, test_df=X_test, \n",
    "              fillna=True, usena=False):\n",
    "    # AGGREGATION OF MAIN WITH UID FOR GIVEN STATISTICS #thống kê theo uid\n",
    "    for main_column in main_columns: \n",
    "        for col in uids:\n",
    "            for agg_type in aggregations:\n",
    "                new_col_name = main_column+'_'+col+'_'+agg_type\n",
    "                temp_df = pd.concat([train_df[[col, main_column]], test_df[[col,main_column]]]) #concat new feature\n",
    "                if usena: temp_df.loc[temp_df[main_column]==-1,main_column] = np.nan #thay nan vào các gt=-1 (đã đc xử lí trước đó)\n",
    "                temp_df = temp_df.groupby([col])[main_column].agg([agg_type]).reset_index().rename(\n",
    "                                                        columns={agg_type: new_col_name})  \n",
    "\n",
    "                temp_df.index = list(temp_df[col]) #set index by uid\n",
    "                temp_df = temp_df[new_col_name].to_dict() # convert to dict \n",
    "\n",
    "                train_df[new_col_name] = train_df[col].map(temp_df).astype('float32')  # map mean_value\n",
    "                test_df[new_col_name]  = test_df[col].map(temp_df).astype('float32')   # map mean_value\n",
    "                \n",
    "                if fillna:\n",
    "                    train_df[new_col_name].fillna(-1,inplace=True)\n",
    "                    test_df[new_col_name].fillna(-1,inplace=True)\n",
    "                \n",
    "                print(\"'\"+new_col_name+\"'\",', ',end='')\n",
    "                "
   ]
  },
  {
   "cell_type": "markdown",
   "id": "e0391198",
   "metadata": {
    "id": "c687751c",
    "papermill": {
     "duration": 1.152321,
     "end_time": "2022-01-05T10:48:50.650632",
     "exception": false,
     "start_time": "2022-01-05T10:48:49.498311",
     "status": "completed"
    },
    "tags": []
   },
   "source": [
    "4. `encode_CB` : tạo các thuộc tính mới cho mô hình bằng cách kết hợp các thuộc tính lại với nhau. "
   ]
  },
  {
   "cell_type": "code",
   "execution_count": null,
   "id": "84a79354",
   "metadata": {
    "execution": {
     "iopub.execute_input": "2022-01-05T10:48:52.935871Z",
     "iopub.status.busy": "2022-01-05T10:48:52.935058Z",
     "iopub.status.idle": "2022-01-05T10:48:52.938440Z",
     "shell.execute_reply": "2022-01-05T10:48:52.937955Z",
     "shell.execute_reply.started": "2022-01-05T09:36:17.701028Z"
    },
    "id": "93779221",
    "papermill": {
     "duration": 1.151836,
     "end_time": "2022-01-05T10:48:52.938572",
     "exception": false,
     "start_time": "2022-01-05T10:48:51.786736",
     "status": "completed"
    },
    "tags": []
   },
   "outputs": [],
   "source": [
    "# COMBINE FEATURES (create newfeaturé from 2 colums, then encode label for new_feature)\n",
    "def encode_CB(col1,col2,df1=X_train,df2=X_test):\n",
    "    nm = col1+'_'+col2\n",
    "    df1[nm] = df1[col1].astype(str)+'_'+df1[col2].astype(str) # kết hợp để tạo feature mới\n",
    "    df2[nm] = df2[col1].astype(str)+'_'+df2[col2].astype(str) # kết hợp ............\n",
    "    encode_LE(nm,verbose=False) #mã háo nhãn  cho feature mới\n",
    "    print(nm,', ',end='')"
   ]
  },
  {
   "cell_type": "markdown",
   "id": "579fb45b",
   "metadata": {
    "id": "39bfc521",
    "papermill": {
     "duration": 1.159942,
     "end_time": "2022-01-05T10:48:55.235554",
     "exception": false,
     "start_time": "2022-01-05T10:48:54.075612",
     "status": "completed"
    },
    "tags": []
   },
   "source": [
    "5.`encode_AG2`: tạo các thuộc tính tổng hợp với giá trị duy nhất - thống kê số các giá trị khác nhau của mỗi nhóm thuộc tính tổng hợp."
   ]
  },
  {
   "cell_type": "code",
   "execution_count": null,
   "id": "aa2e38c6",
   "metadata": {
    "execution": {
     "iopub.execute_input": "2022-01-05T10:48:58.209487Z",
     "iopub.status.busy": "2022-01-05T10:48:58.208775Z",
     "iopub.status.idle": "2022-01-05T10:48:58.212669Z",
     "shell.execute_reply": "2022-01-05T10:48:58.213251Z",
     "shell.execute_reply.started": "2022-01-05T09:36:17.702654Z"
    },
    "id": "cd40cac2",
    "papermill": {
     "duration": 1.581939,
     "end_time": "2022-01-05T10:48:58.213454",
     "exception": false,
     "start_time": "2022-01-05T10:48:56.631515",
     "status": "completed"
    },
    "tags": []
   },
   "outputs": [],
   "source": [
    "# GROUP AGGREGATION NUNIQUE\n",
    "def encode_AG2(main_columns, uids, train_df=X_train, test_df=X_test):\n",
    "    for main_column in main_columns:  \n",
    "        for col in uids:\n",
    "            comb = pd.concat([train_df[[col]+[main_column]],test_df[[col]+[main_column]]],axis=0)\n",
    "            mp = comb.groupby(col)[main_column].agg(['nunique'])['nunique'].to_dict()\n",
    "            train_df[col+'_'+main_column+'_ct'] = train_df[col].map(mp).astype('float32')\n",
    "            test_df[col+'_'+main_column+'_ct'] = test_df[col].map(mp).astype('float32')\n",
    "            print(col+'_'+main_column+'_ct, ',end='')"
   ]
  },
  {
   "cell_type": "markdown",
   "id": "4840e896",
   "metadata": {
    "id": "7ef2a3bd",
    "papermill": {
     "duration": 1.287505,
     "end_time": "2022-01-05T10:49:00.720571",
     "exception": false,
     "start_time": "2022-01-05T10:48:59.433066",
     "status": "completed"
    },
    "tags": []
   },
   "source": [
    "#### Feature Engineering\n",
    "\n",
    "---\n",
    "\n",
    "\n",
    "Quy trình: \n",
    "* Đầu tiên cần có ý tưởng tạo một feature mới. \n",
    "* Sau đó, thêm nó vào mô hình của mình và đánh giá xem AUC tăng hay giảm. Nếu AUC tăng, giữ lại , nếu không thì loại bỏ.\n",
    "\n"
   ]
  },
  {
   "cell_type": "code",
   "execution_count": null,
   "id": "9d2f18c0",
   "metadata": {
    "execution": {
     "iopub.execute_input": "2022-01-05T10:49:03.013162Z",
     "iopub.status.busy": "2022-01-05T10:49:03.012170Z",
     "iopub.status.idle": "2022-01-05T10:49:26.059592Z",
     "shell.execute_reply": "2022-01-05T10:49:26.059079Z",
     "shell.execute_reply.started": "2022-01-05T09:36:17.70426Z"
    },
    "id": "adfd4d4e",
    "outputId": "d4c79ba1-4a35-4792-9b5e-a4ae6b95acf7",
    "papermill": {
     "duration": 24.198464,
     "end_time": "2022-01-05T10:49:26.059717",
     "exception": false,
     "start_time": "2022-01-05T10:49:01.861253",
     "status": "completed"
    },
    "tags": []
   },
   "outputs": [
    {
     "name": "stdout",
     "output_type": "stream",
     "text": [
      "cents, addr1_FE , card1_FE , card2_FE , card3_FE , P_emaildomain_FE , card1_addr1 , card1_addr1_P_emaildomain , card1_addr1_FE , card1_addr1_P_emaildomain_FE , 'TransactionAmt_card1_mean' , 'TransactionAmt_card1_std' , 'TransactionAmt_card1_addr1_mean' , 'TransactionAmt_card1_addr1_std' , 'TransactionAmt_card1_addr1_P_emaildomain_mean' , 'TransactionAmt_card1_addr1_P_emaildomain_std' , 'D9_card1_mean' , 'D9_card1_std' , 'D9_card1_addr1_mean' , 'D9_card1_addr1_std' , 'D9_card1_addr1_P_emaildomain_mean' , 'D9_card1_addr1_P_emaildomain_std' , 'D11_card1_mean' , 'D11_card1_std' , 'D11_card1_addr1_mean' , 'D11_card1_addr1_std' , 'D11_card1_addr1_P_emaildomain_mean' , 'D11_card1_addr1_P_emaildomain_std' , CPU times: user 15.6 s, sys: 7.43 s, total: 23 s\n",
      "Wall time: 23 s\n"
     ]
    }
   ],
   "source": [
    "\n",
    "%%time\n",
    "# TRANSACTION AMT CENTS \n",
    "X_train['cents'] = (X_train['TransactionAmt'] - np.floor(X_train['TransactionAmt'])).astype('float32')  #làm tròn\n",
    "X_test['cents'] = (X_test['TransactionAmt'] - np.floor(X_test['TransactionAmt'])).astype('float32') #làm tròn\n",
    "print('cents, ', end='')\n",
    "# FREQUENCY ENCODE: ADDR1, CARD1, CARD2, CARD3, P_EMAILDOMAIN \n",
    "#mã hóa tần suất cho các cột thuộc tính\n",
    "encode_FE(X_train,X_test,['addr1','card1','card2','card3','P_emaildomain'])\n",
    "# COMBINE COLUMNS CARD1+ADDR1, CARD1+ADDR1+P_EMAILDOMAIN  \n",
    "#Combine tạo các cột thuộc tính mới\n",
    "encode_CB('card1','addr1')\n",
    "encode_CB('card1_addr1','P_emaildomain')\n",
    "# FREQUENCY ENOCDE \n",
    "# mã hóa tần suất cho các thuộc tính mới\n",
    "encode_FE(X_train,X_test,['card1_addr1','card1_addr1_P_emaildomain'])\n",
    "# GROUP AGGREGATE\n",
    "encode_AG(['TransactionAmt','D9','D11'],['card1','card1_addr1','card1_addr1_P_emaildomain'],['mean','std'],usena=True)"
   ]
  },
  {
   "cell_type": "markdown",
   "id": "32225cb0",
   "metadata": {
    "id": "a099fb69",
    "papermill": {
     "duration": 1.271302,
     "end_time": "2022-01-05T10:49:28.493763",
     "exception": false,
     "start_time": "2022-01-05T10:49:27.222461",
     "status": "completed"
    },
    "tags": []
   },
   "source": [
    "Tất cả 28 features mới này được chọn bởi vì mỗi features làm tăng giá trị local validation."
   ]
  },
  {
   "cell_type": "markdown",
   "id": "39bd713d",
   "metadata": {
    "id": "231f3d86",
    "papermill": {
     "duration": 1.398171,
     "end_time": "2022-01-05T10:49:31.432018",
     "exception": false,
     "start_time": "2022-01-05T10:49:30.033847",
     "status": "completed"
    },
    "tags": []
   },
   "source": [
    "#### Feature Selection\n"
   ]
  },
  {
   "cell_type": "markdown",
   "id": "14c0a103",
   "metadata": {
    "id": "2bf065e0",
    "papermill": {
     "duration": 1.170573,
     "end_time": "2022-01-05T10:49:33.897075",
     "exception": false,
     "start_time": "2022-01-05T10:49:32.726502",
     "status": "completed"
    },
    "tags": []
   },
   "source": [
    "##### Tính nhất quán về thời gian"
   ]
  },
  {
   "cell_type": "markdown",
   "id": "5ab3a90c",
   "metadata": {
    "id": "2b8c3434",
    "papermill": {
     "duration": 1.155175,
     "end_time": "2022-01-05T10:49:36.208947",
     "exception": false,
     "start_time": "2022-01-05T10:49:35.053772",
     "status": "completed"
    },
    "tags": []
   },
   "source": [
    "Nhóm tg đã thêm 28 features mới ở trên. Vì vậy,hiện tại chúng ta có 242 features. \n",
    "\n",
    "Bây giờ ta sẽ kiểm tra từng feature để theo dõi tính nhất quán về thời gian của thuộc tính đó.\n",
    "\n",
    "\n",
    "---\n",
    "\n",
    "\n",
    "\n",
    "Ta xây dựng 242 mô hình - mỗi mô hình tương ứng với 1 thuộc tính.\n",
    "\n",
    "Mỗi mô hình sẽ được đào tạo vào tháng đầu tiên của dữ liệu đào tạo và sẽ chỉ sử dụng một feature duy nhất. Sau đó, dự đoán kết quả trên tháng cuối cùng của dữ liệu đào tạo. \n",
    "\n",
    "Với các feature cho giá trị AUC trên tập train hoặc validation < 0.5 (tức là có một số đặc điểm của feature đó có ở tập train nhưng không có ở tập test), tác giả cho rằng đó là các thuộc tính yếu, loại bỏ và xem giá trị AUC có tăng hay không.\n",
    "\n",
    "Bằng cách này, ta loại bỏ được 19 cột thuộc tính. Ngoài ra, ta cũng loại bỏ 7 cột D chủ yếu là giá trị NAN."
   ]
  },
  {
   "cell_type": "code",
   "execution_count": null,
   "id": "18d26063",
   "metadata": {
    "execution": {
     "iopub.execute_input": "2022-01-05T10:49:38.587537Z",
     "iopub.status.busy": "2022-01-05T10:49:38.585794Z",
     "iopub.status.idle": "2022-01-05T10:49:38.588111Z",
     "shell.execute_reply": "2022-01-05T10:49:38.588562Z",
     "shell.execute_reply.started": "2022-01-05T09:36:17.70587Z"
    },
    "id": "043b3d44",
    "papermill": {
     "duration": 1.218571,
     "end_time": "2022-01-05T10:49:38.588714",
     "exception": false,
     "start_time": "2022-01-05T10:49:37.370143",
     "status": "completed"
    },
    "tags": []
   },
   "outputs": [],
   "source": [
    "#Bỏ các feature  không nhất quán về thời gian và 7 cột D_nan\n",
    "\n",
    "cols = list( X_train.columns )\n",
    "cols.remove('TransactionDT') \n",
    "for c in ['D6','D7','D8','D9','D12','D13','D14']:\n",
    "    cols.remove(c) # a lot nan\n",
    "    \n",
    "# FAILED TIME CONSISTENCY TEST\n",
    "for c in ['C3','M5','id_08','id_33']:\n",
    "    cols.remove(c)\n",
    "for c in ['card4','id_07','id_14','id_21','id_30','id_32','id_34']:\n",
    "    cols.remove(c)\n",
    "for c in ['id_'+str(x) for x in range(22,28)]:\n",
    "    cols.remove(c)"
   ]
  },
  {
   "cell_type": "code",
   "execution_count": null,
   "id": "0256e002",
   "metadata": {
    "execution": {
     "iopub.execute_input": "2022-01-05T10:49:41.159319Z",
     "iopub.status.busy": "2022-01-05T10:49:41.158329Z",
     "iopub.status.idle": "2022-01-05T10:49:41.162617Z",
     "shell.execute_reply": "2022-01-05T10:49:41.163027Z",
     "shell.execute_reply.started": "2022-01-05T09:36:17.707476Z"
    },
    "id": "ca4b0f6e",
    "outputId": "f59f8d96-1a3e-4b4b-9958-69c02422f852",
    "papermill": {
     "duration": 1.171967,
     "end_time": "2022-01-05T10:49:41.163191",
     "exception": false,
     "start_time": "2022-01-05T10:49:39.991224",
     "status": "completed"
    },
    "tags": []
   },
   "outputs": [
    {
     "name": "stdout",
     "output_type": "stream",
     "text": [
      "NOW USING THE FOLLOWING 224 FEATURES.\n"
     ]
    },
    {
     "data": {
      "text/plain": [
       "array(['TransactionAmt', 'ProductCD', 'card1', 'card2', 'card3', 'card5',\n",
       "       'card6', 'addr1', 'addr2', 'dist1', 'dist2', 'P_emaildomain',\n",
       "       'R_emaildomain', 'C1', 'C2', 'C4', 'C5', 'C6', 'C7', 'C8', 'C9',\n",
       "       'C10', 'C11', 'C12', 'C13', 'C14', 'D1', 'D2', 'D3', 'D4', 'D5',\n",
       "       'D10', 'D11', 'D15', 'M1', 'M2', 'M3', 'M4', 'M6', 'M7', 'M8',\n",
       "       'M9', 'V1', 'V3', 'V4', 'V6', 'V8', 'V11', 'V13', 'V14', 'V17',\n",
       "       'V20', 'V23', 'V26', 'V27', 'V30', 'V36', 'V37', 'V40', 'V41',\n",
       "       'V44', 'V47', 'V48', 'V54', 'V56', 'V59', 'V62', 'V65', 'V67',\n",
       "       'V68', 'V70', 'V76', 'V78', 'V80', 'V82', 'V86', 'V88', 'V89',\n",
       "       'V91', 'V96', 'V98', 'V99', 'V104', 'V107', 'V108', 'V111', 'V115',\n",
       "       'V117', 'V120', 'V121', 'V123', 'V124', 'V127', 'V129', 'V130',\n",
       "       'V136', 'V138', 'V139', 'V142', 'V147', 'V156', 'V160', 'V162',\n",
       "       'V165', 'V166', 'V169', 'V171', 'V173', 'V175', 'V176', 'V178',\n",
       "       'V180', 'V182', 'V185', 'V187', 'V188', 'V198', 'V203', 'V205',\n",
       "       'V207', 'V209', 'V210', 'V215', 'V218', 'V220', 'V221', 'V223',\n",
       "       'V224', 'V226', 'V228', 'V229', 'V234', 'V235', 'V238', 'V240',\n",
       "       'V250', 'V252', 'V253', 'V257', 'V258', 'V260', 'V261', 'V264',\n",
       "       'V266', 'V267', 'V271', 'V274', 'V277', 'V281', 'V283', 'V284',\n",
       "       'V285', 'V286', 'V289', 'V291', 'V294', 'V296', 'V297', 'V301',\n",
       "       'V303', 'V305', 'V307', 'V309', 'V310', 'V314', 'V320', 'V325',\n",
       "       'V332', 'V335', 'V338', 'id_01', 'id_02', 'id_03', 'id_04',\n",
       "       'id_05', 'id_06', 'id_09', 'id_10', 'id_11', 'id_12', 'id_13',\n",
       "       'id_15', 'id_16', 'id_17', 'id_18', 'id_19', 'id_20', 'id_28',\n",
       "       'id_29', 'id_31', 'id_35', 'id_36', 'id_37', 'id_38', 'DeviceType',\n",
       "       'DeviceInfo', 'cents', 'addr1_FE', 'card1_FE', 'card2_FE',\n",
       "       'card3_FE', 'P_emaildomain_FE', 'card1_addr1',\n",
       "       'card1_addr1_P_emaildomain', 'card1_addr1_FE',\n",
       "       'card1_addr1_P_emaildomain_FE', 'TransactionAmt_card1_mean',\n",
       "       'TransactionAmt_card1_std', 'TransactionAmt_card1_addr1_mean',\n",
       "       'TransactionAmt_card1_addr1_std',\n",
       "       'TransactionAmt_card1_addr1_P_emaildomain_mean',\n",
       "       'TransactionAmt_card1_addr1_P_emaildomain_std', 'D9_card1_mean',\n",
       "       'D9_card1_std', 'D9_card1_addr1_mean', 'D9_card1_addr1_std',\n",
       "       'D9_card1_addr1_P_emaildomain_mean',\n",
       "       'D9_card1_addr1_P_emaildomain_std', 'D11_card1_mean',\n",
       "       'D11_card1_std', 'D11_card1_addr1_mean', 'D11_card1_addr1_std',\n",
       "       'D11_card1_addr1_P_emaildomain_mean',\n",
       "       'D11_card1_addr1_P_emaildomain_std'], dtype='<U45')"
      ]
     },
     "execution_count": 83,
     "metadata": {},
     "output_type": "execute_result"
    }
   ],
   "source": [
    "print('NOW USING THE FOLLOWING',len(cols),'FEATURES.')\n",
    "np.array(cols)"
   ]
  },
  {
   "cell_type": "markdown",
   "id": "fe218650",
   "metadata": {
    "id": "6a734acb",
    "papermill": {
     "duration": 1.148893,
     "end_time": "2022-01-05T10:49:43.455839",
     "exception": false,
     "start_time": "2022-01-05T10:49:42.306946",
     "status": "completed"
    },
    "tags": []
   },
   "source": [
    "##### Xác thực chéo - Local Validation\n",
    "Xác thực dựa trên thời gian - tháng.\n",
    "\n",
    "Đánh giá các thuộc tính bằng cách huấn luyện mô hình trên 75% dữ liệu đầu tiên và dự đoán trên 25% dữ liệu cuối cùng.\n",
    "\n",
    "(Tương đương 4.5 tháng đầu tiên và 1.5 tháng cuối cùng)"
   ]
  },
  {
   "cell_type": "code",
   "execution_count": null,
   "id": "7cf9904c",
   "metadata": {
    "execution": {
     "iopub.execute_input": "2022-01-05T10:49:45.883751Z",
     "iopub.status.busy": "2022-01-05T10:49:45.882024Z",
     "iopub.status.idle": "2022-01-05T10:49:45.884575Z",
     "shell.execute_reply": "2022-01-05T10:49:45.882994Z",
     "shell.execute_reply.started": "2022-01-05T09:36:17.709062Z"
    },
    "id": "9ba8d679",
    "papermill": {
     "duration": 1.170117,
     "end_time": "2022-01-05T10:49:45.884758",
     "exception": false,
     "start_time": "2022-01-05T10:49:44.714641",
     "status": "completed"
    },
    "tags": []
   },
   "outputs": [],
   "source": [
    "#TRAIN 75% PREDICT 25%\n",
    "idxT = X_train.index[:3*len(X_train)//4]\n",
    "idxV = X_train.index[3*len(X_train)//4:]"
   ]
  },
  {
   "cell_type": "markdown",
   "id": "bb4a53ae",
   "metadata": {
    "id": "dd242e74",
    "papermill": {
     "duration": 1.2098,
     "end_time": "2022-01-05T10:49:48.296048",
     "exception": false,
     "start_time": "2022-01-05T10:49:47.086248",
     "status": "completed"
    },
    "tags": []
   },
   "source": [
    "#### Mô hình XGBoots\n",
    "Nhóm tác giả xây dựng hai mô hình XGB. \n",
    "1. Mô hình đầu tiên không sử dụng \"magic feature\" tức là \"UID\" và đạt được điểm LB = 0,95. \n",
    "2. Mô hình thứ hai sử dụng \"magic feature\" UID và đạt được kết quả trên LB = 0,96."
   ]
  },
  {
   "cell_type": "markdown",
   "id": "cabcbeaf",
   "metadata": {
    "id": "d1a48703",
    "papermill": {
     "duration": 1.408989,
     "end_time": "2022-01-05T10:49:50.861519",
     "exception": false,
     "start_time": "2022-01-05T10:49:49.452530",
     "status": "completed"
    },
    "tags": []
   },
   "source": [
    "##### **Tổng quan về mô hình**"
   ]
  },
  {
   "cell_type": "markdown",
   "id": "ca877ddd",
   "metadata": {
    "id": "b1de786c",
    "papermill": {
     "duration": 1.149282,
     "end_time": "2022-01-05T10:49:53.170230",
     "exception": false,
     "start_time": "2022-01-05T10:49:52.020948",
     "status": "completed"
    },
    "tags": []
   },
   "source": [
    "**Ensemble Methods** :\n",
    ">Học kết hợp là mô hình học máy trong đó nhiều mô hình \"yếu\" (weak learner) được đào tạo để giải quyết cùng 1 bài toán và kết hợp thành 1 mô hình mạnh hơn để đạt được kết quả tốt hơn.\n",
    "<img src=\"https://github.com/nhung-ng/IEEE-CIS-Fraud-Detection/blob/main/image/EL.jpg?raw=1\" alt=\"EL\" width=\"800\">\n",
    "\n",
    "**Boosting** (thuộc Ensemble Methods):\n",
    ">Phương pháp xây dựng một loạt các mô hình giống nhau, trong đó các mô hình sau sẽ cố gắng học để hạn chế lỗi của mô hình trước. Mỗi mô hình có thể xem là một base model hay weak learner.\n",
    "\n",
    "**Gradient boosting** (thuộc Boosting):\n",
    ">Phương pháp xây dựng một loạt các mô hình giống nhau, trong đó các mô hình sau sẽ cố gắng học để hạn chế lỗi của mô hình trước. \n",
    ">\n",
    ">Thuật toán dựa vào Gradient Descent và mỗi base model thường là một cây quyết định.\n",
    ">\n",
    "><img src=\"https://github.com/nhung-ng/IEEE-CIS-Fraud-Detection/blob/main/image/GD.jpg?raw=1\" alt=\"GD\" height=\"500\" width=\"800\">\n",
    ">\n",
    ">Với Gradient Boosting, 2 framework phổ biến nhất là XGBoost và LightGBM\n",
    "\n",
    "**XGBoots**:\n",
    "><img src=\"https://github.com/nhung-ng/IEEE-CIS-Fraud-Detection/blob/main/image/XGB.jpg?raw=1\" alt=\"xgb\" width=\"800\">\n",
    ">\n",
    ">Trong solution này, tác giả sử dụng cả 2 mô hình XGB và LGBM cho kết quả submission cuối cùng, nhưng nhóm chọn XGB để tập trung tìm hiểu vì các thông tin và mô tả mà tác giả cung cấp chủ yếu dựa trên XGB, sẽ dễ tiếp cận hơn với solution.\n",
    "\n",
    "**Hyperparameters:**\n",
    "\n",
    "> Một số phương pháp điều chỉnh - tuning các siêu tham số cho mô hình như:\n",
    "*\tTìm kiếm lưới.\n",
    "*\tTìm kiếm ngẫu nhiên.\n",
    "*\tTối ưu hóa Bayes.\n",
    "*\tTối ưu hóa dựa trên Gradient.\n",
    "*\tTối ưu hóa tiến hóa  - sử dụng các thuật toán tiến hóa để tìm kiếm không gian của siêu tham số cho một thuật toán nhất định.\n",
    "*\tDựa trên điểm dừng sớm - early stopping.\n",
    "\n",
    "**Hyperparameters tuning trong mô hình của tác giả:**\n",
    "\n",
    ">Tác giả không đề cập đến việc điều chỉnh tham số, vì vậy nhóm sẽ thử xây dựng mô hình với các tham số mà tác giả đã chọn, đồng thời thử điều chỉnh một số tham số quan trọng như:\n",
    "* n_thread: Số lượng cores của hê thống được sử dụng để chạy model. (Giá trị mặc định là -1, XGBoost sẽ tự động phát hiện và sử dụng tất cả các cores)\n",
    "* learning_rate. Giá trị mặc định là 0.3.\n",
    "* max_depth: Độ sâu tối đa của decision tree. Giá trị mặc định là 6.\n",
    "* n_estimators : số chu trình.\n",
    "* reg-lambda: L2 regularization. Giá trị mặc định là 1.\n",
    "* reg-alpha: L1 regularization. Giá trị mặc định là 0."
   ]
  },
  {
   "cell_type": "markdown",
   "id": "bcbb32e7",
   "metadata": {
    "id": "cfdf907f",
    "papermill": {
     "duration": 1.204521,
     "end_time": "2022-01-05T10:49:55.625322",
     "exception": false,
     "start_time": "2022-01-05T10:49:54.420801",
     "status": "completed"
    },
    "tags": []
   },
   "source": [
    "#### Xây dựng mô hình XGB - \"non\" UID"
   ]
  },
  {
   "cell_type": "code",
   "execution_count": null,
   "id": "6fd298fb",
   "metadata": {
    "execution": {
     "iopub.execute_input": "2022-01-05T10:49:58.030084Z",
     "iopub.status.busy": "2022-01-05T10:49:58.029077Z",
     "iopub.status.idle": "2022-01-05T10:51:09.019274Z",
     "shell.execute_reply": "2022-01-05T10:51:09.018625Z",
     "shell.execute_reply.started": "2022-01-05T09:36:17.710692Z"
    },
    "id": "9e55ad62",
    "outputId": "416854a4-c88e-4cec-bdbf-93903f1f77d5",
    "papermill": {
     "duration": 72.185978,
     "end_time": "2022-01-05T10:51:09.019421",
     "exception": false,
     "start_time": "2022-01-05T10:49:56.833443",
     "status": "completed"
    },
    "tags": []
   },
   "outputs": [
    {
     "name": "stdout",
     "output_type": "stream",
     "text": [
      "XGBoost version: 1.5.1\n",
      "[0]\tvalidation_0-auc:0.81092\n",
      "[50]\tvalidation_0-auc:0.87622\n",
      "[100]\tvalidation_0-auc:0.88955\n",
      "[150]\tvalidation_0-auc:0.90777\n",
      "[200]\tvalidation_0-auc:0.91807\n",
      "[250]\tvalidation_0-auc:0.92530\n",
      "[300]\tvalidation_0-auc:0.93038\n",
      "[350]\tvalidation_0-auc:0.93301\n",
      "[400]\tvalidation_0-auc:0.93460\n",
      "[450]\tvalidation_0-auc:0.93506\n",
      "[500]\tvalidation_0-auc:0.93548\n",
      "[550]\tvalidation_0-auc:0.93556\n",
      "[600]\tvalidation_0-auc:0.93564\n",
      "[650]\tvalidation_0-auc:0.93550\n",
      "[685]\tvalidation_0-auc:0.93542\n"
     ]
    }
   ],
   "source": [
    "import xgboost as xgb\n",
    "print(\"XGBoost version:\", xgb.__version__)\n",
    "\n",
    "if BUILD95:\n",
    "    clf = xgb.XGBClassifier( \n",
    "        n_estimators=2000,\n",
    "        max_depth=12, \n",
    "        learning_rate=0.02, \n",
    "        subsample=0.8,\n",
    "        colsample_bytree=0.4, \n",
    "        missing=-1, \n",
    "        eval_metric='auc',\n",
    "        # USE CPU\n",
    "        #nthread=4,\n",
    "        #tree_method='hist' \n",
    "        # USE GPU\n",
    "        tree_method='gpu_hist' \n",
    "    )\n",
    "    h = clf.fit(X_train.loc[idxT,cols], y_train[idxT], \n",
    "        eval_set=[(X_train.loc[idxV,cols],y_train[idxV])],\n",
    "        verbose=50, early_stopping_rounds=100)"
   ]
  },
  {
   "cell_type": "markdown",
   "id": "1686a2b5",
   "metadata": {
    "id": "9fdecf30",
    "papermill": {
     "duration": 1.194051,
     "end_time": "2022-01-05T10:51:11.382122",
     "exception": false,
     "start_time": "2022-01-05T10:51:10.188071",
     "status": "completed"
    },
    "tags": []
   },
   "source": [
    "Các thuộc tính quan trọng đối với mô hình : "
   ]
  },
  {
   "cell_type": "code",
   "execution_count": null,
   "id": "16dfe71f",
   "metadata": {
    "execution": {
     "iopub.execute_input": "2022-01-05T10:51:13.726864Z",
     "iopub.status.busy": "2022-01-05T10:51:13.726057Z",
     "iopub.status.idle": "2022-01-05T10:51:14.727253Z",
     "shell.execute_reply": "2022-01-05T10:51:14.726764Z",
     "shell.execute_reply.started": "2022-01-05T09:36:17.712471Z"
    },
    "id": "7a7ff407",
    "outputId": "5fc580fd-e6c3-43fd-8a35-d60255304736",
    "papermill": {
     "duration": 2.170422,
     "end_time": "2022-01-05T10:51:14.727392",
     "exception": false,
     "start_time": "2022-01-05T10:51:12.556970",
     "status": "completed"
    },
    "tags": []
   },
   "outputs": [
    {
     "data": {
      "image/png": "[encoded data removed]",
      "text/plain": [
       "<Figure size 1440x720 with 1 Axes>"
      ]
     },
     "metadata": {
      "needs_background": "light"
     },
     "output_type": "display_data"
    }
   ],
   "source": [
    "if BUILD95:\n",
    "    # Các thuộc tính quan trọng trong mô hình\n",
    "    feature_imp = pd.DataFrame(sorted(zip(clf.feature_importances_,cols)), columns=['Value','Feature'])\n",
    "    plt.figure(figsize=(20, 10))\n",
    "    sns.barplot(x=\"Value\", y=\"Feature\", data=feature_imp.sort_values(by=\"Value\", ascending=False).iloc[:50])\n",
    "    plt.title('XGB95 Most Important Features')\n",
    "    plt.tight_layout()\n",
    "    plt.show()\n",
    "    del clf, h; x=gc.collect()"
   ]
  },
  {
   "cell_type": "markdown",
   "id": "7827af1c",
   "metadata": {
    "id": "218aa3bb",
    "papermill": {
     "duration": 1.173356,
     "end_time": "2022-01-05T10:51:17.053898",
     "exception": false,
     "start_time": "2022-01-05T10:51:15.880542",
     "status": "completed"
    },
    "tags": []
   },
   "source": [
    "##### Predict test.csv\n",
    "\n",
    "---\n",
    "\n",
    "Dự đoán trên tập test.csv bằng cách sử dụng GroupKFold với các nhóm tương ứng là các tháng. \n",
    "\n",
    "Tập train là các dữ liệu trong 6 tháng : tháng tháng 12 năm 2017, tháng 1 năm 2018, tháng 2 năm 2018, tháng 3 năm 2018, tháng 4 năm 2018 và tháng 5 năm 2018. \n",
    "\n",
    "Tác giả gọi các tháng này tương ứng là 12, 13, 14, 15, 16, 17, đào tạo trên tháng 13 đến tháng 17 và dự đoán tháng 12."
   ]
  },
  {
   "cell_type": "code",
   "execution_count": null,
   "id": "492bc2e2",
   "metadata": {
    "execution": {
     "iopub.execute_input": "2022-01-05T10:51:19.882943Z",
     "iopub.status.busy": "2022-01-05T10:51:19.882016Z",
     "iopub.status.idle": "2022-01-05T10:51:21.746231Z",
     "shell.execute_reply": "2022-01-05T10:51:21.745730Z",
     "shell.execute_reply.started": "2022-01-05T09:36:17.714189Z"
    },
    "id": "82a3d1cd",
    "papermill": {
     "duration": 3.332494,
     "end_time": "2022-01-05T10:51:21.746373",
     "exception": false,
     "start_time": "2022-01-05T10:51:18.413879",
     "status": "completed"
    },
    "tags": []
   },
   "outputs": [],
   "source": [
    "# Chuẩn bị dữ liệu phân chia theo tháng\n",
    "\n",
    "import datetime\n",
    "START_DATE = datetime.datetime.strptime('2017-11-30', '%Y-%m-%d')\n",
    "X_train['DT_M'] = X_train['TransactionDT'].apply(lambda x: (START_DATE + datetime.timedelta(seconds = x)))\n",
    "X_train['DT_M'] = (X_train['DT_M'].dt.year-2017)*12 + X_train['DT_M'].dt.month \n",
    "\n",
    "X_test['DT_M'] = X_test['TransactionDT'].apply(lambda x: (START_DATE + datetime.timedelta(seconds = x)))\n",
    "X_test['DT_M'] = (X_test['DT_M'].dt.year-2017)*12 + X_test['DT_M'].dt.month "
   ]
  },
  {
   "cell_type": "markdown",
   "id": "56a552a3",
   "metadata": {
    "id": "8fdeebe3",
    "papermill": {
     "duration": 1.242173,
     "end_time": "2022-01-05T10:51:24.184320",
     "exception": false,
     "start_time": "2022-01-05T10:51:22.942147",
     "status": "completed"
    },
    "tags": []
   },
   "source": [
    "Nhiều phương án dự đoán khác đã được thử nhưng GroupKFold hoạt động tốt nhất đối với tập dữ liệu này.\n",
    "\n",
    "**Cross Validation - GroupKFold**\n",
    "\n",
    "KFold: chia tập dữ liệu thành k phần khác nhau cho mỗi lần lặp lại bằng cách sử dụng một nhóm để kiểm tra và những nhóm khác để đào tạo.\n",
    "\n",
    "**GroupKFold** là biến thể của KFold, trong đó mỗi lần lặp sẽ không có sự chồng chéo dữ liệu:\n",
    "* Cùng một nhóm-group sẽ không xuất hiện trong hai folds khác nhau (số lượng các nhóm riêng biệt phải tối thiểu bằng số folds).\n",
    "* Số lượng các nhóm trong mỗi fold phải xấp xỉ gần bằng nhau.\n",
    "\n",
    "**=>** Điều này đảm bảo rằng cùng một nhóm không được đại diện trong cả tập thử nghiệm và huấn luyện.\n",
    "\n",
    "\n",
    "**Áp dụng GroupKFold vào mô hình**\n",
    "\n",
    "Chia tập train thành 6 fold nhỏ hơn để tiến hành huấn luyện và xác thực chéo lẫn nhau bằng cách truyền tham số cho GroupKFold  với n_splits = 6. \n",
    "\n",
    "Dữ liệu tập train sẽ được chia làm 6 phần riêng biệt.\n",
    "\n",
    "Mô hình sẽ tiến hành train 6 lần, với mỗi lần thì sẽ dùng 1 fold làm tập validation và 5 fold còn lại làm dữ liệu để training (trong đó không có cùng một khách hàng nào xuất hiện trong fold_validation và folds_training).\n",
    "\n",
    "Kết quả đánh giá cho model là trung bình cộng của 6 lần train.\n"
   ]
  },
  {
   "cell_type": "code",
   "execution_count": null,
   "id": "e24a00d9",
   "metadata": {
    "execution": {
     "iopub.execute_input": "2022-01-05T10:51:26.516260Z",
     "iopub.status.busy": "2022-01-05T10:51:26.515228Z",
     "iopub.status.idle": "2022-01-05T11:02:20.154599Z",
     "shell.execute_reply": "2022-01-05T11:02:20.155076Z",
     "shell.execute_reply.started": "2022-01-05T09:36:17.715813Z"
    },
    "id": "770c625b",
    "outputId": "960b4ab6-c986-4902-f8ac-1c34af2a0c1f",
    "papermill": {
     "duration": 654.822162,
     "end_time": "2022-01-05T11:02:20.155270",
     "exception": false,
     "start_time": "2022-01-05T10:51:25.333108",
     "status": "completed"
    },
    "tags": []
   },
   "outputs": [
    {
     "name": "stdout",
     "output_type": "stream",
     "text": [
      "Fold 0 withholding month 12\n",
      " rows of train = 453219 rows of holdout = 137321\n",
      "[0]\tvalidation_0-auc:0.80039\n",
      "[100]\tvalidation_0-auc:0.87383\n",
      "[200]\tvalidation_0-auc:0.89134\n",
      "[300]\tvalidation_0-auc:0.90082\n",
      "[400]\tvalidation_0-auc:0.90480\n",
      "[500]\tvalidation_0-auc:0.90648\n",
      "[600]\tvalidation_0-auc:0.90724\n",
      "[700]\tvalidation_0-auc:0.90658\n",
      "[795]\tvalidation_0-auc:0.90678\n",
      "Fold 1 withholding month 15\n",
      " rows of train = 488908 rows of holdout = 101632\n",
      "[0]\tvalidation_0-auc:0.83347\n",
      "[100]\tvalidation_0-auc:0.90390\n",
      "[200]\tvalidation_0-auc:0.93094\n",
      "[300]\tvalidation_0-auc:0.94124\n",
      "[400]\tvalidation_0-auc:0.94533\n",
      "[500]\tvalidation_0-auc:0.94662\n",
      "[600]\tvalidation_0-auc:0.94673\n",
      "[700]\tvalidation_0-auc:0.94682\n",
      "[800]\tvalidation_0-auc:0.94684\n",
      "[900]\tvalidation_0-auc:0.94634\n",
      "[911]\tvalidation_0-auc:0.94631\n",
      "Fold 2 withholding month 13\n",
      " rows of train = 497955 rows of holdout = 92585\n",
      "[0]\tvalidation_0-auc:0.83768\n",
      "[100]\tvalidation_0-auc:0.90063\n",
      "[200]\tvalidation_0-auc:0.92410\n",
      "[300]\tvalidation_0-auc:0.93600\n",
      "[400]\tvalidation_0-auc:0.94030\n",
      "[500]\tvalidation_0-auc:0.94220\n",
      "[600]\tvalidation_0-auc:0.94205\n",
      "[700]\tvalidation_0-auc:0.94211\n",
      "[714]\tvalidation_0-auc:0.94220\n",
      "Fold 3 withholding month 17\n",
      " rows of train = 501214 rows of holdout = 89326\n",
      "[0]\tvalidation_0-auc:0.82623\n",
      "[100]\tvalidation_0-auc:0.89721\n",
      "[200]\tvalidation_0-auc:0.92495\n",
      "[300]\tvalidation_0-auc:0.93831\n",
      "[400]\tvalidation_0-auc:0.94332\n",
      "[500]\tvalidation_0-auc:0.94454\n",
      "[600]\tvalidation_0-auc:0.94479\n",
      "[700]\tvalidation_0-auc:0.94416\n",
      "[784]\tvalidation_0-auc:0.94367\n",
      "Fold 4 withholding month 14\n",
      " rows of train = 504519 rows of holdout = 86021\n",
      "[0]\tvalidation_0-auc:0.84875\n",
      "[100]\tvalidation_0-auc:0.91930\n",
      "[200]\tvalidation_0-auc:0.94061\n",
      "[300]\tvalidation_0-auc:0.94895\n",
      "[400]\tvalidation_0-auc:0.95194\n",
      "[500]\tvalidation_0-auc:0.95225\n",
      "[600]\tvalidation_0-auc:0.95202\n",
      "[697]\tvalidation_0-auc:0.95179\n",
      "Fold 5 withholding month 16\n",
      " rows of train = 506885 rows of holdout = 83655\n",
      "[0]\tvalidation_0-auc:0.81998\n",
      "[100]\tvalidation_0-auc:0.90475\n",
      "[200]\tvalidation_0-auc:0.93571\n",
      "[300]\tvalidation_0-auc:0.94946\n",
      "[400]\tvalidation_0-auc:0.95429\n",
      "[500]\tvalidation_0-auc:0.95547\n",
      "[600]\tvalidation_0-auc:0.95588\n",
      "[700]\tvalidation_0-auc:0.95622\n",
      "[800]\tvalidation_0-auc:0.95631\n",
      "[876]\tvalidation_0-auc:0.95626\n",
      "####################\n",
      "XGB95 OOF CV= 0.9409139179894693\n"
     ]
    }
   ],
   "source": [
    "if BUILD95:\n",
    "    oof = np.zeros(len(X_train))\n",
    "    preds = np.zeros(len(X_test))\n",
    "\n",
    "    skf = GroupKFold(n_splits=6)\n",
    "    for i, (idxT, idxV) in enumerate( skf.split(X_train, y_train, groups=X_train['DT_M']) ):\n",
    "        month = X_train.iloc[idxV]['DT_M'].iloc[0]\n",
    "        print('Fold',i,'withholding month',month)\n",
    "        print(' rows of train =',len(idxT),'rows of holdout =',len(idxV))\n",
    "        clf = xgb.XGBClassifier(\n",
    "            n_estimators=5000,\n",
    "            max_depth=12,\n",
    "            learning_rate=0.02,\n",
    "            subsample=0.8,\n",
    "            colsample_bytree=0.4,\n",
    "            missing=-1,\n",
    "            eval_metric='auc',\n",
    "            # USE CPU\n",
    "            #nthread=4,\n",
    "            #tree_method='hist'\n",
    "            # USE GPU\n",
    "            tree_method='gpu_hist' \n",
    "        )        \n",
    "        h = clf.fit(X_train[cols].iloc[idxT], y_train.iloc[idxT], \n",
    "                eval_set=[(X_train[cols].iloc[idxV],y_train.iloc[idxV])],\n",
    "                verbose=100, early_stopping_rounds=200)\n",
    "    \n",
    "        oof[idxV] += clf.predict_proba(X_train[cols].iloc[idxV])[:,1]\n",
    "        preds += clf.predict_proba(X_test[cols])[:,1]/skf.n_splits\n",
    "        del h, clf\n",
    "        x=gc.collect()\n",
    "    print('#'*20)\n",
    "    print ('XGB95 OOF CV=',roc_auc_score(y_train,oof))"
   ]
  },
  {
   "cell_type": "code",
   "execution_count": null,
   "id": "c0200f77",
   "metadata": {
    "execution": {
     "iopub.execute_input": "2022-01-05T11:02:22.502606Z",
     "iopub.status.busy": "2022-01-05T11:02:22.501728Z",
     "iopub.status.idle": "2022-01-05T11:02:25.449923Z",
     "shell.execute_reply": "2022-01-05T11:02:25.449443Z",
     "shell.execute_reply.started": "2022-01-05T09:36:17.717546Z"
    },
    "id": "9424a4e4",
    "outputId": "8cfb3be7-245b-42bb-9a1d-a346a728cb24",
    "papermill": {
     "duration": 4.129278,
     "end_time": "2022-01-05T11:02:25.450057",
     "exception": false,
     "start_time": "2022-01-05T11:02:21.320779",
     "status": "completed"
    },
    "tags": []
   },
   "outputs": [
    {
     "data": {
      "image/png": "[encoded data removed]",
      "text/plain": [
       "<Figure size 432x288 with 1 Axes>"
      ]
     },
     "metadata": {
      "needs_background": "light"
     },
     "output_type": "display_data"
    }
   ],
   "source": [
    "if BUILD95:\n",
    "    plt.hist(oof,bins=100)\n",
    "    plt.ylim((0,5000))\n",
    "    plt.title('XGB OOF')\n",
    "    plt.show()\n",
    "\n",
    "    X_train['oof'] = oof\n",
    "    X_train.reset_index(inplace=True)\n",
    "    X_train[['TransactionID','oof']].to_csv('oof_xgb_95.csv')\n",
    "    X_train.set_index('TransactionID',drop=True,inplace=True)\n",
    "    \n",
    "else: X_train['oof'] = 0"
   ]
  },
  {
   "cell_type": "markdown",
   "id": "85e97c7f",
   "metadata": {
    "id": "-owOWj87Ms5n"
   },
   "source": [
    "Kết quả : AUC trên tập validation = 0.9409139179894693"
   ]
  },
  {
   "cell_type": "markdown",
   "id": "31990b16",
   "metadata": {
    "id": "b264d7aa",
    "papermill": {
     "duration": 1.191914,
     "end_time": "2022-01-05T11:02:27.804372",
     "exception": false,
     "start_time": "2022-01-05T11:02:26.612458",
     "status": "completed"
    },
    "tags": []
   },
   "source": [
    "##### Kaggle Submission File XGB_95"
   ]
  },
  {
   "cell_type": "code",
   "execution_count": null,
   "id": "9342a238",
   "metadata": {
    "execution": {
     "iopub.execute_input": "2022-01-05T11:02:30.565412Z",
     "iopub.status.busy": "2022-01-05T11:02:30.564574Z",
     "iopub.status.idle": "2022-01-05T11:02:33.091518Z",
     "shell.execute_reply": "2022-01-05T11:02:33.091049Z",
     "shell.execute_reply.started": "2022-01-05T09:36:17.719326Z"
    },
    "id": "983bc9a5",
    "outputId": "89da8ac9-eb97-4699-d37f-3281eabad2b6",
    "papermill": {
     "duration": 4.119894,
     "end_time": "2022-01-05T11:02:33.091662",
     "exception": false,
     "start_time": "2022-01-05T11:02:28.971768",
     "status": "completed"
    },
    "tags": []
   },
   "outputs": [
    {
     "data": {
      "image/png": "[encoded data removed]",
      "text/plain": [
       "<Figure size 432x288 with 1 Axes>"
      ]
     },
     "metadata": {
      "needs_background": "light"
     },
     "output_type": "display_data"
    }
   ],
   "source": [
    "if BUILD95:\n",
    "    sample_submission = pd.read_csv(INPUT_DIR+'sample_submission.csv')\n",
    "    sample_submission.isFraud = preds\n",
    "    sample_submission.to_csv('sub_xgb_95.csv',index=False)\n",
    "\n",
    "    plt.hist(sample_submission.isFraud,bins=100)\n",
    "    plt.ylim((0,5000))\n",
    "    plt.title('XGB95 Submission')\n",
    "    plt.show()"
   ]
  },
  {
   "cell_type": "markdown",
   "id": "93fc7f14",
   "metadata": {
    "id": "32347654",
    "papermill": {
     "duration": 1.21704,
     "end_time": "2022-01-05T11:02:35.512564",
     "exception": false,
     "start_time": "2022-01-05T11:02:34.295524",
     "status": "completed"
    },
    "tags": []
   },
   "source": [
    "#### Xây dựng mô hình XGB - used UID"
   ]
  },
  {
   "cell_type": "markdown",
   "id": "07291c4b",
   "metadata": {
    "id": "c1a18ffd",
    "papermill": {
     "duration": 1.169706,
     "end_time": "2022-01-05T11:02:40.182378",
     "exception": false,
     "start_time": "2022-01-05T11:02:39.012672",
     "status": "completed"
    },
    "tags": []
   },
   "source": [
    "##### The Magic Feature - UID\n",
    "**Cách hoạt động**\n",
    "* Bước 1: Chúng ta cần tạo ra cột UID để định danh khách hàng\n",
    "* Bước 2: Tạo ra các tính năng tổng hợp nhóm  (Nhóm theo UID)\n",
    "* Bước 3: Xóa đi cột UID\n",
    "\n",
    "Giả sử chúng ta có 10 giao dịch `A, B, C, D, E, F, G, H, I, J` như hình bên dưới.  \n",
    "  \n",
    "<img src=\"https://github.com/trandaitai327/IEEE-CIS-Fraud-Detection/blob/main/image/table.jpg?raw=1\" alt=\"table\" width=\"700\">\n",
    "\n",
    "\n",
    "Nếu chỉ sử dung FeatureX. \n",
    "Chúng ta dự đoán đúng được 7 trên 10 giao dịch như hình bên dưới\n",
    " \n",
    " \n",
    "<img src=\"https://github.com/trandaitai327/IEEE-CIS-Fraud-Detection/blob/main/image/tran.jpg?raw=1\" alt=\"tran\" height =\"600\" width=\"700\">\n",
    "  \n",
    "  \n",
    "Nếu có thêm cột UID, chúng ta có thể tạo ra cột GroupX bằng cách lấy trung bình FeatureX theo UID. \n",
    "\n",
    "Chúng ta có thể dự đoán đúng 100% các giao dịch.\n",
    "  \n",
    "  \n",
    "<img src=\"https://github.com/trandaitai327/IEEE-CIS-Fraud-Detection/blob/main/image/cred.jpg?raw=1\" alt=\"cred\" height = \"500\" width=\"700\">"
   ]
  },
  {
   "cell_type": "markdown",
   "id": "0c84cba5",
   "metadata": {
    "id": "952bb50c",
    "papermill": {
     "duration": 1.201819,
     "end_time": "2022-01-05T11:02:42.799526",
     "exception": false,
     "start_time": "2022-01-05T11:02:41.597707",
     "status": "completed"
    },
    "tags": []
   },
   "source": [
    "##### Tạo thuộc tính UID\n",
    "Đầu tiên, một UID sẽ giúp mô hình tìm thấy khách hàng (credit card).\n",
    "\n",
    "Thực hiện tạo một thuộc tính UID mới để giúp mô hình nhận biết được các khách hành."
   ]
  },
  {
   "cell_type": "code",
   "execution_count": null,
   "id": "8f194174",
   "metadata": {
    "execution": {
     "iopub.execute_input": "2022-01-05T11:02:45.161274Z",
     "iopub.status.busy": "2022-01-05T11:02:45.160396Z",
     "iopub.status.idle": "2022-01-05T11:02:47.440793Z",
     "shell.execute_reply": "2022-01-05T11:02:47.440279Z",
     "shell.execute_reply.started": "2022-01-05T09:36:17.725042Z"
    },
    "id": "520698e5",
    "papermill": {
     "duration": 3.465561,
     "end_time": "2022-01-05T11:02:47.440949",
     "exception": false,
     "start_time": "2022-01-05T11:02:43.975388",
     "status": "completed"
    },
    "tags": []
   },
   "outputs": [],
   "source": [
    "X_train['day'] = X_train.TransactionDT / (24*60*60) #Chuẩn hóa đưa về khoảng thời gian tính theo ngày\n",
    "X_train['uid'] = X_train.card1_addr1.astype(str)+'_'+np.floor(X_train.day-X_train.D1).astype(str) #Tạo thuộc tính \"UID\"\n",
    "\n",
    "X_test['day'] = X_test.TransactionDT / (24*60*60)\n",
    "X_test['uid'] = X_test.card1_addr1.astype(str)+'_'+np.floor(X_test.day-X_test.D1).astype(str)"
   ]
  },
  {
   "cell_type": "markdown",
   "id": "b06ae3b1",
   "metadata": {
    "id": "c601607b",
    "papermill": {
     "duration": 1.179247,
     "end_time": "2022-01-05T11:02:49.796384",
     "exception": false,
     "start_time": "2022-01-05T11:02:48.617137",
     "status": "completed"
    },
    "tags": []
   },
   "source": [
    "UID này không hoàn hảo. Nhiều giá trị UID chứa 2 hoặc nhiều khách hàng bên trong. Tuy nhiên, mô hình của này sẽ phát hiện điều này và bằng cách thêm các splits trên cây, điều này giúp tách các UID và tìm ra khách hàng riêng lẻ duy nhất bên trong UID đó. \n",
    "\n",
    "Để làm được điều đó ta cần các thuộc tính tổng hợp để phân loại khách hàng."
   ]
  },
  {
   "cell_type": "markdown",
   "id": "4410ae11",
   "metadata": {
    "id": "b657962b",
    "papermill": {
     "duration": 1.486529,
     "end_time": "2022-01-05T11:02:52.459263",
     "exception": false,
     "start_time": "2022-01-05T11:02:50.972734",
     "status": "completed"
    },
    "tags": []
   },
   "source": [
    "##### Tổng hợp thuộc tính - Group Aggregation Features\n",
    "Cần tạo nhiều thuộc tính tổng hợp mới theo giá trị trung bình/ độ lệch chuẩn/nunique thông qua \"UID\". \n",
    "\n",
    "Điều này giúp phân loại khách hàng.\n",
    "\n",
    "Cụ thể ta thêm 47 thuộc tính tổng hợp mới.\n",
    ">Lưu ý rằng sau khi tổng hợp, xóa UID khỏi mô hình, không sử dụng trực tiếp UID."
   ]
  },
  {
   "cell_type": "code",
   "execution_count": null,
   "id": "c83f5e97",
   "metadata": {
    "execution": {
     "iopub.execute_input": "2022-01-05T11:02:54.858839Z",
     "iopub.status.busy": "2022-01-05T11:02:54.857877Z",
     "iopub.status.idle": "2022-01-05T11:02:54.861732Z",
     "shell.execute_reply": "2022-01-05T11:02:54.861082Z",
     "shell.execute_reply.started": "2022-01-05T09:36:17.74677Z"
    },
    "id": "081d6dcc",
    "outputId": "7e505c76-c7ca-4e1d-c5b0-e8b92904faa2",
    "papermill": {
     "duration": 1.181903,
     "end_time": "2022-01-05T11:02:54.862025",
     "exception": true,
     "start_time": "2022-01-05T11:02:53.680122",
     "status": "failed"
    },
    "tags": []
   },
   "outputs": [
    {
     "name": "stderr",
     "output_type": "stream",
     "text": [
      "UsageError: Line magic function `%%time` not found.\n"
     ]
    }
   ],
   "source": [
    "#Tổng hợp thuộc tính\n",
    "\n",
    "%%time\n",
    "# FREQUENCY ENCODE UID\n",
    "encode_FE(X_train,X_test,['uid'])\n",
    "# AGGREGATE \n",
    "encode_AG(['TransactionAmt','D4','D9','D10','D15'],['uid'],['mean','std'],fillna=True,usena=True)\n",
    "# AGGREGATE\n",
    "encode_AG(['C'+str(x) for x in range(1,15) if x!=3],['uid'],['mean'],X_train,X_test,fillna=True,usena=True)\n",
    "# AGGREGATE\n",
    "encode_AG(['M'+str(x) for x in range(1,10)],['uid'],['mean'],fillna=True,usena=True)\n",
    "# AGGREGATE\n",
    "encode_AG2(['P_emaildomain','dist1','DT_M','id_02','cents'], ['uid'], train_df=X_train, test_df=X_test)\n",
    "# AGGREGATE\n",
    "encode_AG(['C14'],['uid'],['std'],X_train,X_test,fillna=True,usena=True)\n",
    "# AGGREGATE \n",
    "encode_AG2(['C13','V314'], ['uid'], train_df=X_train, test_df=X_test)\n",
    "# AGGREATE \n",
    "encode_AG2(['V127','V136','V309','V307','V320'], ['uid'], train_df=X_train, test_df=X_test)\n",
    "# NEW FEATURE\n",
    "X_train['outsider15'] = (np.abs(X_train.D1-X_train.D15)>3).astype('int8')\n",
    "X_test['outsider15'] = (np.abs(X_test.D1-X_test.D15)>3).astype('int8')\n",
    "print('outsider15')"
   ]
  },
  {
   "cell_type": "markdown",
   "id": "ad48c90d",
   "metadata": {
    "id": "36c82a6a",
    "papermill": {
     "duration": null,
     "end_time": null,
     "exception": null,
     "start_time": null,
     "status": "pending"
    },
    "tags": []
   },
   "source": [
    "-Loại bỏ UID và các thuộc tính được sử dụng để xác định UID.\n",
    "\n",
    "-Bỏ các thuộc tính không đảm bảo tính nhất quán về thời gian."
   ]
  },
  {
   "cell_type": "code",
   "execution_count": null,
   "id": "f8bf9ffd",
   "metadata": {
    "_kg_hide-input": true,
    "execution": {
     "iopub.status.busy": "2022-01-05T09:36:17.748297Z",
     "iopub.status.idle": "2022-01-05T09:36:17.748855Z",
     "shell.execute_reply": "2022-01-05T09:36:17.748641Z",
     "shell.execute_reply.started": "2022-01-05T09:36:17.748616Z"
    },
    "id": "11dd735d",
    "papermill": {
     "duration": null,
     "end_time": null,
     "exception": null,
     "start_time": null,
     "status": "pending"
    },
    "tags": []
   },
   "outputs": [],
   "source": [
    "cols = list( X_train.columns )\n",
    "cols.remove('TransactionDT')\n",
    "for c in ['D6','D7','D8','D9','D12','D13','D14']:\n",
    "    cols.remove(c)\n",
    "for c in ['oof','DT_M','day','uid']:\n",
    "    cols.remove(c)\n",
    "    \n",
    "# FAILED TIME CONSISTENCY TEST\n",
    "for c in ['C3','M5','id_08','id_33']:\n",
    "    cols.remove(c)\n",
    "for c in ['card4','id_07','id_14','id_21','id_30','id_32','id_34']:\n",
    "    cols.remove(c)\n",
    "for c in ['id_'+str(x) for x in range(22,28)]:\n",
    "    cols.remove(c)"
   ]
  },
  {
   "cell_type": "code",
   "execution_count": null,
   "id": "470aec18",
   "metadata": {
    "execution": {
     "iopub.status.busy": "2022-01-05T09:36:17.749949Z",
     "iopub.status.idle": "2022-01-05T09:36:17.750496Z",
     "shell.execute_reply": "2022-01-05T09:36:17.750292Z",
     "shell.execute_reply.started": "2022-01-05T09:36:17.750268Z"
    },
    "id": "cb5e94d5",
    "papermill": {
     "duration": null,
     "end_time": null,
     "exception": null,
     "start_time": null,
     "status": "pending"
    },
    "tags": []
   },
   "outputs": [],
   "source": [
    "print('NOW USING THE FOLLOWING',len(cols),'FEATURES.')\n",
    "np.array(cols)"
   ]
  },
  {
   "cell_type": "markdown",
   "id": "2271e8fa",
   "metadata": {
    "id": "b0d4e52a",
    "papermill": {
     "duration": null,
     "end_time": null,
     "exception": null,
     "start_time": null,
     "status": "pending"
    },
    "tags": []
   },
   "source": [
    "##### Local Validation\n",
    "Các bước thực hiện tương tự với mô hình XGB không sử dụng thuộc tính UID."
   ]
  },
  {
   "cell_type": "code",
   "execution_count": null,
   "id": "54b467f9",
   "metadata": {
    "execution": {
     "iopub.status.busy": "2022-01-05T09:36:17.751539Z",
     "iopub.status.idle": "2022-01-05T09:36:17.752092Z",
     "shell.execute_reply": "2022-01-05T09:36:17.751863Z",
     "shell.execute_reply.started": "2022-01-05T09:36:17.751839Z"
    },
    "id": "9892db31",
    "papermill": {
     "duration": null,
     "end_time": null,
     "exception": null,
     "start_time": null,
     "status": "pending"
    },
    "tags": []
   },
   "outputs": [],
   "source": [
    "#TRAIN 75% PREDICT 25%\n",
    "idxT = X_train.index[:3*len(X_train)//4]\n",
    "idxV = X_train.index[3*len(X_train)//4:]"
   ]
  },
  {
   "cell_type": "code",
   "execution_count": null,
   "id": "e925314f",
   "metadata": {
    "execution": {
     "iopub.status.busy": "2022-01-05T09:36:17.753141Z",
     "iopub.status.idle": "2022-01-05T09:36:17.753679Z",
     "shell.execute_reply": "2022-01-05T09:36:17.75348Z",
     "shell.execute_reply.started": "2022-01-05T09:36:17.753454Z"
    },
    "id": "f6fd2362",
    "papermill": {
     "duration": null,
     "end_time": null,
     "exception": null,
     "start_time": null,
     "status": "pending"
    },
    "tags": []
   },
   "outputs": [],
   "source": [
    "if BUILD96:\n",
    "    clf = xgb.XGBClassifier( \n",
    "        n_estimators=2000,\n",
    "        max_depth=12, \n",
    "        learning_rate=0.02, \n",
    "        subsample=0.8,\n",
    "        colsample_bytree=0.4, \n",
    "        missing=-1, \n",
    "        eval_metric='auc',\n",
    "        #nthread=4,\n",
    "        #tree_method='hist' \n",
    "        tree_method='gpu_hist' \n",
    "    )\n",
    "    h = clf.fit(X_train.loc[idxT,cols], y_train[idxT], \n",
    "        eval_set=[(X_train.loc[idxV,cols],y_train[idxV])],\n",
    "        verbose=50, early_stopping_rounds=100)"
   ]
  },
  {
   "cell_type": "markdown",
   "id": "c0f38b35",
   "metadata": {
    "id": "1f7b4366",
    "papermill": {
     "duration": null,
     "end_time": null,
     "exception": null,
     "start_time": null,
     "status": "pending"
    },
    "tags": []
   },
   "source": [
    "Các thuộc tính quan trọng trong mô hình:"
   ]
  },
  {
   "cell_type": "code",
   "execution_count": null,
   "id": "342b3d62",
   "metadata": {
    "execution": {
     "iopub.status.busy": "2022-01-05T09:36:17.754803Z",
     "iopub.status.idle": "2022-01-05T09:36:17.755357Z",
     "shell.execute_reply": "2022-01-05T09:36:17.755159Z",
     "shell.execute_reply.started": "2022-01-05T09:36:17.755135Z"
    },
    "id": "ef25db00",
    "papermill": {
     "duration": null,
     "end_time": null,
     "exception": null,
     "start_time": null,
     "status": "pending"
    },
    "tags": []
   },
   "outputs": [],
   "source": [
    "if BUILD96:\n",
    "\n",
    "    feature_imp = pd.DataFrame(sorted(zip(clf.feature_importances_,cols)), columns=['Value','Feature'])\n",
    "\n",
    "    plt.figure(figsize=(20, 10))\n",
    "    sns.barplot(x=\"Value\", y=\"Feature\", data=feature_imp.sort_values(by=\"Value\", ascending=False).iloc[:50])\n",
    "    plt.title('XGB96 Most Important')\n",
    "    plt.tight_layout()\n",
    "    plt.show()\n",
    "        \n",
    "    del clf, h; x=gc.collect()"
   ]
  },
  {
   "cell_type": "markdown",
   "id": "856beaa2",
   "metadata": {
    "id": "cdcaff58",
    "papermill": {
     "duration": null,
     "end_time": null,
     "exception": null,
     "start_time": null,
     "status": "pending"
    },
    "tags": []
   },
   "source": [
    "##### Predict test.csv\n",
    "Sử dụng GroupKFold, đào tạo từ tháng 13 đến tháng 17, dự đoán trên tháng 12."
   ]
  },
  {
   "cell_type": "code",
   "execution_count": null,
   "id": "a2fe8ca2",
   "metadata": {
    "execution": {
     "iopub.status.busy": "2022-01-05T09:36:17.756425Z",
     "iopub.status.idle": "2022-01-05T09:36:17.756968Z",
     "shell.execute_reply": "2022-01-05T09:36:17.756758Z",
     "shell.execute_reply.started": "2022-01-05T09:36:17.756734Z"
    },
    "id": "52a820f5",
    "papermill": {
     "duration": null,
     "end_time": null,
     "exception": null,
     "start_time": null,
     "status": "pending"
    },
    "tags": []
   },
   "outputs": [],
   "source": [
    "if BUILD96:\n",
    "    oof = np.zeros(len(X_train))\n",
    "    preds = np.zeros(len(X_test))\n",
    "\n",
    "    skf = GroupKFold(n_splits=6)\n",
    "    for i, (idxT, idxV) in enumerate( skf.split(X_train, y_train, groups=X_train['DT_M']) ):\n",
    "        month = X_train.iloc[idxV]['DT_M'].iloc[0]\n",
    "        print('Fold',i,'withholding month',month)\n",
    "        print(' rows of train =',len(idxT),'rows of holdout =',len(idxV))\n",
    "        clf = xgb.XGBClassifier(\n",
    "            n_estimators=5000,\n",
    "            max_depth=12,\n",
    "            learning_rate=0.02,\n",
    "            subsample=0.8,\n",
    "            colsample_bytree=0.4,\n",
    "            missing=-1,\n",
    "            eval_metric='auc',\n",
    "            # USE CPU\n",
    "            #nthread=4,\n",
    "            #tree_method='hist'\n",
    "            # USE GPU\n",
    "            tree_method='gpu_hist' \n",
    "        )        \n",
    "        h = clf.fit(X_train[cols].iloc[idxT], y_train.iloc[idxT], \n",
    "                eval_set=[(X_train[cols].iloc[idxV],y_train.iloc[idxV])],\n",
    "                verbose=100, early_stopping_rounds=200)\n",
    "    \n",
    "        oof[idxV] += clf.predict_proba(X_train[cols].iloc[idxV])[:,1]\n",
    "        preds += clf.predict_proba(X_test[cols])[:,1]/skf.n_splits\n",
    "        del h, clf\n",
    "        x=gc.collect()\n",
    "    print('#'*20)\n",
    "    print ('XGB96 OOF CV=',roc_auc_score(y_train,oof))"
   ]
  },
  {
   "cell_type": "code",
   "execution_count": null,
   "id": "6310c80a",
   "metadata": {
    "execution": {
     "iopub.status.busy": "2022-01-05T09:36:17.758072Z",
     "iopub.status.idle": "2022-01-05T09:36:17.75864Z",
     "shell.execute_reply": "2022-01-05T09:36:17.758419Z",
     "shell.execute_reply.started": "2022-01-05T09:36:17.758394Z"
    },
    "id": "56637f6b",
    "papermill": {
     "duration": null,
     "end_time": null,
     "exception": null,
     "start_time": null,
     "status": "pending"
    },
    "tags": []
   },
   "outputs": [],
   "source": [
    "if BUILD96:\n",
    "    plt.hist(oof,bins=100)\n",
    "    plt.ylim((0,5000))\n",
    "    plt.title('XGB OOF')\n",
    "    plt.show()\n",
    "\n",
    "    X_train['oof'] = oof\n",
    "    X_train.reset_index(inplace=True)\n",
    "    X_train[['TransactionID','oof']].to_csv('oof_xgb_96.csv')\n",
    "    X_train.set_index('TransactionID',drop=True,inplace=True)"
   ]
  },
  {
   "cell_type": "markdown",
   "id": "548b921b",
   "metadata": {
    "id": "98cea633",
    "papermill": {
     "duration": null,
     "end_time": null,
     "exception": null,
     "start_time": null,
     "status": "pending"
    },
    "tags": []
   },
   "source": [
    "##### Kaggle Submission File XGB_96"
   ]
  },
  {
   "cell_type": "code",
   "execution_count": null,
   "id": "fab57fe3",
   "metadata": {
    "execution": {
     "iopub.status.busy": "2022-01-05T09:36:17.759867Z",
     "iopub.status.idle": "2022-01-05T09:36:17.760491Z",
     "shell.execute_reply": "2022-01-05T09:36:17.760279Z",
     "shell.execute_reply.started": "2022-01-05T09:36:17.760253Z"
    },
    "id": "9baf4553",
    "papermill": {
     "duration": null,
     "end_time": null,
     "exception": null,
     "start_time": null,
     "status": "pending"
    },
    "tags": []
   },
   "outputs": [],
   "source": [
    "if BUILD96:\n",
    "    sample_submission = pd.read_csv(INPUT_DIR+'sample_submission.csv')\n",
    "    sample_submission.isFraud = preds\n",
    "    sample_submission.to_csv('sub_xgb_96.csv',index=False)\n",
    "\n",
    "    plt.hist(sample_submission.isFraud,bins=100)\n",
    "    plt.ylim((0,5000))\n",
    "    plt.title('XGB96 Submission')\n",
    "    plt.show()"
   ]
  },
  {
   "cell_type": "markdown",
   "id": "e031c54e",
   "metadata": {
    "id": "65305bdd",
    "papermill": {
     "duration": null,
     "end_time": null,
     "exception": null,
     "start_time": null,
     "status": "pending"
    },
    "tags": []
   },
   "source": [
    "Kết quả: \n",
    "\n",
    "Mô hình XGB sử dụng \"magic work\" có giá trị AUC = 0.9472 trên tập validation và AUC = 0.96 trên LB,  \n",
    "**tăng 0.01** đồng thời trên tập validation và LB so với mô hình XGB không sử dụng \"magic feature - UID\"."
   ]
  },
  {
   "cell_type": "markdown",
   "id": "4c2c979e",
   "metadata": {
    "id": "38a52ea5",
    "papermill": {
     "duration": null,
     "end_time": null,
     "exception": null,
     "start_time": null,
     "status": "pending"
    },
    "tags": []
   },
   "source": [
    "## Nhìn lại quá trình làm đồ án"
   ]
  },
  {
   "cell_type": "markdown",
   "id": "eb48202b",
   "metadata": {
    "id": "8a663713",
    "papermill": {
     "duration": null,
     "end_time": null,
     "exception": null,
     "start_time": null,
     "status": "pending"
    },
    "tags": []
   },
   "source": [
    "Sau bao ngày vất vả làm đồ án thì bây giờ đã kết thúc. Bây giờ là lúc để ngồi uống coffee và tĩnh tâm nhìn lại quá trình làm.\n",
    "\n",
    "- Mỗi thành viên: Đã gặp những khó khăn gì? (Hay mọi chuyện đều thuận lợi)\n",
    "    + Dương Đoàn Bảo Sơn\n",
    "        * a\n",
    "        * b\n",
    "        * c\n",
    "    + Nguyễn Thị Hồng Nhung\n",
    "        * a\n",
    "        * b\n",
    "        * c\n",
    "    + Vương Gia Bảo\n",
    "        * Có rất nhiều kiến thức mới nên mất nhiều thời gian để tìm hiểu\n",
    "        * Còn một số chỗ tác giả chưa nói rõ nên không thể tiếp cận được trọn vẹn\n",
    "        * Trong quá trình làm việc đôi lúc còn chưa hiểu ý nhau\n",
    "    + Trần Đại Tài\n",
    "        * a\n",
    "        * b\n",
    "        * c\n",
    "- Mỗi thành viên: Có học được gì hữu ích? (Hay không học được gì)\n",
    "    + Dương Đoàn Bảo Sơn\n",
    "        * a\n",
    "        * b\n",
    "        * c\n",
    "    + Nguyễn Thị Hồng Nhung\n",
    "        * a\n",
    "        * b\n",
    "        * c\n",
    "    + Vương Gia Bảo\n",
    "        * Các loại mô hình thường đạt kết quả cao trong cuộc thi Kaggle \n",
    "        * Cách tiết kiệm bộ nhớ\n",
    "        * Các kỹ năng viết code của các bạn trong nhóm\n",
    "        * Cải thiện kỹ năng làm việc nhóm, sử dụng github, thuyết trình\n",
    "    + Trần Đại Tài\n",
    "        * a\n",
    "        * b\n",
    "        * c\n",
    "- Nhóm: Nếu có thêm thời gian thì sẽ làm gì?\n",
    "    + Tìm hiểu thêm cách giải quyết bài toán bằng mô hình LGBM và CatBoost\n",
    "    + Cố gắng điều chỉnh lại notebook cho người đọc dễ tiếp cận hơn"
   ]
  },
  {
   "cell_type": "markdown",
   "id": "e447b50d",
   "metadata": {
    "id": "13bfb025",
    "papermill": {
     "duration": null,
     "end_time": null,
     "exception": null,
     "start_time": null,
     "status": "pending"
    },
    "tags": []
   },
   "source": [
    "## Tài liệu tham khảo"
   ]
  },
  {
   "cell_type": "markdown",
   "id": "0bff51de",
   "metadata": {
    "id": "e2e6b495",
    "papermill": {
     "duration": null,
     "end_time": null,
     "exception": null,
     "start_time": null,
     "status": "pending"
    },
    "tags": []
   },
   "source": [
    "[sklearn - Cross Validation](https://scikit-learn.org/stable/modules/cross_validation.html)\n",
    "\n",
    "[Ensemble learning](https://tiensu.github.io/blog/05_comprehensive_guide_to_ensemble_model_2/)\n",
    "\n",
    "[XGBoost](https://xgboost.readthedocs.io/)\n",
    "\n",
    "[Wiki - Hyperparameter optimization](https://en.wikipedia.org/wiki/Hyperparameter_optimization)\n"
   ]
  }
 ],
 "metadata": {
  "colab": {
   "collapsed_sections": [
    "a89eff65",
    "af3b654c",
    "53bed99d",
    "24249db8",
    "364f6e7b",
    "c6a8d46b",
    "30974ee2",
    "60cc6ca1",
    "525d5768",
    "404ff458",
    "4143da99",
    "b41af9f5",
    "0b3e1229",
    "7ef2a3bd",
    "231f3d86",
    "dd242e74",
    "38a52ea5",
    "13bfb025"
   ],
   "name": "report-appliedDS.ipynb",
   "provenance": [],
   "toc_visible": true
  },
  "kernelspec": {
   "display_name": "Python 3",
   "language": "python",
   "name": "python3"
  },
  "language_info": {
   "codemirror_mode": {
    "name": "ipython",
    "version": 3
   },
   "file_extension": ".py",
   "mimetype": "text/x-python",
   "name": "python",
   "nbconvert_exporter": "python",
   "pygments_lexer": "ipython3",
   "version": "3.8.5"
  },
  "papermill": {
   "default_parameters": {},
   "duration": 2568.703049,
   "end_time": "2022-01-05T11:02:58.310136",
   "environment_variables": {},
   "exception": true,
   "input_path": "__notebook__.ipynb",
   "output_path": "__notebook__.ipynb",
   "parameters": {},
   "start_time": "2022-01-05T10:20:09.607087",
   "version": "2.3.3"
  }
 },
 "nbformat": 4,
 "nbformat_minor": 5
}
