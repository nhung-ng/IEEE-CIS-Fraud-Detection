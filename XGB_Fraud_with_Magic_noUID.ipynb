{
  "nbformat": 4,
  "nbformat_minor": 0,
  "metadata": {
    "colab": {
      "name": "XGB Fraud with Magic-noUID.ipynb",
      "provenance": []
    },
    "kernelspec": {
      "name": "python3",
      "display_name": "Python 3"
    },
    "language_info": {
      "name": "python"
    },
    "accelerator": "GPU"
  },
  "cells": [
    {
      "cell_type": "markdown",
      "metadata": {
        "id": "3LXMsHnRssV1"
      },
      "source": [
        "#Prepare Data"
      ]
    },
    {
      "cell_type": "code",
      "metadata": {
        "colab": {
          "base_uri": "https://localhost:8080/"
        },
        "id": "OS2sqzg6skxa",
        "outputId": "ab60f2b9-c2aa-4f02-fc2c-3c115382c355"
      },
      "source": [
        "!gdown https://drive.google.com/uc?id=1x6xmQifUHQWZi7nDJs53do1G4q5aEnWI&export=download"
      ],
      "execution_count": null,
      "outputs": [
        {
          "output_type": "stream",
          "name": "stdout",
          "text": [
            "Downloading...\n",
            "From: https://drive.google.com/uc?id=1x6xmQifUHQWZi7nDJs53do1G4q5aEnWI\n",
            "To: /content/ieee-fraud-detection.zip\n",
            "100% 124M/124M [00:01<00:00, 106MB/s] \n"
          ]
        }
      ]
    },
    {
      "cell_type": "code",
      "metadata": {
        "colab": {
          "base_uri": "https://localhost:8080/"
        },
        "id": "QLOWW9L7s4Qy",
        "outputId": "cd682bcc-164a-4953-b260-a84f26af251e"
      },
      "source": [
        "!unzip ieee-fraud-detection.zip"
      ],
      "execution_count": null,
      "outputs": [
        {
          "output_type": "stream",
          "name": "stdout",
          "text": [
            "Archive:  ieee-fraud-detection.zip\n",
            "  inflating: sample_submission.csv   \n",
            "  inflating: test_identity.csv       \n",
            "  inflating: test_transaction.csv    \n",
            "  inflating: train_identity.csv      \n",
            "  inflating: train_transaction.csv   \n"
          ]
        }
      ]
    },
    {
      "cell_type": "markdown",
      "metadata": {
        "id": "9poOuZBss8Jw"
      },
      "source": [
        "#Import\n"
      ]
    },
    {
      "cell_type": "code",
      "metadata": {
        "id": "RS5Zh3Dvs-jE"
      },
      "source": [
        "BUILD95 = True\n",
        "BUILD96 = True\n",
        "\n",
        "import numpy as np, pandas as pd, os, gc\n",
        "from sklearn.model_selection import GroupKFold\n",
        "from sklearn.metrics import roc_auc_score\n",
        "import matplotlib.pyplot as plt\n",
        "import seaborn as sns\n",
        "\n",
        "# COLUMNS WITH STRINGS\n",
        "str_type = ['ProductCD', 'card4', 'card6', 'P_emaildomain', 'R_emaildomain','M1', 'M2', 'M3', 'M4','M5',\n",
        "            'M6', 'M7', 'M8', 'M9', 'id_12', 'id_15', 'id_16', 'id_23', 'id_27', 'id_28', 'id_29', 'id_30', \n",
        "            'id_31', 'id_33', 'id_34', 'id_35', 'id_36', 'id_37', 'id_38', 'DeviceType', 'DeviceInfo']\n",
        "str_type += ['id-12', 'id-15', 'id-16', 'id-23', 'id-27', 'id-28', 'id-29', 'id-30', \n",
        "            'id-31', 'id-33', 'id-34', 'id-35', 'id-36', 'id-37', 'id-38']\n",
        "\n",
        "# FIRST 53 COLUMNS\n",
        "cols = ['TransactionID', 'TransactionDT', 'TransactionAmt',\n",
        "       'ProductCD', 'card1', 'card2', 'card3', 'card4', 'card5', 'card6',\n",
        "       'addr1', 'addr2', 'dist1', 'dist2', 'P_emaildomain', 'R_emaildomain',\n",
        "       'C1', 'C2', 'C3', 'C4', 'C5', 'C6', 'C7', 'C8', 'C9', 'C10', 'C11',\n",
        "       'C12', 'C13', 'C14', 'D1', 'D2', 'D3', 'D4', 'D5', 'D6', 'D7', 'D8',\n",
        "       'D9', 'D10', 'D11', 'D12', 'D13', 'D14', 'D15', 'M1', 'M2', 'M3', 'M4',\n",
        "       'M5', 'M6', 'M7', 'M8', 'M9']\n",
        "\n",
        "# V COLUMNS TO LOAD DECIDED BY CORRELATION EDA\n",
        "# https://www.kaggle.com/cdeotte/eda-for-columns-v-and-id\n",
        "v =  [1, 3, 4, 6, 8, 11]\n",
        "v += [13, 14, 17, 20, 23, 26, 27, 30]\n",
        "v += [36, 37, 40, 41, 44, 47, 48]\n",
        "v += [54, 56, 59, 62, 65, 67, 68, 70]\n",
        "v += [76, 78, 80, 82, 86, 88, 89, 91]\n",
        "\n",
        "#v += [96, 98, 99, 104] #relates to groups, no NAN \n",
        "v += [107, 108, 111, 115, 117, 120, 121, 123] # maybe group, no NAN\n",
        "v += [124, 127, 129, 130, 136] # relates to groups, no NAN\n",
        "\n",
        "# LOTS OF NAN BELOW\n",
        "v += [138, 139, 142, 147, 156, 162] #b1\n",
        "v += [165, 160, 166] #b1\n",
        "v += [178, 176, 173, 182] #b2\n",
        "v += [187, 203, 205, 207, 215] #b2\n",
        "v += [169, 171, 175, 180, 185, 188, 198, 210, 209] #b2\n",
        "v += [218, 223, 224, 226, 228, 229, 235] #b3\n",
        "v += [240, 258, 257, 253, 252, 260, 261] #b3\n",
        "v += [264, 266, 267, 274, 277] #b3\n",
        "v += [220, 221, 234, 238, 250, 271] #b3\n",
        "\n",
        "v += [294, 284, 285, 286, 291, 297] # relates to grous, no NAN\n",
        "v += [303, 305, 307, 309, 310, 320] # relates to groups, no NAN\n",
        "v += [281, 283, 289, 296, 301, 314] # relates to groups, no NAN\n",
        "#v += [332, 325, 335, 338] # b4 lots NAN\n",
        "\n",
        "cols += ['V'+str(x) for x in v]\n",
        "dtypes = {}\n",
        "for c in cols+['id_0'+str(x) for x in range(1,10)]+['id_'+str(x) for x in range(10,34)]+\\\n",
        "    ['id-0'+str(x) for x in range(1,10)]+['id-'+str(x) for x in range(10,34)]:\n",
        "        dtypes[c] = 'float32'\n",
        "for c in str_type: dtypes[c] = 'category'"
      ],
      "execution_count": null,
      "outputs": []
    },
    {
      "cell_type": "code",
      "metadata": {
        "colab": {
          "base_uri": "https://localhost:8080/"
        },
        "id": "Wt6GOYuHtHUA",
        "outputId": "48cf3e26-ddb3-4b7e-9ada-a21a6fc17727"
      },
      "source": [
        "%%time\n",
        "# LOAD TRAIN\n",
        "X_train = pd.read_csv('train_transaction.csv',index_col='TransactionID', dtype=dtypes, usecols=cols+['isFraud'])\n",
        "train_id = pd.read_csv('train_identity.csv',index_col='TransactionID', dtype=dtypes)\n",
        "X_train = X_train.merge(train_id, how='left', left_index=True, right_index=True)\n",
        "# LOAD TEST\n",
        "X_test = pd.read_csv('test_transaction.csv',index_col='TransactionID', dtype=dtypes, usecols=cols)\n",
        "test_id = pd.read_csv('test_identity.csv',index_col='TransactionID', dtype=dtypes)\n",
        "fix = {o:n for o, n in zip(test_id.columns, train_id.columns)}\n",
        "test_id.rename(columns=fix, inplace=True)\n",
        "X_test = X_test.merge(test_id, how='left', left_index=True, right_index=True)\n",
        "# TARGET\n",
        "y_train = X_train['isFraud'].copy()\n",
        "del train_id, test_id, X_train['isFraud']; x = gc.collect()\n",
        "# PRINT STATUS\n",
        "print('Train shape',X_train.shape,'test shape',X_test.shape)"
      ],
      "execution_count": null,
      "outputs": [
        {
          "output_type": "stream",
          "name": "stdout",
          "text": [
            "Train shape (590540, 213) test shape (506691, 213)\n",
            "CPU times: user 29.1 s, sys: 1.63 s, total: 30.7 s\n",
            "Wall time: 30.2 s\n"
          ]
        }
      ]
    },
    {
      "cell_type": "markdown",
      "metadata": {
        "id": "VNR94SeKterh"
      },
      "source": [
        "#Normalize D Columns\n",
        "The D Columns are \"time deltas\" from some point in the past. We will transform the D Columns into their point in the past. This will stop the D columns from increasing with time. The formula is `D15n = Transaction_Day - D15` and `Transaction_Day = TransactionDT/(24*60*60)`. Afterward we multiple this number by negative one."
      ]
    },
    {
      "cell_type": "code",
      "metadata": {
        "colab": {
          "base_uri": "https://localhost:8080/",
          "height": 350
        },
        "id": "NA2gusMItbqX",
        "outputId": "703e153b-4d0b-4f61-c3d0-4807183c8cb0"
      },
      "source": [
        "# PLOT ORIGINAL D\n",
        "plt.figure(figsize=(15,5))\n",
        "plt.scatter(X_train.TransactionDT,X_train.D15)\n",
        "plt.title('Original D15')\n",
        "plt.xlabel('Time')\n",
        "plt.ylabel('D15')\n",
        "plt.show()"
      ],
      "execution_count": null,
      "outputs": [
        {
          "output_type": "display_data",
          "data": {
            "image/png": "[encoded data removed]",
            "text/plain": [
              "<Figure size 1080x360 with 1 Axes>"
            ]
          },
          "metadata": {
            "needs_background": "light"
          }
        }
      ]
    },
    {
      "cell_type": "code",
      "metadata": {
        "id": "x-C5y5PAt33y"
      },
      "source": [
        "# NORMALIZE D COLUMNS\n",
        "for i in range(1,16):\n",
        "    if i in [1,2,3,5,9]: continue\n",
        "    X_train['D'+str(i)] =  X_train['D'+str(i)] - X_train.TransactionDT/np.float32(24*60*60)\n",
        "    X_test['D'+str(i)] = X_test['D'+str(i)] - X_test.TransactionDT/np.float32(24*60*60)"
      ],
      "execution_count": null,
      "outputs": []
    },
    {
      "cell_type": "code",
      "metadata": {
        "colab": {
          "base_uri": "https://localhost:8080/",
          "height": 350
        },
        "id": "t8C-lfgjuCPo",
        "outputId": "5b30dceb-bb4f-4647-d7d7-fb25bd565f73"
      },
      "source": [
        "# PLOT TRANSFORMED D\n",
        "plt.figure(figsize=(15,5))\n",
        "plt.scatter(X_train.TransactionDT,X_train.D15)\n",
        "plt.title('Transformed D15')\n",
        "plt.xlabel('Time')\n",
        "plt.ylabel('D15n')\n",
        "plt.show()"
      ],
      "execution_count": null,
      "outputs": [
        {
          "output_type": "display_data",
          "data": {
            "image/png": "[encoded data removed]",
            "text/plain": [
              "<Figure size 1080x360 with 1 Axes>"
            ]
          },
          "metadata": {
            "needs_background": "light"
          }
        }
      ]
    },
    {
      "cell_type": "code",
      "metadata": {
        "colab": {
          "base_uri": "https://localhost:8080/"
        },
        "id": "s0YcRnaUuRAN",
        "outputId": "09ac03ee-443a-441e-c449-bfa1f409b8ae"
      },
      "source": [
        "%%time\n",
        "# LABEL ENCODE AND MEMORY REDUCE\n",
        "for i,f in enumerate(X_train.columns):\n",
        "    # FACTORIZE CATEGORICAL VARIABLES\n",
        "    if (np.str(X_train[f].dtype)=='category')|(X_train[f].dtype=='object'): \n",
        "        df_comb = pd.concat([X_train[f],X_test[f]],axis=0)\n",
        "        df_comb,_ = df_comb.factorize(sort=True)\n",
        "        if df_comb.max()>32000: print(f,'needs int32')\n",
        "        X_train[f] = df_comb[:len(X_train)].astype('int16')\n",
        "        X_test[f] = df_comb[len(X_train):].astype('int16')\n",
        "    # SHIFT ALL NUMERICS POSITIVE. SET NAN to -1\n",
        "    elif f not in ['TransactionAmt','TransactionDT']:\n",
        "        mn = np.min((X_train[f].min(),X_test[f].min()))\n",
        "        X_train[f] -= np.float32(mn)\n",
        "        X_test[f] -= np.float32(mn)\n",
        "        X_train[f].fillna(-1,inplace=True)\n",
        "        X_test[f].fillna(-1,inplace=True)"
      ],
      "execution_count": null,
      "outputs": [
        {
          "output_type": "stream",
          "name": "stdout",
          "text": [
            "CPU times: user 2.86 s, sys: 69.3 ms, total: 2.93 s\n",
            "Wall time: 2.87 s\n"
          ]
        }
      ]
    },
    {
      "cell_type": "markdown",
      "metadata": {
        "id": "UoOSgRlGuVC1"
      },
      "source": [
        "#Encoding Functions\n",
        "Below are 5 encoding functions. (1) `encode_FE` does frequency encoding where it combines train and test first and then encodes. (2) `encode_LE` is a label encoded for categorical features (3) `encode_AG` makes aggregated features such as aggregated mean and std (4) `encode_CB` combines two columns (5) `encode_AG2` makes aggregated features where it counts how many unique values of one feature is within a group."
      ]
    },
    {
      "cell_type": "code",
      "metadata": {
        "id": "leLzxEhsuSC3"
      },
      "source": [
        "# FREQUENCY ENCODE TOGETHER\n",
        "def encode_FE(df1, df2, cols):\n",
        "    for col in cols:\n",
        "        df = pd.concat([df1[col],df2[col]])\n",
        "        vc = df.value_counts(dropna=True, normalize=True).to_dict()\n",
        "        vc[-1] = -1\n",
        "        nm = col+'_FE'\n",
        "        df1[nm] = df1[col].map(vc)\n",
        "        df1[nm] = df1[nm].astype('float32')\n",
        "        df2[nm] = df2[col].map(vc)\n",
        "        df2[nm] = df2[nm].astype('float32')\n",
        "        print(nm,', ',end='')\n",
        "        \n",
        "# LABEL ENCODE\n",
        "def encode_LE(col,train=X_train,test=X_test,verbose=True):\n",
        "    df_comb = pd.concat([train[col],test[col]],axis=0)\n",
        "    df_comb,_ = df_comb.factorize(sort=True)\n",
        "    nm = col\n",
        "    if df_comb.max()>32000: \n",
        "        train[nm] = df_comb[:len(train)].astype('int32')\n",
        "        test[nm] = df_comb[len(train):].astype('int32')\n",
        "    else:\n",
        "        train[nm] = df_comb[:len(train)].astype('int16')\n",
        "        test[nm] = df_comb[len(train):].astype('int16')\n",
        "    del df_comb; x=gc.collect()\n",
        "    if verbose: print(nm,', ',end='')\n",
        "        \n",
        "# GROUP AGGREGATION MEAN AND STD\n",
        "# https://www.kaggle.com/kyakovlev/ieee-fe-with-some-eda\n",
        "def encode_AG(main_columns, uids, aggregations=['mean'], train_df=X_train, test_df=X_test, \n",
        "              fillna=True, usena=False):\n",
        "    # AGGREGATION OF MAIN WITH UID FOR GIVEN STATISTICS\n",
        "    for main_column in main_columns:  \n",
        "        for col in uids:\n",
        "            for agg_type in aggregations:\n",
        "                new_col_name = main_column+'_'+col+'_'+agg_type\n",
        "                temp_df = pd.concat([train_df[[col, main_column]], test_df[[col,main_column]]])\n",
        "                if usena: temp_df.loc[temp_df[main_column]==-1,main_column] = np.nan\n",
        "                temp_df = temp_df.groupby([col])[main_column].agg([agg_type]).reset_index().rename(\n",
        "                                                        columns={agg_type: new_col_name})\n",
        "\n",
        "                temp_df.index = list(temp_df[col])\n",
        "                temp_df = temp_df[new_col_name].to_dict()   \n",
        "\n",
        "                train_df[new_col_name] = train_df[col].map(temp_df).astype('float32')\n",
        "                test_df[new_col_name]  = test_df[col].map(temp_df).astype('float32')\n",
        "                \n",
        "                if fillna:\n",
        "                    train_df[new_col_name].fillna(-1,inplace=True)\n",
        "                    test_df[new_col_name].fillna(-1,inplace=True)\n",
        "                \n",
        "                print(\"'\"+new_col_name+\"'\",', ',end='')\n",
        "                \n",
        "# COMBINE FEATURES\n",
        "def encode_CB(col1,col2,df1=X_train,df2=X_test):\n",
        "    nm = col1+'_'+col2\n",
        "    df1[nm] = df1[col1].astype(str)+'_'+df1[col2].astype(str)\n",
        "    df2[nm] = df2[col1].astype(str)+'_'+df2[col2].astype(str) \n",
        "    encode_LE(nm,verbose=False)\n",
        "    print(nm,', ',end='')\n",
        "    \n",
        "# GROUP AGGREGATION NUNIQUE\n",
        "def encode_AG2(main_columns, uids, train_df=X_train, test_df=X_test):\n",
        "    for main_column in main_columns:  \n",
        "        for col in uids:\n",
        "            comb = pd.concat([train_df[[col]+[main_column]],test_df[[col]+[main_column]]],axis=0)\n",
        "            mp = comb.groupby(col)[main_column].agg(['nunique'])['nunique'].to_dict()\n",
        "            train_df[col+'_'+main_column+'_ct'] = train_df[col].map(mp).astype('float32')\n",
        "            test_df[col+'_'+main_column+'_ct'] = test_df[col].map(mp).astype('float32')\n",
        "            print(col+'_'+main_column+'_ct, ',end='')"
      ],
      "execution_count": null,
      "outputs": []
    },
    {
      "cell_type": "markdown",
      "metadata": {
        "id": "h4FEarUyurpq"
      },
      "source": [
        "#Feature Engineering\n",
        "We will now engineer features. All of these features where chosen because each increases local validation. The procedure for engineering features is as follows. First you think of an idea and create a new feature. Then you add it to your model and evaluate whether local validation AUC increases or decreases. If AUC increases keep the feature, otherwise discard the feature."
      ]
    },
    {
      "cell_type": "code",
      "metadata": {
        "colab": {
          "base_uri": "https://localhost:8080/"
        },
        "id": "nBTZnEyouunK",
        "outputId": "fad8a657-fb23-450f-e4eb-581a070c6b33"
      },
      "source": [
        "%%time\n",
        "# TRANSACTION AMT CENTS\n",
        "X_train['cents'] = (X_train['TransactionAmt'] - np.floor(X_train['TransactionAmt'])).astype('float32')\n",
        "X_test['cents'] = (X_test['TransactionAmt'] - np.floor(X_test['TransactionAmt'])).astype('float32')\n",
        "print('cents, ', end='')\n",
        "# FREQUENCY ENCODE: ADDR1, CARD1, CARD2, CARD3, P_EMAILDOMAIN\n",
        "encode_FE(X_train,X_test,['addr1','card1','card2','card3','P_emaildomain'])\n",
        "# COMBINE COLUMNS CARD1+ADDR1, CARD1+ADDR1+P_EMAILDOMAIN\n",
        "encode_CB('card1','addr1')\n",
        "encode_CB('card1_addr1','P_emaildomain')\n",
        "# FREQUENCY ENOCDE\n",
        "encode_FE(X_train,X_test,['card1_addr1','card1_addr1_P_emaildomain'])\n",
        "# GROUP AGGREGATE\n",
        "encode_AG(['TransactionAmt','D9','D11'],['card1','card1_addr1','card1_addr1_P_emaildomain'],['mean','std'],usena=True)"
      ],
      "execution_count": null,
      "outputs": [
        {
          "output_type": "stream",
          "name": "stdout",
          "text": [
            "cents, addr1_FE , card1_FE , card2_FE , card3_FE , P_emaildomain_FE , card1_addr1 , card1_addr1_P_emaildomain , card1_addr1_FE , card1_addr1_P_emaildomain_FE , 'TransactionAmt_card1_mean' , 'TransactionAmt_card1_std' , 'TransactionAmt_card1_addr1_mean' , 'TransactionAmt_card1_addr1_std' , 'TransactionAmt_card1_addr1_P_emaildomain_mean' , 'TransactionAmt_card1_addr1_P_emaildomain_std' , 'D9_card1_mean' , 'D9_card1_std' , 'D9_card1_addr1_mean' , 'D9_card1_addr1_std' , 'D9_card1_addr1_P_emaildomain_mean' , 'D9_card1_addr1_P_emaildomain_std' , 'D11_card1_mean' , 'D11_card1_std' , 'D11_card1_addr1_mean' , 'D11_card1_addr1_std' , 'D11_card1_addr1_P_emaildomain_mean' , 'D11_card1_addr1_P_emaildomain_std' , CPU times: user 18.9 s, sys: 941 ms, total: 19.9 s\n",
            "Wall time: 19.7 s\n"
          ]
        }
      ]
    },
    {
      "cell_type": "markdown",
      "metadata": {
        "id": "nImoKrB7u1UW"
      },
      "source": [
        "#Feature Selection - Time Consistency\n",
        "We added 28 new feature above. We have already removed 219 V Columns from correlation analysis done here. So we currently have 242 features now. We will now check each of our 242 for \"time consistency\". We will build 242 models. Each model will be trained on the first month of the training data and will only use one feature. We will then predict the last month of the training data. We want both training AUC and validation AUC to be above AUC = 0.5. It turns out that 19 features fail this test so we will remove them. Additionally we will remove 7 D columns that are mostly NAN."
      ]
    },
    {
      "cell_type": "code",
      "metadata": {
        "id": "TLLV_EQCu6kQ"
      },
      "source": [
        "cols = list( X_train.columns )\n",
        "cols.remove('TransactionDT')\n",
        "for c in ['D6','D7','D8','D9','D12','D13','D14']:\n",
        "    cols.remove(c)\n",
        "    \n",
        "# FAILED TIME CONSISTENCY TEST\n",
        "for c in ['C3','M5','id_08','id_33']:\n",
        "    cols.remove(c)\n",
        "for c in ['card4','id_07','id_14','id_21','id_30','id_32','id_34']:\n",
        "    cols.remove(c)\n",
        "for c in ['id_'+str(x) for x in range(22,28)]:\n",
        "    cols.remove(c)"
      ],
      "execution_count": null,
      "outputs": []
    },
    {
      "cell_type": "code",
      "metadata": {
        "colab": {
          "base_uri": "https://localhost:8080/"
        },
        "id": "BmvMrACcvEwJ",
        "outputId": "00d1fda3-3de0-45bd-c475-c6a9be634895"
      },
      "source": [
        "print('NOW USING THE FOLLOWING',len(cols),'FEATURES.')\n",
        "np.array(cols)"
      ],
      "execution_count": null,
      "outputs": [
        {
          "output_type": "stream",
          "name": "stdout",
          "text": [
            "NOW USING THE FOLLOWING 216 FEATURES.\n"
          ]
        },
        {
          "output_type": "execute_result",
          "data": {
            "text/plain": [
              "array(['TransactionAmt', 'ProductCD', 'card1', 'card2', 'card3', 'card5',\n",
              "       'card6', 'addr1', 'addr2', 'dist1', 'dist2', 'P_emaildomain',\n",
              "       'R_emaildomain', 'C1', 'C2', 'C4', 'C5', 'C6', 'C7', 'C8', 'C9',\n",
              "       'C10', 'C11', 'C12', 'C13', 'C14', 'D1', 'D2', 'D3', 'D4', 'D5',\n",
              "       'D10', 'D11', 'D15', 'M1', 'M2', 'M3', 'M4', 'M6', 'M7', 'M8',\n",
              "       'M9', 'V1', 'V3', 'V4', 'V6', 'V8', 'V11', 'V13', 'V14', 'V17',\n",
              "       'V20', 'V23', 'V26', 'V27', 'V30', 'V36', 'V37', 'V40', 'V41',\n",
              "       'V44', 'V47', 'V48', 'V54', 'V56', 'V59', 'V62', 'V65', 'V67',\n",
              "       'V68', 'V70', 'V76', 'V78', 'V80', 'V82', 'V86', 'V88', 'V89',\n",
              "       'V91', 'V107', 'V108', 'V111', 'V115', 'V117', 'V120', 'V121',\n",
              "       'V123', 'V124', 'V127', 'V129', 'V130', 'V136', 'V138', 'V139',\n",
              "       'V142', 'V147', 'V156', 'V160', 'V162', 'V165', 'V166', 'V169',\n",
              "       'V171', 'V173', 'V175', 'V176', 'V178', 'V180', 'V182', 'V185',\n",
              "       'V187', 'V188', 'V198', 'V203', 'V205', 'V207', 'V209', 'V210',\n",
              "       'V215', 'V218', 'V220', 'V221', 'V223', 'V224', 'V226', 'V228',\n",
              "       'V229', 'V234', 'V235', 'V238', 'V240', 'V250', 'V252', 'V253',\n",
              "       'V257', 'V258', 'V260', 'V261', 'V264', 'V266', 'V267', 'V271',\n",
              "       'V274', 'V277', 'V281', 'V283', 'V284', 'V285', 'V286', 'V289',\n",
              "       'V291', 'V294', 'V296', 'V297', 'V301', 'V303', 'V305', 'V307',\n",
              "       'V309', 'V310', 'V314', 'V320', 'id_01', 'id_02', 'id_03', 'id_04',\n",
              "       'id_05', 'id_06', 'id_09', 'id_10', 'id_11', 'id_12', 'id_13',\n",
              "       'id_15', 'id_16', 'id_17', 'id_18', 'id_19', 'id_20', 'id_28',\n",
              "       'id_29', 'id_31', 'id_35', 'id_36', 'id_37', 'id_38', 'DeviceType',\n",
              "       'DeviceInfo', 'cents', 'addr1_FE', 'card1_FE', 'card2_FE',\n",
              "       'card3_FE', 'P_emaildomain_FE', 'card1_addr1',\n",
              "       'card1_addr1_P_emaildomain', 'card1_addr1_FE',\n",
              "       'card1_addr1_P_emaildomain_FE', 'TransactionAmt_card1_mean',\n",
              "       'TransactionAmt_card1_std', 'TransactionAmt_card1_addr1_mean',\n",
              "       'TransactionAmt_card1_addr1_std',\n",
              "       'TransactionAmt_card1_addr1_P_emaildomain_mean',\n",
              "       'TransactionAmt_card1_addr1_P_emaildomain_std', 'D9_card1_mean',\n",
              "       'D9_card1_std', 'D9_card1_addr1_mean', 'D9_card1_addr1_std',\n",
              "       'D9_card1_addr1_P_emaildomain_mean',\n",
              "       'D9_card1_addr1_P_emaildomain_std', 'D11_card1_mean',\n",
              "       'D11_card1_std', 'D11_card1_addr1_mean', 'D11_card1_addr1_std',\n",
              "       'D11_card1_addr1_P_emaildomain_mean',\n",
              "       'D11_card1_addr1_P_emaildomain_std'], dtype='<U45')"
            ]
          },
          "metadata": {},
          "execution_count": 16
        }
      ]
    },
    {
      "cell_type": "markdown",
      "metadata": {
        "id": "umhqCEy9vK9K"
      },
      "source": [
        "#Local Validation\n",
        "For this competition, we used time based local validation. I evaluated features by training on the first 75% of the data and predicting the last 25% of the data. Konstantin had a slightly different local validaiton. He trained on the first 4 months, skipped a month, and predicted the last month. Our current XGB model with 216 features achieves AUC = 0.9363 on Chris' local validation and AUC = 0.9241 on Konstantin's local validation."
      ]
    },
    {
      "cell_type": "code",
      "metadata": {
        "id": "OMrCnzqKvH7S"
      },
      "source": [
        "# CHRIS - TRAIN 75% PREDICT 25%\n",
        "idxT = X_train.index[:3*len(X_train)//4]\n",
        "idxV = X_train.index[3*len(X_train)//4:]\n",
        "\n",
        "# KONSTANTIN - TRAIN 4 SKIP 1 PREDICT 1 MONTH\n",
        "#idxT = X_train.index[:417559]\n",
        "#idxV = X_train.index[-89326:]"
      ],
      "execution_count": null,
      "outputs": []
    },
    {
      "cell_type": "code",
      "metadata": {
        "colab": {
          "base_uri": "https://localhost:8080/"
        },
        "id": "-KA6YWuawUaq",
        "outputId": "c85eaf7f-d703-4d0b-8ae0-941728bad094"
      },
      "source": [
        "import xgboost as xgb\n",
        "print(\"XGBoost version:\", xgb.__version__)\n",
        "\n",
        "if BUILD95:\n",
        "    clf = xgb.XGBClassifier( \n",
        "        n_estimators=2000,\n",
        "        max_depth=12, \n",
        "        learning_rate=0.02, \n",
        "        subsample=0.8,\n",
        "        colsample_bytree=0.4, \n",
        "        missing=-1, \n",
        "        eval_metric='auc',\n",
        "        # USE CPU\n",
        "        #nthread=4,\n",
        "        #tree_method='hist' \n",
        "        # USE GPU\n",
        "        tree_method='gpu_hist' \n",
        "    )\n",
        "    h = clf.fit(X_train.loc[idxT,cols], y_train[idxT], \n",
        "        eval_set=[(X_train.loc[idxV,cols],y_train[idxV])],\n",
        "        verbose=50, early_stopping_rounds=100)"
      ],
      "execution_count": null,
      "outputs": [
        {
          "output_type": "stream",
          "name": "stdout",
          "text": [
            "XGBoost version: 0.90\n",
            "[0]\tvalidation_0-auc:0.787465\n",
            "Will train until validation_0-auc hasn't improved in 100 rounds.\n",
            "[50]\tvalidation_0-auc:0.877425\n",
            "[100]\tvalidation_0-auc:0.894789\n",
            "[150]\tvalidation_0-auc:0.908036\n",
            "[200]\tvalidation_0-auc:0.919298\n",
            "[250]\tvalidation_0-auc:0.926087\n",
            "[300]\tvalidation_0-auc:0.930603\n",
            "[350]\tvalidation_0-auc:0.933526\n",
            "[400]\tvalidation_0-auc:0.93514\n",
            "[450]\tvalidation_0-auc:0.935716\n",
            "[500]\tvalidation_0-auc:0.936095\n",
            "[550]\tvalidation_0-auc:0.935755\n",
            "[600]\tvalidation_0-auc:0.935702\n",
            "Stopping. Best iteration:\n",
            "[511]\tvalidation_0-auc:0.93616\n",
            "\n"
          ]
        }
      ]
    },
    {
      "cell_type": "code",
      "metadata": {
        "colab": {
          "base_uri": "https://localhost:8080/",
          "height": 720
        },
        "id": "DPtc34U62zk5",
        "outputId": "543b935b-3a49-4100-e3fb-f35c050ebf53"
      },
      "source": [
        "if BUILD95:\n",
        "\n",
        "    feature_imp = pd.DataFrame(sorted(zip(clf.feature_importances_,cols)), columns=['Value','Feature'])\n",
        "    plt.figure(figsize=(20, 10))\n",
        "    sns.barplot(x=\"Value\", y=\"Feature\", data=feature_imp.sort_values(by=\"Value\", ascending=False).iloc[:50])\n",
        "    plt.title('XGB95 Most Important Features')\n",
        "    plt.tight_layout()\n",
        "    plt.show()\n",
        "    del clf, h; x=gc.collect()"
      ],
      "execution_count": null,
      "outputs": [
        {
          "output_type": "display_data",
          "data": {
            "image/png": "[encoded data removed]",
            "text/plain": [
              "<Figure size 1440x720 with 1 Axes>"
            ]
          },
          "metadata": {
            "needs_background": "light"
          }
        }
      ]
    },
    {
      "cell_type": "markdown",
      "metadata": {
        "id": "HULRJJEz2_3O"
      },
      "source": [
        "#Predict test.csv\n"
      ]
    },
    {
      "cell_type": "code",
      "metadata": {
        "id": "M3bYr7SX21_f"
      },
      "source": [
        "import datetime\n",
        "START_DATE = datetime.datetime.strptime('2017-11-30', '%Y-%m-%d')\n",
        "X_train['DT_M'] = X_train['TransactionDT'].apply(lambda x: (START_DATE + datetime.timedelta(seconds = x)))\n",
        "X_train['DT_M'] = (X_train['DT_M'].dt.year-2017)*12 + X_train['DT_M'].dt.month \n",
        "\n",
        "X_test['DT_M'] = X_test['TransactionDT'].apply(lambda x: (START_DATE + datetime.timedelta(seconds = x)))\n",
        "X_test['DT_M'] = (X_test['DT_M'].dt.year-2017)*12 + X_test['DT_M'].dt.month "
      ],
      "execution_count": null,
      "outputs": []
    },
    {
      "cell_type": "code",
      "metadata": {
        "colab": {
          "base_uri": "https://localhost:8080/"
        },
        "id": "YFZbvhLb3G_q",
        "outputId": "f1632a06-588c-474e-9f51-d13e00128c08"
      },
      "source": [
        "if BUILD95:\n",
        "    oof = np.zeros(len(X_train))\n",
        "    preds = np.zeros(len(X_test))\n",
        "\n",
        "    skf = GroupKFold(n_splits=6)\n",
        "    for i, (idxT, idxV) in enumerate( skf.split(X_train, y_train, groups=X_train['DT_M']) ):\n",
        "        month = X_train.iloc[idxV]['DT_M'].iloc[0]\n",
        "        print('Fold',i,'withholding month',month)\n",
        "        print(' rows of train =',len(idxT),'rows of holdout =',len(idxV))\n",
        "        clf = xgb.XGBClassifier(\n",
        "            n_estimators=5000,\n",
        "            max_depth=12,\n",
        "            learning_rate=0.02,\n",
        "            subsample=0.8,\n",
        "            colsample_bytree=0.4,\n",
        "            missing=-1,\n",
        "            eval_metric='auc',\n",
        "            # USE CPU\n",
        "            #nthread=4,\n",
        "            #tree_method='hist'\n",
        "            # USE GPU\n",
        "            tree_method='gpu_hist' \n",
        "        )        \n",
        "        h = clf.fit(X_train[cols].iloc[idxT], y_train.iloc[idxT], \n",
        "                eval_set=[(X_train[cols].iloc[idxV],y_train.iloc[idxV])],\n",
        "                verbose=100, early_stopping_rounds=200)\n",
        "    \n",
        "        oof[idxV] += clf.predict_proba(X_train[cols].iloc[idxV])[:,1]\n",
        "        preds += clf.predict_proba(X_test[cols])[:,1]/skf.n_splits\n",
        "        del h, clf\n",
        "        x=gc.collect()\n",
        "    print('#'*20)\n",
        "    print ('XGB95 OOF CV=',roc_auc_score(y_train,oof))"
      ],
      "execution_count": null,
      "outputs": [
        {
          "output_type": "stream",
          "name": "stdout",
          "text": [
            "Fold 0 withholding month 12\n",
            " rows of train = 453219 rows of holdout = 137321\n",
            "[0]\tvalidation_0-auc:0.757184\n",
            "Will train until validation_0-auc hasn't improved in 200 rounds.\n",
            "[100]\tvalidation_0-auc:0.871131\n",
            "[200]\tvalidation_0-auc:0.891002\n",
            "[300]\tvalidation_0-auc:0.903015\n",
            "[400]\tvalidation_0-auc:0.907762\n",
            "[500]\tvalidation_0-auc:0.908169\n",
            "[600]\tvalidation_0-auc:0.908522\n",
            "[700]\tvalidation_0-auc:0.908788\n",
            "[800]\tvalidation_0-auc:0.908315\n",
            "Stopping. Best iteration:\n",
            "[626]\tvalidation_0-auc:0.909164\n",
            "\n",
            "Fold 1 withholding month 15\n",
            " rows of train = 488908 rows of holdout = 101632\n",
            "[0]\tvalidation_0-auc:0.832218\n",
            "Will train until validation_0-auc hasn't improved in 200 rounds.\n",
            "[100]\tvalidation_0-auc:0.906178\n",
            "[200]\tvalidation_0-auc:0.92911\n",
            "[300]\tvalidation_0-auc:0.939794\n",
            "[400]\tvalidation_0-auc:0.944252\n",
            "[500]\tvalidation_0-auc:0.945558\n",
            "[600]\tvalidation_0-auc:0.945884\n",
            "[700]\tvalidation_0-auc:0.94596\n",
            "[800]\tvalidation_0-auc:0.945901\n",
            "Stopping. Best iteration:\n",
            "[653]\tvalidation_0-auc:0.946038\n",
            "\n",
            "Fold 2 withholding month 13\n",
            " rows of train = 497955 rows of holdout = 92585\n",
            "[0]\tvalidation_0-auc:0.809112\n",
            "Will train until validation_0-auc hasn't improved in 200 rounds.\n",
            "[100]\tvalidation_0-auc:0.904545\n",
            "[200]\tvalidation_0-auc:0.924011\n",
            "[300]\tvalidation_0-auc:0.936272\n",
            "[400]\tvalidation_0-auc:0.94049\n",
            "[500]\tvalidation_0-auc:0.942128\n",
            "[600]\tvalidation_0-auc:0.9424\n",
            "[700]\tvalidation_0-auc:0.942843\n",
            "[800]\tvalidation_0-auc:0.942629\n",
            "[900]\tvalidation_0-auc:0.942023\n",
            "Stopping. Best iteration:\n",
            "[749]\tvalidation_0-auc:0.943033\n",
            "\n",
            "Fold 3 withholding month 17\n",
            " rows of train = 501214 rows of holdout = 89326\n",
            "[0]\tvalidation_0-auc:0.806384\n",
            "Will train until validation_0-auc hasn't improved in 200 rounds.\n",
            "[100]\tvalidation_0-auc:0.900572\n",
            "[200]\tvalidation_0-auc:0.924037\n",
            "[300]\tvalidation_0-auc:0.935186\n",
            "[400]\tvalidation_0-auc:0.940308\n",
            "[500]\tvalidation_0-auc:0.94194\n",
            "[600]\tvalidation_0-auc:0.942009\n",
            "[700]\tvalidation_0-auc:0.941937\n",
            "Stopping. Best iteration:\n",
            "[535]\tvalidation_0-auc:0.942297\n",
            "\n",
            "Fold 4 withholding month 14\n",
            " rows of train = 504519 rows of holdout = 86021\n",
            "[0]\tvalidation_0-auc:0.845431\n",
            "Will train until validation_0-auc hasn't improved in 200 rounds.\n",
            "[100]\tvalidation_0-auc:0.921425\n",
            "[200]\tvalidation_0-auc:0.940149\n",
            "[300]\tvalidation_0-auc:0.94902\n",
            "[400]\tvalidation_0-auc:0.951338\n",
            "[500]\tvalidation_0-auc:0.95166\n",
            "[600]\tvalidation_0-auc:0.951607\n",
            "[700]\tvalidation_0-auc:0.951158\n",
            "Stopping. Best iteration:\n",
            "[524]\tvalidation_0-auc:0.951741\n",
            "\n",
            "Fold 5 withholding month 16\n",
            " rows of train = 506885 rows of holdout = 83655\n",
            "[0]\tvalidation_0-auc:0.804214\n",
            "Will train until validation_0-auc hasn't improved in 200 rounds.\n",
            "[100]\tvalidation_0-auc:0.908902\n",
            "[200]\tvalidation_0-auc:0.93624\n",
            "[300]\tvalidation_0-auc:0.949893\n",
            "[400]\tvalidation_0-auc:0.955499\n",
            "[500]\tvalidation_0-auc:0.957092\n",
            "[600]\tvalidation_0-auc:0.957226\n",
            "[700]\tvalidation_0-auc:0.957895\n",
            "[800]\tvalidation_0-auc:0.95827\n",
            "[900]\tvalidation_0-auc:0.95814\n",
            "[1000]\tvalidation_0-auc:0.958165\n",
            "Stopping. Best iteration:\n",
            "[801]\tvalidation_0-auc:0.958271\n",
            "\n",
            "####################\n",
            "XGB95 OOF CV= 0.9405376666629452\n"
          ]
        }
      ]
    },
    {
      "cell_type": "code",
      "metadata": {
        "colab": {
          "base_uri": "https://localhost:8080/",
          "height": 281
        },
        "id": "qoR35d5pZEHa",
        "outputId": "95e54543-bfdb-4038-d99c-5392c6cac0d7"
      },
      "source": [
        "if BUILD95:\n",
        "    plt.hist(oof,bins=100)\n",
        "    plt.ylim((0,5000))\n",
        "    plt.title('XGB OOF')\n",
        "    plt.show()\n",
        "\n",
        "    X_train['oof'] = oof\n",
        "    X_train.reset_index(inplace=True)\n",
        "    X_train[['TransactionID','oof']].to_csv('oof_xgb_95.csv')\n",
        "    X_train.set_index('TransactionID',drop=True,inplace=True)\n",
        "    \n",
        "else: X_train['oof'] = 0"
      ],
      "execution_count": null,
      "outputs": [
        {
          "output_type": "display_data",
          "data": {
            "image/png": "[encoded data removed]",
            "text/plain": [
              "<Figure size 432x288 with 1 Axes>"
            ]
          },
          "metadata": {
            "needs_background": "light"
          }
        }
      ]
    },
    {
      "cell_type": "markdown",
      "metadata": {
        "id": "naWjs77bZJ9X"
      },
      "source": [
        "#Kaggle Submission File XGB_95"
      ]
    },
    {
      "cell_type": "code",
      "metadata": {
        "colab": {
          "base_uri": "https://localhost:8080/",
          "height": 281
        },
        "id": "_42bpA9OZKF2",
        "outputId": "fbc05fb7-636a-49e9-c71f-e5b65dced872"
      },
      "source": [
        "if BUILD95:\n",
        "    sample_submission = pd.read_csv('sample_submission.csv')\n",
        "    sample_submission.isFraud = preds\n",
        "    sample_submission.to_csv('sub_xgb_95.csv',index=False)\n",
        "\n",
        "    plt.hist(sample_submission.isFraud,bins=100)\n",
        "    plt.ylim((0,5000))\n",
        "    plt.title('XGB95 Submission')\n",
        "    plt.show()"
      ],
      "execution_count": null,
      "outputs": [
        {
          "output_type": "display_data",
          "data": {
            "image/png": "[encoded data removed]",
            "text/plain": [
              "<Figure size 432x288 with 1 Axes>"
            ]
          },
          "metadata": {
            "needs_background": "light"
          }
        }
      ]
    },
    {
      "cell_type": "code",
      "metadata": {
        "id": "YGbYqEFuZJTd"
      },
      "source": [
        ""
      ],
      "execution_count": null,
      "outputs": []
    }
  ]
}