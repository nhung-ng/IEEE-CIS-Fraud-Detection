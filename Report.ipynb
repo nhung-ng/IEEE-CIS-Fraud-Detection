{
 "cells": [
  {
   "cell_type": "markdown",
   "id": "bd996062",
   "metadata": {},
   "source": [
    "# Báo cáo đồ án môn \"Khoa học dữ liệu ứng dụng\"\n",
    "\n",
    "Nhóm 9:\n",
    "1. 18120533 - Dương Đoàn Bảo Sơn - https://github.com/baosonhcmus\n",
    "2. 18120498 - Nguyễn Thị Hồng Nhung - https://github.com/nhung-ng\n",
    "3. 18120009 - Vương Gia Bảo - https://github.com/bao12012000\n",
    "4. 18120543 - Trần Đại Tài - https://github.com/trandaitai327\n",
    "\n",
    "Link thùng chứa Github của nhóm: [Link](https://github.com/trandaitai327/IEEE-CIS-Fraud-Detection)"
   ]
  },
  {
   "cell_type": "markdown",
   "id": "608eb2f4",
   "metadata": {},
   "source": [
    "## Mô tả bài toán"
   ]
  },
  {
   "cell_type": "markdown",
   "id": "5ae2b492",
   "metadata": {},
   "source": [
    "[IEEE-CIS Fraud Detection](https://www.kaggle.com/c/ieee-fraud-detection/overview)\n",
    "### Bối cảnh:\n",
    "Đây là cuộc thì được tổ chức bởi  Các nhà nghiên cứu từ IEEE Computational Intelligence Society (IEEE-CIS) hợp tác với công ty dịch vụ thanh toán hàng đầu thế giới - Vesta Corporation  nhằm tìm kiếm các giải pháp tốt nhất cho việc phát hiện gian lận từ các giao dịch của khách hàng, giúp hàng trăm nghìn doanh nghiệp giảm thất thoát do gian lận và tăng doanh thu của họ.\n",
    "### Đánh giá:\n",
    "Độ đo [area under the ROC curve](https://en.wikipedia.org/wiki/Receiver_operating_characteristic)(AUC)\n",
    "### Submission File:\n",
    "Đối với mỗi `TransactionID` trong tập thử nghiệm, bạn phải dự đoán một xác suất cho biến `isFraud`. Tệp phải chứa tiêu đề và có định dạng sau:\n",
    "\n",
    "TransactionID,isFraud\n",
    "\n",
    "3663549,0.5\n",
    "\n",
    "3663550,0.5\n",
    "\n",
    "3663551,0.5\n",
    "\n",
    "etc.\n",
    "\n",
    "### Dữ liệu:\n",
    "- Dữ liệu đến từ các giao dịch thương mại điện tử của các khách hàng của Vesta bao gồm các features từ loại thiết bị cho đến features của sản phẩm cũng như thông tin về các giao dịch và cho phép tạo các features mới để cải thiện kết quả của model.\n",
    "\n",
    "- Dữ liệu được chia thành hai file:  identity và transactionđược nối với nhau bằng TransactionID. Không phải tất cả các giao dịch đều có thông tin nhận dạng tương ứng.\n",
    "\n",
    "- Các thuộc tính:\n",
    "  + Transaction Table:\n",
    "    * TransactionDT: thời gian tính từ một móc tham chiếu  (ngày/ giờ) nhất định (không phải thời gian thực tế)\n",
    "    * TransactionAMT: số tiền thanh toán cho giao dịch  (USD)\n",
    "    * ProductCD:  mã sản phẩm  của mỗi giao dịch\n",
    "    * card1 - card6: thông tin thẻ thanh toán, chẳng hạn như loại thẻ, ngân hàng phát hành,,quốc gia, v.v.\n",
    "    * addr: địa chỉ user\n",
    "    * dist: khoảng cách giữa (không giới hạn) địa chỉ thanh toán, địa chỉ gửi , mã zip, địa chỉ IP, mã vùng điện thoại, v.v.”\n",
    "    * P_ and (R__) emaildomain: tên miền email của người mua và người nhận, một số giao dịch nhất định không cần người nhận, do đó, có thể null\n",
    "    * C1-C14: counting  ,có bao nhiêu địa chỉ được tìm thấy có liên quan đến thẻ thanh toán, v.v. (Ý nghĩa thực tế được che giấu)\n",
    "“Bạn có thể vui lòng cho thêm ví dụ về số đếm trong các biến C1-15 không? số điện thoại, địa chỉ email, tên liên quan đến người dùng?\n",
    "    * D1-D15: timedelta (chẳng hạn thời gian giữa các lần giao dịch)\n",
    "    * M1-M9: match ( tên trên thẻ , địa chỉ,vv..vv.)\n",
    "    * Vxxx: các features  bao gồm xếp hạng, đếm và các quan hệ thực thể khác.\n",
    "\n",
    "    “Ví dụ: số lần thẻ thanh toán được liên kết với IP và email hoặc địa chỉ xuất hiện trong phạm vi thời gian 24 giờ, v.v.” \n",
    "    * Categorical Features: ProductCD, card1 - card6, addr1, addr2, P_emaildomain, R_emaildomain, M1 - M9\n",
    "\n",
    "  + Indentity Table:\n",
    "    * Các biến trong bảng này là thông tin giúp xác thực/nhận dạng - thông tin kết nối mạng (IP, ISP, Proxy, v.v.) và chữ ký số (UA / browser / os / version, v.v.) được liên kết với các giao dịch.Chúng được thu thập bởi hệ thống chống gian lận của Vesta và các đối tác bảo mật kỹ thuật số.\n",
    "(Các tên trường được che dấu và từ điển ghép nối sẽ không được cung cấp để bảo vệ quyền riêng tư và thỏa thuận hợp đồng) \n",
    "    * Categorical Features: DeviceType, DeviceInfo\n",
    "    * id_12 - id_38 : là các numerical features cho Identity như rank thiết bị/ip_domain/ proxy, v.v. Ngoài ra, nó còn ghi lại dấu vân tay hành vi như số lần đăng nhập tài khoản / không đăng nhập được, thời gian đăng nhập tài khoản vẫn còn trên trang,.v..v"
   ]
  },
  {
   "cell_type": "markdown",
   "id": "179e26e7",
   "metadata": {},
   "source": [
    "## Giải quyết bài toán"
   ]
  },
  {
   "attachments": {},
   "cell_type": "markdown",
   "id": "1b35918f",
   "metadata": {},
   "source": [
    "[Giải pháp hạng 1 - Chris Deotte & Konstantin Yakovlev](https://www.kaggle.com/c/ieee-fraud-detection/discussion/111284?fbclid=IwAR1CdMPVYUNmvIgxfDQbExwpYZZyU8SiMICVvfXwJEOSRIFEjE-2lUapRMg)   \n",
    "**Time is not most important !!!**\n",
    "- Không phải bản chất của gian lận thay đổi theo thời gian mà là do tập khách hàng thay đổi theo thời gian.\n",
    "- Thử thách của cuộc thi này là dự đoán những khách hàng mà chúng ta không nhìn thấy được. Thực vậy dữ liệu private gồm 68.2% khách hàng chúng ta không nhìn thấy trong tập train, 16.4% tồn tại trong tập train và tập test, 15,4% là không chắc chắn (số liệu sau khi cuộc thi kết thúc)\n",
    "### Tóm tắt cách giải quyết :\n",
    "- Thay vì dự đoán giao dịch gian lận thì chúng ta phát hiện khách hàng gian lận.\n",
    "#### 3 phần quan trọng trong solution :\n",
    "- [EDA for Columns V and ID](https://www.kaggle.com/cdeotte/eda-for-columns-v-and-id)\n",
    "- [Feature Engineering and Feature Selection](https://www.kaggle.com/c/ieee-fraud-detection/discussion/111308)\n",
    "- [The Magic Works](https://www.kaggle.com/cdeotte/xgb-fraud-with-magic-0-9600#How-the-Magic-Works)"
   ]
  },
  {
   "cell_type": "markdown",
   "id": "f12662e3",
   "metadata": {},
   "source": [
    "## EDA for Columns V and ID"
   ]
  },
  {
   "cell_type": "markdown",
   "id": "086aaf50",
   "metadata": {},
   "source": [
    "### Prepare Data"
   ]
  },
  {
   "cell_type": "code",
   "execution_count": null,
   "id": "7393e5ed",
   "metadata": {},
   "outputs": [],
   "source": [
    "!gdown https://drive.google.com/uc?id=1x6xmQifUHQWZi7nDJs53do1G4q5aEnWI&export=download\n",
    "!unzip ieee-fraud-detection.zip"
   ]
  },
  {
   "cell_type": "markdown",
   "id": "5e592f31",
   "metadata": {},
   "source": [
    "### Import"
   ]
  },
  {
   "cell_type": "code",
   "execution_count": null,
   "id": "bc8a68e2",
   "metadata": {},
   "outputs": [],
   "source": [
    "import seaborn as sns\n",
    "import matplotlib.pyplot as plt\n",
    "import numpy as np,gc # linear algebra\n",
    "import pandas as pd # data processing, CSV file I/O (e.g. pd.read_csv)\n",
    "pd.set_option('display.max_columns', 500)"
   ]
  },
  {
   "cell_type": "code",
   "execution_count": null,
   "id": "e5c014ad",
   "metadata": {},
   "outputs": [],
   "source": [
    "cols_t = ['TransactionID', 'TransactionDT', 'TransactionAmt',\n",
    "       'ProductCD', 'card1', 'card2', 'card3', 'card4', 'card5', 'card6',\n",
    "       'addr1', 'addr2', 'dist1', 'dist2', 'P_emaildomain', 'R_emaildomain',\n",
    "       'C1', 'C2', 'C3', 'C4', 'C5', 'C6', 'C7', 'C8', 'C9', 'C10', 'C11',\n",
    "       'C12', 'C13', 'C14', 'D1', 'D2', 'D3', 'D4', 'D5', 'D6', 'D7', 'D8',\n",
    "       'D9', 'D10', 'D11', 'D12', 'D13', 'D14', 'D15', 'M1', 'M2', 'M3', 'M4',\n",
    "       'M5', 'M6', 'M7', 'M8', 'M9']\n",
    "cols_v = ['V'+str(x) for x in range(1,340)]; types_v = {}\n",
    "for c in cols_v: types_v[c] = 'float32'\n",
    "train = pd.read_csv('train_transaction.csv',usecols=cols_t+['isFraud']+cols_v,dtype=types_v)"
   ]
  },
  {
   "cell_type": "markdown",
   "id": "60179005",
   "metadata": {},
   "source": [
    "### NAN search\n",
    "We will search all the columns of train_transaction.csv to determine which columns are related by the number of NANs present. We see that D1 relates to a subset of V281 thru V315, and D11 relates to V1 thru V11. Also we find groups of Vs with similar NAN structure. And we see that M1, M2, M3 related and M8, M9 related."
   ]
  },
  {
   "cell_type": "code",
   "execution_count": null,
   "id": "2c79e2ee",
   "metadata": {},
   "outputs": [],
   "source": [
    "nans_df = train.isna()\n",
    "nans_groups={}\n",
    "i_cols = ['V'+str(i) for i in range(1,340)]\n",
    "for col in train.columns:\n",
    "    cur_group = nans_df[col].sum()\n",
    "    try:\n",
    "        nans_groups[cur_group].append(col)\n",
    "    except:\n",
    "        nans_groups[cur_group]=[col]\n",
    "del nans_df; x=gc.collect()\n",
    "\n",
    "for k,v in nans_groups.items():\n",
    "    print('####### NAN count =',k)\n",
    "    print(v)"
   ]
  },
  {
   "cell_type": "markdown",
   "id": "3030ae3b",
   "metadata": {},
   "source": [
    "### V1-V11,D11"
   ]
  },
  {
   "cell_type": "code",
   "execution_count": null,
   "id": "49b23b3c",
   "metadata": {},
   "outputs": [],
   "source": [
    "Vc = ['dayr','isFraud','TransactionAmt','card1','addr1','D1n','D11n']\n",
    "Vs = nans_groups[279287]\n",
    "Vtitle = 'V1 - V11, D11'"
   ]
  },
  {
   "cell_type": "code",
   "execution_count": null,
   "id": "0a9c9165",
   "metadata": {},
   "outputs": [],
   "source": [
    "def make_plots(Vs):\n",
    "    col = 4\n",
    "    row = len(Vs)//4+1\n",
    "    plt.figure(figsize=(20,row*5))\n",
    "    idx = train[~train[Vs[0]].isna()].index\n",
    "    for i,v in enumerate(Vs):\n",
    "        plt.subplot(row,col,i+1)\n",
    "        n = train[v].nunique()\n",
    "        x = np.sum(train.loc[idx,v]!=train.loc[idx,v].astype(int))\n",
    "        y = np.round(100*np.sum(train[v].isna())/len(train),2)\n",
    "        t = 'int'\n",
    "        if x!=0: t = 'float'\n",
    "        plt.title(v+' has '+str(n)+' '+t+' and '+str(y)+'% nan')\n",
    "        plt.yticks([])\n",
    "        h = plt.hist(train.loc[idx,v],bins=100)\n",
    "        if len(h[0])>1: plt.ylim((0,np.sort(h[0])[-2]))\n",
    "    plt.show()\n",
    "make_plots(Vs)"
   ]
  },
  {
   "cell_type": "code",
   "execution_count": null,
   "id": "5da588d2",
   "metadata": {},
   "outputs": [],
   "source": [
    "def make_corr(Vs,Vtitle=''):\n",
    "    cols = ['TransactionDT'] + Vs\n",
    "    plt.figure(figsize=(15,15))\n",
    "    sns.heatmap(train[cols].corr(), cmap='RdBu_r', annot=True, center=0.0)\n",
    "    if Vtitle!='': plt.title(Vtitle,fontsize=14)\n",
    "    else: plt.title(Vs[0]+' - '+Vs[-1],fontsize=14)\n",
    "    plt.show()\n",
    "make_corr(Vs,Vtitle)"
   ]
  },
  {
   "cell_type": "code",
   "execution_count": null,
   "id": "43194243",
   "metadata": {},
   "outputs": [],
   "source": [
    "grps = [[1],[2,3],[4,5],[6,7],[8,9],[10,11]]\n",
    "def reduce_group(grps,c='V'):\n",
    "    use = []\n",
    "    for g in grps:\n",
    "        mx = 0; vx = g[0]\n",
    "        for gg in g:\n",
    "            n = train[c+str(gg)].nunique()\n",
    "            if n>mx:\n",
    "                mx = n\n",
    "                vx = gg\n",
    "            #print(str(gg)+'-'+str(n),', ',end='')\n",
    "        use.append(vx)\n",
    "        #print()\n",
    "    print('Use these',use)\n",
    "reduce_group(grps)"
   ]
  },
  {
   "cell_type": "markdown",
   "id": "b20c0121",
   "metadata": {},
   "source": [
    "### V12 - V34"
   ]
  },
  {
   "cell_type": "code",
   "execution_count": null,
   "id": "185d2f40",
   "metadata": {},
   "outputs": [],
   "source": [
    "Vs = nans_groups[76073]\n",
    "make_plots(Vs)\n",
    "make_corr(Vs)"
   ]
  },
  {
   "cell_type": "code",
   "execution_count": null,
   "id": "cda5cea3",
   "metadata": {},
   "outputs": [],
   "source": [
    "grps = [[12,13],[14],[15,16,17,18,21,22,31,32,33,34],[19,20],[23,24],[25,26],[27,28],[29,30]]\n",
    "reduce_group(grps)"
   ]
  },
  {
   "cell_type": "markdown",
   "id": "482af506",
   "metadata": {},
   "source": [
    "### V35 - V52"
   ]
  },
  {
   "cell_type": "code",
   "execution_count": null,
   "id": "8c527604",
   "metadata": {},
   "outputs": [],
   "source": [
    "Vs = nans_groups[168969]\n",
    "make_plots(Vs)\n",
    "make_corr(Vs)"
   ]
  },
  {
   "cell_type": "code",
   "execution_count": null,
   "id": "b3121bae",
   "metadata": {},
   "outputs": [],
   "source": [
    "grps = [[35,36],[37,38],[39,40,42,43,50,51,52],[41],[44,45],[46,47],[48,49]]\n",
    "reduce_group(grps)"
   ]
  },
  {
   "cell_type": "markdown",
   "id": "3e96a16d",
   "metadata": {},
   "source": [
    "### V53 - V74"
   ]
  },
  {
   "cell_type": "code",
   "execution_count": null,
   "id": "c8fe3a50",
   "metadata": {},
   "outputs": [],
   "source": [
    "Vs = nans_groups[77096]\n",
    "make_plots(Vs)\n",
    "make_corr(Vs)"
   ]
  },
  {
   "cell_type": "code",
   "execution_count": null,
   "id": "4d93ec37",
   "metadata": {},
   "outputs": [],
   "source": [
    "grps = [[53,54],[55,56],[57,58,59,60,63,64,71,72,73,74],[61,62],[65],[66,67],[68],[69,70]]\n",
    "reduce_group(grps)"
   ]
  },
  {
   "cell_type": "markdown",
   "id": "bc2bce0f",
   "metadata": {},
   "source": [
    "### V75 - V94"
   ]
  },
  {
   "cell_type": "code",
   "execution_count": null,
   "id": "e45d257b",
   "metadata": {},
   "outputs": [],
   "source": [
    "Vs = nans_groups[89164]\n",
    "make_plots(Vs)\n",
    "make_corr(Vs)"
   ]
  },
  {
   "cell_type": "code",
   "execution_count": null,
   "id": "ad4fc6ff",
   "metadata": {},
   "outputs": [],
   "source": [
    "grps = [[75,76],[77,78],[79,80,81,84,85,92,93,94],[82,83],[86,87],[88],[89],[90,91]]\n",
    "reduce_group(grps)"
   ]
  },
  {
   "cell_type": "markdown",
   "id": "9006944c",
   "metadata": {},
   "source": [
    "### V95 - V137"
   ]
  },
  {
   "cell_type": "code",
   "execution_count": null,
   "id": "cbfb2bca",
   "metadata": {},
   "outputs": [],
   "source": [
    "Vs = nans_groups[314]\n",
    "make_corr(Vs)"
   ]
  },
  {
   "cell_type": "code",
   "execution_count": null,
   "id": "54ef4b62",
   "metadata": {},
   "outputs": [],
   "source": [
    "Vs = ['V'+str(x) for x in range(95,107)]\n",
    "make_plots(Vs)\n",
    "make_corr(Vs)"
   ]
  },
  {
   "cell_type": "code",
   "execution_count": null,
   "id": "d7b1cdbb",
   "metadata": {},
   "outputs": [],
   "source": [
    "grps = [[95,96,97,101,102,103,105,106],[98],[99,100],[104]]\n",
    "reduce_group(grps)"
   ]
  },
  {
   "cell_type": "code",
   "execution_count": null,
   "id": "733550a6",
   "metadata": {},
   "outputs": [],
   "source": [
    "Vs = ['V'+str(x) for x in range(107,124)]\n",
    "make_plots(Vs)\n",
    "make_corr(Vs)"
   ]
  },
  {
   "cell_type": "code",
   "execution_count": null,
   "id": "8295e8a7",
   "metadata": {},
   "outputs": [],
   "source": [
    "grps = [[107],[108,109,110,114],[111,112,113],[115,116],[117,118,119],[120,122],[121],[123]]\n",
    "reduce_group(grps)"
   ]
  },
  {
   "cell_type": "code",
   "execution_count": null,
   "id": "c0c4c4a5",
   "metadata": {},
   "outputs": [],
   "source": [
    "Vs = ['V'+str(x) for x in range(124,138)]\n",
    "make_plots(Vs)\n",
    "make_corr(Vs)"
   ]
  },
  {
   "cell_type": "code",
   "execution_count": null,
   "id": "b4a138ef",
   "metadata": {},
   "outputs": [],
   "source": [
    "grps = [[124,125],[126,127,128,132,133,134],[129],[130,131],[135,136,137]]\n",
    "reduce_group(grps)"
   ]
  },
  {
   "cell_type": "markdown",
   "id": "aee077ee",
   "metadata": {},
   "source": [
    "### V138 ~ V163"
   ]
  },
  {
   "cell_type": "code",
   "execution_count": null,
   "id": "4cc09b0c",
   "metadata": {},
   "outputs": [],
   "source": [
    "Vs = nans_groups[508595]\n",
    "make_plots(Vs)\n",
    "make_corr(Vs)"
   ]
  },
  {
   "cell_type": "code",
   "execution_count": null,
   "id": "112853ef",
   "metadata": {},
   "outputs": [],
   "source": [
    "grps = [[138],[139,140],[141,142],[146,147],[148,149,153,154,156,157,158],[161,162,163]]\n",
    "reduce_group(grps)"
   ]
  },
  {
   "cell_type": "markdown",
   "id": "f7f45f59",
   "metadata": {},
   "source": [
    "### V143 ~ V166"
   ]
  },
  {
   "cell_type": "code",
   "execution_count": null,
   "id": "3820959d",
   "metadata": {},
   "outputs": [],
   "source": [
    "Vs = nans_groups[508589]\n",
    "make_plots(Vs)\n",
    "make_corr(Vs)"
   ]
  },
  {
   "cell_type": "code",
   "execution_count": null,
   "id": "3b63544a",
   "metadata": {},
   "outputs": [],
   "source": [
    "grps = [[143,164,165],[144,145,150,151,152,159,160],[166]]\n",
    "reduce_group(grps)"
   ]
  },
  {
   "cell_type": "markdown",
   "id": "28ec6a5e",
   "metadata": {},
   "source": [
    "### V167 ~ V216"
   ]
  },
  {
   "cell_type": "code",
   "execution_count": null,
   "id": "8612889c",
   "metadata": {},
   "outputs": [],
   "source": [
    "Vs = [x for x in nans_groups[450909]]\n",
    "make_corr(Vs)"
   ]
  },
  {
   "cell_type": "code",
   "execution_count": null,
   "id": "bb17b6f0",
   "metadata": {},
   "outputs": [],
   "source": [
    "Vs = [x for x in nans_groups[450909] if int(x[1:])<186]\n",
    "make_plots(Vs)\n",
    "make_corr(Vs)"
   ]
  },
  {
   "cell_type": "code",
   "execution_count": null,
   "id": "0cc68a5e",
   "metadata": {},
   "outputs": [],
   "source": [
    "grps = [[167,168,177,178,179],[172,176],[173],[181,182,183]]\n",
    "reduce_group(grps)"
   ]
  },
  {
   "cell_type": "code",
   "execution_count": null,
   "id": "d4fc358e",
   "metadata": {},
   "outputs": [],
   "source": [
    "Vs = [x for x in nans_groups[450909] if (int(x[1:])>183)]\n",
    "make_plots(Vs)\n",
    "make_corr(Vs)"
   ]
  },
  {
   "cell_type": "code",
   "execution_count": null,
   "id": "8cca1ff3",
   "metadata": {},
   "outputs": [],
   "source": [
    "grps = [[186,187,190,191,192,193,196,199],[202,203,204,211,212,213],[205,206],[207],[214,215,216]]\n",
    "reduce_group(grps)"
   ]
  },
  {
   "cell_type": "markdown",
   "id": "0d8c380d",
   "metadata": {},
   "source": [
    "### V169 ~ V210"
   ]
  },
  {
   "cell_type": "code",
   "execution_count": null,
   "id": "0cfeceef",
   "metadata": {},
   "outputs": [],
   "source": [
    "Vs = nans_groups[450721]\n",
    "make_plots(Vs)\n",
    "make_corr(Vs)"
   ]
  },
  {
   "cell_type": "code",
   "execution_count": null,
   "id": "e11c58ac",
   "metadata": {},
   "outputs": [],
   "source": [
    "grps = [[169],[170,171,200,201],[174,175],[180],[184,185],[188,189],[194,195,197,198],[208,210],[209]]\n",
    "reduce_group(grps)"
   ]
  },
  {
   "cell_type": "markdown",
   "id": "818a3f8c",
   "metadata": {},
   "source": [
    "### V217 ~ V278"
   ]
  },
  {
   "cell_type": "code",
   "execution_count": null,
   "id": "b0f4a0b9",
   "metadata": {},
   "outputs": [],
   "source": [
    "Vs = [x for x in nans_groups[460110]]\n",
    "make_corr(Vs)"
   ]
  },
  {
   "cell_type": "code",
   "execution_count": null,
   "id": "3ff86a0c",
   "metadata": {},
   "outputs": [],
   "source": [
    "Vs = [x for x in nans_groups[460110] if int(x[1:])<240]\n",
    "make_plots(Vs)\n",
    "make_corr(Vs)"
   ]
  },
  {
   "cell_type": "code",
   "execution_count": null,
   "id": "79debe68",
   "metadata": {},
   "outputs": [],
   "source": [
    "grps = [[217,218,219,231,232,233,236,237],[223],[224,225],[226],[228],[229,230],[235]]\n",
    "reduce_group(grps)"
   ]
  },
  {
   "cell_type": "code",
   "execution_count": null,
   "id": "1866b0fe",
   "metadata": {},
   "outputs": [],
   "source": [
    "Vs = [x for x in nans_groups[460110] if (int(x[1:])>237)&(int(x[1:])<263)]\n",
    "make_plots(Vs)\n",
    "make_corr(Vs)"
   ]
  },
  {
   "cell_type": "code",
   "execution_count": null,
   "id": "e86d966d",
   "metadata": {},
   "outputs": [],
   "source": [
    "grps = [[240,241],[242,243,244,258],[246,257],[247,248,249,253,254],[252],[260],[261,262]]\n",
    "reduce_group(grps)"
   ]
  },
  {
   "cell_type": "code",
   "execution_count": null,
   "id": "f21b6342",
   "metadata": {},
   "outputs": [],
   "source": [
    "Vs = [x for x in nans_groups[460110] if (int(x[1:])>262)]\n",
    "make_plots(Vs)\n",
    "make_corr(Vs)"
   ]
  },
  {
   "cell_type": "code",
   "execution_count": null,
   "id": "5e70f50d",
   "metadata": {},
   "outputs": [],
   "source": [
    "grps = [[263,265,264],[266,269],[267,268],[273,274,275],[276,277,278]]\n",
    "reduce_group(grps)"
   ]
  },
  {
   "cell_type": "markdown",
   "id": "fe4f77b4",
   "metadata": {},
   "source": [
    "### V220 ~ V272"
   ]
  },
  {
   "cell_type": "code",
   "execution_count": null,
   "id": "27a3aece",
   "metadata": {},
   "outputs": [],
   "source": [
    "Vs = nans_groups[449124]\n",
    "make_plots(Vs)\n",
    "make_corr(Vs)"
   ]
  },
  {
   "cell_type": "code",
   "execution_count": null,
   "id": "6cc0fee1",
   "metadata": {},
   "outputs": [],
   "source": [
    "grps = [[220],[221,222,227,245,255,256,259],[234],[238,239],[250,251],[270,271,272]]\n",
    "reduce_group(grps)"
   ]
  },
  {
   "cell_type": "markdown",
   "id": "49a130a3",
   "metadata": {},
   "source": [
    "### V279 ~ V321"
   ]
  },
  {
   "cell_type": "code",
   "execution_count": null,
   "id": "7be67038",
   "metadata": {},
   "outputs": [],
   "source": [
    "Vs = [x for x in nans_groups[12]]\n",
    "make_corr(Vs)"
   ]
  },
  {
   "cell_type": "code",
   "execution_count": null,
   "id": "f5acd15e",
   "metadata": {},
   "outputs": [],
   "source": [
    "Vs = [x for x in nans_groups[12] if int(x[1:])<302]\n",
    "make_plots(Vs)\n",
    "make_corr(Vs)"
   ]
  },
  {
   "cell_type": "code",
   "execution_count": null,
   "id": "2994adcf",
   "metadata": {},
   "outputs": [],
   "source": [
    "grps = [[279,280,293,294,295,298,299],[284],[285,287],[286],[290,291,292],[297]]\n",
    "reduce_group(grps)"
   ]
  },
  {
   "cell_type": "code",
   "execution_count": null,
   "id": "dac9ef94",
   "metadata": {},
   "outputs": [],
   "source": [
    "Vs = [x for x in nans_groups[12] if int(x[1:])>299]\n",
    "make_plots(Vs)\n",
    "make_corr(Vs)"
   ]
  },
  {
   "cell_type": "code",
   "execution_count": null,
   "id": "13ba5c3f",
   "metadata": {},
   "outputs": [],
   "source": [
    "grps = [[302,303,304],[305],[306,307,308,316,317,318],[309,311],[310,312],[319,320,321]]\n",
    "reduce_group(grps)"
   ]
  },
  {
   "cell_type": "markdown",
   "id": "086b0c15",
   "metadata": {},
   "source": [
    "### V281 ~ V315, D1"
   ]
  },
  {
   "cell_type": "code",
   "execution_count": null,
   "id": "0f62bcde",
   "metadata": {},
   "outputs": [],
   "source": [
    "Vs = nans_groups[1269]\n",
    "make_plots(Vs)\n",
    "Vtitle = 'V281 - V315, D1'\n",
    "make_corr(Vs,Vtitle)"
   ]
  },
  {
   "cell_type": "code",
   "execution_count": null,
   "id": "fab0dc37",
   "metadata": {},
   "outputs": [],
   "source": [
    "grps = [[281],[282,283],[288,289],[296],[300,301],[313,314,315]]\n",
    "reduce_group(grps)"
   ]
  },
  {
   "cell_type": "markdown",
   "id": "6a85d960",
   "metadata": {},
   "source": [
    "### V322 - V339"
   ]
  },
  {
   "cell_type": "code",
   "execution_count": null,
   "id": "59bebcad",
   "metadata": {},
   "outputs": [],
   "source": [
    "Vs = nans_groups[508189]\n",
    "make_plots(Vs)\n",
    "make_corr(Vs)"
   ]
  },
  {
   "cell_type": "code",
   "execution_count": null,
   "id": "bb445f44",
   "metadata": {},
   "outputs": [],
   "source": [
    "grps = [[322,323,324,326,327,328,329,330,331,332,333],[325],[334,335,336],[337,338,339]]\n",
    "reduce_group(grps)"
   ]
  },
  {
   "cell_type": "markdown",
   "id": "2ad8dc96",
   "metadata": {},
   "source": [
    "### V Reduced"
   ]
  },
  {
   "cell_type": "code",
   "execution_count": null,
   "id": "b8675067",
   "metadata": {},
   "outputs": [],
   "source": [
    "v =  [1, 3, 4, 6, 8, 11]\n",
    "v += [13, 14, 17, 20, 23, 26, 27, 30]\n",
    "v += [36, 37, 40, 41, 44, 47, 48]\n",
    "v += [54, 56, 59, 62, 65, 67, 68, 70]\n",
    "v += [76, 78, 80, 82, 86, 88, 89, 91]\n",
    "v += [96, 98, 99, 104]\n",
    "v += [107, 108, 111, 115, 117, 120, 121, 123]\n",
    "v += [124, 127, 129, 130, 136]\n",
    "v += [138, 139, 142, 147, 156, 162]\n",
    "v += [165, 160, 166]\n",
    "v += [178, 176, 173, 182]\n",
    "v += [187, 203, 205, 207, 215]\n",
    "v += [169, 171, 175, 180, 185, 188, 198, 210, 209]\n",
    "v += [218, 223, 224, 226, 228, 229, 235]\n",
    "v += [240, 258, 257, 253, 252, 260, 261]\n",
    "v += [264, 266, 267, 274, 277]\n",
    "v += [220, 221, 234, 238, 250, 271]\n",
    "v += [294, 284, 285, 286, 291, 297]\n",
    "v += [303, 305, 307, 309, 310, 320]\n",
    "v += [281, 283, 289, 296, 301, 314]\n",
    "v += [332, 325, 335, 338]"
   ]
  },
  {
   "cell_type": "code",
   "execution_count": null,
   "id": "08de707b",
   "metadata": {},
   "outputs": [],
   "source": [
    "print('Reduced set has',len(v),'columns')"
   ]
  },
  {
   "cell_type": "code",
   "execution_count": null,
   "id": "9422c753",
   "metadata": {},
   "outputs": [],
   "source": [
    "cols = ['TransactionDT'] + ['V'+str(x) for x in v]\n",
    "train2 = train[cols].sample(frac=0.2)\n",
    "plt.figure(figsize=(15,15))\n",
    "sns.heatmap(train2[cols].corr(), cmap='RdBu_r', annot=False, center=0.0)\n",
    "plt.title('V1-V339 REDUCED',fontsize=14)\n",
    "plt.show()"
   ]
  },
  {
   "cell_type": "markdown",
   "id": "4dc4ffcd",
   "metadata": {},
   "source": [
    "### V All\n",
    "We notice that the first 100 Vs don't correlate much with the last 239 Vs. Also even though the first 100 have 6 different NAN groups there is much correlation between the groups. The latter 239 relate to each other."
   ]
  },
  {
   "cell_type": "code",
   "execution_count": null,
   "id": "c3e520e0",
   "metadata": {},
   "outputs": [],
   "source": [
    "cols = ['TransactionDT'] + ['V'+str(x) for x in range(1,340)]\n",
    "train2 = train[cols].sample(frac=0.2)\n",
    "plt.figure(figsize=(15,15))\n",
    "sns.heatmap(train2[cols].corr(), cmap='RdBu_r', annot=False, center=0.0)\n",
    "plt.title('V1-V339 ALL',fontsize=14)\n",
    "plt.show()"
   ]
  },
  {
   "cell_type": "markdown",
   "id": "4c263362",
   "metadata": {},
   "source": [
    "### C Columns"
   ]
  },
  {
   "cell_type": "code",
   "execution_count": null,
   "id": "7b46f581",
   "metadata": {},
   "outputs": [],
   "source": [
    "def make_plots2(Vs):\n",
    "    col = 4\n",
    "    row = len(Vs)//4+1\n",
    "    plt.figure(figsize=(20,row*5))\n",
    "    for i,v in enumerate(Vs):\n",
    "        plt.subplot(row,col,i+1)\n",
    "        idx = train[~train[v].isna()].index\n",
    "        n = train[v].nunique()\n",
    "        x = np.sum(train.loc[idx,v]!=train.loc[idx,v].astype(int))\n",
    "        y = np.round(100*np.sum(train[v].isna())/len(train),2)\n",
    "        t = 'int'\n",
    "        if x!=0: t = 'float'\n",
    "        plt.title(v+' has '+str(n)+' '+t+' and '+str(y)+'% nan')\n",
    "        plt.yticks([])\n",
    "        h = plt.hist(train.loc[idx,v],bins=100)\n",
    "        if len(h[0])>1: plt.ylim((0,np.sort(h[0])[-2]))\n",
    "    plt.show()\n",
    "make_plots2(['C'+str(x) for x in range(1,15)])"
   ]
  },
  {
   "cell_type": "code",
   "execution_count": null,
   "id": "9f7301dd",
   "metadata": {},
   "outputs": [],
   "source": [
    "cols = ['TransactionDT'] + ['C'+str(x) for x in range(1,15)]\n",
    "plt.figure(figsize=(15,15))\n",
    "sns.heatmap(train[cols].corr(), cmap='RdBu_r', annot=True, center=0.0)\n",
    "plt.title('C1-C15')\n",
    "plt.show()"
   ]
  },
  {
   "cell_type": "markdown",
   "id": "7db5518d",
   "metadata": {},
   "source": [
    "### D Columns"
   ]
  },
  {
   "cell_type": "code",
   "execution_count": null,
   "id": "3c6ee707",
   "metadata": {},
   "outputs": [],
   "source": [
    "cols = ['TransactionDT'] + ['D'+str(x) for x in range(1,16)]\n",
    "plt.figure(figsize=(15,15))\n",
    "sns.heatmap(train[cols].corr(), cmap='RdBu_r', annot=True, center=0.0)\n",
    "plt.title('D1-D15')\n",
    "plt.show()"
   ]
  },
  {
   "cell_type": "markdown",
   "id": "5f582804",
   "metadata": {},
   "source": [
    "### M Columns"
   ]
  },
  {
   "cell_type": "code",
   "execution_count": null,
   "id": "13ca9d8f",
   "metadata": {},
   "outputs": [],
   "source": [
    "Ms = ['M'+str(x) for x in range(1,10)]\n",
    "mp = {'F':0,'T':1,'M0':0,'M1':1,'M2':2}\n",
    "for c in Ms: train[c] = train[c].map(mp)"
   ]
  },
  {
   "cell_type": "code",
   "execution_count": null,
   "id": "f146585f",
   "metadata": {},
   "outputs": [],
   "source": [
    "cols = ['TransactionDT'] + Ms\n",
    "plt.figure(figsize=(15,15))\n",
    "sns.heatmap(train[cols].corr(), cmap='RdBu_r', annot=True, center=0.0)\n",
    "plt.title('M1-M9')\n",
    "plt.show()"
   ]
  },
  {
   "cell_type": "markdown",
   "id": "290295fd",
   "metadata": {},
   "source": [
    "### ID Columns"
   ]
  },
  {
   "cell_type": "code",
   "execution_count": null,
   "id": "e4f0e2bf",
   "metadata": {},
   "outputs": [],
   "source": [
    "train_id = pd.read_csv('train_identity.csv')\n",
    "train_id = pd.merge(train_id,train[['TransactionID','TransactionDT']],on='TransactionID',how='left')\n",
    "ids = ['id_0'+str(x) for x in range(1,10)]+['id_'+str(x) for x in range(10,39)]\n",
    "for c in ids: print (c,train_id[c].unique()[:10])"
   ]
  },
  {
   "cell_type": "code",
   "execution_count": null,
   "id": "6a7ee797",
   "metadata": {},
   "outputs": [],
   "source": [
    "booln = ['id_12','id_15','id_16','id_27','id_28','id_29','id_35','id_36','id_37','id_38']\n",
    "cats = ['id_23','id_30','id_31','id_33','id_34']\n",
    "mp = {'Unknown':0,'NotFound':1,'Found':2,'New':3,'F':0,'T':1}\n",
    "for c in booln: train_id[c] = train_id[c].map(mp)"
   ]
  },
  {
   "cell_type": "code",
   "execution_count": null,
   "id": "eb2326cf",
   "metadata": {},
   "outputs": [],
   "source": [
    "def make_plots2(Vs):\n",
    "    col = 4\n",
    "    row = len(Vs)//4+1\n",
    "    plt.figure(figsize=(20,row*5))\n",
    "    for i,v in enumerate(Vs):\n",
    "        plt.subplot(row,col,i+1)\n",
    "        idx = train_id[~train_id[v].isna()].index\n",
    "        n = train_id[v].nunique()\n",
    "        x = np.sum(train_id.loc[idx,v]!=train_id.loc[idx,v].astype(int))\n",
    "        y = np.round(100*np.sum(train_id[v].isna())/len(train_id),2)\n",
    "        t = 'int'\n",
    "        if x!=0: t = 'float'\n",
    "        plt.title(v+' has '+str(n)+' '+t+' and '+str(y)+'% nan')\n",
    "        plt.yticks([])\n",
    "        h = plt.hist(train_id.loc[idx,v],bins=100)\n",
    "        if len(h[0])>1: plt.ylim((0,np.sort(h[0])[-2]))\n",
    "    plt.show()\n",
    "make_plots2([x for x in ids if x not in cats])"
   ]
  },
  {
   "cell_type": "code",
   "execution_count": null,
   "id": "4a2452a0",
   "metadata": {},
   "outputs": [],
   "source": [
    "cols = ['TransactionDT'] + [x for x in ids if x not in cats]\n",
    "plt.figure(figsize=(15,15))\n",
    "sns.heatmap(train_id[cols].corr(), cmap='RdBu_r', annot=True, center=0.0)\n",
    "plt.title('ID1-ID38')\n",
    "plt.show()"
   ]
  },
  {
   "cell_type": "markdown",
   "id": "1ffde019",
   "metadata": {
    "id": "zCFSEuQeUfhR"
   },
   "source": [
    " ## Feature Engineering and Feature Selection\n",
    "\n",
    "Dưới đây là một số ý tưởng về cách tạo mới và chọn thuộc tính cho mô hình mà nhóm tác giả đã thực hiện:\n",
    ">Kernel https://www.kaggle.com/kyakovlev/ieee-fe-for-local-test của Konstantin thực hiện các FE for local test và chứng minh các kỹ thuật đó. Mọi người có thể xem để tham khảo thêm\n",
    "1. Tạo một feature mới và sau đó đánh giá nó bằng các tiến hành xác thực cục bộ local validation scheme  để xem liệu nó có cải thiện CV của mô hình hay không. Giữ lại các feature có lợi và loại bỏ các feature khác.\n",
    "2. Lựa chọn các thuộc tính chuyển tiếp (sử dụng trên một thuộc tính hoặc nhóm các thuộc tính)\n",
    "3. Loại bỏ thuộc tính đệ quy (sử dụng cho một thuộc tính hoặc nhóm các thuộc tính)\n",
    "4. Xác đinh tầm quan trọng của thuộc tính bằng cách thực hiện hoán vị các giá trị thuộc tính.\n",
    "5. Xác thực chéo.\n",
    "6. Phân tích tương quan các thuộc tính.\n",
    "7. Tính nhất quán về thời gian/\n",
    "8. Tính nhất quán của khách hàng.\n",
    "9. Kiểm tra sự phân phối của tập dữ liệu thử nghiệm so với tập dữ liệu đào tạo và nếu có thể xem chúng khác nhau như thế nào."
   ]
  },
  {
   "attachments": {},
   "cell_type": "markdown",
   "id": "86f14c0f",
   "metadata": {
    "id": "P21jmy5ZUfhk"
   },
   "source": [
    "### Train & Test\n",
    "Khi thực hiện mã hóa nhãn, phải mã hóa trên cùng tập dữ liệu Train và Test bằng cách gộp chung dữ liệu lại với nhau.   \n",
    "```python\n",
    "df = pd.concat([train[col],test[col]],axis=0) \n",
    "# PERFORM FEATURE ENGINEERING HERE\n",
    "train[col] = df[:len(train)]   \n",
    "test[col] = df[len(train):]\n",
    "```\n"
   ]
  },
  {
   "attachments": {},
   "cell_type": "markdown",
   "id": "077d9474",
   "metadata": {
    "id": "hPJlN99aUfho"
   },
   "source": [
    "### NAN Processing\n",
    "Nếu ta cung cấp giá trị np.nan cho LGBM/XGB, thì tại mỗi lần Tree phân chia node, nó sẽ tách các giá trị không phải NAN và sau đó gửi tất cả các NAN đến con trái hoặc con phải tùy thuộc vào điều gì tốt nhất. Do đó, các giá trị NAN được đối xử đặc biệt ở mọi node và có thể trở dẫn đến overfit.\n",
    "\n",
    "-->Chuyển đổi tất cả NAN thành một số âm thấp hơn tất cả các giá trị không phải NAN (chẳng hạn như - 999) thì mô hình sẽ không ưu tiên xử lý với NAN nữa và dành cho nó sự chú ý giống như những con số khác.Trong bài này tác giả sử dụng giá trị -1   \n",
    "```python\n",
    "df[col].fillna(-999, inplace=True)\n",
    "```"
   ]
  },
  {
   "attachments": {},
   "cell_type": "markdown",
   "id": "3a5e564b",
   "metadata": {
    "id": "yHYbp6j_Ufhq"
   },
   "source": [
    "### Label Encode/ Factorize/ Memory reduction\n",
    "Factorizing -Mã hóa nhãn : chuyển đổi một cột kiểu string, category, object thành integers. Sau đó, ta có thể chuyển thành kiểu int8, int16 hoặc int32 tùy thuộc vào việc kiểm tra giá trị lớn nhất của cột. Từ đó giúp giảm bộ nhớ lưu trữ.\n",
    "```python\n",
    "df[col],_ = df[col].factorize()\n",
    "if df[col].max()<128: df[col] = df[col].astype('int8')\n",
    "elif df[col].max()<32768: df[col] = df[col].astype('int16')\n",
    "else: df[col].astype('int32')\n",
    "```"
   ]
  },
  {
   "attachments": {},
   "cell_type": "markdown",
   "id": "3586c75c",
   "metadata": {
    "id": "c7S_2tRRUfhs"
   },
   "source": [
    "Ngoài ra để giảm bộ nhớ, ta sử dụng memory_reducer trên các cột. Một cách tiếp cận đơn giản và an toàn hơn là chuyển đổi tất cả các giá trị kiểu float64 thành float32 và tất cả giá trị kiểu int64 thành int32. (Tốt nhất nên tránh float16 , sử dụng int8 và int16 nếu muốn).\n",
    "```python\n",
    "for col in df.columns:\n",
    "    if df[col].dtype=='float64': df[col] = df[col].astype('float32')\n",
    "    if df[col].dtype=='int64': df[col] = df[col].astype('int32')\n",
    "```\n"
   ]
  },
  {
   "cell_type": "markdown",
   "id": "d214c731",
   "metadata": {
    "id": "lEAvfL6_Ufhv"
   },
   "source": [
    "### Categorical Features\n",
    "Với các biến phân loại, ta có thể lựa chọn cho mô hình khi biết rằng chúng vó kiểu 'categorical' hoặc có thể coi nó là kiểu 'numeric' nếu ta đã mã hóa các nhãn của nó trước đó. Dù bằng cách nào, mô hình cũng có thể trích xuất các categorical classes."
   ]
  },
  {
   "cell_type": "markdown",
   "id": "31fd2168",
   "metadata": {
    "id": "OxhO2Ks0Ufhv"
   },
   "source": [
    "### Splitting\n",
    "Một cột kiểu string/numeric có thể được tách thành hai cột mới.\n",
    "\n",
    ">Ví dụ, một cột feature kiểu string chẳng hạn như cột 'id_30' có gí trị “ Mac OS X 10_9_5”  có thể được chia thành 2 cột mới là:\n",
    ">1. \"Operating System\"  có giá trị \"Mac OS X” \n",
    ">2. \"Version\" có giá trị là  “10_9_5”. \n",
    ">\n",
    ">Hoặc ví dụ với cột feature là \"TransactionAmt\" kiểu numeric có giá trị “ 1230.45” có thể được tách thành 2 cột ( tức là 2 feature mới) :\n",
    ">1. \"USD\" có giá trị  “ 1230” \n",
    ">2. \"Cent\" có giá trị  “ 45”\n"
   ]
  },
  {
   "cell_type": "markdown",
   "id": "aaa7d2f5",
   "metadata": {
    "id": "gaNhrSXnUfhw"
   },
   "source": [
    "### Combining / Transforming / Interaction\n",
    "Hai cột có kiểu string/ numeric có thể được kết hợp thành một cột mới. \n",
    "\n",
    ">Ví dụ cột feature \"card1\" và feature \"card2\" có thể trở thành một cột feature mới là \"uid\"\n",
    "```python\n",
    "df['uid'] = df[‘card1’].astype(str)+’_’+df[‘card2’].astype(str)\n",
    "```"
   ]
  },
  {
   "cell_type": "markdown",
   "id": "b920f884",
   "metadata": {
    "id": "jy2cEGCZUfhx"
   },
   "source": [
    ">Điều này giúp ích cho mô hình bởi vì bản thân thuộc tính 'card1' và 'card2' có thể không tương quan với target của bài toán ,do đó mô hình sẽ không phân chia các thuộc tính này. Nhưng thuộc tính 'uid = card1_card2' có thể tương quan với target và bây giờ mô hình có thể sử dụng thuộc tính này.\n",
    ">\n",
    "> Các cột thuộc tính kiểu số - numeric có thể được kết hợp với nhau bằng các phép cộng, trừ, nhân, v.v. \n",
    ">\n",
    ">ví dụ:\n",
    "```python\n",
    " df['x1_x2'] = df['x1'] * df['x2']\n",
    "```"
   ]
  },
  {
   "cell_type": "markdown",
   "id": "e4d63d48",
   "metadata": {
    "id": "wS8JifL_Ufhy"
   },
   "source": [
    "### Frequency Encoding\n",
    ">Mã hóa tần số là một kỹ thuật mạnh mẽ cho phép mô hình \"nhìn thấy\" liệu các giá trị nào đó của thuộc tính là hiếm gặp hay phổ biến. \n",
    ">\n",
    ">Ví dụ: nếu muốn mô hình nhân ra thuộc tính \"credit_card\" nào được sử dụng thường xuyên t có thể tiến hành đếm tần số xuất hiện của tất cả các giá trị cột \"card1\":\n",
    "```python\n",
    "temp = df['card1'].value_counts().to_dict()\n",
    "df['card1_counts'] = df['card1'].map(temp)\n",
    "```"
   ]
  },
  {
   "cell_type": "markdown",
   "id": "d59fe821",
   "metadata": {
    "id": "BJeuX6lrUfhz"
   },
   "source": [
    "### Aggregations / Group Statistics\n",
    ">Cung cấp cho mô hình các thông kê giá trị theo nhóm thuộc tính cho phép mô hình xác định xem giá trị nào là phổ biến hay hiếm gặp đối với từng nhóm thuộc tính cụ thể.\n",
    "```python\n",
    "temp = df.groupby('card1')['TransactionAmt'].agg(['mean'])   \n",
    "    .rename({'mean':'TransactionAmt_card1_mean'},axis=1)\n",
    "df = pd.merge(df,temp,on='card1',how='left')\n",
    "```"
   ]
  },
  {
   "cell_type": "markdown",
   "id": "23da15e6",
   "metadata": {
    "id": "m6aadKhfUfhz"
   },
   "source": [
    "### Normalize / Standardize\n",
    ">Chuẩn hóa các cột so với chính chúng. Hoặc chuẩn hóa cột này so với một cột khác.\n",
    "```python\n",
    "#themselfs \n",
    "df[col] = ( df[col]-df[col].mean() ) / df[col].std()\n",
    "\n",
    "#normalize D3\n",
    "df['D3_remove_time'] = df['D3'] - df['D3_week_mean']\n",
    "```"
   ]
  },
  {
   "cell_type": "markdown",
   "id": "9f06bd72",
   "metadata": {
    "id": "ji4IRSPPUfh0"
   },
   "source": [
    "### Outlier Removal / Relax / Smooth / PCA\n",
    ">Trong cuộc thi này, tác giả muốn tìm ra điểm bất thường nên tg sử dụng kỹ thuật làm mịn một cách cẩn thận.\n",
    ">\n",
    ">Ý tưởng : xác định và thay thế các giá trị không phổ biến.\n",
    ">\n",
    ">Ví dụ: bằng cách sử dụng mã hóa tần suất cho một biến, ta có thể loại bỏ tất cả các giá trị xuất hiện dưới 0,1% bằng cách thay thế chúng bằng một giá trị mới như -9999. (khác giá trị thay cho NAN)"
   ]
  },
  {
   "cell_type": "markdown",
   "id": "7eb3fb37",
   "metadata": {
    "id": "UKqi9tOroHJq"
   },
   "source": [
    "## XGB Fraud\n",
    "Trong kernel này, nhóm tg xây dựng hai mô hình XGB. Mô hình đầu tiên không sử dụng các magic feature và đạt được LB 0,95. Mô hình thứ hai sử dụng các magic feature và đạt được LB 0,96. Trong phần phụ lục, nhóm tg trình bày cách tăng LB hơn nữa với post processing."
   ]
  },
  {
   "cell_type": "markdown",
   "id": "98ed7d3d",
   "metadata": {
    "id": "PfRC78uroHJ-"
   },
   "source": [
    "### Load Data\n",
    ">Nhóm tg load tất cả data ngoại trừ 229 V columns đã được tác giả xác định dư thừa thông qua phân tích tương quan như ở trên."
   ]
  },
  {
   "cell_type": "code",
   "execution_count": null,
   "id": "3d7989e5",
   "metadata": {
    "_kg_hide-input": true,
    "execution": {
     "iopub.execute_input": "2021-12-01T14:38:22.959515Z",
     "iopub.status.busy": "2021-12-01T14:38:22.957329Z",
     "iopub.status.idle": "2021-12-01T14:38:24.899590Z",
     "shell.execute_reply": "2021-12-01T14:38:24.898558Z",
     "shell.execute_reply.started": "2021-12-01T14:38:22.959375Z"
    },
    "id": "hQ4f-QDboHJ_"
   },
   "outputs": [],
   "source": [
    "BUILD95 = True\n",
    "BUILD96 = True\n",
    "\n",
    "import numpy as np, pandas as pd, os, gc\n",
    "from sklearn.model_selection import GroupKFold\n",
    "from sklearn.metrics import roc_auc_score\n",
    "import matplotlib.pyplot as plt\n",
    "import seaborn as sns\n",
    "\n",
    "# COLUMNS WITH STRINGS\n",
    "str_type = ['ProductCD', 'card4', 'card6', 'P_emaildomain', 'R_emaildomain','M1', 'M2', 'M3', 'M4','M5',\n",
    "            'M6', 'M7', 'M8', 'M9', 'id_12', 'id_15', 'id_16', 'id_23', 'id_27', 'id_28', 'id_29', 'id_30', \n",
    "            'id_31', 'id_33', 'id_34', 'id_35', 'id_36', 'id_37', 'id_38', 'DeviceType', 'DeviceInfo']\n",
    "str_type += ['id-12', 'id-15', 'id-16', 'id-23', 'id-27', 'id-28', 'id-29', 'id-30', \n",
    "            'id-31', 'id-33', 'id-34', 'id-35', 'id-36', 'id-37', 'id-38']\n",
    "\n",
    "# FIRST 53 COLUMNS\n",
    "cols = ['TransactionID', 'TransactionDT', 'TransactionAmt',\n",
    "       'ProductCD', 'card1', 'card2', 'card3', 'card4', 'card5', 'card6',\n",
    "       'addr1', 'addr2', 'dist1', 'dist2', 'P_emaildomain', 'R_emaildomain',\n",
    "       'C1', 'C2', 'C3', 'C4', 'C5', 'C6', 'C7', 'C8', 'C9', 'C10', 'C11',\n",
    "       'C12', 'C13', 'C14', 'D1', 'D2', 'D3', 'D4', 'D5', 'D6', 'D7', 'D8',\n",
    "       'D9', 'D10', 'D11', 'D12', 'D13', 'D14', 'D15', 'M1', 'M2', 'M3', 'M4',\n",
    "       'M5', 'M6', 'M7', 'M8', 'M9']\n",
    "\n",
    "# V COLUMNS TO LOAD DECIDED BY CORRELATION EDA\n",
    "\n",
    "cols += ['V'+str(x) for x in v]\n",
    "dtypes = {}\n",
    "for c in cols+['id_0'+str(x) for x in range(1,10)]+['id_'+str(x) for x in range(10,34)]+\\\n",
    "    ['id-0'+str(x) for x in range(1,10)]+['id-'+str(x) for x in range(10,34)]:\n",
    "        dtypes[c] = 'float32'\n",
    "for c in str_type: dtypes[c] = 'category'"
   ]
  },
  {
   "cell_type": "code",
   "execution_count": null,
   "id": "67bbcfd3",
   "metadata": {
    "execution": {
     "iopub.execute_input": "2021-12-01T14:38:24.903125Z",
     "iopub.status.busy": "2021-12-01T14:38:24.902587Z",
     "iopub.status.idle": "2021-12-01T14:39:14.953612Z",
     "shell.execute_reply": "2021-12-01T14:39:14.952660Z",
     "shell.execute_reply.started": "2021-12-01T14:38:24.902913Z"
    },
    "id": "1ZU4EsHNoHKA"
   },
   "outputs": [],
   "source": [
    "%%time\n",
    "# LOAD TRAIN\n",
    "X_train = pd.read_csv('train_transaction.csv',index_col='TransactionID', dtype=dtypes, usecols=cols+['isFraud'])\n",
    "train_id = pd.read_csv('train_identity.csv',index_col='TransactionID', dtype=dtypes)\n",
    "X_train = X_train.merge(train_id, how='left', left_index=True, right_index=True)\n",
    "# LOAD TEST\n",
    "X_test = pd.read_csv('test_transaction.csv',index_col='TransactionID', dtype=dtypes, usecols=cols)\n",
    "test_id = pd.read_csv('test_identity.csv',index_col='TransactionID', dtype=dtypes)\n",
    "fix = {o:n for o, n in zip(test_id.columns, train_id.columns)}\n",
    "test_id.rename(columns=fix, inplace=True)\n",
    "X_test = X_test.merge(test_id, how='left', left_index=True, right_index=True)\n",
    "# TARGET\n",
    "y_train = X_train['isFraud'].copy()\n",
    "del train_id, test_id, X_train['isFraud']; x = gc.collect()\n",
    "# PRINT STATUS\n",
    "print('Train shape',X_train.shape,'test shape',X_test.shape)"
   ]
  },
  {
   "cell_type": "markdown",
   "id": "c7daa0f8",
   "metadata": {
    "id": "zqGnzOdWoHKB"
   },
   "source": [
    "### Chuẩn hóa các cột D\n",
    "Công thức chuẩn hóa cho các giá trị cột D như sau:\n",
    "\n",
    " `D15n = Transaction_Day - D15`\n",
    " \n",
    " `Transaction_Day = TransactionDT/(24*60*60)`. \n",
    " \n",
    "D Columns là các khoảng thời gian được tính từ 1 thời điểm nào đó trong quá khứ. Nhóm tiến hành transform các cột D thành các ngày cụ thể trong quá khứ. Loại bỏ sự phụ thuộc theo thời gian (dây ko còn là bài toán time series) giá trị của các features D không còn tăng dần theo thời gian nữa."
   ]
  },
  {
   "cell_type": "code",
   "execution_count": null,
   "id": "432e9690",
   "metadata": {
    "execution": {
     "iopub.execute_input": "2021-12-01T14:39:14.955076Z",
     "iopub.status.busy": "2021-12-01T14:39:14.954823Z",
     "iopub.status.idle": "2021-12-01T14:39:21.804260Z",
     "shell.execute_reply": "2021-12-01T14:39:21.803362Z",
     "shell.execute_reply.started": "2021-12-01T14:39:14.955031Z"
    },
    "id": "vX7DsTXJoHKB"
   },
   "outputs": [],
   "source": [
    "# PLOT ORIGINAL D\n",
    "plt.figure(figsize=(15,5))\n",
    "plt.scatter(X_train.TransactionDT,X_train.D15)\n",
    "plt.title('Original D15')\n",
    "plt.xlabel('Time')\n",
    "plt.ylabel('D15')\n",
    "plt.show()"
   ]
  },
  {
   "cell_type": "code",
   "execution_count": null,
   "id": "b2a70eb1",
   "metadata": {
    "execution": {
     "iopub.execute_input": "2021-12-01T14:39:21.805751Z",
     "iopub.status.busy": "2021-12-01T14:39:21.805500Z",
     "iopub.status.idle": "2021-12-01T14:39:21.860290Z",
     "shell.execute_reply": "2021-12-01T14:39:21.857811Z",
     "shell.execute_reply.started": "2021-12-01T14:39:21.805709Z"
    },
    "id": "1EZcG4eQoHKB"
   },
   "outputs": [],
   "source": [
    "# NORMALIZE D COLUMNS\n",
    "for i in range(1,16):\n",
    "    if i in [1,2,3,5,9]: continue\n",
    "    X_train['D'+str(i)] =  X_train['D'+str(i)] - X_train.TransactionDT/np.float32(24*60*60)\n",
    "    X_test['D'+str(i)] = X_test['D'+str(i)] - X_test.TransactionDT/np.float32(24*60*60)"
   ]
  },
  {
   "cell_type": "code",
   "execution_count": null,
   "id": "ea025347",
   "metadata": {
    "execution": {
     "iopub.status.busy": "2021-12-01T14:39:21.861466Z",
     "iopub.status.idle": "2021-12-01T14:39:21.861989Z"
    },
    "id": "WpllluRloHKC"
   },
   "outputs": [],
   "source": [
    "# PLOT TRANSFORMED D\n",
    "plt.figure(figsize=(15,5))\n",
    "plt.scatter(X_train.TransactionDT,X_train.D15)\n",
    "plt.title('Transformed D15')\n",
    "plt.xlabel('Time')\n",
    "plt.ylabel('D15n')\n",
    "plt.show()"
   ]
  },
  {
   "cell_type": "code",
   "execution_count": null,
   "id": "49063ddb",
   "metadata": {
    "_kg_hide-input": true,
    "execution": {
     "iopub.status.busy": "2021-12-01T14:39:21.863116Z",
     "iopub.status.idle": "2021-12-01T14:39:21.863525Z"
    },
    "id": "_frdQF5-oHKC"
   },
   "outputs": [],
   "source": [
    "%%time\n",
    "# LABEL ENCODE AND MEMORY REDUCE\n",
    "for i,f in enumerate(X_train.columns):\n",
    "    # FACTORIZE CATEGORICAL VARIABLES\n",
    "    if (np.str(X_train[f].dtype)=='category')|(X_train[f].dtype=='object'): \n",
    "        df_comb = pd.concat([X_train[f],X_test[f]],axis=0) #nối\n",
    "        df_comb,_ = df_comb.factorize(sort=True)   # xáo trôn thứ tự\n",
    "        if df_comb.max()>32000: print(f,'needs int32')\n",
    "        X_train[f] = df_comb[:len(X_train)].astype('int16')\n",
    "        X_test[f] = df_comb[len(X_train):].astype('int16')\n",
    "    # SHIFT ALL NUMERICS POSITIVE. SET NAN to -1\n",
    "    elif f not in ['TransactionAmt','TransactionDT']:\n",
    "        mn = np.min((X_train[f].min(),X_test[f].min()))\n",
    "        X_train[f] -= np.float32(mn)\n",
    "        X_test[f] -= np.float32(mn)\n",
    "        X_train[f].fillna(-1,inplace=True)\n",
    "        X_test[f].fillna(-1,inplace=True)"
   ]
  },
  {
   "cell_type": "markdown",
   "id": "cf9e5f89",
   "metadata": {
    "id": "dfI0iam3oHKC"
   },
   "source": [
    "### Encoding Functions\n",
    "1. `encode_FE` : hàm này thực hiện frequency encode- mã hóa tần suất cho giá trị của các thuộc tính, trong đó kết hợp dữ liệu train và test trước khi thực hiện mã hóa. \n",
    "2. `encode_LE` :mã hóa nhãn cho các thuộc tính phân loại \n",
    "3.`encode_AG` : Tạo các thuộc tính tổng hợp ( theo giá trị trung bình hoặc độ lệch chẩun) bằng cách thống kê theo nhóm thuộc tính.\n",
    "4. `encode_CB` :tạo new_feauturcác thuộc tính mới cho mô hình bằng cách kết hợp các thuộc tính lại với nhau. \n",
    "5.`encode_AG2`:tạo các thuộc tính tổng hợp duy nhất - thống kê số các giá trị khác nhau của mỗi nhóm.\n"
   ]
  },
  {
   "cell_type": "code",
   "execution_count": null,
   "id": "51dbaa35",
   "metadata": {
    "execution": {
     "iopub.status.busy": "2021-12-01T14:39:21.864454Z",
     "iopub.status.idle": "2021-12-01T14:39:21.865081Z"
    },
    "id": "_HlgTT6foHKD"
   },
   "outputs": [],
   "source": [
    "# FREQUENCY ENCODE TOGETHER\n",
    "def encode_FE(df1, df2, cols):\n",
    "    for col in cols:\n",
    "        df = pd.concat([df1[col],df2[col]])\n",
    "        vc = df.value_counts(dropna=True, normalize=True).to_dict()\n",
    "        vc[-1] = -1\n",
    "        nm = col+'_FE'\n",
    "        df1[nm] = df1[col].map(vc)\n",
    "        df1[nm] = df1[nm].astype('float32')\n",
    "        df2[nm] = df2[col].map(vc)\n",
    "        df2[nm] = df2[nm].astype('float32')\n",
    "        print(nm,', ',end='')\n",
    "        \n",
    "# LABEL ENCODE\n",
    "def encode_LE(col,train=X_train,test=X_test,verbose=True):\n",
    "    df_comb = pd.concat([train[col],test[col]],axis=0)\n",
    "    df_comb,_ = df_comb.factorize(sort=True)\n",
    "    nm = col\n",
    "    if df_comb.max()>32000: \n",
    "        train[nm] = df_comb[:len(train)].astype('int32')\n",
    "        test[nm] = df_comb[len(train):].astype('int32')\n",
    "    else:\n",
    "        train[nm] = df_comb[:len(train)].astype('int16')\n",
    "        test[nm] = df_comb[len(train):].astype('int16')\n",
    "    del df_comb; x=gc.collect()\n",
    "    if verbose: print(nm,', ',end='')\n",
    "        \n",
    "# GROUP AGGREGATION MEAN AND STD\n",
    "# https://www.kaggle.com/kyakovlev/ieee-fe-with-some-eda\n",
    "def encode_AG(main_columns, uids, aggregations=['mean'], train_df=X_train, test_df=X_test, \n",
    "              fillna=True, usena=False):\n",
    "    # AGGREGATION OF MAIN WITH UID FOR GIVEN STATISTICS #thống kê theo uid\n",
    "    for main_column in main_columns: \n",
    "        for col in uids:\n",
    "            for agg_type in aggregations:\n",
    "                new_col_name = main_column+'_'+col+'_'+agg_type\n",
    "                temp_df = pd.concat([train_df[[col, main_column]], test_df[[col,main_column]]]) #concat new feature\n",
    "                if usena: temp_df.loc[temp_df[main_column]==-1,main_column] = np.nan #thay nan vào các gt=-1 (đã đc xử lí trước đó)\n",
    "                temp_df = temp_df.groupby([col])[main_column].agg([agg_type]).reset_index().rename(\n",
    "                                                        columns={agg_type: new_col_name})  \n",
    "\n",
    "                temp_df.index = list(temp_df[col]) #set index by uid\n",
    "                temp_df = temp_df[new_col_name].to_dict() # convert to dict \n",
    "\n",
    "                train_df[new_col_name] = train_df[col].map(temp_df).astype('float32')  # map mean_value\n",
    "                test_df[new_col_name]  = test_df[col].map(temp_df).astype('float32')\n",
    "                \n",
    "                if fillna:\n",
    "                    train_df[new_col_name].fillna(-1,inplace=True)\n",
    "                    test_df[new_col_name].fillna(-1,inplace=True)\n",
    "                \n",
    "                print(\"'\"+new_col_name+\"'\",', ',end='')\n",
    "                \n",
    "# COMBINE FEATURES (create newfeaturé from 2 colums, then encode label for new_feature)\n",
    "def encode_CB(col1,col2,df1=X_train,df2=X_test):\n",
    "    nm = col1+'_'+col2\n",
    "    df1[nm] = df1[col1].astype(str)+'_'+df1[col2].astype(str)\n",
    "    df2[nm] = df2[col1].astype(str)+'_'+df2[col2].astype(str) \n",
    "    encode_LE(nm,verbose=False)\n",
    "    print(nm,', ',end='')\n",
    "    \n",
    "# GROUP AGGREGATION NUNIQUE\n",
    "def encode_AG2(main_columns, uids, train_df=X_train, test_df=X_test):\n",
    "    for main_column in main_columns:  \n",
    "        for col in uids:\n",
    "            comb = pd.concat([train_df[[col]+[main_column]],test_df[[col]+[main_column]]],axis=0)\n",
    "            mp = comb.groupby(col)[main_column].agg(['nunique'])['nunique'].to_dict()\n",
    "            train_df[col+'_'+main_column+'_ct'] = train_df[col].map(mp).astype('float32')\n",
    "            test_df[col+'_'+main_column+'_ct'] = test_df[col].map(mp).astype('float32')\n",
    "            print(col+'_'+main_column+'_ct, ',end='')"
   ]
  },
  {
   "cell_type": "markdown",
   "id": "1504b2d7",
   "metadata": {
    "id": "-OUmdaxNoHKD"
   },
   "source": [
    "### Feature Engineering\n",
    "Tất cả các features này được chọn bởi vì mỗi features làm tăng giá trị local validation.\n",
    "\n",
    "Quy trình:Đầu tiên tạo một feature mới. Sau đó, thêm nó vào mô hình của mình và đánh giá xem AUC tăng hay giảm. Nếu AUC tăng, giữ lại , nếu không thì loại bỏ."
   ]
  },
  {
   "cell_type": "code",
   "execution_count": null,
   "id": "cd1b2b0d",
   "metadata": {
    "execution": {
     "iopub.status.busy": "2021-12-01T14:39:21.866310Z",
     "iopub.status.idle": "2021-12-01T14:39:21.866904Z"
    },
    "id": "6dW4U-ZQoHKE"
   },
   "outputs": [],
   "source": [
    "%%time\n",
    "# TRANSACTION AMT CENTS #làm tròn\n",
    "X_train['cents'] = (X_train['TransactionAmt'] - np.floor(X_train['TransactionAmt'])).astype('float32') \n",
    "X_test['cents'] = (X_test['TransactionAmt'] - np.floor(X_test['TransactionAmt'])).astype('float32')\n",
    "print('cents, ', end='')\n",
    "# FREQUENCY ENCODE: ADDR1, CARD1, CARD2, CARD3, P_EMAILDOMAIN #mã hóa tần suất\n",
    "encode_FE(X_train,X_test,['addr1','card1','card2','card3','P_emaildomain'])\n",
    "# COMBINE COLUMNS CARD1+ADDR1, CARD1+ADDR1+P_EMAILDOMAIN\n",
    "encode_CB('card1','addr1')\n",
    "encode_CB('card1_addr1','P_emaildomain')\n",
    "# FREQUENCY ENOCDE\n",
    "encode_FE(X_train,X_test,['card1_addr1','card1_addr1_P_emaildomain'])\n",
    "# GROUP AGGREGATE\n",
    "encode_AG(['TransactionAmt','D9','D11'],['card1','card1_addr1','card1_addr1_P_emaildomain'],['mean','std'],usena=True)"
   ]
  },
  {
   "cell_type": "markdown",
   "id": "0c2005f9",
   "metadata": {
    "id": "Plm7M8vOoHKE"
   },
   "source": [
    "### Feature Selection - Time Consistency\n",
    "\n",
    "Nhóm tg đã thêm 28 features mới ở trên. Vì vậy,hiện tại chúng ta có 242 features. Bây giờ ta sẽ kiểm tra từng feature để theo dõi tính nhất quán về thời gian của thuộc tính đó.\n",
    "Nhóm tg xây dựng 242 mô hình- mỗi mô hình tương ứng với 1 thuộc tính.\n",
    "Mỗi mô hình sẽ được đào tạo vào tháng đầu tiên của dữ liệu đào tạo và sẽ chỉ sử dụng một feature duy nhất. Sau đó, dự đoán kết quả trên tháng cuối cùng của dữ liệu đào tạo. Tác giả muốn cả AUC trên tập train và validation đều phải đạt trên 0,5. \n",
    "Sau khi hoàn thành 242 mô hình trên, tác giả chỉ ra rằng có 19 features không thành công trong thử nghiệm này, vì vậy ta sẽ loại bỏ chúng. Ngoài ra, tác giả cũng loại bỏ 7 cột D chủ yếu là NAN."
   ]
  },
  {
   "cell_type": "code",
   "execution_count": null,
   "id": "1ad53e57",
   "metadata": {
    "execution": {
     "iopub.status.busy": "2021-12-01T14:39:21.867907Z",
     "iopub.status.idle": "2021-12-01T14:39:21.868242Z"
    },
    "id": "oYx6njhjoHKF"
   },
   "outputs": [],
   "source": [
    "cols = list( X_train.columns )\n",
    "cols.remove('TransactionDT') \n",
    "for c in ['D6','D7','D8','D9','D12','D13','D14']:\n",
    "    cols.remove(c) # a lot nan\n",
    "    \n",
    "# FAILED TIME CONSISTENCY TEST\n",
    "for c in ['C3','M5','id_08','id_33']:\n",
    "    cols.remove(c)\n",
    "for c in ['card4','id_07','id_14','id_21','id_30','id_32','id_34']:\n",
    "    cols.remove(c)\n",
    "for c in ['id_'+str(x) for x in range(22,28)]:\n",
    "    cols.remove(c)"
   ]
  },
  {
   "cell_type": "code",
   "execution_count": null,
   "id": "04149928",
   "metadata": {
    "execution": {
     "iopub.status.busy": "2021-12-01T14:39:21.869266Z",
     "iopub.status.idle": "2021-12-01T14:39:21.869602Z"
    },
    "id": "g_7XLjQVoHKF"
   },
   "outputs": [],
   "source": [
    "print('NOW USING THE FOLLOWING',len(cols),'FEATURES.')\n",
    "np.array(cols)"
   ]
  },
  {
   "cell_type": "markdown",
   "id": "90cb1134",
   "metadata": {
    "id": "0l9j5zt8oHKG"
   },
   "source": [
    "### Xác thực chéo Local Validation\n",
    "xác thực dựa trên thời gian. Tg đã đánh giá các thuộc tính bằng cách huấn luyện mô hình trên 75% dữ liệu đầu tiên và dự đoán trên 25% dữ liệu cuối cùng. \n",
    "Mô hình XGB của tác giả với 216 features đạt được giá trị AUC = 0,9363 trên tập validation. \n",
    "\n",
    "[1]: https://www.kaggle.com/kyakovlev/ieee-fe-for-local-test\n",
    "[2]: https://www.kaggle.com/kyakovlev/ieee-lgbm-with-groupkfold-cv"
   ]
  },
  {
   "cell_type": "code",
   "execution_count": null,
   "id": "a0f86be2",
   "metadata": {
    "execution": {
     "iopub.status.busy": "2021-12-01T14:39:21.870573Z",
     "iopub.status.idle": "2021-12-01T14:39:21.871018Z"
    },
    "id": "i6jEp_CRoHKG"
   },
   "outputs": [],
   "source": [
    "# CHRIS - TRAIN 75% PREDICT 25%\n",
    "idxT = X_train.index[:3*len(X_train)//4]\n",
    "idxV = X_train.index[3*len(X_train)//4:]\n",
    "\n",
    "# KONSTANTIN - TRAIN 4 SKIP 1 PREDICT 1 MONTH\n",
    "#idxT = X_train.index[:417559]\n",
    "#idxV = X_train.index[-89326:]"
   ]
  },
  {
   "cell_type": "code",
   "execution_count": null,
   "id": "d219fcad",
   "metadata": {
    "execution": {
     "iopub.status.busy": "2021-12-01T14:39:21.872226Z",
     "iopub.status.idle": "2021-12-01T14:39:21.872671Z"
    },
    "id": "xUI9pOEboHKG"
   },
   "outputs": [],
   "source": [
    "import xgboost as xgb\n",
    "print(\"XGBoost version:\", xgb.__version__)\n",
    "\n",
    "if BUILD95:\n",
    "    clf = xgb.XGBClassifier( \n",
    "        n_estimators=2000,\n",
    "        max_depth=12, \n",
    "        learning_rate=0.02, \n",
    "        subsample=0.8,\n",
    "        colsample_bytree=0.4, \n",
    "        missing=-1, \n",
    "        eval_metric='auc',\n",
    "        # USE CPU\n",
    "        #nthread=4,\n",
    "        #tree_method='hist' \n",
    "        # USE GPU\n",
    "        tree_method='gpu_hist' \n",
    "    )\n",
    "    h = clf.fit(X_train.loc[idxT,cols], y_train[idxT], \n",
    "        eval_set=[(X_train.loc[idxV,cols],y_train[idxV])],\n",
    "        verbose=50, early_stopping_rounds=100)"
   ]
  },
  {
   "cell_type": "code",
   "execution_count": null,
   "id": "72ab4b1d",
   "metadata": {
    "execution": {
     "iopub.status.busy": "2021-12-01T14:39:21.873708Z",
     "iopub.status.idle": "2021-12-01T14:39:21.874102Z"
    },
    "id": "julAxWD3oHKG"
   },
   "outputs": [],
   "source": [
    "if BUILD95:\n",
    "\n",
    "    feature_imp = pd.DataFrame(sorted(zip(clf.feature_importances_,cols)), columns=['Value','Feature'])\n",
    "    plt.figure(figsize=(20, 10))\n",
    "    sns.barplot(x=\"Value\", y=\"Feature\", data=feature_imp.sort_values(by=\"Value\", ascending=False).iloc[:50])\n",
    "    plt.title('XGB95 Most Important Features')\n",
    "    plt.tight_layout()\n",
    "    plt.show()\n",
    "    del clf, h; x=gc.collect()"
   ]
  },
  {
   "cell_type": "markdown",
   "id": "2c056e37",
   "metadata": {
    "id": "A-cQUW9IoHKH"
   },
   "source": [
    "### Predict test.csv"
   ]
  },
  {
   "cell_type": "code",
   "execution_count": null,
   "id": "bed78c84",
   "metadata": {
    "execution": {
     "iopub.status.busy": "2021-12-01T14:39:21.875042Z",
     "iopub.status.idle": "2021-12-01T14:39:21.875496Z"
    },
    "id": "LvDaQ420oHKH"
   },
   "outputs": [],
   "source": [
    "import datetime\n",
    "START_DATE = datetime.datetime.strptime('2017-11-30', '%Y-%m-%d')\n",
    "X_train['DT_M'] = X_train['TransactionDT'].apply(lambda x: (START_DATE + datetime.timedelta(seconds = x)))\n",
    "X_train['DT_M'] = (X_train['DT_M'].dt.year-2017)*12 + X_train['DT_M'].dt.month \n",
    "\n",
    "X_test['DT_M'] = X_test['TransactionDT'].apply(lambda x: (START_DATE + datetime.timedelta(seconds = x)))\n",
    "X_test['DT_M'] = (X_test['DT_M'].dt.year-2017)*12 + X_test['DT_M'].dt.month "
   ]
  },
  {
   "cell_type": "code",
   "execution_count": null,
   "id": "cb67e0bd",
   "metadata": {
    "execution": {
     "iopub.status.busy": "2021-12-01T14:39:21.876400Z",
     "iopub.status.idle": "2021-12-01T14:39:21.876902Z"
    },
    "id": "IF6jtvz_oHKH"
   },
   "outputs": [],
   "source": [
    "if BUILD95:\n",
    "    oof = np.zeros(len(X_train))\n",
    "    preds = np.zeros(len(X_test))\n",
    "\n",
    "    skf = GroupKFold(n_splits=6)\n",
    "    for i, (idxT, idxV) in enumerate( skf.split(X_train, y_train, groups=X_train['DT_M']) ):\n",
    "        month = X_train.iloc[idxV]['DT_M'].iloc[0]\n",
    "        print('Fold',i,'withholding month',month)\n",
    "        print(' rows of train =',len(idxT),'rows of holdout =',len(idxV))\n",
    "        clf = xgb.XGBClassifier(\n",
    "            n_estimators=5000,\n",
    "            max_depth=12,\n",
    "            learning_rate=0.02,\n",
    "            subsample=0.8,\n",
    "            colsample_bytree=0.4,\n",
    "            missing=-1,\n",
    "            eval_metric='auc',\n",
    "            # USE CPU\n",
    "            #nthread=4,\n",
    "            #tree_method='hist'\n",
    "            # USE GPU\n",
    "            tree_method='gpu_hist' \n",
    "        )        \n",
    "        h = clf.fit(X_train[cols].iloc[idxT], y_train.iloc[idxT], \n",
    "                eval_set=[(X_train[cols].iloc[idxV],y_train.iloc[idxV])],\n",
    "                verbose=100, early_stopping_rounds=200)\n",
    "    \n",
    "        oof[idxV] += clf.predict_proba(X_train[cols].iloc[idxV])[:,1]\n",
    "        preds += clf.predict_proba(X_test[cols])[:,1]/skf.n_splits\n",
    "        del h, clf\n",
    "        x=gc.collect()\n",
    "    print('#'*20)\n",
    "    print ('XGB95 OOF CV=',roc_auc_score(y_train,oof))"
   ]
  },
  {
   "cell_type": "code",
   "execution_count": null,
   "id": "b8db1332",
   "metadata": {
    "execution": {
     "iopub.status.busy": "2021-12-01T14:39:21.877851Z",
     "iopub.status.idle": "2021-12-01T14:39:21.878278Z"
    },
    "id": "-CRoe7vOoHKH"
   },
   "outputs": [],
   "source": [
    "if BUILD95:\n",
    "    plt.hist(oof,bins=100)\n",
    "    plt.ylim((0,5000))\n",
    "    plt.title('XGB OOF')\n",
    "    plt.show()\n",
    "\n",
    "    X_train['oof'] = oof\n",
    "    X_train.reset_index(inplace=True)\n",
    "    X_train[['TransactionID','oof']].to_csv('oof_xgb_95.csv')\n",
    "    X_train.set_index('TransactionID',drop=True,inplace=True)\n",
    "    \n",
    "else: X_train['oof'] = 0"
   ]
  },
  {
   "cell_type": "markdown",
   "id": "db1d971c",
   "metadata": {
    "id": "T30uPay9oHKI"
   },
   "source": [
    "### Kaggle Submission File XGB_95"
   ]
  },
  {
   "cell_type": "code",
   "execution_count": null,
   "id": "74d85965",
   "metadata": {
    "execution": {
     "iopub.status.busy": "2021-12-01T14:39:21.879121Z",
     "iopub.status.idle": "2021-12-01T14:39:21.879544Z"
    },
    "id": "y01Qq1v5oHKI"
   },
   "outputs": [],
   "source": [
    "if BUILD95:\n",
    "    sample_submission = pd.read_csv('sample_submission.csv')\n",
    "    sample_submission.isFraud = preds\n",
    "    sample_submission.to_csv('sub_xgb_95.csv',index=False)\n",
    "\n",
    "    plt.hist(sample_submission.isFraud,bins=100)\n",
    "    plt.ylim((0,5000))\n",
    "    plt.title('XGB95 Submission')\n",
    "    plt.show()"
   ]
  },
  {
   "cell_type": "markdown",
   "id": "1ad1feed",
   "metadata": {
    "id": "1P-0eh5loHKI"
   },
   "source": [
    "![image](http://www.playagricola.com/Kaggle/9510.png)"
   ]
  },
  {
   "cell_type": "markdown",
   "id": "20448716",
   "metadata": {
    "id": "dKA7JsHyoHKI"
   },
   "source": [
    "# The Magic Feature - UID\n",
    "use the MAGIC FEATURES. \n",
    "Đầu tiên,tạo một UID sẽ giúp mô hình tìm thấy khách hàng (credit card). UID này không hoàn hảo. Nhiều giá trị UID chứa 2 hoặc nhiều khách hàng bên trong. Tuy nhiên, mô hình của này sẽ phát hiện điều này và bằng cách thêm các splits trên cây, điều này giúp tách các UID và tìm ra khách hàng riêng lẻ bên trong UID đó."
   ]
  },
  {
   "cell_type": "code",
   "execution_count": null,
   "id": "0cd074d4",
   "metadata": {
    "execution": {
     "iopub.status.busy": "2021-12-01T14:39:21.880599Z",
     "iopub.status.idle": "2021-12-01T14:39:21.881043Z"
    },
    "id": "k1y95glnoHKI"
   },
   "outputs": [],
   "source": [
    "X_train['day'] = X_train.TransactionDT / (24*60*60)\n",
    "X_train['uid'] = X_train.card1_addr1.astype(str)+'_'+np.floor(X_train.day-X_train.D1).astype(str)\n",
    "\n",
    "X_test['day'] = X_test.TransactionDT / (24*60*60)\n",
    "X_test['uid'] = X_test.card1_addr1.astype(str)+'_'+np.floor(X_test.day-X_test.D1).astype(str)"
   ]
  },
  {
   "cell_type": "markdown",
   "id": "d381d6d7",
   "metadata": {
    "id": "B5CtwbRGoHKI"
   },
   "source": [
    "# Tổng hợp thuộc tính - Group Aggregation Features\n",
    "Để mô hình sử dụng thuộc UID mới mà ta tạo ra, cần tạo nhiều thuộc tính tổng hợp, cụ thể ta thêm 47 thuộc tính tổng hợp mới! Lưu ý rằng sau khi tổng hợp, xóa UID khỏi mô hình của mình, không sử dụng trực tiếp UID."
   ]
  },
  {
   "cell_type": "code",
   "execution_count": null,
   "id": "f5e04eed",
   "metadata": {
    "execution": {
     "iopub.status.busy": "2021-12-01T14:39:21.881939Z",
     "iopub.status.idle": "2021-12-01T14:39:21.882342Z"
    },
    "id": "ITMa3VZIoHKN"
   },
   "outputs": [],
   "source": [
    "%%time\n",
    "# FREQUENCY ENCODE UID\n",
    "encode_FE(X_train,X_test,['uid'])\n",
    "# AGGREGATE \n",
    "encode_AG(['TransactionAmt','D4','D9','D10','D15'],['uid'],['mean','std'],fillna=True,usena=True)\n",
    "# AGGREGATE\n",
    "encode_AG(['C'+str(x) for x in range(1,15) if x!=3],['uid'],['mean'],X_train,X_test,fillna=True,usena=True)\n",
    "# AGGREGATE\n",
    "encode_AG(['M'+str(x) for x in range(1,10)],['uid'],['mean'],fillna=True,usena=True)\n",
    "# AGGREGATE\n",
    "encode_AG2(['P_emaildomain','dist1','DT_M','id_02','cents'], ['uid'], train_df=X_train, test_df=X_test)\n",
    "# AGGREGATE\n",
    "encode_AG(['C14'],['uid'],['std'],X_train,X_test,fillna=True,usena=True)\n",
    "# AGGREGATE \n",
    "encode_AG2(['C13','V314'], ['uid'], train_df=X_train, test_df=X_test)\n",
    "# AGGREATE \n",
    "encode_AG2(['V127','V136','V309','V307','V320'], ['uid'], train_df=X_train, test_df=X_test)\n",
    "# NEW FEATURE\n",
    "X_train['outsider15'] = (np.abs(X_train.D1-X_train.D15)>3).astype('int8')\n",
    "X_test['outsider15'] = (np.abs(X_test.D1-X_test.D15)>3).astype('int8')\n",
    "print('outsider15')"
   ]
  },
  {
   "cell_type": "code",
   "execution_count": null,
   "id": "0599e9bf",
   "metadata": {
    "_kg_hide-input": true,
    "execution": {
     "iopub.status.busy": "2021-12-01T14:39:21.883176Z",
     "iopub.status.idle": "2021-12-01T14:39:21.883572Z"
    },
    "id": "GVe64G06oHKN"
   },
   "outputs": [],
   "source": [
    "cols = list( X_train.columns )\n",
    "cols.remove('TransactionDT')\n",
    "for c in ['D6','D7','D8','D9','D12','D13','D14']:\n",
    "    cols.remove(c)\n",
    "for c in ['oof','DT_M','day','uid']:\n",
    "    cols.remove(c)\n",
    "    \n",
    "# FAILED TIME CONSISTENCY TEST\n",
    "for c in ['C3','M5','id_08','id_33']:\n",
    "    cols.remove(c)\n",
    "for c in ['card4','id_07','id_14','id_21','id_30','id_32','id_34']:\n",
    "    cols.remove(c)\n",
    "for c in ['id_'+str(x) for x in range(22,28)]:\n",
    "    cols.remove(c)"
   ]
  },
  {
   "cell_type": "code",
   "execution_count": null,
   "id": "1dd7f53e",
   "metadata": {
    "execution": {
     "iopub.status.busy": "2021-12-01T14:39:21.884425Z",
     "iopub.status.idle": "2021-12-01T14:39:21.884798Z"
    },
    "id": "qZMunv_0oHKN"
   },
   "outputs": [],
   "source": [
    "print('NOW USING THE FOLLOWING',len(cols),'FEATURES.')\n",
    "np.array(cols)"
   ]
  },
  {
   "cell_type": "markdown",
   "id": "463a698d",
   "metadata": {
    "id": "g-cMozoWoHKO"
   },
   "source": [
    "### Local Validation\n",
    "Mô hình XGB sử dụng \"magic work\" có giá trị AUC = 0.9472 trên tập validation và 0.96 trên LB, tăng 0.01 trên tập validation và LB so với mô hình không sử dụng \"magic work\"\n"
   ]
  },
  {
   "cell_type": "code",
   "execution_count": null,
   "id": "06a2b3a9",
   "metadata": {
    "execution": {
     "iopub.status.busy": "2021-12-01T14:39:21.885847Z",
     "iopub.status.idle": "2021-12-01T14:39:21.886325Z"
    },
    "id": "LN45yaaWoHKO"
   },
   "outputs": [],
   "source": [
    "# CHRIS - TRAIN 75% PREDICT 25%\n",
    "idxT = X_train.index[:3*len(X_train)//4]\n",
    "idxV = X_train.index[3*len(X_train)//4:]\n",
    "\n",
    "# KONSTANTIN - TRAIN 4 SKIP 1 PREDICT 1 MONTH\n",
    "#idxT = X_train.index[:417559]\n",
    "#idxV = X_train.index[-89326:]"
   ]
  },
  {
   "cell_type": "code",
   "execution_count": null,
   "id": "26c49162",
   "metadata": {
    "execution": {
     "iopub.status.busy": "2021-12-01T14:39:21.887132Z",
     "iopub.status.idle": "2021-12-01T14:39:21.887631Z"
    },
    "id": "dBrBUmZeoHKO"
   },
   "outputs": [],
   "source": [
    "if BUILD96:\n",
    "    clf = xgb.XGBClassifier( \n",
    "        n_estimators=2000,\n",
    "        max_depth=12, \n",
    "        learning_rate=0.02, \n",
    "        subsample=0.8,\n",
    "        colsample_bytree=0.4, \n",
    "        missing=-1, \n",
    "        eval_metric='auc',\n",
    "        #nthread=4,\n",
    "        #tree_method='hist' \n",
    "        tree_method='gpu_hist' \n",
    "    )\n",
    "    h = clf.fit(X_train.loc[idxT,cols], y_train[idxT], \n",
    "        eval_set=[(X_train.loc[idxV,cols],y_train[idxV])],\n",
    "        verbose=50, early_stopping_rounds=100)"
   ]
  },
  {
   "cell_type": "code",
   "execution_count": null,
   "id": "35a99764",
   "metadata": {
    "execution": {
     "iopub.status.busy": "2021-12-01T14:39:21.888630Z",
     "iopub.status.idle": "2021-12-01T14:39:21.889009Z"
    },
    "id": "b6U4Iff5oHKO"
   },
   "outputs": [],
   "source": [
    "if BUILD96:\n",
    "\n",
    "    feature_imp = pd.DataFrame(sorted(zip(clf.feature_importances_,cols)), columns=['Value','Feature'])\n",
    "\n",
    "    plt.figure(figsize=(20, 10))\n",
    "    sns.barplot(x=\"Value\", y=\"Feature\", data=feature_imp.sort_values(by=\"Value\", ascending=False).iloc[:50])\n",
    "    plt.title('XGB96 Most Important')\n",
    "    plt.tight_layout()\n",
    "    plt.show()\n",
    "        \n",
    "    del clf, h; x=gc.collect()"
   ]
  },
  {
   "cell_type": "markdown",
   "id": "37acef61",
   "metadata": {
    "id": "WN9W7KTXoHKP"
   },
   "source": [
    "### Predict test.csv"
   ]
  },
  {
   "cell_type": "code",
   "execution_count": null,
   "id": "18990af2",
   "metadata": {
    "execution": {
     "iopub.status.busy": "2021-12-01T14:39:21.889873Z",
     "iopub.status.idle": "2021-12-01T14:39:21.890360Z"
    },
    "id": "DUb5buQnoHKP"
   },
   "outputs": [],
   "source": [
    "if BUILD96:\n",
    "    oof = np.zeros(len(X_train))\n",
    "    preds = np.zeros(len(X_test))\n",
    "\n",
    "    skf = GroupKFold(n_splits=6)\n",
    "    for i, (idxT, idxV) in enumerate( skf.split(X_train, y_train, groups=X_train['DT_M']) ):\n",
    "        month = X_train.iloc[idxV]['DT_M'].iloc[0]\n",
    "        print('Fold',i,'withholding month',month)\n",
    "        print(' rows of train =',len(idxT),'rows of holdout =',len(idxV))\n",
    "        clf = xgb.XGBClassifier(\n",
    "            n_estimators=5000,\n",
    "            max_depth=12,\n",
    "            learning_rate=0.02,\n",
    "            subsample=0.8,\n",
    "            colsample_bytree=0.4,\n",
    "            missing=-1,\n",
    "            eval_metric='auc',\n",
    "            # USE CPU\n",
    "            #nthread=4,\n",
    "            #tree_method='hist'\n",
    "            # USE GPU\n",
    "            tree_method='gpu_hist' \n",
    "        )        \n",
    "        h = clf.fit(X_train[cols].iloc[idxT], y_train.iloc[idxT], \n",
    "                eval_set=[(X_train[cols].iloc[idxV],y_train.iloc[idxV])],\n",
    "                verbose=100, early_stopping_rounds=200)\n",
    "    \n",
    "        oof[idxV] += clf.predict_proba(X_train[cols].iloc[idxV])[:,1]\n",
    "        preds += clf.predict_proba(X_test[cols])[:,1]/skf.n_splits\n",
    "        del h, clf\n",
    "        x=gc.collect()\n",
    "    print('#'*20)\n",
    "    print ('XGB96 OOF CV=',roc_auc_score(y_train,oof))"
   ]
  },
  {
   "cell_type": "code",
   "execution_count": null,
   "id": "bb8f39b9",
   "metadata": {
    "execution": {
     "iopub.status.busy": "2021-12-01T14:39:21.891537Z",
     "iopub.status.idle": "2021-12-01T14:39:21.892154Z"
    },
    "id": "5ftOqnZvoHKP"
   },
   "outputs": [],
   "source": [
    "if BUILD96:\n",
    "    plt.hist(oof,bins=100)\n",
    "    plt.ylim((0,5000))\n",
    "    plt.title('XGB OOF')\n",
    "    plt.show()\n",
    "\n",
    "    X_train['oof'] = oof\n",
    "    X_train.reset_index(inplace=True)\n",
    "    X_train[['TransactionID','oof']].to_csv('oof_xgb_96.csv')\n",
    "    X_train.set_index('TransactionID',drop=True,inplace=True)"
   ]
  },
  {
   "cell_type": "markdown",
   "id": "f8c88e35",
   "metadata": {},
   "source": [
    "## Nhìn lại quá trình làm đồ án"
   ]
  },
  {
   "cell_type": "markdown",
   "id": "26e4a56a",
   "metadata": {},
   "source": [
    "Sau bao ngày vất vả làm đồ án thì bây giờ đã kết thúc. Bây giờ là lúc để ngồi uống coffee và tĩnh tâm nhìn lại quá trình làm.\n",
    "\n",
    "- Mỗi thành viên: Đã gặp những khó khăn gì? (Hay mọi chuyện đều thuận lợi)\n",
    "- Mỗi thành viên: Có học được gì hữu ích? (Hay không học được gì)\n",
    "- Nhóm: Nếu có thêm thời gian thì sẽ làm gì?\n",
    "\n",
    "Phần này có sao thì bạn nói vậy thôi, chứ không phải là viết\n",
    "cho có, hoặc tự chế ra để nghe cho hay."
   ]
  },
  {
   "cell_type": "markdown",
   "id": "58c644a0",
   "metadata": {},
   "source": [
    "## Tài liệu tham khảo"
   ]
  },
  {
   "cell_type": "markdown",
   "id": "0a757c63",
   "metadata": {},
   "source": [
    "Để hoàn thành đồ án này, nhóm bạn đã tham khảo những tài liệu nào?"
   ]
  }
 ],
 "metadata": {
  "kernelspec": {
   "display_name": "Python 3 (ipykernel)",
   "language": "python",
   "name": "python3"
  },
  "language_info": {
   "codemirror_mode": {
    "name": "ipython",
    "version": 3
   },
   "file_extension": ".py",
   "mimetype": "text/x-python",
   "name": "python",
   "nbconvert_exporter": "python",
   "pygments_lexer": "ipython3",
   "version": "3.9.7"
  },
  "toc": {
   "base_numbering": 1,
   "nav_menu": {},
   "number_sections": true,
   "sideBar": true,
   "skip_h1_title": false,
   "title_cell": "Table of Contents",
   "title_sidebar": "Contents",
   "toc_cell": false,
   "toc_position": {},
   "toc_section_display": true,
   "toc_window_display": false
  }
 },
 "nbformat": 4,
 "nbformat_minor": 5
}
