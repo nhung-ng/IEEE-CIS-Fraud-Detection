{
 "cells": [
  {
   "cell_type": "markdown",
   "id": "bd996062",
   "metadata": {},
   "source": [
    "# Báo cáo đồ án môn \"Khoa học dữ liệu ứng dụng\"\n",
    "\n",
    "Nhóm 9:\n",
    "1. 18120533 - Dương Đoàn Bảo Sơn - https://github.com/baosonhcmus\n",
    "2. 18120498 - Nguyễn Thị Hồng Nhung - https://github.com/nhung-ng\n",
    "3. 18120009 - Vương Gia Bảo - https://github.com/bao12012000\n",
    "4. 18120543 - Trần Đại Tài - https://github.com/trandaitai327\n",
    "\n",
    "Link thùng chứa Github của nhóm: [Link](https://github.com/trandaitai327/IEEE-CIS-Fraud-Detection)"
   ]
  },
  {
   "cell_type": "markdown",
   "id": "608eb2f4",
   "metadata": {},
   "source": [
    "## Mô tả bài toán"
   ]
  },
  {
   "cell_type": "markdown",
   "id": "5ae2b492",
   "metadata": {},
   "source": [
    "[IEEE-CIS Fraud Detection](https://www.kaggle.com/c/ieee-fraud-detection/overview)\n",
    "### Bối cảnh:\n",
    "Đây là cuộc thì được tổ chức bởi  Các nhà nghiên cứu từ IEEE Computational Intelligence Society (IEEE-CIS) hợp tác với công ty dịch vụ thanh toán hàng đầu thế giới - Vesta Corporation  nhằm tìm kiếm các giải pháp tốt nhất cho việc phát hiện gian lận từ các giao dịch của khách hàng, giúp hàng trăm nghìn doanh nghiệp giảm thất thoát do gian lận và tăng doanh thu của họ.\n",
    "### Đánh giá:\n",
    "Các bài nộp được đánh giá trên khu vực dưới đường cong ROC giữa xác suất dự đoán và mục tiêu quan sát.\n",
    "### Submission File:\n",
    "Đối với mỗi `TransactionID` trong tập thử nghiệm, bạn phải dự đoán một xác suất cho biến `isFraud`. Tệp phải chứa tiêu đề và có định dạng sau:\n",
    "\n",
    "TransactionID,isFraud\n",
    "\n",
    "3663549,0.5\n",
    "\n",
    "3663550,0.5\n",
    "\n",
    "3663551,0.5\n",
    "\n",
    "etc.\n",
    "\n",
    "### Dữ liệu:\n",
    "- Dữ liệu đến từ các giao dịch thương mại điện tử của các khách hàng của Vesta bao gồm các features từ loại thiết bị cho đến features của sản phẩm cũng như thông tin về các giao dịch và cho phép tạo các features mới để cải thiện kết quả của model.\n",
    "\n",
    "- Dữ liệu được chia thành hai file:  identity và transactionđược nối với nhau bằng TransactionID. Không phải tất cả các giao dịch đều có thông tin nhận dạng tương ứng.\n",
    "\n",
    "- Các thuộc tính:\n",
    "  + Transaction Table:\n",
    "    * TransactionDT: thời gian tính từ một móc tham chiếu  (ngày/ giờ) nhất định (không phải thời gian thực tế)\n",
    "    * TransactionAMT: số tiền thanh toán cho giao dịch  (USD)\n",
    "    * ProductCD:  mã sản phẩm  của mỗi giao dịch\n",
    "    * card1 - card6: thông tin thẻ thanh toán, chẳng hạn như loại thẻ, ngân hàng phát hành,,quốc gia, v.v.\n",
    "    * addr: địa chỉ user\n",
    "    * dist: khoảng cách giữa (không giới hạn) địa chỉ thanh toán, địa chỉ gửi , mã zip, địa chỉ IP, mã vùng điện thoại, v.v.”\n",
    "    * P_ and (R__) emaildomain: tên miền email của người mua và người nhận, một số giao dịch nhất định không cần người nhận, do đó, có thể null\n",
    "    * C1-C14: counting  ,có bao nhiêu địa chỉ được tìm thấy có liên quan đến thẻ thanh toán, v.v. (Ý nghĩa thực tế được che giấu)\n",
    "“Bạn có thể vui lòng cho thêm ví dụ về số đếm trong các biến C1-15 không? số điện thoại, địa chỉ email, tên liên quan đến người dùng?\n",
    "    * D1-D15: timedelta (chẳng hạn thời gian giữa các lần giao dịch)\n",
    "    * M1-M9: match ( tên trên thẻ , địa chỉ,vv..vv.)\n",
    "    * Vxxx: các features  bao gồm xếp hạng, đếm và các quan hệ thực thể khác.\n",
    "\n",
    "    “Ví dụ: số lần thẻ thanh toán được liên kết với IP và email hoặc địa chỉ xuất hiện trong phạm vi thời gian 24 giờ, v.v.” \n",
    "    * Categorical Features: ProductCD, card1 - card6, addr1, addr2, P_emaildomain, R_emaildomain, M1 - M9\n",
    "\n",
    "  + Indentity Table:\n",
    "    * Các biến trong bảng này là thông tin giúp xác thực/nhận dạng - thông tin kết nối mạng (IP, ISP, Proxy, v.v.) và chữ ký số (UA / browser / os / version, v.v.) được liên kết với các giao dịch.Chúng được thu thập bởi hệ thống chống gian lận của Vesta và các đối tác bảo mật kỹ thuật số.\n",
    "(Các tên trường được che dấu và từ điển ghép nối sẽ không được cung cấp để bảo vệ quyền riêng tư và thỏa thuận hợp đồng) \n",
    "    * Categorical Features: DeviceType, DeviceInfo\n",
    "    * id_12 - id_38 : là các numerical features cho Identity như rank thiết bị/ip_domain/ proxy, v.v. Ngoài ra, nó còn ghi lại dấu vân tay hành vi như số lần đăng nhập tài khoản / không đăng nhập được, thời gian đăng nhập tài khoản vẫn còn trên trang,.v..v"
   ]
  },
  {
   "cell_type": "markdown",
   "id": "179e26e7",
   "metadata": {},
   "source": [
    "## Giải quyết bài toán"
   ]
  },
  {
   "cell_type": "markdown",
   "id": "1b35918f",
   "metadata": {},
   "source": [
    "[Giải pháp hạng 1 - Chris Deotte & Konstantin Yakovlev](https://www.kaggle.com/c/ieee-fraud-detection/discussion/111284?fbclid=IwAR1CdMPVYUNmvIgxfDQbExwpYZZyU8SiMICVvfXwJEOSRIFEjE-2lUapRMg)\n",
    "\n",
    "Tổng quan: Mô hình cuối cùng của tác giả là kết hợp giữa 3 mô hình XGB, LGBM và CatBoost. Tuy nhiên, do thời gian có hạn nên nhóm chỉ cài đặt lại một mô hình duy nhất là XGB. Ý tưởng chính để giải quyết bài toán này là thay vì phát hiện các giao dịch gian lận, chúng ta sẽ phát hiện các khách hàng (thẻ) gian lận."
   ]
  },
  {
   "cell_type": "markdown",
   "id": "f12662e3",
   "metadata": {},
   "source": [
    "## EDA"
   ]
  },
  {
   "cell_type": "markdown",
   "id": "086aaf50",
   "metadata": {},
   "source": [
    "## Prepare Data"
   ]
  },
  {
   "cell_type": "code",
   "execution_count": null,
   "id": "7393e5ed",
   "metadata": {},
   "outputs": [],
   "source": []
  },
  {
   "cell_type": "markdown",
   "id": "5e592f31",
   "metadata": {},
   "source": [
    "## Import"
   ]
  },
  {
   "cell_type": "code",
   "execution_count": null,
   "id": "bc8a68e2",
   "metadata": {},
   "outputs": [],
   "source": [
    "# This Python 3 environment comes with many helpful analytics libraries installed\n",
    "# It is defined by the kaggle/python docker image: https://github.com/kaggle/docker-python\n",
    "# For example, here's several helpful packages to load in \n",
    "\n",
    "import seaborn as sns\n",
    "import matplotlib.pyplot as plt\n",
    "import numpy as np,gc # linear algebra\n",
    "import pandas as pd # data processing, CSV file I/O (e.g. pd.read_csv)\n",
    "pd.set_option('display.max_columns', 500)"
   ]
  },
  {
   "cell_type": "code",
   "execution_count": null,
   "id": "e5c014ad",
   "metadata": {},
   "outputs": [],
   "source": [
    "cols_t = ['TransactionID', 'TransactionDT', 'TransactionAmt',\n",
    "       'ProductCD', 'card1', 'card2', 'card3', 'card4', 'card5', 'card6',\n",
    "       'addr1', 'addr2', 'dist1', 'dist2', 'P_emaildomain', 'R_emaildomain',\n",
    "       'C1', 'C2', 'C3', 'C4', 'C5', 'C6', 'C7', 'C8', 'C9', 'C10', 'C11',\n",
    "       'C12', 'C13', 'C14', 'D1', 'D2', 'D3', 'D4', 'D5', 'D6', 'D7', 'D8',\n",
    "       'D9', 'D10', 'D11', 'D12', 'D13', 'D14', 'D15', 'M1', 'M2', 'M3', 'M4',\n",
    "       'M5', 'M6', 'M7', 'M8', 'M9']\n",
    "cols_v = ['V'+str(x) for x in range(1,340)]; types_v = {}\n",
    "for c in cols_v: types_v[c] = 'float32'\n",
    "train = pd.read_csv('train_transaction.csv',usecols=cols_t+['isFraud']+cols_v,dtype=types_v)"
   ]
  },
  {
   "cell_type": "markdown",
   "id": "60179005",
   "metadata": {},
   "source": [
    "## NAN search\n",
    "We will search all the columns of train_transaction.csv to determine which columns are related by the number of NANs present. We see that D1 relates to a subset of V281 thru V315, and D11 relates to V1 thru V11. Also we find groups of Vs with similar NAN structure. And we see that M1, M2, M3 related and M8, M9 related."
   ]
  },
  {
   "cell_type": "code",
   "execution_count": null,
   "id": "2c79e2ee",
   "metadata": {},
   "outputs": [],
   "source": [
    "nans_df = train.isna()\n",
    "nans_groups={}\n",
    "i_cols = ['V'+str(i) for i in range(1,340)]\n",
    "for col in train.columns:\n",
    "    cur_group = nans_df[col].sum()\n",
    "    try:\n",
    "        nans_groups[cur_group].append(col)\n",
    "    except:\n",
    "        nans_groups[cur_group]=[col]\n",
    "del nans_df; x=gc.collect()\n",
    "\n",
    "for k,v in nans_groups.items():\n",
    "    print('####### NAN count =',k)\n",
    "    print(v)"
   ]
  },
  {
   "cell_type": "markdown",
   "id": "3030ae3b",
   "metadata": {},
   "source": [
    "## V1-V11,D11"
   ]
  },
  {
   "cell_type": "code",
   "execution_count": null,
   "id": "49b23b3c",
   "metadata": {},
   "outputs": [],
   "source": [
    "Vc = ['dayr','isFraud','TransactionAmt','card1','addr1','D1n','D11n']\n",
    "Vs = nans_groups[279287]\n",
    "Vtitle = 'V1 - V11, D11'"
   ]
  },
  {
   "cell_type": "code",
   "execution_count": null,
   "id": "0a9c9165",
   "metadata": {},
   "outputs": [],
   "source": [
    "def make_plots(Vs):\n",
    "    col = 4\n",
    "    row = len(Vs)//4+1\n",
    "    plt.figure(figsize=(20,row*5))\n",
    "    idx = train[~train[Vs[0]].isna()].index\n",
    "    for i,v in enumerate(Vs):\n",
    "        plt.subplot(row,col,i+1)\n",
    "        n = train[v].nunique()\n",
    "        x = np.sum(train.loc[idx,v]!=train.loc[idx,v].astype(int))\n",
    "        y = np.round(100*np.sum(train[v].isna())/len(train),2)\n",
    "        t = 'int'\n",
    "        if x!=0: t = 'float'\n",
    "        plt.title(v+' has '+str(n)+' '+t+' and '+str(y)+'% nan')\n",
    "        plt.yticks([])\n",
    "        h = plt.hist(train.loc[idx,v],bins=100)\n",
    "        if len(h[0])>1: plt.ylim((0,np.sort(h[0])[-2]))\n",
    "    plt.show()\n",
    "make_plots(Vs)"
   ]
  },
  {
   "cell_type": "code",
   "execution_count": null,
   "id": "5da588d2",
   "metadata": {},
   "outputs": [],
   "source": [
    "def make_corr(Vs,Vtitle=''):\n",
    "    cols = ['TransactionDT'] + Vs\n",
    "    plt.figure(figsize=(15,15))\n",
    "    sns.heatmap(train[cols].corr(), cmap='RdBu_r', annot=True, center=0.0)\n",
    "    if Vtitle!='': plt.title(Vtitle,fontsize=14)\n",
    "    else: plt.title(Vs[0]+' - '+Vs[-1],fontsize=14)\n",
    "    plt.show()\n",
    "make_corr(Vs,Vtitle)"
   ]
  },
  {
   "cell_type": "code",
   "execution_count": null,
   "id": "43194243",
   "metadata": {},
   "outputs": [],
   "source": [
    "grps = [[1],[2,3],[4,5],[6,7],[8,9],[10,11]]\n",
    "def reduce_group(grps,c='V'):\n",
    "    use = []\n",
    "    for g in grps:\n",
    "        mx = 0; vx = g[0]\n",
    "        for gg in g:\n",
    "            n = train[c+str(gg)].nunique()\n",
    "            if n>mx:\n",
    "                mx = n\n",
    "                vx = gg\n",
    "            #print(str(gg)+'-'+str(n),', ',end='')\n",
    "        use.append(vx)\n",
    "        #print()\n",
    "    print('Use these',use)\n",
    "reduce_group(grps)"
   ]
  },
  {
   "cell_type": "markdown",
   "id": "b20c0121",
   "metadata": {},
   "source": [
    "## V12 - V34"
   ]
  },
  {
   "cell_type": "code",
   "execution_count": null,
   "id": "185d2f40",
   "metadata": {},
   "outputs": [],
   "source": [
    "Vs = nans_groups[76073]\n",
    "make_plots(Vs)\n",
    "make_corr(Vs)"
   ]
  },
  {
   "cell_type": "code",
   "execution_count": null,
   "id": "cda5cea3",
   "metadata": {},
   "outputs": [],
   "source": [
    "grps = [[12,13],[14],[15,16,17,18,21,22,31,32,33,34],[19,20],[23,24],[25,26],[27,28],[29,30]]\n",
    "reduce_group(grps)"
   ]
  },
  {
   "cell_type": "markdown",
   "id": "482af506",
   "metadata": {},
   "source": [
    "## V35 - V52"
   ]
  },
  {
   "cell_type": "code",
   "execution_count": null,
   "id": "8c527604",
   "metadata": {},
   "outputs": [],
   "source": [
    "Vs = nans_groups[168969]\n",
    "make_plots(Vs)\n",
    "make_corr(Vs)"
   ]
  },
  {
   "cell_type": "code",
   "execution_count": null,
   "id": "b3121bae",
   "metadata": {},
   "outputs": [],
   "source": [
    "grps = [[35,36],[37,38],[39,40,42,43,50,51,52],[41],[44,45],[46,47],[48,49]]\n",
    "reduce_group(grps)"
   ]
  },
  {
   "cell_type": "markdown",
   "id": "3e96a16d",
   "metadata": {},
   "source": [
    "## V53 - V74"
   ]
  },
  {
   "cell_type": "code",
   "execution_count": null,
   "id": "c8fe3a50",
   "metadata": {},
   "outputs": [],
   "source": [
    "Vs = nans_groups[77096]\n",
    "make_plots(Vs)\n",
    "make_corr(Vs)"
   ]
  },
  {
   "cell_type": "code",
   "execution_count": null,
   "id": "4d93ec37",
   "metadata": {},
   "outputs": [],
   "source": [
    "grps = [[53,54],[55,56],[57,58,59,60,63,64,71,72,73,74],[61,62],[65],[66,67],[68],[69,70]]\n",
    "reduce_group(grps)"
   ]
  },
  {
   "cell_type": "markdown",
   "id": "bc2bce0f",
   "metadata": {},
   "source": [
    "## V75 - V94"
   ]
  },
  {
   "cell_type": "code",
   "execution_count": null,
   "id": "e45d257b",
   "metadata": {},
   "outputs": [],
   "source": [
    "Vs = nans_groups[89164]\n",
    "make_plots(Vs)\n",
    "make_corr(Vs)"
   ]
  },
  {
   "cell_type": "code",
   "execution_count": null,
   "id": "ad4fc6ff",
   "metadata": {},
   "outputs": [],
   "source": [
    "grps = [[75,76],[77,78],[79,80,81,84,85,92,93,94],[82,83],[86,87],[88],[89],[90,91]]\n",
    "reduce_group(grps)"
   ]
  },
  {
   "cell_type": "markdown",
   "id": "9006944c",
   "metadata": {},
   "source": [
    "## V95 - V137"
   ]
  },
  {
   "cell_type": "code",
   "execution_count": null,
   "id": "cbfb2bca",
   "metadata": {},
   "outputs": [],
   "source": [
    "Vs = nans_groups[314]\n",
    "make_corr(Vs)"
   ]
  },
  {
   "cell_type": "code",
   "execution_count": null,
   "id": "54ef4b62",
   "metadata": {},
   "outputs": [],
   "source": [
    "Vs = ['V'+str(x) for x in range(95,107)]\n",
    "make_plots(Vs)\n",
    "make_corr(Vs)"
   ]
  },
  {
   "cell_type": "code",
   "execution_count": null,
   "id": "d7b1cdbb",
   "metadata": {},
   "outputs": [],
   "source": [
    "grps = [[95,96,97,101,102,103,105,106],[98],[99,100],[104]]\n",
    "reduce_group(grps)"
   ]
  },
  {
   "cell_type": "code",
   "execution_count": null,
   "id": "733550a6",
   "metadata": {},
   "outputs": [],
   "source": [
    "Vs = ['V'+str(x) for x in range(107,124)]\n",
    "make_plots(Vs)\n",
    "make_corr(Vs)"
   ]
  },
  {
   "cell_type": "code",
   "execution_count": null,
   "id": "8295e8a7",
   "metadata": {},
   "outputs": [],
   "source": [
    "grps = [[107],[108,109,110,114],[111,112,113],[115,116],[117,118,119],[120,122],[121],[123]]\n",
    "reduce_group(grps)"
   ]
  },
  {
   "cell_type": "code",
   "execution_count": null,
   "id": "c0c4c4a5",
   "metadata": {},
   "outputs": [],
   "source": [
    "Vs = ['V'+str(x) for x in range(124,138)]\n",
    "make_plots(Vs)\n",
    "make_corr(Vs)"
   ]
  },
  {
   "cell_type": "code",
   "execution_count": null,
   "id": "b4a138ef",
   "metadata": {},
   "outputs": [],
   "source": [
    "grps = [[124,125],[126,127,128,132,133,134],[129],[130,131],[135,136,137]]\n",
    "reduce_group(grps)"
   ]
  },
  {
   "cell_type": "markdown",
   "id": "aee077ee",
   "metadata": {},
   "source": [
    "## V138 ~ V163"
   ]
  },
  {
   "cell_type": "code",
   "execution_count": null,
   "id": "4cc09b0c",
   "metadata": {},
   "outputs": [],
   "source": [
    "Vs = nans_groups[508595]\n",
    "make_plots(Vs)\n",
    "make_corr(Vs)"
   ]
  },
  {
   "cell_type": "code",
   "execution_count": null,
   "id": "112853ef",
   "metadata": {},
   "outputs": [],
   "source": [
    "grps = [[138],[139,140],[141,142],[146,147],[148,149,153,154,156,157,158],[161,162,163]]\n",
    "reduce_group(grps)"
   ]
  },
  {
   "cell_type": "markdown",
   "id": "f7f45f59",
   "metadata": {},
   "source": [
    "## V143 ~ V166"
   ]
  },
  {
   "cell_type": "code",
   "execution_count": null,
   "id": "3820959d",
   "metadata": {},
   "outputs": [],
   "source": [
    "Vs = nans_groups[508589]\n",
    "make_plots(Vs)\n",
    "make_corr(Vs)"
   ]
  },
  {
   "cell_type": "code",
   "execution_count": null,
   "id": "3b63544a",
   "metadata": {},
   "outputs": [],
   "source": [
    "grps = [[143,164,165],[144,145,150,151,152,159,160],[166]]\n",
    "reduce_group(grps)"
   ]
  },
  {
   "cell_type": "markdown",
   "id": "28ec6a5e",
   "metadata": {},
   "source": [
    "## V167 ~ V216"
   ]
  },
  {
   "cell_type": "code",
   "execution_count": null,
   "id": "8612889c",
   "metadata": {},
   "outputs": [],
   "source": [
    "Vs = [x for x in nans_groups[450909]]\n",
    "make_corr(Vs)"
   ]
  },
  {
   "cell_type": "code",
   "execution_count": null,
   "id": "bb17b6f0",
   "metadata": {},
   "outputs": [],
   "source": [
    "Vs = [x for x in nans_groups[450909] if int(x[1:])<186]\n",
    "make_plots(Vs)\n",
    "make_corr(Vs)"
   ]
  },
  {
   "cell_type": "code",
   "execution_count": null,
   "id": "0cc68a5e",
   "metadata": {},
   "outputs": [],
   "source": [
    "grps = [[167,168,177,178,179],[172,176],[173],[181,182,183]]\n",
    "reduce_group(grps)"
   ]
  },
  {
   "cell_type": "code",
   "execution_count": null,
   "id": "d4fc358e",
   "metadata": {},
   "outputs": [],
   "source": [
    "Vs = [x for x in nans_groups[450909] if (int(x[1:])>183)]\n",
    "make_plots(Vs)\n",
    "make_corr(Vs)"
   ]
  },
  {
   "cell_type": "code",
   "execution_count": null,
   "id": "8cca1ff3",
   "metadata": {},
   "outputs": [],
   "source": [
    "grps = [[186,187,190,191,192,193,196,199],[202,203,204,211,212,213],[205,206],[207],[214,215,216]]\n",
    "reduce_group(grps)"
   ]
  },
  {
   "cell_type": "markdown",
   "id": "0d8c380d",
   "metadata": {},
   "source": [
    "## V169 ~ V210"
   ]
  },
  {
   "cell_type": "code",
   "execution_count": null,
   "id": "0cfeceef",
   "metadata": {},
   "outputs": [],
   "source": [
    "Vs = nans_groups[450721]\n",
    "make_plots(Vs)\n",
    "make_corr(Vs)"
   ]
  },
  {
   "cell_type": "code",
   "execution_count": null,
   "id": "e11c58ac",
   "metadata": {},
   "outputs": [],
   "source": [
    "grps = [[169],[170,171,200,201],[174,175],[180],[184,185],[188,189],[194,195,197,198],[208,210],[209]]\n",
    "reduce_group(grps)"
   ]
  },
  {
   "cell_type": "markdown",
   "id": "818a3f8c",
   "metadata": {},
   "source": [
    "## V217 ~ V278"
   ]
  },
  {
   "cell_type": "code",
   "execution_count": null,
   "id": "b0f4a0b9",
   "metadata": {},
   "outputs": [],
   "source": [
    "Vs = [x for x in nans_groups[460110]]\n",
    "make_corr(Vs)"
   ]
  },
  {
   "cell_type": "code",
   "execution_count": null,
   "id": "3ff86a0c",
   "metadata": {},
   "outputs": [],
   "source": [
    "Vs = [x for x in nans_groups[460110] if int(x[1:])<240]\n",
    "make_plots(Vs)\n",
    "make_corr(Vs)"
   ]
  },
  {
   "cell_type": "code",
   "execution_count": null,
   "id": "79debe68",
   "metadata": {},
   "outputs": [],
   "source": [
    "grps = [[217,218,219,231,232,233,236,237],[223],[224,225],[226],[228],[229,230],[235]]\n",
    "reduce_group(grps)"
   ]
  },
  {
   "cell_type": "code",
   "execution_count": null,
   "id": "1866b0fe",
   "metadata": {},
   "outputs": [],
   "source": [
    "Vs = [x for x in nans_groups[460110] if (int(x[1:])>237)&(int(x[1:])<263)]\n",
    "make_plots(Vs)\n",
    "make_corr(Vs)"
   ]
  },
  {
   "cell_type": "code",
   "execution_count": null,
   "id": "e86d966d",
   "metadata": {},
   "outputs": [],
   "source": [
    "grps = [[240,241],[242,243,244,258],[246,257],[247,248,249,253,254],[252],[260],[261,262]]\n",
    "reduce_group(grps)"
   ]
  },
  {
   "cell_type": "code",
   "execution_count": null,
   "id": "f21b6342",
   "metadata": {},
   "outputs": [],
   "source": [
    "Vs = [x for x in nans_groups[460110] if (int(x[1:])>262)]\n",
    "make_plots(Vs)\n",
    "make_corr(Vs)"
   ]
  },
  {
   "cell_type": "code",
   "execution_count": null,
   "id": "5e70f50d",
   "metadata": {},
   "outputs": [],
   "source": [
    "grps = [[263,265,264],[266,269],[267,268],[273,274,275],[276,277,278]]\n",
    "reduce_group(grps)"
   ]
  },
  {
   "cell_type": "markdown",
   "id": "fe4f77b4",
   "metadata": {},
   "source": [
    "## V220 ~ V272"
   ]
  },
  {
   "cell_type": "code",
   "execution_count": null,
   "id": "27a3aece",
   "metadata": {},
   "outputs": [],
   "source": [
    "Vs = nans_groups[449124]\n",
    "make_plots(Vs)\n",
    "make_corr(Vs)"
   ]
  },
  {
   "cell_type": "code",
   "execution_count": null,
   "id": "6cc0fee1",
   "metadata": {},
   "outputs": [],
   "source": [
    "grps = [[220],[221,222,227,245,255,256,259],[234],[238,239],[250,251],[270,271,272]]\n",
    "reduce_group(grps)"
   ]
  },
  {
   "cell_type": "markdown",
   "id": "49a130a3",
   "metadata": {},
   "source": [
    "## V279 ~ V321"
   ]
  },
  {
   "cell_type": "code",
   "execution_count": null,
   "id": "7be67038",
   "metadata": {},
   "outputs": [],
   "source": [
    "Vs = [x for x in nans_groups[12]]\n",
    "make_corr(Vs)"
   ]
  },
  {
   "cell_type": "code",
   "execution_count": null,
   "id": "f5acd15e",
   "metadata": {},
   "outputs": [],
   "source": [
    "Vs = [x for x in nans_groups[12] if int(x[1:])<302]\n",
    "make_plots(Vs)\n",
    "make_corr(Vs)"
   ]
  },
  {
   "cell_type": "code",
   "execution_count": null,
   "id": "2994adcf",
   "metadata": {},
   "outputs": [],
   "source": [
    "grps = [[279,280,293,294,295,298,299],[284],[285,287],[286],[290,291,292],[297]]\n",
    "reduce_group(grps)"
   ]
  },
  {
   "cell_type": "code",
   "execution_count": null,
   "id": "dac9ef94",
   "metadata": {},
   "outputs": [],
   "source": [
    "Vs = [x for x in nans_groups[12] if int(x[1:])>299]\n",
    "make_plots(Vs)\n",
    "make_corr(Vs)"
   ]
  },
  {
   "cell_type": "code",
   "execution_count": null,
   "id": "13ba5c3f",
   "metadata": {},
   "outputs": [],
   "source": [
    "grps = [[302,303,304],[305],[306,307,308,316,317,318],[309,311],[310,312],[319,320,321]]\n",
    "reduce_group(grps)"
   ]
  },
  {
   "cell_type": "markdown",
   "id": "086b0c15",
   "metadata": {},
   "source": [
    "## V281 ~ V315, D1"
   ]
  },
  {
   "cell_type": "code",
   "execution_count": null,
   "id": "0f62bcde",
   "metadata": {},
   "outputs": [],
   "source": [
    "Vs = nans_groups[1269]\n",
    "make_plots(Vs)\n",
    "Vtitle = 'V281 - V315, D1'\n",
    "make_corr(Vs,Vtitle)"
   ]
  },
  {
   "cell_type": "code",
   "execution_count": null,
   "id": "fab0dc37",
   "metadata": {},
   "outputs": [],
   "source": [
    "grps = [[281],[282,283],[288,289],[296],[300,301],[313,314,315]]\n",
    "reduce_group(grps)"
   ]
  },
  {
   "cell_type": "markdown",
   "id": "6a85d960",
   "metadata": {},
   "source": [
    "## V322 - V339"
   ]
  },
  {
   "cell_type": "code",
   "execution_count": null,
   "id": "59bebcad",
   "metadata": {},
   "outputs": [],
   "source": [
    "Vs = nans_groups[508189]\n",
    "make_plots(Vs)\n",
    "make_corr(Vs)"
   ]
  },
  {
   "cell_type": "code",
   "execution_count": null,
   "id": "bb445f44",
   "metadata": {},
   "outputs": [],
   "source": [
    "grps = [[322,323,324,326,327,328,329,330,331,332,333],[325],[334,335,336],[337,338,339]]\n",
    "reduce_group(grps)"
   ]
  },
  {
   "cell_type": "markdown",
   "id": "2ad8dc96",
   "metadata": {},
   "source": [
    "## V Reduced"
   ]
  },
  {
   "cell_type": "code",
   "execution_count": null,
   "id": "b8675067",
   "metadata": {},
   "outputs": [],
   "source": [
    "v =  [1, 3, 4, 6, 8, 11]\n",
    "v += [13, 14, 17, 20, 23, 26, 27, 30]\n",
    "v += [36, 37, 40, 41, 44, 47, 48]\n",
    "v += [54, 56, 59, 62, 65, 67, 68, 70]\n",
    "v += [76, 78, 80, 82, 86, 88, 89, 91]\n",
    "v += [96, 98, 99, 104]\n",
    "v += [107, 108, 111, 115, 117, 120, 121, 123]\n",
    "v += [124, 127, 129, 130, 136]\n",
    "v += [138, 139, 142, 147, 156, 162]\n",
    "v += [165, 160, 166]\n",
    "v += [178, 176, 173, 182]\n",
    "v += [187, 203, 205, 207, 215]\n",
    "v += [169, 171, 175, 180, 185, 188, 198, 210, 209]\n",
    "v += [218, 223, 224, 226, 228, 229, 235]\n",
    "v += [240, 258, 257, 253, 252, 260, 261]\n",
    "v += [264, 266, 267, 274, 277]\n",
    "v += [220, 221, 234, 238, 250, 271]\n",
    "v += [294, 284, 285, 286, 291, 297]\n",
    "v += [303, 305, 307, 309, 310, 320]\n",
    "v += [281, 283, 289, 296, 301, 314]\n",
    "v += [332, 325, 335, 338]"
   ]
  },
  {
   "cell_type": "code",
   "execution_count": null,
   "id": "08de707b",
   "metadata": {},
   "outputs": [],
   "source": [
    "print('Reduced set has',len(v),'columns')"
   ]
  },
  {
   "cell_type": "code",
   "execution_count": null,
   "id": "9422c753",
   "metadata": {},
   "outputs": [],
   "source": [
    "cols = ['TransactionDT'] + ['V'+str(x) for x in v]\n",
    "train2 = train[cols].sample(frac=0.2)\n",
    "plt.figure(figsize=(15,15))\n",
    "sns.heatmap(train2[cols].corr(), cmap='RdBu_r', annot=False, center=0.0)\n",
    "plt.title('V1-V339 REDUCED',fontsize=14)\n",
    "plt.show()"
   ]
  },
  {
   "cell_type": "markdown",
   "id": "4dc4ffcd",
   "metadata": {},
   "source": [
    "## V All\n",
    "We notice that the first 100 Vs don't correlate much with the last 239 Vs. Also even though the first 100 have 6 different NAN groups there is much correlation between the groups. The latter 239 relate to each other."
   ]
  },
  {
   "cell_type": "code",
   "execution_count": null,
   "id": "c3e520e0",
   "metadata": {},
   "outputs": [],
   "source": [
    "cols = ['TransactionDT'] + ['V'+str(x) for x in range(1,340)]\n",
    "train2 = train[cols].sample(frac=0.2)\n",
    "plt.figure(figsize=(15,15))\n",
    "sns.heatmap(train2[cols].corr(), cmap='RdBu_r', annot=False, center=0.0)\n",
    "plt.title('V1-V339 ALL',fontsize=14)\n",
    "plt.show()"
   ]
  },
  {
   "cell_type": "markdown",
   "id": "4c263362",
   "metadata": {},
   "source": [
    "## C Columns"
   ]
  },
  {
   "cell_type": "code",
   "execution_count": null,
   "id": "7b46f581",
   "metadata": {},
   "outputs": [],
   "source": [
    "def make_plots2(Vs):\n",
    "    col = 4\n",
    "    row = len(Vs)//4+1\n",
    "    plt.figure(figsize=(20,row*5))\n",
    "    for i,v in enumerate(Vs):\n",
    "        plt.subplot(row,col,i+1)\n",
    "        idx = train[~train[v].isna()].index\n",
    "        n = train[v].nunique()\n",
    "        x = np.sum(train.loc[idx,v]!=train.loc[idx,v].astype(int))\n",
    "        y = np.round(100*np.sum(train[v].isna())/len(train),2)\n",
    "        t = 'int'\n",
    "        if x!=0: t = 'float'\n",
    "        plt.title(v+' has '+str(n)+' '+t+' and '+str(y)+'% nan')\n",
    "        plt.yticks([])\n",
    "        h = plt.hist(train.loc[idx,v],bins=100)\n",
    "        if len(h[0])>1: plt.ylim((0,np.sort(h[0])[-2]))\n",
    "    plt.show()\n",
    "make_plots2(['C'+str(x) for x in range(1,15)])"
   ]
  },
  {
   "cell_type": "code",
   "execution_count": null,
   "id": "9f7301dd",
   "metadata": {},
   "outputs": [],
   "source": [
    "cols = ['TransactionDT'] + ['C'+str(x) for x in range(1,15)]\n",
    "plt.figure(figsize=(15,15))\n",
    "sns.heatmap(train[cols].corr(), cmap='RdBu_r', annot=True, center=0.0)\n",
    "plt.title('C1-C15')\n",
    "plt.show()"
   ]
  },
  {
   "cell_type": "markdown",
   "id": "7db5518d",
   "metadata": {},
   "source": [
    "## D Columns"
   ]
  },
  {
   "cell_type": "code",
   "execution_count": null,
   "id": "3c6ee707",
   "metadata": {},
   "outputs": [],
   "source": [
    "cols = ['TransactionDT'] + ['D'+str(x) for x in range(1,16)]\n",
    "plt.figure(figsize=(15,15))\n",
    "sns.heatmap(train[cols].corr(), cmap='RdBu_r', annot=True, center=0.0)\n",
    "plt.title('D1-D15')\n",
    "plt.show()"
   ]
  },
  {
   "cell_type": "markdown",
   "id": "5f582804",
   "metadata": {},
   "source": [
    "## M Columns"
   ]
  },
  {
   "cell_type": "code",
   "execution_count": null,
   "id": "13ca9d8f",
   "metadata": {},
   "outputs": [],
   "source": [
    "Ms = ['M'+str(x) for x in range(1,10)]\n",
    "mp = {'F':0,'T':1,'M0':0,'M1':1,'M2':2}\n",
    "for c in Ms: train[c] = train[c].map(mp)"
   ]
  },
  {
   "cell_type": "code",
   "execution_count": null,
   "id": "f146585f",
   "metadata": {},
   "outputs": [],
   "source": [
    "cols = ['TransactionDT'] + Ms\n",
    "plt.figure(figsize=(15,15))\n",
    "sns.heatmap(train[cols].corr(), cmap='RdBu_r', annot=True, center=0.0)\n",
    "plt.title('M1-M9')\n",
    "plt.show()"
   ]
  },
  {
   "cell_type": "markdown",
   "id": "290295fd",
   "metadata": {},
   "source": [
    "## ID Columns"
   ]
  },
  {
   "cell_type": "code",
   "execution_count": null,
   "id": "e4f0e2bf",
   "metadata": {},
   "outputs": [],
   "source": [
    "train_id = pd.read_csv('train_identity.csv')\n",
    "train_id = pd.merge(train_id,train[['TransactionID','TransactionDT']],on='TransactionID',how='left')\n",
    "ids = ['id_0'+str(x) for x in range(1,10)]+['id_'+str(x) for x in range(10,39)]\n",
    "for c in ids: print (c,train_id[c].unique()[:10])"
   ]
  },
  {
   "cell_type": "code",
   "execution_count": null,
   "id": "6a7ee797",
   "metadata": {},
   "outputs": [],
   "source": [
    "booln = ['id_12','id_15','id_16','id_27','id_28','id_29','id_35','id_36','id_37','id_38']\n",
    "cats = ['id_23','id_30','id_31','id_33','id_34']\n",
    "mp = {'Unknown':0,'NotFound':1,'Found':2,'New':3,'F':0,'T':1}\n",
    "for c in booln: train_id[c] = train_id[c].map(mp)"
   ]
  },
  {
   "cell_type": "code",
   "execution_count": null,
   "id": "eb2326cf",
   "metadata": {},
   "outputs": [],
   "source": [
    "def make_plots2(Vs):\n",
    "    col = 4\n",
    "    row = len(Vs)//4+1\n",
    "    plt.figure(figsize=(20,row*5))\n",
    "    for i,v in enumerate(Vs):\n",
    "        plt.subplot(row,col,i+1)\n",
    "        idx = train_id[~train_id[v].isna()].index\n",
    "        n = train_id[v].nunique()\n",
    "        x = np.sum(train_id.loc[idx,v]!=train_id.loc[idx,v].astype(int))\n",
    "        y = np.round(100*np.sum(train_id[v].isna())/len(train_id),2)\n",
    "        t = 'int'\n",
    "        if x!=0: t = 'float'\n",
    "        plt.title(v+' has '+str(n)+' '+t+' and '+str(y)+'% nan')\n",
    "        plt.yticks([])\n",
    "        h = plt.hist(train_id.loc[idx,v],bins=100)\n",
    "        if len(h[0])>1: plt.ylim((0,np.sort(h[0])[-2]))\n",
    "    plt.show()\n",
    "make_plots2([x for x in ids if x not in cats])"
   ]
  },
  {
   "cell_type": "code",
   "execution_count": null,
   "id": "4a2452a0",
   "metadata": {},
   "outputs": [],
   "source": [
    "cols = ['TransactionDT'] + [x for x in ids if x not in cats]\n",
    "plt.figure(figsize=(15,15))\n",
    "sns.heatmap(train_id[cols].corr(), cmap='RdBu_r', annot=True, center=0.0)\n",
    "plt.title('ID1-ID38')\n",
    "plt.show()"
   ]
  },
  {
   "cell_type": "markdown",
   "id": "f8c88e35",
   "metadata": {},
   "source": [
    "## Nhìn lại quá trình làm đồ án"
   ]
  },
  {
   "cell_type": "markdown",
   "id": "26e4a56a",
   "metadata": {},
   "source": [
    "Sau bao ngày vất vả làm đồ án thì bây giờ đã kết thúc. Bây giờ là lúc để ngồi uống coffee và tĩnh tâm nhìn lại quá trình làm.\n",
    "\n",
    "- Mỗi thành viên: Đã gặp những khó khăn gì? (Hay mọi chuyện đều thuận lợi)\n",
    "- Mỗi thành viên: Có học được gì hữu ích? (Hay không học được gì)\n",
    "- Nhóm: Nếu có thêm thời gian thì sẽ làm gì?\n",
    "\n",
    "Phần này có sao thì bạn nói vậy thôi, chứ không phải là viết\n",
    "cho có, hoặc tự chế ra để nghe cho hay."
   ]
  },
  {
   "cell_type": "markdown",
   "id": "58c644a0",
   "metadata": {},
   "source": [
    "## Tài liệu tham khảo"
   ]
  },
  {
   "cell_type": "markdown",
   "id": "0a757c63",
   "metadata": {},
   "source": [
    "Để hoàn thành đồ án này, nhóm bạn đã tham khảo những tài liệu nào?"
   ]
  }
 ],
 "metadata": {
  "kernelspec": {
   "display_name": "Python 3",
   "language": "python",
   "name": "python3"
  },
  "language_info": {
   "codemirror_mode": {
    "name": "ipython",
    "version": 3
   },
   "file_extension": ".py",
   "mimetype": "text/x-python",
   "name": "python",
   "nbconvert_exporter": "python",
   "pygments_lexer": "ipython3",
   "version": "3.8.5"
  },
  "toc": {
   "base_numbering": 1,
   "nav_menu": {},
   "number_sections": true,
   "sideBar": true,
   "skip_h1_title": false,
   "title_cell": "Table of Contents",
   "title_sidebar": "Contents",
   "toc_cell": false,
   "toc_position": {},
   "toc_section_display": true,
   "toc_window_display": false
  }
 },
 "nbformat": 4,
 "nbformat_minor": 5
}
